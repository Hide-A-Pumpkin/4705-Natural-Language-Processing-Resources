{
 "cells": [
  {
   "cell_type": "code",
   "execution_count": 2,
   "id": "561c997c",
   "metadata": {},
   "outputs": [],
   "source": [
    "from collections import defaultdict\n",
    "\n",
    "START = 'START'\n",
    "STOP = 'STOP'\n",
    "k = 1\n",
    "\n",
    "# This is the training data\n",
    "x1 = 'START a b c STOP'\n",
    "x2 = 'START a c d STOP'\n",
    "x3 = 'START b d e a STOP'\n",
    "\n",
    "V = set()\n",
    "\n",
    "_FILL_IN_ = 'FILL IN'"
   ]
  },
  {
   "cell_type": "code",
   "execution_count": 3,
   "id": "a0a80a45",
   "metadata": {},
   "outputs": [],
   "source": [
    "# Get the relevant counts                                                                                                                                                                                 \n",
    "S = [x1, x2, x3]\n",
    "count_2 = defaultdict(int)\n",
    "count_1 = defaultdict(int)\n",
    "theta_1 = defaultdict(float)\n",
    "theta = defaultdict(float)"
   ]
  },
  {
   "cell_type": "code",
   "execution_count": 4,
   "id": "290eac09",
   "metadata": {},
   "outputs": [],
   "source": [
    "# Split the data and get what you need                                                                                                                                                                    \n",
    "for x in S:\n",
    "    FILL_IN"
   ]
  },
  {
   "cell_type": "code",
   "execution_count": 5,
   "id": "0ace5d77",
   "metadata": {},
   "outputs": [],
   "source": [
    "assert(len(V) == 7)\n",
    "V.remove(START)\n",
    "# Unigram ML estimates                                                                                                                                                                                    \n",
    "# Note that START should not be a key                                                                                                                                                                     \n",
    "# Don't remove START from count_1 as we will need it in the demoninator                                                                                                                                   \n",
    "for u in V:\n",
    "    FILL_IN"
   ]
  },
  {
   "cell_type": "code",
   "execution_count": 6,
   "id": "d6437b43",
   "metadata": {},
   "outputs": [],
   "source": [
    "# Remove START and STOP form the dictionary - these are not true words                                                                                                                                                               \n",
    "FILL_IN\n",
    "assert(len(V) == 5)"
   ]
  },
  {
   "cell_type": "code",
   "execution_count": 13,
   "id": "a1d921b7",
   "metadata": {},
   "outputs": [],
   "source": [
    "# Get the smoothed estimates                                                                                                                                                                              \n",
    "for u in V:\n",
    "    for v in V | set([STOP]):\n",
    "        FILL_IN\n",
    "        \n",
    "# For u = START, get the smoothed probabilities\n",
    "for v in V | set([STOP]):\n",
    "    FILL_IN"
   ]
  },
  {
   "cell_type": "code",
   "execution_count": 15,
   "id": "b10879b1",
   "metadata": {},
   "outputs": [],
   "source": [
    "# Check that the sum is 1, as it should be                                                                                                                                                                \n",
    "for u in V | set([START]):\n",
    "    p_sum = 0.0\n",
    "    p_sum_1 = 0.0\n",
    "    for v in V | set([STOP]):\n",
    "        p_sum += theta[(u, v)]\n",
    "        p_sum_1 += theta_1[v]\n",
    "    p_sum_1 += theta_1[START]\n",
    "    assert(abs(p_sum_1 - 1.0) ** 2 <= 0.00001)\n",
    "    assert(abs(p_sum - 1.0) ** 2 <= 0.0001)"
   ]
  },
  {
   "cell_type": "code",
   "execution_count": null,
   "id": "d8f5dd3d",
   "metadata": {},
   "outputs": [],
   "source": []
  }
 ],
 "metadata": {
  "kernelspec": {
   "display_name": "Python 3 (ipykernel)",
   "language": "python",
   "name": "python3"
  },
  "language_info": {
   "codemirror_mode": {
    "name": "ipython",
    "version": 3
   },
   "file_extension": ".py",
   "mimetype": "text/x-python",
   "name": "python",
   "nbconvert_exporter": "python",
   "pygments_lexer": "ipython3",
   "version": "3.8.15"
  }
 },
 "nbformat": 4,
 "nbformat_minor": 5
}
