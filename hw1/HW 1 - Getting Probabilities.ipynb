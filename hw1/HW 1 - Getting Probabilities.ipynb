{
 "cells": [
  {
   "cell_type": "code",
   "execution_count": 1,
   "id": "561c997c",
   "metadata": {},
   "outputs": [],
   "source": [
    "from collections import defaultdict\n",
    "\n",
    "START = 'START'\n",
    "STOP = 'STOP'\n",
    "k = 1\n",
    "\n",
    "# This is the training data\n",
    "x1 = 'START a b c STOP'\n",
    "x2 = 'START a c d STOP'\n",
    "x3 = 'START b d e a STOP'\n",
    "\n",
    "V = set()\n",
    "\n",
    "_FILL_IN_ = 'FILL IN'"
   ]
  },
  {
   "cell_type": "code",
   "execution_count": 2,
   "id": "a0a80a45",
   "metadata": {},
   "outputs": [],
   "source": [
    "# Get the relevant counts                                                                                                                                                                                 \n",
    "S = [x1, x2, x3]\n",
    "count_2 = defaultdict(int)\n",
    "count_1 = defaultdict(int)\n",
    "theta_1 = defaultdict(float)\n",
    "theta = defaultdict(float)"
   ]
  },
  {
   "cell_type": "code",
   "execution_count": 3,
   "id": "290eac09",
   "metadata": {},
   "outputs": [],
   "source": [
    "# Split the data and get what you need                                                                                                                                                                    \n",
    "for x in S:\n",
    "    keys = x.split(' ')\n",
    "    for item in keys:\n",
    "        V.add(item)\n",
    "        count_1[item]+=1 \n",
    "    for i in range(len(keys)-1):\n",
    "        count_2[(keys[i], keys[i+1])]+=1\n",
    "        \n"
   ]
  },
  {
   "cell_type": "code",
   "execution_count": 4,
   "id": "0ace5d77",
   "metadata": {},
   "outputs": [],
   "source": [
    "assert(len(V) == 7)\n",
    "V.remove(START)\n",
    "# Unigram ML estimates                                                                                                                                                                                    \n",
    "# Note that START should not be a key                                                                                                                                                                     \n",
    "# Don't remove START from count_1 as we will need it in the demoninator                                                                                                                         \n",
    "for u in V:\n",
    "    theta_1[u] = count_1[u]\n",
    "total = sum(theta_1.values())\n",
    "for key,val in theta_1.items():\n",
    "    theta_1[key] = float(val)/total"
   ]
  },
  {
   "cell_type": "code",
   "execution_count": 5,
   "id": "d6437b43",
   "metadata": {},
   "outputs": [],
   "source": [
    "# Remove START and STOP form the dictionary - these are not true words                                                                                                                                                               \n",
    "# FILL_IN\n",
    "V.remove('STOP')\n",
    "assert(len(V) == 5)"
   ]
  },
  {
   "cell_type": "code",
   "execution_count": 6,
   "id": "a1d921b7",
   "metadata": {},
   "outputs": [],
   "source": [
    "# Get the smoothed estimates                                                                                                                                                                              \n",
    "for u in V:\n",
    "    for v in V | set([STOP]):\n",
    "        theta[(u,v)] = (count_2[(u,v)]+k*theta_1[v])/(count_1[u]+k)\n",
    "        \n",
    "# For u = START, get the smoothed probabilities\n",
    "for v in V | set([STOP]):\n",
    "    theta[('START',v)] =(count_2[('START',v)]+k*theta_1[v])/(count_1['START']+k)"
   ]
  },
  {
   "cell_type": "code",
   "execution_count": 7,
   "id": "e80a44c0",
   "metadata": {},
   "outputs": [
    {
     "data": {
      "text/plain": [
       "defaultdict(float,\n",
       "            {('c', 'c'): 0.05128205128205129,\n",
       "             ('c', 'e'): 0.025641025641025644,\n",
       "             ('c', 'b'): 0.05128205128205129,\n",
       "             ('c', 'd'): 0.3846153846153846,\n",
       "             ('c', 'a'): 0.07692307692307693,\n",
       "             ('c', 'STOP'): 0.4102564102564103,\n",
       "             ('e', 'c'): 0.07692307692307693,\n",
       "             ('e', 'e'): 0.038461538461538464,\n",
       "             ('e', 'b'): 0.07692307692307693,\n",
       "             ('e', 'd'): 0.07692307692307693,\n",
       "             ('e', 'a'): 0.6153846153846154,\n",
       "             ('e', 'STOP'): 0.11538461538461539,\n",
       "             ('b', 'c'): 0.3846153846153846,\n",
       "             ('b', 'e'): 0.025641025641025644,\n",
       "             ('b', 'b'): 0.05128205128205129,\n",
       "             ('b', 'd'): 0.3846153846153846,\n",
       "             ('b', 'a'): 0.07692307692307693,\n",
       "             ('b', 'STOP'): 0.07692307692307693,\n",
       "             ('a', 'c'): 0.28846153846153844,\n",
       "             ('a', 'e'): 0.019230769230769232,\n",
       "             ('a', 'b'): 0.28846153846153844,\n",
       "             ('a', 'd'): 0.038461538461538464,\n",
       "             ('a', 'a'): 0.057692307692307696,\n",
       "             ('a', 'STOP'): 0.3076923076923077,\n",
       "             ('d', 'c'): 0.05128205128205129,\n",
       "             ('d', 'e'): 0.358974358974359,\n",
       "             ('d', 'b'): 0.05128205128205129,\n",
       "             ('d', 'd'): 0.05128205128205129,\n",
       "             ('d', 'a'): 0.07692307692307693,\n",
       "             ('d', 'STOP'): 0.4102564102564103,\n",
       "             ('START', 'c'): 0.038461538461538464,\n",
       "             ('START', 'e'): 0.019230769230769232,\n",
       "             ('START', 'b'): 0.28846153846153844,\n",
       "             ('START', 'd'): 0.038461538461538464,\n",
       "             ('START', 'a'): 0.5576923076923077,\n",
       "             ('START', 'STOP'): 0.057692307692307696})"
      ]
     },
     "execution_count": 7,
     "metadata": {},
     "output_type": "execute_result"
    }
   ],
   "source": [
    "theta"
   ]
  },
  {
   "cell_type": "code",
   "execution_count": 8,
   "id": "b10879b1",
   "metadata": {},
   "outputs": [],
   "source": [
    "# Check that the sum is 1, as it should be                                                                                                                                                                \n",
    "for u in V | set([START]):\n",
    "    u='START'\n",
    "    p_sum = 0.0\n",
    "    p_sum_1 = 0.0\n",
    "    for v in V | set([STOP]):\n",
    "        p_sum += theta[(u, v)]\n",
    "        p_sum_1 += theta_1[v]\n",
    "    p_sum_1 += theta_1[START]\n",
    "    assert(abs(p_sum_1 - 1.0) ** 2 <= 0.00001)\n",
    "    assert(abs(p_sum - 1.0) ** 2 <= 0.0001)"
   ]
  },
  {
   "cell_type": "code",
   "execution_count": null,
   "id": "d8f5dd3d",
   "metadata": {},
   "outputs": [],
   "source": []
  }
 ],
 "metadata": {
  "kernelspec": {
   "display_name": "Python 3 (ipykernel)",
   "language": "python",
   "name": "python3"
  },
  "language_info": {
   "codemirror_mode": {
    "name": "ipython",
    "version": 3
   },
   "file_extension": ".py",
   "mimetype": "text/x-python",
   "name": "python",
   "nbconvert_exporter": "python",
   "pygments_lexer": "ipython3",
   "version": "3.9.2"
  }
 },
 "nbformat": 4,
 "nbformat_minor": 5
}
