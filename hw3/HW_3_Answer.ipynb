{
  "cells": [
    {
      "cell_type": "markdown",
      "metadata": {
        "id": "H2BVH_JD9WiA"
      },
      "source": [
        "Below we will try and fit a Logisitc Regression Model step by step for the XOR problem.\n",
        "Fill in the code where there is a `_FILL_` specified. For this model, we have $x_1$ and $x_2$ are either 0/1 each and $y = x_1 + x_2 - 2x_1x_2$. Notice that this is True (1) if $x_1 = 1$ and $x_2 = 0$ OR $x_1 = 0$ and $x_2 = 1$; $y$ is zero otherwise."
      ]
    },
    {
      "cell_type": "code",
      "execution_count": 1,
      "metadata": {
        "id": "wiFGf-9H9X3d"
      },
      "outputs": [],
      "source": [
        "import torch.nn as nn\n",
        "import torch\n",
        "# Don't fill this in\n",
        "_FILL_ = '_FILL_'"
      ]
    },
    {
      "cell_type": "code",
      "execution_count": 2,
      "metadata": {
        "id": "1TRwUp469X-r"
      },
      "outputs": [],
      "source": [
        "x_data = [[0, 0], [0, 1], [1, 0], [1, 1]]\n",
        "y_data = [[0], [1], [1], [0]]\n",
        "x_data = torch.Tensor(x_data)\n",
        "y_data = torch.Tensor(y_data)"
      ]
    },
    {
      "cell_type": "code",
      "execution_count": 3,
      "metadata": {
        "id": "2FJM6ckGBRz_"
      },
      "outputs": [],
      "source": [
        "# Define each tensor to be 1x1 and have them require a gradient for tracking; these are parameters\n",
        "alpha = torch.randn(1, requires_grad=True)\n",
        "beta_1 = torch.randn(1, requires_grad=True)\n",
        "beta_2 = torch.randn(1, requires_grad=True)"
      ]
    },
    {
      "cell_type": "code",
      "execution_count": null,
      "metadata": {},
      "outputs": [],
      "source": []
    },
    {
      "cell_type": "code",
      "execution_count": 4,
      "metadata": {
        "colab": {
          "base_uri": "https://localhost:8080/"
        },
        "id": "BToqdBCr9YBI",
        "outputId": "2d08fd64-23e5-4013-c407-14a5f9b1e4ba"
      },
      "outputs": [
        {
          "name": "stdout",
          "output_type": "stream",
          "text": [
            "Epoch: 0\n",
            "Loss: 0.7643516063690186 Accuracy: 0.5\n",
            "Epoch: 1\n",
            "Loss: 0.7639364004135132 Accuracy: 0.5\n",
            "Epoch: 2\n",
            "Loss: 0.7635273933410645 Accuracy: 0.5\n",
            "Epoch: 3\n",
            "Loss: 0.7631244659423828 Accuracy: 0.5\n",
            "Epoch: 4\n",
            "Loss: 0.7627273797988892 Accuracy: 0.5\n",
            "Epoch: 5\n",
            "Loss: 0.7623360753059387 Accuracy: 0.5\n",
            "Epoch: 6\n",
            "Loss: 0.7619503736495972 Accuracy: 0.5\n",
            "Epoch: 7\n",
            "Loss: 0.7615700960159302 Accuracy: 0.5\n",
            "Epoch: 8\n",
            "Loss: 0.7611953020095825 Accuracy: 0.5\n",
            "Epoch: 9\n",
            "Loss: 0.7608257532119751 Accuracy: 0.5\n"
          ]
        }
      ],
      "source": [
        "lr = 0.01\n",
        "\n",
        "for epoch in range(10):\n",
        "  for x, y in zip(x_data, y_data):\n",
        "\n",
        "    # Have z be beta_2*x[0] + beta_1*x[1] + alpha\n",
        "    z = beta_2*x[0] + beta_1*x[1] + alpha\n",
        "\n",
        "    # Push z through a nn.Sigmoid layer to get the p(y=1)\n",
        "    a = torch.sigmoid(z)\n",
        "\n",
        "    # Write the loss manually between y and a\n",
        "    loss = -y*torch.log(a) - (1-y)*torch.log(1-a)\n",
        "\n",
        "    # Get the loss gradients; the gradients with respect to alpha, beta_1, beta_2\n",
        "    loss.backward()\n",
        "    \n",
        "\n",
        "    # Manually update the gradients\n",
        "    # What we do below is wrapped within this clause because weights have required_grad=True but we don't need to track this in autograd\n",
        "    with torch.no_grad():\n",
        "        # Do an update for each parameter\n",
        "        alpha -= lr * alpha.grad\n",
        "        beta_1 -= lr * beta_1.grad\n",
        "        beta_2 -= lr * beta_2.grad\n",
        "\n",
        "        # Manually zero the gradients after updating weights\n",
        "        alpha.grad.zero_()\n",
        "        beta_1.grad.zero_()\n",
        "        beta_2.grad.zero_()\n",
        "\n",
        "  # Manually get the accuracy of the model after each epoch\n",
        "  with torch.no_grad():\n",
        "    print(f'Epoch: {epoch}')\n",
        "    y_pred = []\n",
        "    loss = 0.0\n",
        "\n",
        "    for x, y in zip(x_data, y_data):\n",
        "      # Get z\n",
        "      z = beta_2*x[0] + beta_1*x[1] + alpha\n",
        "\n",
        "      # Get a\n",
        "      a = torch.sigmoid(z)\n",
        "\n",
        "      # Get the loss\n",
        "      loss += -y*torch.log(a) - (1-y)*torch.log(1-a)\n",
        "\n",
        "      # Get the prediction given a\n",
        "      y_pred.append(1 if a > 0.5 else 0)\n",
        "\n",
        "    # Get the current accuracy over 4 points; make this a tensor\n",
        "    y_pred = torch.tensor(y_pred)\n",
        "\n",
        "    accuracy = (y_pred == y_data).float().mean()\n",
        "    loss = loss / 4\n",
        "\n",
        "    # Print the accuracy and the loss\n",
        "    # You want the item in the tensor thats 1x1\n",
        "    print('Loss: {} Accuracy: {}'.format(loss.item(), accuracy.item()))"
      ]
    },
    {
      "cell_type": "markdown",
      "metadata": {
        "id": "Iojtw_rFAjhY"
      },
      "source": [
        "Exercise 1: Create a 2D tensor and then add a dimension of size 1 inserted at the 0th axis.\n",
        "\n"
      ]
    },
    {
      "cell_type": "code",
      "execution_count": 5,
      "metadata": {
        "colab": {
          "base_uri": "https://localhost:8080/"
        },
        "id": "fgdImVPpAm6d",
        "outputId": "9a3d2ea6-8f33-4fd7-adfe-b7b7c09ecf82"
      },
      "outputs": [
        {
          "data": {
            "text/plain": [
              "tensor([[[0.6691, 0.6028, 0.9825]],\n",
              "\n",
              "        [[1.0983, 0.6009, 0.6884]]])"
            ]
          },
          "execution_count": 5,
          "metadata": {},
          "output_type": "execute_result"
        }
      ],
      "source": [
        "x=torch.randn(2, 3).unsqueeze(dim=1)\n",
        "x"
      ]
    },
    {
      "cell_type": "markdown",
      "metadata": {
        "id": "A0yfuo7fAneJ"
      },
      "source": [
        "Exercise 2: Remove the extra dimension you just added to the previous tensor.\n",
        "\n"
      ]
    },
    {
      "cell_type": "code",
      "execution_count": 6,
      "metadata": {
        "colab": {
          "base_uri": "https://localhost:8080/"
        },
        "id": "goe1-DBRAnnj",
        "outputId": "499138aa-f429-474a-e8af-53e34add8b1b"
      },
      "outputs": [
        {
          "data": {
            "text/plain": [
              "tensor([[0.6691, 0.6028, 0.9825],\n",
              "        [1.0983, 0.6009, 0.6884]])"
            ]
          },
          "execution_count": 6,
          "metadata": {},
          "output_type": "execute_result"
        }
      ],
      "source": [
        "x =x.squeeze()\n",
        "x"
      ]
    },
    {
      "cell_type": "markdown",
      "metadata": {
        "id": "oAhtAtk5Any4"
      },
      "source": [
        "Exercise 3: Create a random tensor of shape 5x3 in the interval [3, 7)\n",
        "\n"
      ]
    },
    {
      "cell_type": "code",
      "execution_count": 7,
      "metadata": {
        "colab": {
          "base_uri": "https://localhost:8080/"
        },
        "id": "ZCcFowEjAn8w",
        "outputId": "6b2553d5-b139-419d-d845-a8c535b303cf"
      },
      "outputs": [
        {
          "data": {
            "text/plain": [
              "tensor([[5.1349, 6.5635, 3.3707],\n",
              "        [5.0017, 6.0169, 5.4093],\n",
              "        [4.3567, 6.4479, 3.1536],\n",
              "        [6.1523, 5.5926, 3.8739],\n",
              "        [5.4450, 5.9129, 3.8618]])"
            ]
          },
          "execution_count": 7,
          "metadata": {},
          "output_type": "execute_result"
        }
      ],
      "source": [
        "3 + torch.rand(5, 3) * 4"
      ]
    },
    {
      "cell_type": "markdown",
      "metadata": {
        "id": "PvNprVRlAoEC"
      },
      "source": [
        "Exercise 4: Create a tensor with values from a normal distribution (mean=0, std=1).\n",
        "\n"
      ]
    },
    {
      "cell_type": "code",
      "execution_count": 8,
      "metadata": {
        "id": "Dgirc4kGAoKa"
      },
      "outputs": [
        {
          "data": {
            "text/plain": [
              "tensor([[ 0.9072, -0.3443, -1.6035],\n",
              "        [-1.5514, -0.6184,  0.6269],\n",
              "        [-0.7896,  0.1800,  0.6960]])"
            ]
          },
          "execution_count": 8,
          "metadata": {},
          "output_type": "execute_result"
        }
      ],
      "source": [
        "torch.rand(3,3).normal_(mean=0, std=1)"
      ]
    },
    {
      "cell_type": "markdown",
      "metadata": {
        "id": "i1nIIGp8AoQL"
      },
      "source": [
        "exercise 5: Retrieve the indexes of all the non zero elements in the tensor torch.Tensor([1, 1, 1, 0, 1]).\n",
        "\n"
      ]
    },
    {
      "cell_type": "code",
      "execution_count": 9,
      "metadata": {
        "colab": {
          "base_uri": "https://localhost:8080/"
        },
        "id": "sCv5zbq3AoV-",
        "outputId": "9942ce9c-c763-49e0-93c2-b6baf7d81333"
      },
      "outputs": [
        {
          "data": {
            "text/plain": [
              "tensor([[0],\n",
              "        [1],\n",
              "        [2],\n",
              "        [4]])"
            ]
          },
          "execution_count": 9,
          "metadata": {},
          "output_type": "execute_result"
        }
      ],
      "source": [
        "x=torch.Tensor([1, 1, 1, 0, 1])\n",
        "torch.nonzero(x)"
      ]
    },
    {
      "cell_type": "markdown",
      "metadata": {
        "id": "ckErX5U1Aocz"
      },
      "source": [
        "Exercise 6: Create a random tensor of size (3,1) and then horizonally stack 4 copies together.\n",
        "\n"
      ]
    },
    {
      "cell_type": "code",
      "execution_count": 10,
      "metadata": {
        "colab": {
          "base_uri": "https://localhost:8080/"
        },
        "id": "9D3XYAnoAoig",
        "outputId": "2554e44d-f170-4b09-e966-1e25b54b4322"
      },
      "outputs": [
        {
          "data": {
            "text/plain": [
              "tensor([[0.6997, 0.6997, 0.6997, 0.6997],\n",
              "        [0.9978, 0.9978, 0.9978, 0.9978],\n",
              "        [0.7231, 0.7231, 0.7231, 0.7231]])"
            ]
          },
          "execution_count": 10,
          "metadata": {},
          "output_type": "execute_result"
        }
      ],
      "source": [
        "torch.rand(3,1).expand(3,4)"
      ]
    },
    {
      "cell_type": "markdown",
      "metadata": {
        "id": "wKV3ChJrAopD"
      },
      "source": [
        "Exercise 7: Return the batch matrix-matrix product of two 3 dimensional matrices (a=torch.rand(3,4,5), b=torch.rand(3,5,4)).\n",
        "\n"
      ]
    },
    {
      "cell_type": "code",
      "execution_count": 11,
      "metadata": {
        "colab": {
          "base_uri": "https://localhost:8080/"
        },
        "id": "ge6IErGdAovX",
        "outputId": "dd39067a-72d2-42e8-b955-7aa783e626ee"
      },
      "outputs": [
        {
          "data": {
            "text/plain": [
              "tensor([[[1.1177, 1.2343, 0.8260, 0.6389],\n",
              "         [1.4307, 1.7397, 0.9692, 0.6695],\n",
              "         [1.2812, 1.5368, 0.7245, 0.8129],\n",
              "         [2.0858, 2.5200, 1.2252, 1.5841]],\n",
              "\n",
              "        [[1.5380, 0.8778, 1.3582, 1.4259],\n",
              "         [0.8942, 1.1413, 1.8700, 1.0598],\n",
              "         [0.6426, 0.6504, 0.9762, 0.7668],\n",
              "         [0.9441, 0.2584, 0.5938, 0.8525]],\n",
              "\n",
              "        [[0.8570, 0.2576, 0.2282, 0.7122],\n",
              "         [1.2919, 1.0194, 1.1824, 1.6904],\n",
              "         [1.0640, 0.8416, 0.6785, 1.1602],\n",
              "         [1.2399, 0.7481, 1.2319, 1.6526]]])"
            ]
          },
          "execution_count": 11,
          "metadata": {},
          "output_type": "execute_result"
        }
      ],
      "source": [
        "a = torch.rand(3,4,5)\n",
        "b = torch.rand(3,5,4)\n",
        "torch.bmm(a, b)"
      ]
    },
    {
      "cell_type": "markdown",
      "metadata": {
        "id": "qVI_LI_PA_2e"
      },
      "source": [
        "Exercise 8: Return the batch matrix-matrix product of a 3D matrix and a 2D matrix (a=torch.rand(3,4,5), b=torch.rand(5,4)).\n",
        "\n"
      ]
    },
    {
      "cell_type": "code",
      "execution_count": 12,
      "metadata": {
        "colab": {
          "base_uri": "https://localhost:8080/"
        },
        "id": "kpLgovtyBAA6",
        "outputId": "5ec0cb93-d699-46af-dbfa-e76e104da8ea"
      },
      "outputs": [
        {
          "data": {
            "text/plain": [
              "tensor([[[1.3584, 0.8566, 0.5523, 0.7423],\n",
              "         [0.6357, 0.7033, 0.4480, 0.5575],\n",
              "         [1.1052, 1.1546, 0.7353, 1.2712],\n",
              "         [1.1788, 0.8494, 0.6418, 0.9413]],\n",
              "\n",
              "        [[0.5842, 0.4991, 0.2322, 0.4098],\n",
              "         [1.4426, 1.0526, 0.8833, 1.0285],\n",
              "         [1.4320, 1.3883, 0.4764, 0.9220],\n",
              "         [2.0314, 1.6980, 0.7990, 0.9259]],\n",
              "\n",
              "        [[1.5100, 0.9447, 0.7619, 0.9589],\n",
              "         [1.3434, 0.8458, 0.7323, 0.7511],\n",
              "         [1.5395, 1.2664, 1.0572, 1.0265],\n",
              "         [1.0347, 0.8481, 0.4898, 0.9296]]])"
            ]
          },
          "execution_count": 12,
          "metadata": {},
          "output_type": "execute_result"
        }
      ],
      "source": [
        "a = torch.rand(3,4,5)\n",
        "b = torch.rand(5,4)\n",
        "\n",
        "torch.bmm(a, b.unsqueeze(dim=0).expand(a.size(0),*b.size()))"
      ]
    },
    {
      "cell_type": "markdown",
      "metadata": {
        "id": "KW6NxQIeBAJA"
      },
      "source": [
        "Exercise 9: Create a 1x1 random tensor and get the value inside of this tensor as a scalar. No tensor."
      ]
    },
    {
      "cell_type": "code",
      "execution_count": null,
      "metadata": {},
      "outputs": [],
      "source": []
    },
    {
      "cell_type": "code",
      "execution_count": 13,
      "metadata": {
        "colab": {
          "base_uri": "https://localhost:8080/"
        },
        "id": "o_OFj9hEBAPO",
        "outputId": "32349d97-a959-419a-aa3d-1da4e29e65ff"
      },
      "outputs": [
        {
          "data": {
            "text/plain": [
              "0.985990583896637"
            ]
          },
          "execution_count": 13,
          "metadata": {},
          "output_type": "execute_result"
        }
      ],
      "source": [
        "torch.rand(1).item()"
      ]
    },
    {
      "cell_type": "markdown",
      "metadata": {
        "id": "5_zAwiqrBAVd"
      },
      "source": [
        "Exercise 10: Create a 2x1 tensor and have it require a gradient. Have $x$, this tensor, hold [-2, 1]. Set $y=x_1^2 + x_2^2$ and get the gradient of y with respect to $x_1$ and then $x_2$."
      ]
    },
    {
      "cell_type": "code",
      "execution_count": 14,
      "metadata": {
        "colab": {
          "base_uri": "https://localhost:8080/"
        },
        "id": "z98hDPfEBAcv",
        "outputId": "2c683c02-4f3b-4ddd-d820-d986b68d2fc2"
      },
      "outputs": [
        {
          "data": {
            "text/plain": [
              "tensor([-4.,  2.])"
            ]
          },
          "execution_count": 14,
          "metadata": {},
          "output_type": "execute_result"
        }
      ],
      "source": [
        "\n",
        "x = torch.tensor([-2.0,1.0],requires_grad=True)\n",
        "y = x[0]**2+x[1]**2\n",
        "y.backward()\n",
        "\n",
        "x.grad"
      ]
    },
    {
      "cell_type": "markdown",
      "metadata": {
        "id": "sGfmkpF3BAjy"
      },
      "source": [
        "Exercise 11: Check if cuda is available (it shuld be if in the Runtime setting for colab you choose the GPU). If it is, move $x$ above to a CUDA device. Create a new tensor of the same shape as $x$ and put it on the cpu. Try and add these tensors. What happens. How do you fix this?"
      ]
    },
    {
      "cell_type": "code",
      "execution_count": 15,
      "metadata": {
        "colab": {
          "base_uri": "https://localhost:8080/",
          "height": 215
        },
        "id": "2M_Suz2XBAsX",
        "outputId": "ab952026-83ce-4a6c-a6db-59d4cd4e4081"
      },
      "outputs": [
        {
          "name": "stdout",
          "output_type": "stream",
          "text": [
            "x is now on: cuda:0\n",
            "y is on: cpu\n",
            "Error: Expected all tensors to be on the same device, but found at least two devices, cuda:0 and cpu!\n",
            "tensor([-1.,  2.], device='cuda:0', grad_fn=<AddBackward0>)\n"
          ]
        }
      ],
      "source": [
        "if torch.cuda.is_available():\n",
        "    x = x.to('cuda')\n",
        "    print(\"x is now on:\", x.device)\n",
        "    \n",
        "    y = torch.tensor([1,1]).to('cpu')\n",
        "    print(\"y is on:\", y.device)\n",
        "    \n",
        "    try:\n",
        "        z = x + y\n",
        "    except Exception as e:\n",
        "        print(\"Error:\", e)\n",
        "        \n",
        "    # Solution: Move one of the tensors to the same device \n",
        "    y = y.to('cuda')\n",
        "    z = x + y\n",
        "    print(z)\n",
        "else:\n",
        "    print('cuda is not available!')\n",
        "\n"
      ]
    },
    {
      "cell_type": "code",
      "execution_count": null,
      "metadata": {},
      "outputs": [],
      "source": []
    }
  ],
  "metadata": {
    "accelerator": "GPU",
    "colab": {
      "gpuType": "V100",
      "machine_shape": "hm",
      "provenance": []
    },
    "kernelspec": {
      "display_name": "Python 3",
      "name": "python3"
    },
    "language_info": {
      "codemirror_mode": {
        "name": "ipython",
        "version": 3
      },
      "file_extension": ".py",
      "mimetype": "text/x-python",
      "name": "python",
      "nbconvert_exporter": "python",
      "pygments_lexer": "ipython3",
      "version": "3.9.2"
    }
  },
  "nbformat": 4,
  "nbformat_minor": 0
}
