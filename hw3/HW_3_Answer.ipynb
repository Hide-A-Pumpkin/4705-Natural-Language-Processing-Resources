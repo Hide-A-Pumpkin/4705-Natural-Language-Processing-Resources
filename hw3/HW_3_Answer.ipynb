{
  "cells": [
    {
      "cell_type": "markdown",
      "metadata": {
        "id": "H2BVH_JD9WiA"
      },
      "source": [
        "Below we will try and fit a Logisitc Regression Model step by step for the XOR problem.\n",
        "Fill in the code where there is a `_FILL_` specified. For this model, we have $x_1$ and $x_2$ are either 0/1 each and $y = x_1 + x_2 - 2x_1x_2$. Notice that this is True (1) if $x_1 = 1$ and $x_2 = 0$ OR $x_1 = 0$ and $x_2 = 1$; $y$ is zero otherwise."
      ]
    },
    {
      "cell_type": "code",
      "execution_count": 466,
      "metadata": {
        "id": "wiFGf-9H9X3d"
      },
      "outputs": [],
      "source": [
        "import torch.nn as nn\n",
        "import torch\n",
        "# Don't fill this in\n",
        "_FILL_ = '_FILL_'"
      ]
    },
    {
      "cell_type": "code",
      "execution_count": 467,
      "metadata": {
        "id": "1TRwUp469X-r"
      },
      "outputs": [],
      "source": [
        "x_data = [[0, 0], [0, 1], [1, 0], [1, 1]]\n",
        "y_data = [[0], [1], [1], [0]]\n",
        "x_data = torch.Tensor(x_data)\n",
        "y_data = torch.Tensor(y_data)"
      ]
    },
    {
      "cell_type": "code",
      "execution_count": 468,
      "metadata": {
        "id": "2FJM6ckGBRz_"
      },
      "outputs": [],
      "source": [
        "# Define each tensor to be 1x1 and have them require a gradient for tracking; these are parameters\n",
        "alpha = torch.randn(1, requires_grad=True)\n",
        "beta_1 = torch.randn(1, requires_grad=True)\n",
        "beta_2 = torch.randn(1, requires_grad=True)"
      ]
    },
    {
      "cell_type": "code",
      "execution_count": 469,
      "metadata": {
        "colab": {
          "base_uri": "https://localhost:8080/"
        },
        "id": "BToqdBCr9YBI",
        "outputId": "2d08fd64-23e5-4013-c407-14a5f9b1e4ba"
      },
      "outputs": [
        {
          "name": "stdout",
          "output_type": "stream",
          "text": [
            "Epoch: 0\n",
            "Loss: 1.0555728673934937 Accuracy: 0.5\n",
            "Epoch: 1\n",
            "Loss: 1.0555728673934937 Accuracy: 0.5\n",
            "Epoch: 2\n",
            "Loss: 1.0555728673934937 Accuracy: 0.5\n",
            "Epoch: 3\n",
            "Loss: 1.0555728673934937 Accuracy: 0.5\n",
            "Epoch: 4\n",
            "Loss: 1.0555728673934937 Accuracy: 0.5\n",
            "Epoch: 5\n",
            "Loss: 1.0555728673934937 Accuracy: 0.5\n",
            "Epoch: 6\n",
            "Loss: 1.0555728673934937 Accuracy: 0.5\n",
            "Epoch: 7\n",
            "Loss: 1.0555728673934937 Accuracy: 0.5\n",
            "Epoch: 8\n",
            "Loss: 1.0555728673934937 Accuracy: 0.5\n",
            "Epoch: 9\n",
            "Loss: 1.0555728673934937 Accuracy: 0.5\n"
          ]
        }
      ],
      "source": [
        "lr = 0.01\n",
        "\n",
        "for epoch in range(10):\n",
        "  for x, y in zip(x_data, y_data):\n",
        "\n",
        "    # Have z be beta_2*x[0] + beta_1*x[1] + alpha\n",
        "    z = beta_2*x[0] + beta_1*x[1] + alpha\n",
        "\n",
        "    # Push z through a nn.Sigmoid layer to get the p(y=1)\n",
        "    a = torch.sigmoid(z)\n",
        "\n",
        "    # Write the loss manually between y and a\n",
        "    loss = -y*torch.log(a) - (1-y)*torch.log(1-a)\n",
        "\n",
        "    # Get the loss gradients; the gradients with respect to alpha, beta_1, beta_2\n",
        "    loss.backward()\n",
        "    \n",
        "\n",
        "    # Manually update the gradients\n",
        "    # What we do below is wrapped within this clause because weights have required_grad=True but we don't need to track this in autograd\n",
        "    with torch.no_grad():\n",
        "        # Do an update for each parameter\n",
        "        alpha -= lr * alpha.grad\n",
        "        beta_1 -= lr * beta_1.grad\n",
        "        beta_2 -= lr * beta_2.grad\n",
        "\n",
        "        # Manually zero the gradients after updating weights\n",
        "        alpha.grad.zero_()\n",
        "        beta_1.grad.zero_()\n",
        "        beta_2.grad.zero_()\n",
        "\n",
        "  # Manually get the accuracy of the model after each epoch\n",
        "  with torch.no_grad():\n",
        "    print(f'Epoch: {epoch}')\n",
        "    y_pred = []\n",
        "    loss = 0.0\n",
        "\n",
        "    for x, y in zip(x_data, y_data):\n",
        "      # Get z\n",
        "      z = beta_2*x[0] + beta_1*x[1] + alpha\n",
        "\n",
        "      # Get a\n",
        "      a = torch.sigmoid(z)\n",
        "\n",
        "      # Get the loss\n",
        "      loss += -y*torch.log(a) - (1-y)*torch.log(1-a)\n",
        "\n",
        "      # Get the prediction given a\n",
        "      y_pred.append(1 if a > 0.5 else 0)\n",
        "\n",
        "    # Get the current accuracy over 4 points; make this a tensor\n",
        "    y_pred = torch.tensor(y_pred)\n",
        "    accuracy = (y_pred == y_data).float().mean()\n",
        "    loss = loss / 4\n",
        "\n",
        "    # Print the accuracy and the loss\n",
        "    # You want the item in the tensor thats 1x1\n",
        "    print('Loss: {} Accuracy: {}'.format(loss.item(), accuracy.item()))"
      ]
    },
    {
      "cell_type": "markdown",
      "metadata": {
        "id": "Iojtw_rFAjhY"
      },
      "source": [
        "Exercise 1: Create a 2D tensor and then add a dimension of size 1 inserted at the 0th axis.\n",
        "\n"
      ]
    },
    {
      "cell_type": "code",
      "execution_count": 470,
      "metadata": {
        "colab": {
          "base_uri": "https://localhost:8080/"
        },
        "id": "fgdImVPpAm6d",
        "outputId": "9a3d2ea6-8f33-4fd7-adfe-b7b7c09ecf82"
      },
      "outputs": [
        {
          "data": {
            "text/plain": [
              "tensor([[[ 1.6353, -2.6256, -1.3068]],\n",
              "\n",
              "        [[ 1.9800, -0.4244,  0.4171]]])"
            ]
          },
          "execution_count": 470,
          "metadata": {},
          "output_type": "execute_result"
        }
      ],
      "source": [
        "x=torch.randn(2, 3).unsqueeze(dim=1)\n",
        "x"
      ]
    },
    {
      "cell_type": "markdown",
      "metadata": {
        "id": "A0yfuo7fAneJ"
      },
      "source": [
        "Exercise 2: Remove the extra dimension you just added to the previous tensor.\n",
        "\n"
      ]
    },
    {
      "cell_type": "code",
      "execution_count": 471,
      "metadata": {
        "colab": {
          "base_uri": "https://localhost:8080/"
        },
        "id": "goe1-DBRAnnj",
        "outputId": "499138aa-f429-474a-e8af-53e34add8b1b"
      },
      "outputs": [
        {
          "data": {
            "text/plain": [
              "tensor([[ 1.6353, -2.6256, -1.3068],\n",
              "        [ 1.9800, -0.4244,  0.4171]])"
            ]
          },
          "execution_count": 471,
          "metadata": {},
          "output_type": "execute_result"
        }
      ],
      "source": [
        "x =x.squeeze()\n",
        "x"
      ]
    },
    {
      "cell_type": "markdown",
      "metadata": {
        "id": "oAhtAtk5Any4"
      },
      "source": [
        "Exercise 3: Create a random tensor of shape 5x3 in the interval [3, 7)\n",
        "\n"
      ]
    },
    {
      "cell_type": "code",
      "execution_count": 472,
      "metadata": {
        "colab": {
          "base_uri": "https://localhost:8080/"
        },
        "id": "ZCcFowEjAn8w",
        "outputId": "6b2553d5-b139-419d-d845-a8c535b303cf"
      },
      "outputs": [
        {
          "data": {
            "text/plain": [
              "tensor([[5.3841, 3.0914, 4.4542],\n",
              "        [5.2814, 6.7705, 3.2416],\n",
              "        [3.9344, 5.9424, 6.3185],\n",
              "        [4.0282, 4.2624, 3.8962],\n",
              "        [6.5506, 4.9585, 4.4203]])"
            ]
          },
          "execution_count": 472,
          "metadata": {},
          "output_type": "execute_result"
        }
      ],
      "source": [
        "3 + torch.rand(5, 3) * 4"
      ]
    },
    {
      "cell_type": "markdown",
      "metadata": {
        "id": "PvNprVRlAoEC"
      },
      "source": [
        "Exercise 4: Create a tensor with values from a normal distribution (mean=0, std=1).\n",
        "\n"
      ]
    },
    {
      "cell_type": "code",
      "execution_count": 473,
      "metadata": {
        "id": "Dgirc4kGAoKa"
      },
      "outputs": [
        {
          "data": {
            "text/plain": [
              "tensor([[ 1.5047,  1.3762,  2.6666],\n",
              "        [ 1.7881, -1.2995, -0.0080],\n",
              "        [-1.4231, -0.6612, -0.0824]])"
            ]
          },
          "execution_count": 473,
          "metadata": {},
          "output_type": "execute_result"
        }
      ],
      "source": [
        "torch.rand(3,3).normal_(mean=0, std=1)"
      ]
    },
    {
      "cell_type": "markdown",
      "metadata": {
        "id": "i1nIIGp8AoQL"
      },
      "source": [
        "exercise 5: Retrieve the indexes of all the non zero elements in the tensor torch.Tensor([1, 1, 1, 0, 1]).\n",
        "\n"
      ]
    },
    {
      "cell_type": "code",
      "execution_count": 474,
      "metadata": {
        "colab": {
          "base_uri": "https://localhost:8080/"
        },
        "id": "sCv5zbq3AoV-",
        "outputId": "9942ce9c-c763-49e0-93c2-b6baf7d81333"
      },
      "outputs": [
        {
          "data": {
            "text/plain": [
              "tensor([[0],\n",
              "        [1],\n",
              "        [2],\n",
              "        [4]])"
            ]
          },
          "execution_count": 474,
          "metadata": {},
          "output_type": "execute_result"
        }
      ],
      "source": [
        "x=torch.Tensor([1, 1, 1, 0, 1])\n",
        "torch.nonzero(x)"
      ]
    },
    {
      "cell_type": "markdown",
      "metadata": {
        "id": "ckErX5U1Aocz"
      },
      "source": [
        "Exercise 6: Create a random tensor of size (3,1) and then horizonally stack 4 copies together.\n",
        "\n"
      ]
    },
    {
      "cell_type": "code",
      "execution_count": 475,
      "metadata": {
        "colab": {
          "base_uri": "https://localhost:8080/"
        },
        "id": "9D3XYAnoAoig",
        "outputId": "2554e44d-f170-4b09-e966-1e25b54b4322"
      },
      "outputs": [
        {
          "data": {
            "text/plain": [
              "tensor([[0.9251, 0.9251, 0.9251, 0.9251],\n",
              "        [0.1810, 0.1810, 0.1810, 0.1810],\n",
              "        [0.3388, 0.3388, 0.3388, 0.3388]])"
            ]
          },
          "execution_count": 475,
          "metadata": {},
          "output_type": "execute_result"
        }
      ],
      "source": [
        "torch.rand(3,1).expand(3,4)"
      ]
    },
    {
      "cell_type": "markdown",
      "metadata": {
        "id": "wKV3ChJrAopD"
      },
      "source": [
        "Exercise 7: Return the batch matrix-matrix product of two 3 dimensional matrices (a=torch.rand(3,4,5), b=torch.rand(3,5,4)).\n",
        "\n"
      ]
    },
    {
      "cell_type": "code",
      "execution_count": 476,
      "metadata": {
        "colab": {
          "base_uri": "https://localhost:8080/"
        },
        "id": "ge6IErGdAovX",
        "outputId": "dd39067a-72d2-42e8-b955-7aa783e626ee"
      },
      "outputs": [
        {
          "data": {
            "text/plain": [
              "tensor([[[1.0655, 1.7171, 0.9702, 0.9596],\n",
              "         [1.5602, 1.9471, 1.8162, 1.8162],\n",
              "         [1.1823, 1.6536, 1.0865, 1.1224],\n",
              "         [1.7981, 1.4506, 1.9199, 1.9248]],\n",
              "\n",
              "        [[0.4634, 0.9505, 0.9773, 1.2442],\n",
              "         [0.6340, 1.1177, 1.4698, 1.3047],\n",
              "         [0.5367, 1.0467, 1.2788, 1.2913],\n",
              "         [0.4221, 0.8204, 1.0139, 0.9002]],\n",
              "\n",
              "        [[0.9583, 1.9250, 2.2394, 2.9252],\n",
              "         [0.8005, 0.8672, 0.9208, 1.5445],\n",
              "         [0.2235, 0.3607, 0.7303, 0.8319],\n",
              "         [0.5710, 1.0672, 1.3429, 2.1370]]])"
            ]
          },
          "execution_count": 476,
          "metadata": {},
          "output_type": "execute_result"
        }
      ],
      "source": [
        "a = torch.rand(3,4,5)\n",
        "b = torch.rand(3,5,4)\n",
        "torch.bmm(a, b)"
      ]
    },
    {
      "cell_type": "markdown",
      "metadata": {
        "id": "qVI_LI_PA_2e"
      },
      "source": [
        "Exercise 8: Return the batch matrix-matrix product of a 3D matrix and a 2D matrix (a=torch.rand(3,4,5), b=torch.rand(5,4)).\n",
        "\n"
      ]
    },
    {
      "cell_type": "code",
      "execution_count": 477,
      "metadata": {
        "colab": {
          "base_uri": "https://localhost:8080/"
        },
        "id": "kpLgovtyBAA6",
        "outputId": "5ec0cb93-d699-46af-dbfa-e76e104da8ea"
      },
      "outputs": [
        {
          "data": {
            "text/plain": [
              "tensor([[[1.6207, 1.5306, 1.9985, 1.9615],\n",
              "         [1.0929, 1.0774, 1.5525, 1.4917],\n",
              "         [1.2108, 1.0419, 1.1231, 1.2275],\n",
              "         [1.9008, 1.6964, 2.3377, 2.1382]],\n",
              "\n",
              "        [[1.2788, 1.5037, 1.7737, 1.4721],\n",
              "         [1.3784, 1.4381, 2.0852, 1.8324],\n",
              "         [1.8352, 1.4423, 2.0438, 1.9088],\n",
              "         [0.7715, 0.5862, 0.6616, 0.7260]],\n",
              "\n",
              "        [[0.8325, 0.9908, 1.5355, 1.2928],\n",
              "         [1.2626, 1.1311, 1.5568, 1.5689],\n",
              "         [1.5654, 1.3978, 1.6659, 1.7784],\n",
              "         [1.5666, 1.5923, 1.8398, 1.8419]]])"
            ]
          },
          "execution_count": 477,
          "metadata": {},
          "output_type": "execute_result"
        }
      ],
      "source": [
        "a = torch.rand(3,4,5)\n",
        "b = torch.rand(5,4)\n",
        "\n",
        "torch.bmm(a, b.unsqueeze(dim=0).expand(a.size(0),*b.size()))"
      ]
    },
    {
      "cell_type": "markdown",
      "metadata": {
        "id": "KW6NxQIeBAJA"
      },
      "source": [
        "Exercise 9: Create a 1x1 random tensor and get the value inside of this tensor as a scalar. No tensor."
      ]
    },
    {
      "cell_type": "code",
      "execution_count": null,
      "metadata": {},
      "outputs": [],
      "source": []
    },
    {
      "cell_type": "code",
      "execution_count": 478,
      "metadata": {
        "colab": {
          "base_uri": "https://localhost:8080/"
        },
        "id": "o_OFj9hEBAPO",
        "outputId": "32349d97-a959-419a-aa3d-1da4e29e65ff"
      },
      "outputs": [
        {
          "data": {
            "text/plain": [
              "0.7447531819343567"
            ]
          },
          "execution_count": 478,
          "metadata": {},
          "output_type": "execute_result"
        }
      ],
      "source": [
        "torch.rand(1).item()"
      ]
    },
    {
      "cell_type": "markdown",
      "metadata": {
        "id": "5_zAwiqrBAVd"
      },
      "source": [
        "Exercise 10: Create a 2x1 tensor and have it require a gradient. Have $x$, this tensor, hold [-2, 1]. Set $y=x_1^2 + x_2^2$ and get the gradient of y with respect to $x_1$ and then $x_2$."
      ]
    },
    {
      "cell_type": "code",
      "execution_count": 479,
      "metadata": {
        "colab": {
          "base_uri": "https://localhost:8080/"
        },
        "id": "z98hDPfEBAcv",
        "outputId": "2c683c02-4f3b-4ddd-d820-d986b68d2fc2"
      },
      "outputs": [
        {
          "data": {
            "text/plain": [
              "tensor([-4.,  2.])"
            ]
          },
          "execution_count": 479,
          "metadata": {},
          "output_type": "execute_result"
        }
      ],
      "source": [
        "\n",
        "x = torch.tensor([-2.0,1.0],requires_grad=True)\n",
        "y = x[0]**2+x[1]**2\n",
        "y.backward()\n",
        "\n",
        "x.grad"
      ]
    },
    {
      "cell_type": "markdown",
      "metadata": {
        "id": "sGfmkpF3BAjy"
      },
      "source": [
        "Exercise 11: Check if cuda is available (it shuld be if in the Runtime setting for colab you choose the GPU). If it is, move $x$ above to a CUDA device. Create a new tensor of the same shape as $x$ and put it on the cpu. Try and add these tensors. What happens. How do you fix this?"
      ]
    },
    {
      "cell_type": "code",
      "execution_count": 480,
      "metadata": {
        "colab": {
          "base_uri": "https://localhost:8080/",
          "height": 215
        },
        "id": "2M_Suz2XBAsX",
        "outputId": "ab952026-83ce-4a6c-a6db-59d4cd4e4081"
      },
      "outputs": [
        {
          "name": "stdout",
          "output_type": "stream",
          "text": [
            "cuda is not available!\n"
          ]
        }
      ],
      "source": [
        "if torch.cuda.is_available():\n",
        "    x = x.to('cuda')\n",
        "    print(\"x is now on:\", x.device)\n",
        "    \n",
        "    y = torch.tensor([1,1]).to('cpu')\n",
        "    print(\"y is on:\", y.device)\n",
        "    \n",
        "    try:\n",
        "        z = x + y\n",
        "    except Exception as e:\n",
        "        print(\"Error:\", e)\n",
        "        \n",
        "    # Solution: Move one of the tensors to the same device \n",
        "    y = y.to('cuda')\n",
        "    z = x + y\n",
        "    print(z)\n",
        "else:\n",
        "    print('cuda is not available!')\n",
        "\n"
      ]
    },
    {
      "cell_type": "code",
      "execution_count": null,
      "metadata": {},
      "outputs": [],
      "source": []
    }
  ],
  "metadata": {
    "accelerator": "GPU",
    "colab": {
      "gpuType": "V100",
      "machine_shape": "hm",
      "provenance": []
    },
    "kernelspec": {
      "display_name": "Python 3",
      "name": "python3"
    },
    "language_info": {
      "codemirror_mode": {
        "name": "ipython",
        "version": 3
      },
      "file_extension": ".py",
      "mimetype": "text/x-python",
      "name": "python",
      "nbconvert_exporter": "python",
      "pygments_lexer": "ipython3",
      "version": "3.11.5"
    }
  },
  "nbformat": 4,
  "nbformat_minor": 0
}
