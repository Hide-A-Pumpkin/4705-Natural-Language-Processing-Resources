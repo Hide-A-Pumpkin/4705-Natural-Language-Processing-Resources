{
  "cells": [
    {
      "cell_type": "code",
      "execution_count": null,
      "id": "080d50fc",
      "metadata": {
        "id": "080d50fc"
      },
      "outputs": [],
      "source": [
        "import time\n",
        "import torch\n",
        "from torch.utils.data import DataLoader, TensorDataset\n",
        "from torchtext.data.utils import get_tokenizer\n",
        "from torchtext.datasets import DATASETS\n",
        "from torchtext.vocab import build_vocab_from_iterator\n",
        "import torch.nn as nn\n",
        "from tqdm import tqdm\n",
        "import pickle\n",
        "import random\n",
        "import numpy as np\n",
        "from collections import Counter, defaultdict\n",
        "import numpy as np\n",
        "import matplotlib.pyplot as plt\n",
        "from sklearn.decomposition import PCA\n",
        "from gensim.test.utils import datapath, get_tmpfile\n",
        "from gensim.models import KeyedVectors\n",
        "import gensim.downloader\n",
        "from torch import FloatTensor as FT\n",
        "\n",
        "# Get the interactive Tools for Matplotlib\n",
        "%matplotlib notebook\n",
        "%matplotlib inline\n",
        "\n",
        "plt.style.use('ggplot')"
      ]
    },
    {
      "cell_type": "code",
      "execution_count": null,
      "id": "f5419c32",
      "metadata": {
        "id": "f5419c32"
      },
      "outputs": [],
      "source": []
    },
    {
      "cell_type": "markdown",
      "id": "66eb271d",
      "metadata": {
        "id": "66eb271d"
      },
      "source": [
        "### Instructions\n",
        "For this part, fill in the required code and make the notebook work. This wll be very similar to the Skip-Gram model, but a little more difficult. Look for the \"\"\" FILL IN \"\"\" string to guide you."
      ]
    },
    {
      "cell_type": "code",
      "execution_count": null,
      "id": "31b412ca",
      "metadata": {
        "id": "31b412ca"
      },
      "outputs": [],
      "source": [
        "# Where do I want to run my job. You can do \"cuda\" on linux machines\n",
        "#DEVICE = \"mps\" if torch.backends.mps.is_available() else  \"cpu\"\n",
        "DEVICE = \"cuda\" if torch.cuda.is_available() else  \"cpu\"\n",
        "\n",
        "# The batch size in Adam or SGD\n",
        "BATCH_SIZE = 512\n",
        "\n",
        "# Number of epochs\n",
        "NUM_EPOCHS = 10\n",
        "\n",
        "# Predict from 2 words the inner word for CBOW\n",
        "# I.e. I'll have a window like [\"a\", \"b\", \"c\"] of continuous text (each is a word)\n",
        "# We'll predict each of wc = [\"a\", \"c\"] from \"b\" = wc for Skip-Gram\n",
        "# For CBOW, we'll use [\"a\", \"c\"] to predict \"b\" = wo\n",
        "WINDOW = 1\n",
        "\n",
        "# Negative samples.\n",
        "K = 4"
      ]
    },
    {
      "cell_type": "code",
      "execution_count": null,
      "id": "e3311ae5",
      "metadata": {
        "colab": {
          "base_uri": "https://localhost:8080/",
          "height": 37
        },
        "id": "e3311ae5",
        "outputId": "131cdc45-9138-451a-ade8-cd0bbce5feb9"
      },
      "outputs": [
        {
          "data": {
            "application/vnd.google.colaboratory.intrinsic+json": {
              "type": "string"
            },
            "text/plain": [
              "'cuda'"
            ]
          },
          "execution_count": 3,
          "metadata": {},
          "output_type": "execute_result"
        }
      ],
      "source": [
        "DEVICE"
      ]
    },
    {
      "cell_type": "markdown",
      "id": "3ec9f90a",
      "metadata": {
        "id": "3ec9f90a"
      },
      "source": [
        "The text8 Wikipedia corpus. 100M characters."
      ]
    },
    {
      "cell_type": "code",
      "execution_count": null,
      "id": "3217b67b",
      "metadata": {
        "colab": {
          "base_uri": "https://localhost:8080/"
        },
        "id": "3217b67b",
        "outputId": "399c24e7-6aa5-4873-f489-0c9b1e1bbf55"
      },
      "outputs": [
        {
          "name": "stdout",
          "output_type": "stream",
          "text": [
            "Drive already mounted at /content/drive; to attempt to forcibly remount, call drive.mount(\"/content/drive\", force_remount=True).\n",
            "du: cannot access 'text8': No such file or directory\n",
            "100000000\n"
          ]
        }
      ],
      "source": [
        "# Put the data in your Google Drive\n",
        "# You can get the data from the HW page\n",
        "from google.colab import drive\n",
        "drive.mount('/content/drive')\n",
        "\n",
        "!du -h text8\n",
        "\n",
        "f = open('/content/drive/MyDrive/4705-courseworks/text8', 'r')\n",
        "text = f.read()\n",
        "# One big string of size 100M\n",
        "print(len(text))"
      ]
    },
    {
      "cell_type": "code",
      "execution_count": null,
      "id": "6c1bf892",
      "metadata": {
        "id": "6c1bf892"
      },
      "outputs": [],
      "source": [
        "punc = '!\"#$%&()*+,-./:;<=>?@[\\\\]^_\\'{|}~\\t\\n'\n",
        "\n",
        "# Can do regular expressions here too\n",
        "for c in punc:\n",
        "    if c in text:\n",
        "        text.replace(c, ' ')"
      ]
    },
    {
      "cell_type": "code",
      "execution_count": null,
      "id": "451bf3ab",
      "metadata": {
        "id": "451bf3ab"
      },
      "outputs": [],
      "source": []
    },
    {
      "cell_type": "code",
      "execution_count": null,
      "id": "0bc19b0c",
      "metadata": {
        "id": "0bc19b0c"
      },
      "outputs": [],
      "source": [
        "# A very crude tokenizer you get for free: lower case and also split on spaces\n",
        "TOKENIZER = get_tokenizer(\"basic_english\")"
      ]
    },
    {
      "cell_type": "code",
      "execution_count": null,
      "id": "ff8fd598",
      "metadata": {
        "id": "ff8fd598"
      },
      "outputs": [],
      "source": [
        "words = TOKENIZER(text)\n",
        "f = Counter(words)"
      ]
    },
    {
      "cell_type": "code",
      "execution_count": null,
      "id": "ba7f72f8",
      "metadata": {
        "colab": {
          "base_uri": "https://localhost:8080/"
        },
        "id": "ba7f72f8",
        "outputId": "ddece62a-f96b-4f06-9720-9fd04202413e"
      },
      "outputs": [
        {
          "data": {
            "text/plain": [
              "17005207"
            ]
          },
          "execution_count": 8,
          "metadata": {},
          "output_type": "execute_result"
        }
      ],
      "source": [
        "len(words)"
      ]
    },
    {
      "cell_type": "code",
      "execution_count": null,
      "id": "16b736a4",
      "metadata": {
        "id": "16b736a4"
      },
      "outputs": [],
      "source": [
        "# Do a very crude filter on the text which removes all very popular words\n",
        "text = [word for word in words if f[word] > 5]"
      ]
    },
    {
      "cell_type": "code",
      "execution_count": null,
      "id": "6916a763",
      "metadata": {
        "colab": {
          "base_uri": "https://localhost:8080/"
        },
        "id": "6916a763",
        "outputId": "fe7bf82b-44d2-4cbe-ce49-b1e1ae144ce7"
      },
      "outputs": [
        {
          "data": {
            "text/plain": [
              "['anarchism', 'originated', 'as', 'a', 'term']"
            ]
          },
          "execution_count": 10,
          "metadata": {},
          "output_type": "execute_result"
        }
      ],
      "source": [
        "text[0:5]"
      ]
    },
    {
      "cell_type": "code",
      "execution_count": null,
      "id": "10ad817a",
      "metadata": {
        "id": "10ad817a"
      },
      "outputs": [],
      "source": [
        "VOCAB = build_vocab_from_iterator([text])"
      ]
    },
    {
      "cell_type": "code",
      "execution_count": null,
      "id": "a7f69fc9",
      "metadata": {
        "id": "a7f69fc9"
      },
      "outputs": [],
      "source": [
        "# word -> int hash map\n",
        "stoi = VOCAB.get_stoi()\n",
        "# int -> word hash map\n",
        "itos = VOCAB.get_itos()"
      ]
    },
    {
      "cell_type": "code",
      "execution_count": null,
      "id": "9991f9ab",
      "metadata": {
        "colab": {
          "base_uri": "https://localhost:8080/"
        },
        "id": "9991f9ab",
        "outputId": "c964a503-0f02-4294-c950-a828fd37f4ff"
      },
      "outputs": [
        {
          "data": {
            "text/plain": [
              "11"
            ]
          },
          "execution_count": 13,
          "metadata": {},
          "output_type": "execute_result"
        }
      ],
      "source": [
        "stoi['as']"
      ]
    },
    {
      "cell_type": "code",
      "execution_count": null,
      "id": "0f49f5fa",
      "metadata": {
        "colab": {
          "base_uri": "https://localhost:8080/"
        },
        "id": "0f49f5fa",
        "outputId": "338c1338-5bb9-4c2e-f815-090ec0c3ffb9"
      },
      "outputs": [
        {
          "data": {
            "text/plain": [
              "63641"
            ]
          },
          "execution_count": 14,
          "metadata": {},
          "output_type": "execute_result"
        }
      ],
      "source": [
        "# Total number of words\n",
        "len(stoi)"
      ]
    },
    {
      "cell_type": "code",
      "execution_count": null,
      "id": "6c5c415a",
      "metadata": {
        "id": "6c5c415a"
      },
      "outputs": [],
      "source": [
        "f = Counter(text)\n",
        "# This is the probability that we pick a word in the corpus\n",
        "z = {word: f[word] / len(text) for word in f}"
      ]
    },
    {
      "cell_type": "code",
      "execution_count": null,
      "id": "1e543e1e",
      "metadata": {
        "id": "1e543e1e"
      },
      "outputs": [],
      "source": [
        "threshold = 1e-5\n",
        "# Probability that word is kept while subsampling\n",
        "# This is explained here and sightly differet from the paper: http://mccormickml.com/2017/01/11/word2vec-tutorial-part-2-negative-sampling/\n",
        "p_keep = {word: (np.sqrt(z[word] / 0.001) + 1)*(0.0001 / z[word]) for word in f}"
      ]
    },
    {
      "cell_type": "code",
      "execution_count": null,
      "id": "dd22119d",
      "metadata": {
        "id": "dd22119d"
      },
      "outputs": [],
      "source": [
        "# This is in the integer space\n",
        "train_dataset = [word for word in text if random.random() < p_keep[word]]\n",
        "\n",
        "# Rebuild the vocabulary\n",
        "VOCAB = build_vocab_from_iterator([train_dataset])"
      ]
    },
    {
      "cell_type": "code",
      "execution_count": null,
      "id": "a2d695da",
      "metadata": {
        "colab": {
          "base_uri": "https://localhost:8080/"
        },
        "id": "a2d695da",
        "outputId": "3706a4cc-feea-47dc-a389-6b6bd566404f"
      },
      "outputs": [
        {
          "data": {
            "text/plain": [
              "7846073"
            ]
          },
          "execution_count": 18,
          "metadata": {},
          "output_type": "execute_result"
        }
      ],
      "source": [
        "len(train_dataset)"
      ]
    },
    {
      "cell_type": "code",
      "execution_count": null,
      "id": "30d67549",
      "metadata": {
        "id": "30d67549"
      },
      "outputs": [],
      "source": [
        "# word -> int mapping\n",
        "stoi = VOCAB.get_stoi()\n",
        "# int -> word mapping\n",
        "itos = VOCAB.get_itos()"
      ]
    },
    {
      "cell_type": "code",
      "execution_count": null,
      "id": "b46337b8",
      "metadata": {
        "colab": {
          "base_uri": "https://localhost:8080/"
        },
        "id": "b46337b8",
        "outputId": "3568c220-dca5-4d76-a3da-f3769a2310db"
      },
      "outputs": [
        {
          "data": {
            "text/plain": [
              "63641"
            ]
          },
          "execution_count": 20,
          "metadata": {},
          "output_type": "execute_result"
        }
      ],
      "source": [
        "# The vocabulary size after we do all the filters\n",
        "len(VOCAB)"
      ]
    },
    {
      "cell_type": "code",
      "execution_count": null,
      "id": "c9346f36",
      "metadata": {
        "id": "c9346f36"
      },
      "outputs": [],
      "source": [
        "# The probability we draw something for negative sampling\n",
        "f = Counter(train_dataset)\n",
        "p = torch.zeros(len(VOCAB))\n",
        "\n",
        "# Downsample frequent words and upsample less frequent\n",
        "s = sum([np.power(freq, 0.75) for word, freq in f.items()])\n",
        "\n",
        "for word in f:\n",
        "    p[stoi[word]] = np.power(f[word], 0.75) / s"
      ]
    },
    {
      "cell_type": "code",
      "execution_count": null,
      "id": "dd713c15",
      "metadata": {
        "id": "dd713c15"
      },
      "outputs": [],
      "source": [
        "# Map everything to integers\n",
        "train_dataset = [stoi[word] for word in text]"
      ]
    },
    {
      "cell_type": "code",
      "execution_count": null,
      "id": "8e96c0c4",
      "metadata": {
        "id": "8e96c0c4"
      },
      "outputs": [],
      "source": [
        "# This just gets the (wc, wo) pairs that are positive - they are seen together!\n",
        "def get_tokenized_dataset(dataset, verbose=False):\n",
        "    x_list = []\n",
        "\n",
        "    for i, token in enumerate(dataset):\n",
        "        m = 1\n",
        "\n",
        "        # Get the left and right tokens\n",
        "        start = max(0, i-m)\n",
        "        left_tokens = dataset[start:i]\n",
        "\n",
        "        end = min(len(dataset), i + m + 1)\n",
        "        right_tokens = dataset[i+1:end]\n",
        "\n",
        "        # Check these are the same length, and if so use them to add a row of data. This should be a list like\n",
        "        # [a, c, b] where b is the center word\n",
        "        if len(left_tokens) == len(right_tokens):\n",
        "            w_context = left_tokens+right_tokens\n",
        "\n",
        "            wc = dataset[i]\n",
        "\n",
        "            x_list.extend(\n",
        "                 [w_context+[wc]]\n",
        "            )\n",
        "\n",
        "    return x_list"
      ]
    },
    {
      "cell_type": "code",
      "execution_count": null,
      "id": "3eb82aad",
      "metadata": {
        "id": "3eb82aad"
      },
      "outputs": [],
      "source": [
        "train_x_list = get_tokenized_dataset(train_dataset, verbose=False)"
      ]
    },
    {
      "cell_type": "code",
      "execution_count": null,
      "id": "8412ee4d",
      "metadata": {
        "id": "8412ee4d"
      },
      "outputs": [],
      "source": [
        "pickle.dump(train_x_list, open('drive/MyDrive/4705-courseworks/train_x_list.pkl', 'wb'))"
      ]
    },
    {
      "cell_type": "code",
      "execution_count": null,
      "id": "3fd54caf",
      "metadata": {
        "id": "3fd54caf"
      },
      "outputs": [],
      "source": [
        "train_x_list = pickle.load(open('drive/MyDrive/4705-courseworks/train_x_list.pkl', 'rb'))"
      ]
    },
    {
      "cell_type": "code",
      "execution_count": null,
      "id": "576765f3",
      "metadata": {
        "colab": {
          "base_uri": "https://localhost:8080/"
        },
        "id": "576765f3",
        "outputId": "c63b5fab-2d03-4add-ba69-8612ca3a259e"
      },
      "outputs": [
        {
          "data": {
            "text/plain": [
              "[[5233, 11, 3083],\n",
              " [3083, 6, 11],\n",
              " [11, 225, 6],\n",
              " [6, 1, 225],\n",
              " [225, 3133, 1],\n",
              " [1, 46, 3133],\n",
              " [3133, 59, 46],\n",
              " [46, 167, 59],\n",
              " [59, 128, 167],\n",
              " [167, 741, 128]]"
            ]
          },
          "execution_count": 27,
          "metadata": {},
          "output_type": "execute_result"
        }
      ],
      "source": [
        "# These are (wc, wo) pairs. All are y = +1 by design\n",
        "train_x_list[:10]"
      ]
    },
    {
      "cell_type": "code",
      "execution_count": null,
      "id": "316df1dc",
      "metadata": {
        "id": "316df1dc"
      },
      "outputs": [],
      "source": [
        "# The number of things of BATCH_SIZE = 512\n",
        "assert(len(train_x_list) // BATCH_SIZE == 32579)"
      ]
    },
    {
      "cell_type": "code",
      "execution_count": null,
      "id": "8012d03d",
      "metadata": {
        "id": "8012d03d"
      },
      "outputs": [],
      "source": []
    },
    {
      "cell_type": "markdown",
      "id": "488c3519",
      "metadata": {
        "id": "488c3519"
      },
      "source": [
        "### Set up the dataloader."
      ]
    },
    {
      "cell_type": "code",
      "execution_count": null,
      "id": "2e31ae4b",
      "metadata": {
        "id": "2e31ae4b"
      },
      "outputs": [],
      "source": [
        "train_dl = DataLoader(\n",
        "    TensorDataset(\n",
        "        torch.tensor(train_x_list).to(DEVICE),\n",
        "    ),\n",
        "    batch_size=BATCH_SIZE,\n",
        "    shuffle=True\n",
        ")"
      ]
    },
    {
      "cell_type": "code",
      "execution_count": null,
      "id": "e9c42f50",
      "metadata": {
        "id": "e9c42f50"
      },
      "outputs": [],
      "source": [
        "for xb in train_dl:\n",
        "    assert(xb[0].shape == (BATCH_SIZE, 3))\n",
        "    break"
      ]
    },
    {
      "cell_type": "code",
      "execution_count": null,
      "id": "8c949153",
      "metadata": {
        "id": "8c949153"
      },
      "outputs": [],
      "source": []
    },
    {
      "cell_type": "markdown",
      "id": "12d93d22",
      "metadata": {
        "id": "12d93d22"
      },
      "source": [
        "### Words we'll use to asses the quality of the model ..."
      ]
    },
    {
      "cell_type": "code",
      "execution_count": null,
      "id": "ffada8d0",
      "metadata": {
        "id": "ffada8d0"
      },
      "outputs": [],
      "source": [
        "valid_ids = torch.tensor([\n",
        "    stoi['money'],\n",
        "    stoi['lion'],\n",
        "    stoi['africa'],\n",
        "    stoi['musician'],\n",
        "    stoi['dance'],\n",
        "])"
      ]
    },
    {
      "cell_type": "code",
      "execution_count": null,
      "id": "867d3a88",
      "metadata": {
        "id": "867d3a88"
      },
      "outputs": [],
      "source": []
    },
    {
      "cell_type": "markdown",
      "id": "64096cd8",
      "metadata": {
        "id": "64096cd8"
      },
      "source": [
        "### Get the model."
      ]
    },
    {
      "cell_type": "code",
      "execution_count": null,
      "id": "dc51c359",
      "metadata": {
        "id": "dc51c359"
      },
      "outputs": [],
      "source": [
        "class CBOWNegativeSampling(nn.Module):\n",
        "    def __init__(self, vocab_size, embed_dim):\n",
        "        super(CBOWNegativeSampling, self).__init__()\n",
        "        self.A = nn.Embedding(vocab_size, embed_dim) # Context vectors - center word\n",
        "        self.B = nn.Embedding(vocab_size, embed_dim) # Output vectors - words around the center word\n",
        "        self.init_weights()\n",
        "\n",
        "    def init_weights(self):\n",
        "        # Is this the best way? Not sure\n",
        "        initrange = 0.5\n",
        "        self.A.weight.data.uniform_(-initrange, initrange)\n",
        "        self.B.weight.data.uniform_(-initrange, initrange)\n",
        "\n",
        "    def forward(self, x):\n",
        "        # N is the batch size\n",
        "        # x is (N, 3)\n",
        "\n",
        "        # Context words are 2m things, m = 1 so w_context is (N, 2) while wc is N\n",
        "        w_context, wc = x[:,:2],x[:,2]\n",
        "\n",
        "        # Each of these is (N, 2, D) since each context has 2 word\n",
        "        # We want this to be (N, D) and this is what we get\n",
        "\n",
        "        # (N, 2, D)\n",
        "        a = self.A(w_context)\n",
        "\n",
        "        # (N, D)\n",
        "        a_avg = torch.mean(a, dim=1)\n",
        "\n",
        "        # Each of these is (N, D) since each target has 1 word\n",
        "        b = self.B(wc)\n",
        "        # The product between each context and target vector. Look at the Skip-Gram code.\n",
        "        # The logits is now (N, 1) since we sum across the final dimension.\n",
        "        # logits = torch.bmm(a_avg.unsqueeze(1), b.unsqueeze(2)).squeeze(2)\n",
        "        logits = torch.sum(torch.mul(a_avg, b).squeeze(), dim=1)\n",
        "\n",
        "        return logits"
      ]
    },
    {
      "cell_type": "code",
      "execution_count": null,
      "id": "7ae817c1",
      "metadata": {
        "id": "7ae817c1"
      },
      "outputs": [],
      "source": []
    },
    {
      "cell_type": "code",
      "execution_count": null,
      "id": "ed9c509d",
      "metadata": {
        "id": "ed9c509d"
      },
      "outputs": [],
      "source": [
        "@torch.no_grad()\n",
        "def validate_embeddings(\n",
        "    model,\n",
        "    valid_ids,\n",
        "    itos\n",
        "):\n",
        "    \"\"\" Validation logic \"\"\"\n",
        "\n",
        "    # We will use context embeddings to get the most similar words\n",
        "    # Other strategies include: using target embeddings, mean embeddings after avaraging context/target\n",
        "    embedding_weights = model.A.weight\n",
        "\n",
        "    normalized_embeddings = embedding_weights.cpu() / np.sqrt(\n",
        "        np.sum(embedding_weights.cpu().numpy()**2, axis=1, keepdims=True)\n",
        "    )\n",
        "\n",
        "    # Get the embeddings corresponding to valid_term_ids\n",
        "    valid_embeddings = normalized_embeddings[valid_ids, :]\n",
        "\n",
        "    # Compute the similarity between valid_term_ids (S) and all the embeddings (V)\n",
        "    # We do S x d (d x V) => S x D and sort by negative similarity\n",
        "    top_k = 10 # Top k items will be displayed\n",
        "    similarity = np.dot(valid_embeddings.cpu().numpy(), normalized_embeddings.cpu().numpy().T)\n",
        "\n",
        "    # Invert similarity matrix to negative\n",
        "    # Ignore the first one because that would be the same word as the probe word\n",
        "    similarity_top_k = np.argsort(-similarity, axis=1)[:, 1: top_k+1]\n",
        "\n",
        "    # Print the output.\n",
        "    for i, word_id in enumerate(valid_ids):\n",
        "        # j >= 1 here since we don't want to include the word itself.\n",
        "        similar_word_str = ', '.join([itos[j] for j in similarity_top_k[i, :] if j >= 1])\n",
        "        print(f\"{itos[word_id]}: {similar_word_str}\")\n",
        "\n",
        "    print('\\n')"
      ]
    },
    {
      "cell_type": "code",
      "execution_count": null,
      "id": "b0c194b8",
      "metadata": {
        "id": "b0c194b8"
      },
      "outputs": [],
      "source": []
    },
    {
      "cell_type": "markdown",
      "id": "3b3c6ed5",
      "metadata": {
        "id": "3b3c6ed5"
      },
      "source": [
        "### Set up the model"
      ]
    },
    {
      "cell_type": "code",
      "execution_count": null,
      "id": "16da95d1",
      "metadata": {
        "id": "16da95d1"
      },
      "outputs": [],
      "source": [
        "LR = 10.0\n",
        "NUM_EPOCHS = 10\n",
        "EMBED_DIM = 300"
      ]
    },
    {
      "cell_type": "code",
      "execution_count": null,
      "id": "cef585f4",
      "metadata": {
        "id": "cef585f4"
      },
      "outputs": [],
      "source": [
        "model = CBOWNegativeSampling(len(VOCAB), EMBED_DIM).to(DEVICE)\n",
        "optimizer = torch.optim.SGD(model.parameters(), lr=LR)\n",
        "# The learning rate is lowered every epoch by 1/10.\n",
        "# Is this a good idea?\n",
        "scheduler = torch.optim.lr_scheduler.StepLR(optimizer, 1, gamma=0.1)"
      ]
    },
    {
      "cell_type": "code",
      "execution_count": null,
      "id": "f8a642bf",
      "metadata": {
        "colab": {
          "base_uri": "https://localhost:8080/"
        },
        "id": "f8a642bf",
        "outputId": "8bbaa8c4-87f4-4a40-e013-7ae90f4aa2fc"
      },
      "outputs": [
        {
          "data": {
            "text/plain": [
              "CBOWNegativeSampling(\n",
              "  (A): Embedding(63641, 300)\n",
              "  (B): Embedding(63641, 300)\n",
              ")"
            ]
          },
          "execution_count": 36,
          "metadata": {},
          "output_type": "execute_result"
        }
      ],
      "source": [
        "model"
      ]
    },
    {
      "cell_type": "code",
      "execution_count": null,
      "id": "85773616",
      "metadata": {
        "colab": {
          "base_uri": "https://localhost:8080/"
        },
        "id": "85773616",
        "outputId": "76d42507-c1c6-4b0e-bcfd-3fdd8bd9d04c"
      },
      "outputs": [
        {
          "name": "stdout",
          "output_type": "stream",
          "text": [
            "money: firmin, rook, underbelly, samoan, headless, chaplains, eruptions, peppard, varius, consultants\n",
            "lion: taint, gazette, really, deirdre, delighted, eusebius, elective, vanessa, garibaldi, dislocation\n",
            "africa: refuelled, libertarians, kfar, prolog, kovacs, leeway, abraham, illnesses, bandit, recanted\n",
            "musician: may, pamir, recurs, marvelous, hydration, dagger, ordinaries, fdl, vector, amen\n",
            "dance: flashed, guerrero, ouadda, busier, mppc, manny, sicherheitspolizei, entomologist, imperiled, soy\n",
            "\n",
            "\n"
          ]
        }
      ],
      "source": [
        "validate_embeddings(model, valid_ids, itos)"
      ]
    },
    {
      "cell_type": "code",
      "execution_count": null,
      "id": "66075f5e",
      "metadata": {
        "id": "66075f5e"
      },
      "outputs": [],
      "source": []
    },
    {
      "cell_type": "markdown",
      "id": "86476e2a",
      "metadata": {
        "id": "86476e2a"
      },
      "source": [
        "### Train the model"
      ]
    },
    {
      "cell_type": "code",
      "execution_count": null,
      "id": "24950481",
      "metadata": {
        "id": "24950481"
      },
      "outputs": [],
      "source": [
        "ratios = []\n",
        "\n",
        "\n",
        "def train(dataloader, model, optimizer, epoch, p):\n",
        "    model.train()\n",
        "    total_acc, total_count, total_loss, total_batches = 0, 0, 0.0, 0.0\n",
        "    log_interval = 500\n",
        "\n",
        "\n",
        "    for idx, x_batch in tqdm(enumerate(dataloader)):\n",
        "\n",
        "        x_batch = x_batch[0]\n",
        "\n",
        "        batch_size = x_batch.shape[0]\n",
        "\n",
        "        # Zero the gradient so they don't accumulate\n",
        "        optimizer.zero_grad()\n",
        "        logits = model(x_batch)\n",
        "\n",
        "        # Get the positive samples loss. Notice we use weights here\n",
        "        positive_loss = -torch.log(torch.sigmoid(logits)).mean()\n",
        "        # positive_loss = torch.mean(F.logsigmoid(logits))\n",
        "\n",
        "        # For each batch, get some negative samples\n",
        "        # We need a total of len(y_batch) * K samples across a batch\n",
        "        # We then reshape this batch\n",
        "        # These are effectively the output words\n",
        "        # negative_samples = torch.randint(low=0, high=len(VOCAB), size=(batch_size,K), device=DEVICE)\n",
        "        negative_samples = torch.multinomial(p, batch_size * K).to(DEVICE)\n",
        "        # Context words are 2m things, m = 1 so w_context is (N, 2) while wc is (N, )\n",
        "        # w_context, wc = \"\"\" FILL IN \"\"\"\n",
        "        w_context, wc=x_batch[:,:2], x_batch[:,2]\n",
        "\n",
        "\n",
        "        \"\"\"\n",
        "        if w_context looks like below (batch_size = 3)\n",
        "        [\n",
        "        (a, b),\n",
        "        (c, d),\n",
        "        (e, f)\n",
        "        ] and K = 2 we'd like to get:\n",
        "\n",
        "        [\n",
        "        (a, b),\n",
        "        (a, b),\n",
        "        (c, d),\n",
        "        (c, d),\n",
        "        (e, f),\n",
        "        (e, f)\n",
        "        ]\n",
        "\n",
        "        This will be batch_size * K rows.\n",
        "        \"\"\"\n",
        "\n",
        "        # This should be (N * K, 2)\n",
        "        w_context = torch.concat([\n",
        "            w.repeat(K, 1) for w in torch.tensor(w_context).split(1)\n",
        "        ])\n",
        "\n",
        "        # Add a last dimension and set wc to the negative samples\n",
        "        wc = negative_samples.view(-1).unsqueeze(1)\n",
        "\n",
        "        # Get the negative samples. This should be (N * K, 3)\n",
        "        # Concatenate the w_context and wc along the column. Make sure everything is on CUDA / MPS or CPU\n",
        "        x_batch_negative = torch.cat((w_context, wc), dim=1)\n",
        "        \"\"\"\n",
        "        Note the way we formulated the targets: they are all 0 since these are negative samples.\n",
        "        We do the BCEWithLogitsLoss by hand basically here.\n",
        "        Notice we sum across the negative samples, per positive word.\n",
        "\n",
        "        This is literally the equation in the lecture notes.\n",
        "        \"\"\"\n",
        "\n",
        "        # (N, K, D) -> (N, D) -> (N)\n",
        "        # Look at the Skip-Gram notebook\n",
        "        negative_logits = model(x_batch_negative)\n",
        "\n",
        "        negative_loss = -torch.log(torch.sigmoid(-negative_logits)).mean()\n",
        "\n",
        "        loss = positive_loss+negative_loss\n",
        "\n",
        "        # Get the gradients via back propagation\n",
        "        loss.backward()\n",
        "\n",
        "        # Clip the gradients? Generally a good idea\n",
        "        torch.nn.utils.clip_grad_norm_(model.parameters(), 0.1)\n",
        "\n",
        "        # Used for optimization. This should be roughly 0.001, on average\n",
        "        # You can use this to see if your learning rate is right - you can also plot the loss performance\n",
        "        with torch.no_grad():\n",
        "            r = [\n",
        "                (LR * p.grad.std() / p.data.std()).log10().item() for _, p in model.named_parameters()\n",
        "            ]\n",
        "            ratios.append(r)\n",
        "\n",
        "        # Do an optimization step. Update the parameters A and B\n",
        "        optimizer.step()\n",
        "        # Get the new loss.\n",
        "        total_loss += loss.item()\n",
        "        # Update the batch count\n",
        "        total_batches += 1\n",
        "\n",
        "        if idx % log_interval == 0:\n",
        "            print(\n",
        "                \"| epoch {:3d} | {:5d}/{:5d} batches \"\n",
        "                \"| loss {:8.3f} \".format(\n",
        "                    epoch,\n",
        "                    idx,\n",
        "                    len(dataloader),\n",
        "                    total_loss / total_batches\n",
        "                )\n",
        "            )\n",
        "            validate_embeddings(model, valid_ids, itos)\n",
        "            total_loss, total_batches = 0.0, 0.0"
      ]
    },
    {
      "cell_type": "markdown",
      "id": "0764d675",
      "metadata": {
        "id": "0764d675"
      },
      "source": [
        "### Some results from the run look like below:\n",
        "\n",
        "Somewhere inside of 2 iterations you should get sensible associattions.\n",
        "Paste here a screenshot of the closest vectors.\n",
        "\n",
        "money: battle, able, work, years, role, way, well, concept, fact, time\n",
        "lion: taint, defeated, really, characterized, judgment, gazette, eusebius, imagination, delighted, bodies\n",
        "africa: europe, america, united, east, germany, south, china, west, india, end\n",
        "musician: writer, actor, singer, author, king, english, composer, addition, poet, deaths\n",
        "dance: music, rock, third, game, jazz, concept, live, small, country, practice\n",
        "\n",
        "\n"
      ]
    },
    {
      "cell_type": "code",
      "execution_count": null,
      "id": "a9e02c09",
      "metadata": {
        "colab": {
          "background_save": true,
          "base_uri": "https://localhost:8080/"
        },
        "id": "a9e02c09",
        "outputId": "bd2a2195-6b2b-4698-fce7-63d32f4735a0"
      },
      "outputs": [
        {
          "name": "stderr",
          "output_type": "stream",
          "text": [
            "\r0it [00:00, ?it/s]<ipython-input-38-c228ee4d8319>:57: UserWarning: To copy construct from a tensor, it is recommended to use sourceTensor.clone().detach() or sourceTensor.clone().detach().requires_grad_(True), rather than torch.tensor(sourceTensor).\n",
            "  w.repeat(K, 1) for w in torch.tensor(w_context).split(1)\n"
          ]
        },
        {
          "name": "stdout",
          "output_type": "stream",
          "text": [
            "| epoch   1 |     0/32580 batches | loss    1.595 \n"
          ]
        },
        {
          "name": "stderr",
          "output_type": "stream",
          "text": [
            "5it [00:01,  4.51it/s]"
          ]
        },
        {
          "name": "stdout",
          "output_type": "stream",
          "text": [
            "money: firmin, rook, underbelly, samoan, headless, chaplains, eruptions, peppard, varius, consultants\n",
            "lion: taint, gazette, really, deirdre, delighted, eusebius, elective, vanessa, garibaldi, dislocation\n",
            "africa: refuelled, libertarians, kfar, prolog, kovacs, leeway, abraham, illnesses, bandit, recanted\n",
            "musician: may, pamir, recurs, marvelous, hydration, dagger, ordinaries, fdl, vector, amen\n",
            "dance: flashed, guerrero, ouadda, busier, mppc, manny, sicherheitspolizei, entomologist, imperiled, soy\n",
            "\n",
            "\n"
          ]
        },
        {
          "name": "stderr",
          "output_type": "stream",
          "text": [
            "498it [00:14, 46.76it/s]"
          ]
        },
        {
          "name": "stdout",
          "output_type": "stream",
          "text": [
            "| epoch   1 |   500/32580 batches | loss    1.357 \n"
          ]
        },
        {
          "name": "stderr",
          "output_type": "stream",
          "text": [
            "508it [00:14, 31.76it/s]"
          ]
        },
        {
          "name": "stdout",
          "output_type": "stream",
          "text": [
            "money: firmin, headless, samoan, underbelly, rook, peppard, eruptions, chaplains, consultants, pianos\n",
            "lion: taint, gazette, really, deirdre, delighted, elective, eusebius, vanessa, garibaldi, dislocation\n",
            "africa: refuelled, libertarians, kfar, prolog, leeway, kovacs, abraham, baths, bandit, salicylic\n",
            "musician: may, pamir, recurs, hydration, dagger, marvelous, fdl, amen, ordinaries, superpowers\n",
            "dance: flashed, guerrero, ouadda, manny, mppc, busier, imperiled, entomologist, stones, sicherheitspolizei\n",
            "\n",
            "\n"
          ]
        },
        {
          "name": "stderr",
          "output_type": "stream",
          "text": [
            "998it [00:26, 45.36it/s]"
          ]
        },
        {
          "name": "stdout",
          "output_type": "stream",
          "text": [
            "| epoch   1 |  1000/32580 batches | loss    1.252 \n"
          ]
        },
        {
          "name": "stderr",
          "output_type": "stream",
          "text": [
            "1008it [00:26, 31.45it/s]"
          ]
        },
        {
          "name": "stdout",
          "output_type": "stream",
          "text": [
            "money: firmin, samoan, headless, underbelly, rook, center, consultants, peppard, envoys, eruptions\n",
            "lion: taint, gazette, really, delighted, deirdre, elective, eusebius, vanessa, garibaldi, dislocation\n",
            "africa: refuelled, libertarians, kfar, prolog, leeway, kovacs, baths, bandit, abraham, classicists\n",
            "musician: may, pamir, recurs, hydration, dagger, amen, marvelous, fdl, ordinaries, utter\n",
            "dance: flashed, guerrero, ouadda, manny, busier, mppc, imperiled, deceitful, soy, sicherheitspolizei\n",
            "\n",
            "\n"
          ]
        },
        {
          "name": "stderr",
          "output_type": "stream",
          "text": [
            "1497it [00:38, 47.71it/s]"
          ]
        },
        {
          "name": "stdout",
          "output_type": "stream",
          "text": [
            "| epoch   1 |  1500/32580 batches | loss    1.208 \n"
          ]
        },
        {
          "name": "stderr",
          "output_type": "stream",
          "text": [
            "1507it [00:38, 31.31it/s]"
          ]
        },
        {
          "name": "stdout",
          "output_type": "stream",
          "text": [
            "money: firmin, center, headless, samoan, underbelly, consultants, peppard, envoys, rook, pianos\n",
            "lion: taint, gazette, delighted, really, deirdre, elective, eusebius, vanessa, garibaldi, dislocation\n",
            "africa: refuelled, libertarians, kfar, prolog, leeway, kovacs, baths, abraham, bandit, classicists\n",
            "musician: may, pamir, recurs, hydration, dagger, amen, fdl, marvelous, utter, vector\n",
            "dance: flashed, guerrero, ouadda, manny, busier, mppc, imperiled, soy, sicherheitspolizei, stones\n",
            "\n",
            "\n"
          ]
        },
        {
          "name": "stderr",
          "output_type": "stream",
          "text": [
            "1999it [00:50, 35.83it/s]"
          ]
        },
        {
          "name": "stdout",
          "output_type": "stream",
          "text": [
            "| epoch   1 |  2000/32580 batches | loss    1.178 \n"
          ]
        },
        {
          "name": "stderr",
          "output_type": "stream",
          "text": [
            "2006it [00:50, 20.35it/s]"
          ]
        },
        {
          "name": "stdout",
          "output_type": "stream",
          "text": [
            "money: center, headless, firmin, samoan, underbelly, peppard, consultants, pianos, envoys, eruptions\n",
            "lion: taint, gazette, delighted, deirdre, really, eusebius, elective, vanessa, dislocation, garibaldi\n",
            "africa: refuelled, libertarians, kfar, prolog, leeway, kovacs, baths, abraham, bandit, classicists\n",
            "musician: may, pamir, hydration, recurs, dagger, amen, fdl, vector, marvelous, utter\n",
            "dance: flashed, guerrero, ouadda, manny, deceitful, imperiled, busier, soy, stones, sicherheitspolizei\n",
            "\n",
            "\n"
          ]
        },
        {
          "name": "stderr",
          "output_type": "stream",
          "text": [
            "2499it [01:01, 37.02it/s]"
          ]
        },
        {
          "name": "stdout",
          "output_type": "stream",
          "text": [
            "| epoch   1 |  2500/32580 batches | loss    1.150 \n"
          ]
        },
        {
          "name": "stderr",
          "output_type": "stream",
          "text": [
            "\r2503it [01:02, 19.40it/s]"
          ]
        },
        {
          "name": "stdout",
          "output_type": "stream",
          "text": [
            "money: headless, center, firmin, peppard, eruptions, samoan, pianos, consultants, underbelly, envoys\n",
            "lion: taint, delighted, gazette, deirdre, really, elective, eusebius, vanessa, garibaldi, altos\n",
            "africa: refuelled, libertarians, kfar, prolog, leeway, kovacs, abraham, bandit, baths, classicists\n",
            "musician: may, pamir, hydration, recurs, marvelous, amen, dagger, fdl, vector, utter\n",
            "dance: flashed, guerrero, ouadda, manny, deceitful, imperiled, soy, stones, mppc, busier\n",
            "\n",
            "\n"
          ]
        },
        {
          "name": "stderr",
          "output_type": "stream",
          "text": [
            "2997it [01:13, 44.96it/s]"
          ]
        },
        {
          "name": "stdout",
          "output_type": "stream",
          "text": [
            "| epoch   1 |  3000/32580 batches | loss    1.126 \n"
          ]
        },
        {
          "name": "stderr",
          "output_type": "stream",
          "text": [
            "3006it [01:14, 29.14it/s]"
          ]
        },
        {
          "name": "stdout",
          "output_type": "stream",
          "text": [
            "money: headless, center, firmin, peppard, pianos, underbelly, consultants, eruptions, samoan, ones\n",
            "lion: taint, delighted, really, gazette, deirdre, elective, eusebius, vanessa, garibaldi, altos\n",
            "africa: refuelled, libertarians, kfar, prolog, leeway, bandit, kovacs, baths, abraham, classicists\n",
            "musician: pamir, hydration, may, fdl, vector, recurs, amen, marvelous, dagger, utter\n",
            "dance: flashed, guerrero, deceitful, manny, ouadda, imperiled, soy, contention, stones, mppc\n",
            "\n",
            "\n"
          ]
        },
        {
          "name": "stderr",
          "output_type": "stream",
          "text": [
            "3500it [01:26, 44.05it/s]"
          ]
        },
        {
          "name": "stdout",
          "output_type": "stream",
          "text": [
            "| epoch   1 |  3500/32580 batches | loss    1.107 \n"
          ]
        },
        {
          "name": "stderr",
          "output_type": "stream",
          "text": [
            "\r3505it [01:26, 26.22it/s]"
          ]
        },
        {
          "name": "stdout",
          "output_type": "stream",
          "text": [
            "money: center, headless, peppard, firmin, pianos, consultants, ones, envoys, eruptions, underbelly\n",
            "lion: taint, delighted, really, gazette, deirdre, elective, eusebius, vanessa, garibaldi, dislocation\n",
            "africa: refuelled, libertarians, kfar, prolog, leeway, kovacs, bandit, classicists, baths, abraham\n",
            "musician: pamir, hydration, vector, fdl, dagger, amen, recurs, utter, marvelous, several\n",
            "dance: flashed, guerrero, deceitful, manny, soy, ouadda, contention, stones, imperiled, playlist\n",
            "\n",
            "\n"
          ]
        },
        {
          "name": "stderr",
          "output_type": "stream",
          "text": [
            "3997it [01:39, 47.55it/s]"
          ]
        },
        {
          "name": "stdout",
          "output_type": "stream",
          "text": [
            "| epoch   1 |  4000/32580 batches | loss    1.084 \n"
          ]
        },
        {
          "name": "stderr",
          "output_type": "stream",
          "text": [
            "4006it [01:39, 30.29it/s]"
          ]
        },
        {
          "name": "stdout",
          "output_type": "stream",
          "text": [
            "money: center, headless, peppard, firmin, pianos, consultants, ones, asp, eruptions, envoys\n",
            "lion: taint, delighted, really, gazette, deirdre, elective, eusebius, garibaldi, altos, vanessa\n",
            "africa: refuelled, libertarians, kfar, leeway, prolog, kovacs, bandit, classicists, abraham, baths\n",
            "musician: pamir, several, hydration, vector, fdl, utter, amen, dagger, recurs, marvelous\n",
            "dance: flashed, guerrero, deceitful, manny, contention, soy, stones, ouadda, playlist, patkai\n",
            "\n",
            "\n"
          ]
        },
        {
          "name": "stderr",
          "output_type": "stream",
          "text": [
            "4497it [01:51, 45.42it/s]"
          ]
        },
        {
          "name": "stdout",
          "output_type": "stream",
          "text": [
            "| epoch   1 |  4500/32580 batches | loss    1.067 \n"
          ]
        },
        {
          "name": "stderr",
          "output_type": "stream",
          "text": [
            "4507it [01:51, 30.05it/s]"
          ]
        },
        {
          "name": "stdout",
          "output_type": "stream",
          "text": [
            "money: center, headless, peppard, firmin, ones, pianos, consultants, eruptions, asp, envoys\n",
            "lion: taint, really, delighted, gazette, deirdre, elective, eusebius, vanessa, altos, fest\n",
            "africa: refuelled, libertarians, kfar, leeway, prolog, bandit, classicists, kovacs, abraham, belong\n",
            "musician: pamir, hydration, fdl, vector, dagger, amen, utter, maintain, recurs, virtually\n",
            "dance: guerrero, flashed, deceitful, contention, soy, manny, stones, ouadda, compound, playlist\n",
            "\n",
            "\n"
          ]
        },
        {
          "name": "stderr",
          "output_type": "stream",
          "text": [
            "4996it [02:03, 39.60it/s]"
          ]
        },
        {
          "name": "stdout",
          "output_type": "stream",
          "text": [
            "| epoch   1 |  5000/32580 batches | loss    1.053 \n"
          ]
        },
        {
          "name": "stderr",
          "output_type": "stream",
          "text": [
            "5005it [02:04, 27.60it/s]"
          ]
        },
        {
          "name": "stdout",
          "output_type": "stream",
          "text": [
            "money: center, headless, peppard, ones, pianos, firmin, consultants, asp, eruptions, envoys\n",
            "lion: taint, really, delighted, gazette, deirdre, eusebius, elective, altos, garibaldi, vanessa\n",
            "africa: refuelled, libertarians, kfar, prolog, leeway, classicists, abraham, bandit, kovacs, emperor\n",
            "musician: pamir, hydration, fdl, vector, utter, dagger, maintain, virtually, amen, fletcher\n",
            "dance: flashed, guerrero, deceitful, contention, soy, manny, stones, ouadda, compound, patkai\n",
            "\n",
            "\n"
          ]
        },
        {
          "name": "stderr",
          "output_type": "stream",
          "text": [
            "5500it [02:15, 36.53it/s]"
          ]
        },
        {
          "name": "stdout",
          "output_type": "stream",
          "text": [
            "| epoch   1 |  5500/32580 batches | loss    1.037 \n"
          ]
        },
        {
          "name": "stderr",
          "output_type": "stream",
          "text": [
            "\r5504it [02:15, 19.12it/s]"
          ]
        },
        {
          "name": "stdout",
          "output_type": "stream",
          "text": [
            "money: center, headless, peppard, ones, pianos, consultants, firmin, missiles, asp, envoys\n",
            "lion: taint, really, delighted, gazette, deirdre, eusebius, elective, altos, garibaldi, vanessa\n",
            "africa: refuelled, libertarians, kfar, prolog, emperor, classicists, leeway, bandit, abraham, kovacs\n",
            "musician: pamir, fdl, utter, hydration, vector, maintain, virtually, dagger, amen, fletcher\n",
            "dance: deceitful, guerrero, flashed, contention, stones, soy, manny, ouadda, compound, patkai\n",
            "\n",
            "\n"
          ]
        },
        {
          "name": "stderr",
          "output_type": "stream",
          "text": [
            "5997it [02:28, 34.91it/s]"
          ]
        },
        {
          "name": "stdout",
          "output_type": "stream",
          "text": [
            "| epoch   1 |  6000/32580 batches | loss    1.023 \n"
          ]
        },
        {
          "name": "stderr",
          "output_type": "stream",
          "text": [
            "6004it [02:28, 20.24it/s]"
          ]
        },
        {
          "name": "stdout",
          "output_type": "stream",
          "text": [
            "money: center, headless, ones, peppard, pianos, envoys, consultants, asp, firmin, missiles\n",
            "lion: taint, really, delighted, gazette, deirdre, eusebius, elective, altos, garibaldi, vanessa\n",
            "africa: refuelled, libertarians, kfar, emperor, prolog, bandit, classicists, belong, leeway, abraham\n",
            "musician: pamir, utter, fdl, vector, hydration, virtually, maintain, dagger, amen, fletcher\n",
            "dance: deceitful, guerrero, flashed, soy, stones, contention, manny, ouadda, compound, patkai\n",
            "\n",
            "\n"
          ]
        },
        {
          "name": "stderr",
          "output_type": "stream",
          "text": [
            "6498it [02:40, 45.61it/s]"
          ]
        },
        {
          "name": "stdout",
          "output_type": "stream",
          "text": [
            "| epoch   1 |  6500/32580 batches | loss    1.012 \n"
          ]
        },
        {
          "name": "stderr",
          "output_type": "stream",
          "text": [
            "6508it [02:41, 31.06it/s]"
          ]
        },
        {
          "name": "stdout",
          "output_type": "stream",
          "text": [
            "money: center, pianos, headless, ones, peppard, missiles, envoys, consultants, firmin, nieuwe\n",
            "lion: taint, really, delighted, gazette, deirdre, eusebius, elective, altos, garibaldi, vanessa\n",
            "africa: refuelled, libertarians, emperor, prolog, kfar, bandit, belong, classicists, leeway, abraham\n",
            "musician: pamir, vector, utter, maintain, fdl, hydration, virtually, dagger, teams, portion\n",
            "dance: guerrero, deceitful, flashed, soy, contention, stones, manny, compound, ouadda, patkai\n",
            "\n",
            "\n"
          ]
        },
        {
          "name": "stderr",
          "output_type": "stream",
          "text": [
            "6997it [02:52, 46.84it/s]"
          ]
        },
        {
          "name": "stdout",
          "output_type": "stream",
          "text": [
            "| epoch   1 |  7000/32580 batches | loss    0.998 \n"
          ]
        },
        {
          "name": "stderr",
          "output_type": "stream",
          "text": [
            "7007it [02:53, 31.80it/s]"
          ]
        },
        {
          "name": "stdout",
          "output_type": "stream",
          "text": [
            "money: center, ones, pianos, peppard, missiles, headless, army, consultants, nieuwe, envoys\n",
            "lion: taint, really, delighted, gazette, deirdre, eusebius, elective, altos, garibaldi, vanessa\n",
            "africa: refuelled, libertarians, emperor, kfar, belong, prolog, classicists, leeway, bandit, agriculture\n",
            "musician: vector, pamir, utter, maintain, fdl, hydration, virtually, dagger, teams, amen\n",
            "dance: guerrero, deceitful, flashed, soy, contention, stones, manny, compound, imperiled, ouadda\n",
            "\n",
            "\n"
          ]
        },
        {
          "name": "stderr",
          "output_type": "stream",
          "text": [
            "7496it [03:04, 43.67it/s]"
          ]
        },
        {
          "name": "stdout",
          "output_type": "stream",
          "text": [
            "| epoch   1 |  7500/32580 batches | loss    0.989 \n"
          ]
        },
        {
          "name": "stderr",
          "output_type": "stream",
          "text": [
            "7505it [03:05, 28.84it/s]"
          ]
        },
        {
          "name": "stdout",
          "output_type": "stream",
          "text": [
            "money: center, missiles, ones, peppard, pianos, headless, nieuwe, consultants, army, envoys\n",
            "lion: taint, really, delighted, gazette, deirdre, eusebius, elective, altos, vanessa, garibaldi\n",
            "africa: refuelled, libertarians, emperor, classicists, agriculture, kfar, belong, prolog, abraham, leeway\n",
            "musician: utter, maintain, vector, pamir, fdl, hydration, virtually, dagger, portion, teams\n",
            "dance: guerrero, deceitful, flashed, contention, stones, soy, compound, manny, helter, patkai\n",
            "\n",
            "\n"
          ]
        },
        {
          "name": "stderr",
          "output_type": "stream",
          "text": [
            "7999it [03:19, 44.65it/s]"
          ]
        },
        {
          "name": "stdout",
          "output_type": "stream",
          "text": [
            "| epoch   1 |  8000/32580 batches | loss    0.976 \n"
          ]
        },
        {
          "name": "stderr",
          "output_type": "stream",
          "text": [
            "\r8004it [03:20, 26.68it/s]"
          ]
        },
        {
          "name": "stdout",
          "output_type": "stream",
          "text": [
            "money: center, peppard, missiles, pianos, consultants, ones, headless, nieuwe, army, geo\n",
            "lion: taint, really, delighted, gazette, eusebius, deirdre, elective, altos, garibaldi, vanessa\n",
            "africa: refuelled, libertarians, emperor, classicists, coming, agriculture, new, kfar, central\n",
            "musician: maintain, utter, vector, pamir, fdl, virtually, hydration, teams, portion, repulsive\n",
            "dance: guerrero, deceitful, flashed, soy, contention, stones, compound, manny, ouadda, patkai\n",
            "\n",
            "\n"
          ]
        },
        {
          "name": "stderr",
          "output_type": "stream",
          "text": [
            "8497it [03:32, 46.65it/s]"
          ]
        },
        {
          "name": "stdout",
          "output_type": "stream",
          "text": [
            "| epoch   1 |  8500/32580 batches | loss    0.969 \n"
          ]
        },
        {
          "name": "stderr",
          "output_type": "stream",
          "text": [
            "8507it [03:32, 31.80it/s]"
          ]
        },
        {
          "name": "stdout",
          "output_type": "stream",
          "text": [
            "money: center, missiles, peppard, pianos, consultants, ones, battle, nieuwe, headless, long\n",
            "lion: taint, really, delighted, gazette, eusebius, deirdre, elective, altos, dislocation, garibaldi\n",
            "africa: refuelled, libertarians, emperor, agriculture, coming, central, classicists, new, point\n",
            "musician: utter, maintain, vector, fdl, pamir, hydration, virtually, portion, teams, dagger\n",
            "dance: guerrero, deceitful, soy, contention, flashed, stones, compound, manny, patkai, barrichello\n",
            "\n",
            "\n"
          ]
        },
        {
          "name": "stderr",
          "output_type": "stream",
          "text": [
            "8998it [03:44, 44.00it/s]"
          ]
        },
        {
          "name": "stdout",
          "output_type": "stream",
          "text": [
            "| epoch   1 |  9000/32580 batches | loss    0.959 \n"
          ]
        },
        {
          "name": "stderr",
          "output_type": "stream",
          "text": [
            "9008it [03:44, 30.15it/s]"
          ]
        },
        {
          "name": "stdout",
          "output_type": "stream",
          "text": [
            "money: center, long, battle, missiles, avoid, army, peppard, role, pianos, style\n",
            "lion: taint, really, delighted, gazette, eusebius, deirdre, elective, altos, dislocation, garibaldi\n",
            "africa: refuelled, libertarians, emperor, central, time, agriculture, coming, classicists, new, america\n",
            "musician: utter, vector, maintain, pamir, fdl, hydration, virtually, portion, teams, dagger\n",
            "dance: guerrero, deceitful, flashed, soy, contention, compound, stones, manny, patkai, barrichello\n",
            "\n",
            "\n"
          ]
        },
        {
          "name": "stderr",
          "output_type": "stream",
          "text": [
            "9500it [03:56, 44.74it/s]"
          ]
        },
        {
          "name": "stdout",
          "output_type": "stream",
          "text": [
            "| epoch   1 |  9500/32580 batches | loss    0.950 \n"
          ]
        },
        {
          "name": "stderr",
          "output_type": "stream",
          "text": [
            "\r9505it [03:56, 27.47it/s]"
          ]
        },
        {
          "name": "stdout",
          "output_type": "stream",
          "text": [
            "money: center, more, long, battle, army, missiles, role, style, man, avoid\n",
            "lion: taint, really, delighted, gazette, eusebius, deirdre, elective, altos, dislocation, fest\n",
            "africa: refuelled, libertarians, emperor, america, time, written, new, there, central, called\n",
            "musician: utter, vector, maintain, fdl, pamir, hydration, virtually, teams, portion, dagger\n",
            "dance: guerrero, deceitful, flashed, contention, soy, compound, stones, patkai, falsification, manny\n",
            "\n",
            "\n"
          ]
        },
        {
          "name": "stderr",
          "output_type": "stream",
          "text": [
            "9999it [04:09, 40.14it/s]"
          ]
        },
        {
          "name": "stdout",
          "output_type": "stream",
          "text": [
            "| epoch   1 | 10000/32580 batches | loss    0.942 \n"
          ]
        },
        {
          "name": "stderr",
          "output_type": "stream",
          "text": [
            "10009it [04:09, 28.53it/s]"
          ]
        },
        {
          "name": "stdout",
          "output_type": "stream",
          "text": [
            "money: center, more, battle, long, role, army, missiles, style, man, avoid\n",
            "lion: taint, really, delighted, gazette, eusebius, deirdre, elective, altos, judgment, characterized\n",
            "africa: america, refuelled, emperor, time, point, central, united, there, three\n",
            "musician: utter, vector, maintain, fdl, pamir, hydration, teams, virtually, portion, repulsive\n",
            "dance: guerrero, deceitful, contention, flashed, soy, compound, stones, patkai, falsification, manny\n",
            "\n",
            "\n"
          ]
        },
        {
          "name": "stderr",
          "output_type": "stream",
          "text": [
            "10496it [04:23, 42.91it/s]"
          ]
        },
        {
          "name": "stdout",
          "output_type": "stream",
          "text": [
            "| epoch   1 | 10500/32580 batches | loss    0.935 \n"
          ]
        },
        {
          "name": "stderr",
          "output_type": "stream",
          "text": [
            "10505it [04:23, 29.45it/s]"
          ]
        },
        {
          "name": "stdout",
          "output_type": "stream",
          "text": [
            "money: center, more, battle, long, army, role, u, missiles, avoid, style\n",
            "lion: taint, really, delighted, gazette, eusebius, deirdre, elective, altos, dislocation, characterized\n",
            "africa: america, time, point, united, there, four, refuelled, one, central, five\n",
            "musician: utter, vector, maintain, fdl, pamir, teams, hydration, portion, virtually, repulsive\n",
            "dance: guerrero, deceitful, contention, flashed, soy, compound, stones, patkai, music, falsification\n",
            "\n",
            "\n"
          ]
        },
        {
          "name": "stderr",
          "output_type": "stream",
          "text": [
            "10997it [04:35, 33.42it/s]"
          ]
        },
        {
          "name": "stdout",
          "output_type": "stream",
          "text": [
            "| epoch   1 | 11000/32580 batches | loss    0.930 \n"
          ]
        },
        {
          "name": "stderr",
          "output_type": "stream",
          "text": [
            "11004it [04:36, 20.67it/s]"
          ]
        },
        {
          "name": "stdout",
          "output_type": "stream",
          "text": [
            "money: center, more, battle, u, role, long, work, army, missiles, style\n",
            "lion: taint, really, delighted, gazette, eusebius, deirdre, elective, altos, dislocation, characterized\n",
            "africa: america, point, nine, four, there, united, eight, five, central\n",
            "musician: utter, vector, maintain, fdl, teams, hydration, pamir, portion, virtually, dagger\n",
            "dance: guerrero, deceitful, contention, flashed, music, compound, soy, stones, year, manny\n",
            "\n",
            "\n"
          ]
        },
        {
          "name": "stderr",
          "output_type": "stream",
          "text": [
            "11496it [04:46, 46.80it/s]"
          ]
        },
        {
          "name": "stdout",
          "output_type": "stream",
          "text": [
            "| epoch   1 | 11500/32580 batches | loss    0.918 \n"
          ]
        },
        {
          "name": "stderr",
          "output_type": "stream",
          "text": [
            "11505it [04:47, 25.19it/s]"
          ]
        },
        {
          "name": "stdout",
          "output_type": "stream",
          "text": [
            "money: center, battle, role, u, more, long, people, army, work, style\n",
            "lion: taint, really, delighted, gazette, eusebius, deirdre, elective, altos, characterized, dislocation\n",
            "africa: america, four, five, united, one, eight, nine, point, zero, central\n",
            "musician: utter, vector, maintain, teams, hydration, fdl, portion, pamir, virtually, british\n",
            "dance: guerrero, deceitful, contention, music, year, compound, flashed, stones, soy, patkai\n",
            "\n",
            "\n"
          ]
        },
        {
          "name": "stderr",
          "output_type": "stream",
          "text": [
            "11996it [04:58, 46.56it/s]"
          ]
        },
        {
          "name": "stdout",
          "output_type": "stream",
          "text": [
            "| epoch   1 | 12000/32580 batches | loss    0.912 \n"
          ]
        },
        {
          "name": "stderr",
          "output_type": "stream",
          "text": [
            "12005it [04:59, 30.53it/s]"
          ]
        },
        {
          "name": "stdout",
          "output_type": "stream",
          "text": [
            "money: center, battle, more, role, u, long, people, work, name, period\n",
            "lion: taint, really, delighted, gazette, eusebius, elective, deirdre, altos, characterized, dislocation\n",
            "africa: america, four, united, called, eight, seven, nine, end, europe\n",
            "musician: utter, vector, maintain, teams, british, fdl, portion, pamir, hydration, virtually\n",
            "dance: guerrero, music, deceitful, contention, year, compound, stones, flashed, soy, patkai\n",
            "\n",
            "\n"
          ]
        },
        {
          "name": "stderr",
          "output_type": "stream",
          "text": [
            "12500it [05:10, 46.20it/s]"
          ]
        },
        {
          "name": "stdout",
          "output_type": "stream",
          "text": [
            "| epoch   1 | 12500/32580 batches | loss    0.905 \n"
          ]
        },
        {
          "name": "stderr",
          "output_type": "stream",
          "text": [
            "\r12505it [05:11, 22.30it/s]"
          ]
        },
        {
          "name": "stdout",
          "output_type": "stream",
          "text": [
            "money: center, battle, more, role, u, long, work, style, time, name\n",
            "lion: taint, really, delighted, gazette, eusebius, deirdre, elective, characterized, altos, dislocation\n",
            "africa: america, united, nine, called, four, end, eight, europe, west\n",
            "musician: vector, utter, british, maintain, portion, fdl, pamir, teams, hydration, virtually\n",
            "dance: guerrero, music, contention, deceitful, year, compound, stones, flashed, soy, manny\n",
            "\n",
            "\n"
          ]
        },
        {
          "name": "stderr",
          "output_type": "stream",
          "text": [
            "12996it [05:22, 46.88it/s]"
          ]
        },
        {
          "name": "stdout",
          "output_type": "stream",
          "text": [
            "| epoch   1 | 13000/32580 batches | loss    0.900 \n"
          ]
        },
        {
          "name": "stderr",
          "output_type": "stream",
          "text": [
            "13005it [05:23, 30.83it/s]"
          ]
        },
        {
          "name": "stdout",
          "output_type": "stream",
          "text": [
            "money: battle, center, more, role, u, work, long, man, time, name\n",
            "lion: taint, really, delighted, gazette, eusebius, elective, deirdre, characterized, altos, judgment\n",
            "africa: america, united, one, called, nine, four, five, eight, europe\n",
            "musician: vector, utter, maintain, british, portion, fdl, teams, pamir, hydration, virtually\n",
            "dance: guerrero, music, contention, deceitful, year, compound, stones, flashed, soy, couple\n",
            "\n",
            "\n"
          ]
        },
        {
          "name": "stderr",
          "output_type": "stream",
          "text": [
            "13496it [05:34, 47.84it/s]"
          ]
        },
        {
          "name": "stdout",
          "output_type": "stream",
          "text": [
            "| epoch   1 | 13500/32580 batches | loss    0.896 \n"
          ]
        },
        {
          "name": "stderr",
          "output_type": "stream",
          "text": [
            "13505it [05:35, 30.19it/s]"
          ]
        },
        {
          "name": "stdout",
          "output_type": "stream",
          "text": [
            "money: battle, more, center, u, role, work, people, use, long, man\n",
            "lion: taint, really, delighted, gazette, eusebius, deirdre, elective, characterized, bonnie, altos\n",
            "africa: america, united, nine, four, called, five, end, seven, europe, central\n",
            "musician: vector, utter, maintain, british, portion, fdl, teams, pamir, king, virtually\n",
            "dance: music, guerrero, year, deceitful, contention, stones, compound, soy, flashed, manny\n",
            "\n",
            "\n"
          ]
        },
        {
          "name": "stderr",
          "output_type": "stream",
          "text": [
            "13997it [05:48, 46.41it/s]"
          ]
        },
        {
          "name": "stdout",
          "output_type": "stream",
          "text": [
            "| epoch   1 | 14000/32580 batches | loss    0.890 \n"
          ]
        },
        {
          "name": "stderr",
          "output_type": "stream",
          "text": [
            "14007it [05:48, 32.00it/s]"
          ]
        },
        {
          "name": "stdout",
          "output_type": "stream",
          "text": [
            "money: battle, u, role, center, more, people, use, long, work, man\n",
            "lion: taint, really, delighted, gazette, eusebius, elective, deirdre, characterized, judgment, bonnie\n",
            "africa: america, united, nine, eight, seven, end, europe, four, central, five\n",
            "musician: vector, british, utter, maintain, portion, french, king, teams, virtually, fdl\n",
            "dance: music, guerrero, year, deceitful, contention, stones, compound, flashed, couple, manny\n",
            "\n",
            "\n"
          ]
        },
        {
          "name": "stderr",
          "output_type": "stream",
          "text": [
            "14499it [06:00, 36.48it/s]"
          ]
        },
        {
          "name": "stdout",
          "output_type": "stream",
          "text": [
            "| epoch   1 | 14500/32580 batches | loss    0.884 \n"
          ]
        },
        {
          "name": "stderr",
          "output_type": "stream",
          "text": [
            "14508it [06:00, 27.73it/s]"
          ]
        },
        {
          "name": "stdout",
          "output_type": "stream",
          "text": [
            "money: battle, u, center, role, more, work, use, time, man, part\n",
            "lion: taint, really, delighted, gazette, eusebius, deirdre, elective, altos, characterized, judgment\n",
            "africa: america, nine, united, seven, four, end, eight, central, europe, five\n",
            "musician: british, vector, utter, maintain, french, portion, king, teams, virtually, fdl\n",
            "dance: music, guerrero, year, deceitful, contention, stones, compound, flashed, headquartered, manny\n",
            "\n",
            "\n"
          ]
        },
        {
          "name": "stderr",
          "output_type": "stream",
          "text": [
            "14997it [06:12, 35.77it/s]"
          ]
        },
        {
          "name": "stdout",
          "output_type": "stream",
          "text": [
            "| epoch   1 | 15000/32580 batches | loss    0.880 \n"
          ]
        },
        {
          "name": "stderr",
          "output_type": "stream",
          "text": [
            "15004it [06:12, 21.05it/s]"
          ]
        },
        {
          "name": "stdout",
          "output_type": "stream",
          "text": [
            "money: battle, u, center, role, more, man, time, use, work, people\n",
            "lion: taint, really, delighted, gazette, eusebius, deirdre, elective, defeated, characterized, altos\n",
            "africa: america, united, nine, seven, end, five, eight, central, europe, west\n",
            "musician: british, vector, utter, maintain, king, french, portion, civil, teams, fdl\n",
            "dance: music, guerrero, year, deceitful, contention, stones, compound, flashed, couple, roman\n",
            "\n",
            "\n"
          ]
        },
        {
          "name": "stderr",
          "output_type": "stream",
          "text": [
            "15497it [06:23, 47.19it/s]"
          ]
        },
        {
          "name": "stdout",
          "output_type": "stream",
          "text": [
            "| epoch   1 | 15500/32580 batches | loss    0.873 \n"
          ]
        },
        {
          "name": "stderr",
          "output_type": "stream",
          "text": [
            "15506it [06:23, 26.87it/s]"
          ]
        },
        {
          "name": "stdout",
          "output_type": "stream",
          "text": [
            "money: battle, u, center, role, more, man, people, time, use, work\n",
            "lion: taint, really, delighted, gazette, eusebius, deirdre, elective, defeated, characterized, judgment\n",
            "africa: america, united, end, nine, five, seven, eight, europe, south, one\n",
            "musician: british, vector, utter, french, maintain, king, civil, portion, teams, fdl\n",
            "dance: music, guerrero, year, deceitful, contention, stones, compound, couple, roman, flashed\n",
            "\n",
            "\n"
          ]
        },
        {
          "name": "stderr",
          "output_type": "stream",
          "text": [
            "16000it [06:35, 46.28it/s]"
          ]
        },
        {
          "name": "stdout",
          "output_type": "stream",
          "text": [
            "| epoch   1 | 16000/32580 batches | loss    0.871 \n"
          ]
        },
        {
          "name": "stderr",
          "output_type": "stream",
          "text": [
            "\r16005it [06:35, 27.46it/s]"
          ]
        },
        {
          "name": "stdout",
          "output_type": "stream",
          "text": [
            "money: battle, u, center, role, man, time, work, use, more, death\n",
            "lion: taint, really, delighted, gazette, eusebius, deirdre, defeated, characterized, elective, judgment\n",
            "africa: america, united, nine, end, five, europe, seven, eight, part, central\n",
            "musician: british, french, vector, utter, maintain, king, civil, portion, u, teams\n",
            "dance: music, guerrero, year, contention, deceitful, stones, compound, couple, roman, directed\n",
            "\n",
            "\n"
          ]
        },
        {
          "name": "stderr",
          "output_type": "stream",
          "text": [
            "16497it [06:46, 47.17it/s]"
          ]
        },
        {
          "name": "stdout",
          "output_type": "stream",
          "text": [
            "| epoch   1 | 16500/32580 batches | loss    0.866 \n"
          ]
        },
        {
          "name": "stderr",
          "output_type": "stream",
          "text": [
            "16506it [06:47, 31.02it/s]"
          ]
        },
        {
          "name": "stdout",
          "output_type": "stream",
          "text": [
            "money: battle, u, role, center, man, use, work, death, way, more\n",
            "lion: taint, really, delighted, gazette, eusebius, defeated, deirdre, characterized, judgment, elective\n",
            "africa: america, united, nine, end, europe, eight, central, part, five, seven\n",
            "musician: british, french, vector, king, utter, maintain, civil, u, teams, portion\n",
            "dance: music, guerrero, contention, year, deceitful, compound, stones, roman, couple, manny\n",
            "\n",
            "\n"
          ]
        },
        {
          "name": "stderr",
          "output_type": "stream",
          "text": [
            "16997it [06:58, 45.98it/s]"
          ]
        },
        {
          "name": "stdout",
          "output_type": "stream",
          "text": [
            "| epoch   1 | 17000/32580 batches | loss    0.860 \n"
          ]
        },
        {
          "name": "stderr",
          "output_type": "stream",
          "text": [
            "17007it [06:59, 31.89it/s]"
          ]
        },
        {
          "name": "stdout",
          "output_type": "stream",
          "text": [
            "money: battle, u, role, center, use, man, work, time, death, years\n",
            "lion: taint, really, delighted, gazette, eusebius, defeated, characterized, deirdre, judgment, elective\n",
            "africa: america, united, end, europe, nine, eight, part, central, seven, south\n",
            "musician: british, french, king, vector, utter, maintain, civil, u, teams, portion\n",
            "dance: music, guerrero, contention, year, roman, deceitful, stones, rock, compound, couple\n",
            "\n",
            "\n"
          ]
        },
        {
          "name": "stderr",
          "output_type": "stream",
          "text": [
            "17497it [07:10, 46.68it/s]"
          ]
        },
        {
          "name": "stdout",
          "output_type": "stream",
          "text": [
            "| epoch   1 | 17500/32580 batches | loss    0.857 \n"
          ]
        },
        {
          "name": "stderr",
          "output_type": "stream",
          "text": [
            "17507it [07:10, 31.65it/s]"
          ]
        },
        {
          "name": "stdout",
          "output_type": "stream",
          "text": [
            "money: battle, u, role, use, man, center, work, years, time, way\n",
            "lion: taint, really, delighted, gazette, eusebius, defeated, characterized, deirdre, judgment, bonnie\n",
            "africa: america, united, end, europe, nine, eight, part, central, south, west\n",
            "musician: british, french, king, vector, maintain, utter, writer, u, civil, teams\n",
            "dance: music, guerrero, contention, year, roman, rock, stones, compound, couple, deceitful\n",
            "\n",
            "\n"
          ]
        },
        {
          "name": "stderr",
          "output_type": "stream",
          "text": [
            "17998it [07:22, 36.41it/s]"
          ]
        },
        {
          "name": "stdout",
          "output_type": "stream",
          "text": [
            "| epoch   1 | 18000/32580 batches | loss    0.852 \n"
          ]
        },
        {
          "name": "stderr",
          "output_type": "stream",
          "text": [
            "18007it [07:22, 27.13it/s]"
          ]
        },
        {
          "name": "stdout",
          "output_type": "stream",
          "text": [
            "money: battle, u, role, man, use, center, years, work, time, way\n",
            "lion: taint, really, delighted, gazette, eusebius, defeated, characterized, deirdre, judgment, bonnie\n",
            "africa: united, america, europe, end, nine, eight, west, central, south, part\n",
            "musician: british, king, french, maintain, writer, vector, u, utter, english, actor\n",
            "dance: music, guerrero, contention, year, rock, roman, couple, stones, deceitful, eli\n",
            "\n",
            "\n"
          ]
        },
        {
          "name": "stderr",
          "output_type": "stream",
          "text": [
            "18497it [07:33, 36.98it/s]"
          ]
        },
        {
          "name": "stdout",
          "output_type": "stream",
          "text": [
            "| epoch   1 | 18500/32580 batches | loss    0.849 \n"
          ]
        },
        {
          "name": "stderr",
          "output_type": "stream",
          "text": [
            "18504it [07:33, 21.41it/s]"
          ]
        },
        {
          "name": "stdout",
          "output_type": "stream",
          "text": [
            "money: battle, u, role, man, use, years, center, work, way, used\n",
            "lion: taint, really, delighted, eusebius, defeated, gazette, characterized, deirdre, judgment, bonnie\n",
            "africa: america, united, europe, end, nine, eight, west, south, central, part\n",
            "musician: british, king, french, writer, vector, actor, maintain, utter, u, civil\n",
            "dance: music, guerrero, contention, rock, roman, year, deceitful, couple, stones, eli\n",
            "\n",
            "\n"
          ]
        },
        {
          "name": "stderr",
          "output_type": "stream",
          "text": [
            "19000it [07:44, 46.53it/s]"
          ]
        },
        {
          "name": "stdout",
          "output_type": "stream",
          "text": [
            "| epoch   1 | 19000/32580 batches | loss    0.846 \n"
          ]
        },
        {
          "name": "stderr",
          "output_type": "stream",
          "text": [
            "\r19005it [07:45, 28.41it/s]"
          ]
        },
        {
          "name": "stdout",
          "output_type": "stream",
          "text": [
            "money: battle, u, role, man, center, life, work, way, use, years\n",
            "lion: taint, really, delighted, defeated, gazette, eusebius, characterized, judgment, deirdre, bonnie\n",
            "africa: america, united, europe, end, eight, south, west, central, nine, germany\n",
            "musician: british, king, french, writer, vector, actor, utter, maintain, u, english\n",
            "dance: music, guerrero, rock, contention, deceitful, roman, year, compound, eli, couple\n",
            "\n",
            "\n"
          ]
        },
        {
          "name": "stderr",
          "output_type": "stream",
          "text": [
            "19497it [07:59, 46.92it/s]"
          ]
        },
        {
          "name": "stdout",
          "output_type": "stream",
          "text": [
            "| epoch   1 | 19500/32580 batches | loss    0.841 \n"
          ]
        },
        {
          "name": "stderr",
          "output_type": "stream",
          "text": [
            "19506it [07:59, 27.68it/s]"
          ]
        },
        {
          "name": "stdout",
          "output_type": "stream",
          "text": [
            "money: battle, u, role, man, work, years, life, use, way, center\n",
            "lion: taint, really, delighted, defeated, gazette, eusebius, characterized, judgment, deirdre, bonnie\n",
            "africa: america, united, europe, end, eight, south, west, central, nine, east\n",
            "musician: british, king, writer, french, actor, vector, u, english, utter, maintain\n",
            "dance: music, guerrero, rock, contention, roman, deceitful, year, third, eli, male\n",
            "\n",
            "\n"
          ]
        },
        {
          "name": "stderr",
          "output_type": "stream",
          "text": [
            "19999it [08:10, 46.80it/s]"
          ]
        },
        {
          "name": "stdout",
          "output_type": "stream",
          "text": [
            "| epoch   1 | 20000/32580 batches | loss    0.837 \n"
          ]
        },
        {
          "name": "stderr",
          "output_type": "stream",
          "text": [
            "20009it [08:11, 31.90it/s]"
          ]
        },
        {
          "name": "stdout",
          "output_type": "stream",
          "text": [
            "money: battle, u, man, role, work, years, use, way, more, very\n",
            "lion: taint, really, defeated, delighted, gazette, characterized, eusebius, judgment, deirdre, bonnie\n",
            "africa: america, europe, united, end, west, central, eight, south, seven, east\n",
            "musician: british, king, writer, actor, french, u, english, vector, civil, d\n",
            "dance: music, guerrero, rock, contention, roman, year, second, third, deceitful, eli\n",
            "\n",
            "\n"
          ]
        },
        {
          "name": "stderr",
          "output_type": "stream",
          "text": [
            "20499it [08:22, 47.14it/s]"
          ]
        },
        {
          "name": "stdout",
          "output_type": "stream",
          "text": [
            "| epoch   1 | 20500/32580 batches | loss    0.833 \n"
          ]
        },
        {
          "name": "stderr",
          "output_type": "stream",
          "text": [
            "20509it [08:23, 32.05it/s]"
          ]
        },
        {
          "name": "stdout",
          "output_type": "stream",
          "text": [
            "money: battle, u, man, role, years, work, way, use, very, center\n",
            "lion: taint, really, defeated, delighted, gazette, characterized, eusebius, judgment, deirdre, bonnie\n",
            "africa: america, united, europe, eight, end, west, south, central, east, part\n",
            "musician: british, king, writer, actor, french, u, english, vector, civil, d\n",
            "dance: music, guerrero, rock, year, contention, third, roman, second, game, deceitful\n",
            "\n",
            "\n"
          ]
        },
        {
          "name": "stderr",
          "output_type": "stream",
          "text": [
            "21000it [08:34, 46.32it/s]"
          ]
        },
        {
          "name": "stdout",
          "output_type": "stream",
          "text": [
            "| epoch   1 | 21000/32580 batches | loss    0.831 \n"
          ]
        },
        {
          "name": "stderr",
          "output_type": "stream",
          "text": [
            "\r21005it [08:34, 27.11it/s]"
          ]
        },
        {
          "name": "stdout",
          "output_type": "stream",
          "text": [
            "money: battle, u, role, work, years, man, use, center, way, very\n",
            "lion: taint, really, defeated, delighted, characterized, gazette, eusebius, judgment, deirdre, bonnie\n",
            "africa: america, united, europe, end, central, south, west, eight, east, nine\n",
            "musician: british, king, writer, actor, english, french, u, d, born, vector\n",
            "dance: music, guerrero, rock, second, contention, third, year, directed, deceitful, roman\n",
            "\n",
            "\n"
          ]
        },
        {
          "name": "stderr",
          "output_type": "stream",
          "text": [
            "21497it [08:46, 46.91it/s]"
          ]
        },
        {
          "name": "stdout",
          "output_type": "stream",
          "text": [
            "| epoch   1 | 21500/32580 batches | loss    0.828 \n"
          ]
        },
        {
          "name": "stderr",
          "output_type": "stream",
          "text": [
            "21507it [08:46, 31.01it/s]"
          ]
        },
        {
          "name": "stdout",
          "output_type": "stream",
          "text": [
            "money: battle, u, work, man, role, years, very, use, way, practice\n",
            "lion: taint, really, defeated, delighted, characterized, gazette, eusebius, judgment, deirdre, bonnie\n",
            "africa: america, united, europe, end, central, west, south, part, east, eight\n",
            "musician: british, king, writer, actor, english, u, french, born, singer, author\n",
            "dance: music, rock, guerrero, third, second, contention, year, eli, male, game\n",
            "\n",
            "\n"
          ]
        },
        {
          "name": "stderr",
          "output_type": "stream",
          "text": [
            "21998it [08:58, 35.58it/s]"
          ]
        },
        {
          "name": "stdout",
          "output_type": "stream",
          "text": [
            "| epoch   1 | 22000/32580 batches | loss    0.824 \n"
          ]
        },
        {
          "name": "stderr",
          "output_type": "stream",
          "text": [
            "22006it [08:58, 25.63it/s]"
          ]
        },
        {
          "name": "stdout",
          "output_type": "stream",
          "text": [
            "money: battle, u, role, work, man, very, use, years, way, practice\n",
            "lion: taint, really, defeated, delighted, characterized, gazette, judgment, eusebius, deirdre, imagination\n",
            "africa: america, united, europe, end, central, eight, west, south, part, east\n",
            "musician: british, writer, king, actor, u, english, french, author, singer, born\n",
            "dance: music, rock, guerrero, third, second, contention, year, game, male, concept\n",
            "\n",
            "\n"
          ]
        },
        {
          "name": "stderr",
          "output_type": "stream",
          "text": [
            "22499it [09:09, 37.15it/s]"
          ]
        },
        {
          "name": "stdout",
          "output_type": "stream",
          "text": [
            "| epoch   1 | 22500/32580 batches | loss    0.822 \n"
          ]
        },
        {
          "name": "stderr",
          "output_type": "stream",
          "text": [
            "22507it [09:09, 22.03it/s]"
          ]
        },
        {
          "name": "stdout",
          "output_type": "stream",
          "text": [
            "money: battle, u, work, role, very, man, way, use, years, practice\n",
            "lion: taint, really, defeated, characterized, delighted, gazette, judgment, eusebius, deirdre, imagination\n",
            "africa: united, america, europe, end, eight, central, part, west, nine, south\n",
            "musician: british, writer, actor, king, u, english, author, french, singer, born\n",
            "dance: music, rock, guerrero, third, second, contention, year, concept, historians, male\n",
            "\n",
            "\n"
          ]
        },
        {
          "name": "stderr",
          "output_type": "stream",
          "text": [
            "22999it [09:20, 47.32it/s]"
          ]
        },
        {
          "name": "stdout",
          "output_type": "stream",
          "text": [
            "| epoch   1 | 23000/32580 batches | loss    0.816 \n"
          ]
        },
        {
          "name": "stderr",
          "output_type": "stream",
          "text": [
            "23009it [09:21, 32.12it/s]"
          ]
        },
        {
          "name": "stdout",
          "output_type": "stream",
          "text": [
            "money: battle, u, work, role, use, very, way, man, years, time\n",
            "lion: taint, really, defeated, characterized, delighted, judgment, gazette, eusebius, deirdre, imagination\n",
            "africa: united, america, europe, end, central, eight, part, west, east, nine\n",
            "musician: british, writer, actor, king, english, u, author, french, singer, born\n",
            "dance: music, rock, guerrero, third, year, second, game, concept, contention, male\n",
            "\n",
            "\n"
          ]
        },
        {
          "name": "stderr",
          "output_type": "stream",
          "text": [
            "23499it [09:32, 47.76it/s]"
          ]
        },
        {
          "name": "stdout",
          "output_type": "stream",
          "text": [
            "| epoch   1 | 23500/32580 batches | loss    0.814 \n"
          ]
        },
        {
          "name": "stderr",
          "output_type": "stream",
          "text": [
            "23509it [09:33, 31.95it/s]"
          ]
        },
        {
          "name": "stdout",
          "output_type": "stream",
          "text": [
            "money: u, battle, use, work, role, way, very, years, time, man\n",
            "lion: taint, really, defeated, characterized, delighted, judgment, gazette, eusebius, deirdre, imagination\n",
            "africa: united, america, europe, end, central, part, east, nine, west, eight\n",
            "musician: british, writer, actor, king, english, u, author, singer, addition, french\n",
            "dance: music, rock, guerrero, third, game, second, concept, deaths, year, historians\n",
            "\n",
            "\n"
          ]
        },
        {
          "name": "stderr",
          "output_type": "stream",
          "text": [
            "23999it [09:44, 36.48it/s]"
          ]
        },
        {
          "name": "stdout",
          "output_type": "stream",
          "text": [
            "| epoch   1 | 24000/32580 batches | loss    0.811 \n"
          ]
        },
        {
          "name": "stderr",
          "output_type": "stream",
          "text": [
            "\r24003it [09:45, 19.89it/s]"
          ]
        },
        {
          "name": "stdout",
          "output_type": "stream",
          "text": [
            "money: u, battle, use, work, role, time, way, years, very, more\n",
            "lion: taint, really, defeated, characterized, delighted, judgment, eusebius, gazette, deirdre, imagination\n",
            "africa: united, europe, america, end, part, nine, east, central, west, south\n",
            "musician: writer, british, actor, king, english, author, singer, u, addition, french\n",
            "dance: music, rock, guerrero, third, game, deaths, concept, male, second, historians\n",
            "\n",
            "\n"
          ]
        },
        {
          "name": "stderr",
          "output_type": "stream",
          "text": [
            "24497it [09:57, 47.00it/s]"
          ]
        },
        {
          "name": "stdout",
          "output_type": "stream",
          "text": [
            "| epoch   1 | 24500/32580 batches | loss    0.812 \n"
          ]
        },
        {
          "name": "stderr",
          "output_type": "stream",
          "text": [
            "24506it [09:57, 29.70it/s]"
          ]
        },
        {
          "name": "stdout",
          "output_type": "stream",
          "text": [
            "money: u, battle, work, role, very, use, way, time, years, able\n",
            "lion: taint, really, defeated, characterized, delighted, judgment, eusebius, gazette, deirdre, imagination\n",
            "africa: united, america, europe, end, part, east, central, nine, eight, west\n",
            "musician: writer, british, actor, king, english, author, u, singer, addition, born\n",
            "dance: music, rock, guerrero, third, game, concept, male, second, deaths, historians\n",
            "\n",
            "\n"
          ]
        },
        {
          "name": "stderr",
          "output_type": "stream",
          "text": [
            "24996it [10:09, 46.57it/s]"
          ]
        },
        {
          "name": "stdout",
          "output_type": "stream",
          "text": [
            "| epoch   1 | 25000/32580 batches | loss    0.807 \n"
          ]
        },
        {
          "name": "stderr",
          "output_type": "stream",
          "text": [
            "25005it [10:09, 30.73it/s]"
          ]
        },
        {
          "name": "stdout",
          "output_type": "stream",
          "text": [
            "money: battle, u, work, role, time, use, very, way, years, able\n",
            "lion: taint, really, defeated, characterized, judgment, delighted, eusebius, gazette, imagination, deirdre\n",
            "africa: europe, america, united, end, part, central, east, nine, west, south\n",
            "musician: writer, british, actor, king, english, author, singer, u, president, born\n",
            "dance: music, rock, guerrero, third, game, male, concept, deaths, second, year\n",
            "\n",
            "\n"
          ]
        },
        {
          "name": "stderr",
          "output_type": "stream",
          "text": [
            "25499it [10:21, 36.54it/s]"
          ]
        },
        {
          "name": "stdout",
          "output_type": "stream",
          "text": [
            "| epoch   1 | 25500/32580 batches | loss    0.806 \n"
          ]
        },
        {
          "name": "stderr",
          "output_type": "stream",
          "text": [
            "25508it [10:21, 26.72it/s]"
          ]
        },
        {
          "name": "stdout",
          "output_type": "stream",
          "text": [
            "money: battle, work, u, role, time, way, years, use, very, able\n",
            "lion: taint, really, defeated, characterized, judgment, delighted, eusebius, gazette, imagination, deirdre\n",
            "africa: europe, america, united, end, part, east, central, nine, west, south\n",
            "musician: writer, actor, british, king, english, singer, author, u, addition, president\n",
            "dance: music, rock, third, guerrero, game, male, concept, deaths, second, practice\n",
            "\n",
            "\n"
          ]
        },
        {
          "name": "stderr",
          "output_type": "stream",
          "text": [
            "25997it [10:32, 36.35it/s]"
          ]
        },
        {
          "name": "stdout",
          "output_type": "stream",
          "text": [
            "| epoch   1 | 26000/32580 batches | loss    0.804 \n"
          ]
        },
        {
          "name": "stderr",
          "output_type": "stream",
          "text": [
            "26004it [10:32, 21.22it/s]"
          ]
        },
        {
          "name": "stdout",
          "output_type": "stream",
          "text": [
            "money: battle, work, role, u, way, years, time, able, use, very\n",
            "lion: taint, really, defeated, characterized, judgment, delighted, eusebius, gazette, imagination, deirdre\n",
            "africa: europe, america, united, part, end, east, central, west, nine, south\n",
            "musician: writer, actor, king, british, english, author, singer, u, born, addition\n",
            "dance: music, rock, third, guerrero, game, male, concept, deaths, practice, second\n",
            "\n",
            "\n"
          ]
        },
        {
          "name": "stderr",
          "output_type": "stream",
          "text": [
            "26496it [10:43, 46.31it/s]"
          ]
        },
        {
          "name": "stdout",
          "output_type": "stream",
          "text": [
            "| epoch   1 | 26500/32580 batches | loss    0.797 \n"
          ]
        },
        {
          "name": "stderr",
          "output_type": "stream",
          "text": [
            "26506it [10:44, 31.53it/s]"
          ]
        },
        {
          "name": "stdout",
          "output_type": "stream",
          "text": [
            "money: battle, role, work, way, u, years, time, able, very, death\n",
            "lion: taint, really, defeated, characterized, judgment, eusebius, gazette, delighted, imagination, deirdre\n",
            "africa: europe, united, america, end, part, east, west, nine, central, south\n",
            "musician: writer, actor, king, british, author, singer, english, u, addition, born\n",
            "dance: music, rock, third, guerrero, game, concept, male, practice, cities, deaths\n",
            "\n",
            "\n"
          ]
        },
        {
          "name": "stderr",
          "output_type": "stream",
          "text": [
            "27000it [10:55, 45.77it/s]"
          ]
        },
        {
          "name": "stdout",
          "output_type": "stream",
          "text": [
            "| epoch   1 | 27000/32580 batches | loss    0.797 \n"
          ]
        },
        {
          "name": "stderr",
          "output_type": "stream",
          "text": [
            "\r27005it [10:56, 27.71it/s]"
          ]
        },
        {
          "name": "stdout",
          "output_type": "stream",
          "text": [
            "money: battle, work, role, way, u, years, able, concept, time, well\n",
            "lion: taint, really, defeated, characterized, judgment, eusebius, gazette, delighted, imagination, deirdre\n",
            "africa: europe, america, united, end, part, east, west, south, central, germany\n",
            "musician: writer, actor, king, author, singer, british, english, u, addition, president\n",
            "dance: music, rock, third, game, guerrero, practice, concept, male, deaths, famous\n",
            "\n",
            "\n"
          ]
        },
        {
          "name": "stderr",
          "output_type": "stream",
          "text": [
            "27499it [11:07, 39.39it/s]"
          ]
        },
        {
          "name": "stdout",
          "output_type": "stream",
          "text": [
            "| epoch   1 | 27500/32580 batches | loss    0.794 \n"
          ]
        },
        {
          "name": "stderr",
          "output_type": "stream",
          "text": [
            "27508it [11:08, 29.46it/s]"
          ]
        },
        {
          "name": "stdout",
          "output_type": "stream",
          "text": [
            "money: battle, role, work, way, u, years, able, time, well, concept\n",
            "lion: taint, really, defeated, characterized, judgment, eusebius, delighted, gazette, imagination, deirdre\n",
            "africa: europe, united, america, part, east, end, south, west, germany, nine\n",
            "musician: writer, actor, king, singer, author, english, british, u, addition, president\n",
            "dance: music, rock, third, game, guerrero, concept, practice, male, deaths, band\n",
            "\n",
            "\n"
          ]
        },
        {
          "name": "stderr",
          "output_type": "stream",
          "text": [
            "27997it [11:19, 47.25it/s]"
          ]
        },
        {
          "name": "stdout",
          "output_type": "stream",
          "text": [
            "| epoch   1 | 28000/32580 batches | loss    0.789 \n"
          ]
        },
        {
          "name": "stderr",
          "output_type": "stream",
          "text": [
            "28006it [11:20, 30.04it/s]"
          ]
        },
        {
          "name": "stdout",
          "output_type": "stream",
          "text": [
            "money: battle, work, role, way, able, years, time, u, well, concept\n",
            "lion: taint, really, defeated, characterized, judgment, eusebius, gazette, delighted, imagination, deirdre\n",
            "africa: europe, america, united, part, east, end, south, germany, nine, west\n",
            "musician: writer, actor, singer, king, author, british, english, u, addition, born\n",
            "dance: music, rock, third, game, concept, male, guerrero, practice, famous, deaths\n",
            "\n",
            "\n"
          ]
        },
        {
          "name": "stderr",
          "output_type": "stream",
          "text": [
            "28497it [11:31, 46.75it/s]"
          ]
        },
        {
          "name": "stdout",
          "output_type": "stream",
          "text": [
            "| epoch   1 | 28500/32580 batches | loss    0.790 \n"
          ]
        },
        {
          "name": "stderr",
          "output_type": "stream",
          "text": [
            "28507it [11:31, 31.10it/s]"
          ]
        },
        {
          "name": "stdout",
          "output_type": "stream",
          "text": [
            "money: battle, work, able, way, role, years, time, well, concept, u\n",
            "lion: taint, really, defeated, characterized, judgment, eusebius, gazette, delighted, imagination, deirdre\n",
            "africa: europe, america, united, east, part, end, south, germany, west, central\n",
            "musician: writer, actor, singer, king, british, author, english, u, addition, born\n",
            "dance: music, rock, third, game, concept, guerrero, male, deaths, famous, band\n",
            "\n",
            "\n"
          ]
        },
        {
          "name": "stderr",
          "output_type": "stream",
          "text": [
            "28997it [11:43, 35.63it/s]"
          ]
        },
        {
          "name": "stdout",
          "output_type": "stream",
          "text": [
            "| epoch   1 | 29000/32580 batches | loss    0.787 \n"
          ]
        },
        {
          "name": "stderr",
          "output_type": "stream",
          "text": [
            "29004it [11:43, 21.09it/s]"
          ]
        },
        {
          "name": "stdout",
          "output_type": "stream",
          "text": [
            "money: battle, work, time, way, able, role, years, well, concept, fact\n",
            "lion: taint, really, defeated, characterized, judgment, gazette, delighted, eusebius, imagination, deirdre\n",
            "africa: europe, america, united, east, part, end, south, germany, central, west\n",
            "musician: writer, actor, singer, king, author, british, english, u, addition, born\n",
            "dance: music, rock, third, game, concept, male, guerrero, deaths, country, famous\n",
            "\n",
            "\n"
          ]
        },
        {
          "name": "stderr",
          "output_type": "stream",
          "text": [
            "29500it [11:54, 36.87it/s]"
          ]
        },
        {
          "name": "stdout",
          "output_type": "stream",
          "text": [
            "| epoch   1 | 29500/32580 batches | loss    0.786 \n"
          ]
        },
        {
          "name": "stderr",
          "output_type": "stream",
          "text": [
            "\r29504it [11:55, 19.35it/s]"
          ]
        },
        {
          "name": "stdout",
          "output_type": "stream",
          "text": [
            "money: battle, work, way, time, able, role, years, u, well, concept\n",
            "lion: taint, really, defeated, characterized, judgment, gazette, delighted, eusebius, imagination, deirdre\n",
            "africa: europe, america, united, east, part, south, end, germany, central, west\n",
            "musician: writer, actor, singer, king, author, english, british, u, addition, born\n",
            "dance: music, rock, game, third, concept, practice, deaths, male, guerrero, country\n",
            "\n",
            "\n"
          ]
        },
        {
          "name": "stderr",
          "output_type": "stream",
          "text": [
            "29996it [12:06, 46.35it/s]"
          ]
        },
        {
          "name": "stdout",
          "output_type": "stream",
          "text": [
            "| epoch   1 | 30000/32580 batches | loss    0.784 \n"
          ]
        },
        {
          "name": "stderr",
          "output_type": "stream",
          "text": [
            "30005it [12:06, 30.70it/s]"
          ]
        },
        {
          "name": "stdout",
          "output_type": "stream",
          "text": [
            "money: battle, time, way, work, able, role, years, u, concept, well\n",
            "lion: taint, really, defeated, characterized, judgment, gazette, delighted, eusebius, imagination, deirdre\n",
            "africa: europe, america, united, part, east, south, end, germany, nine, central\n",
            "musician: writer, actor, singer, author, king, english, british, u, addition, born\n",
            "dance: music, rock, game, third, concept, male, practice, guerrero, deaths, band\n",
            "\n",
            "\n"
          ]
        },
        {
          "name": "stderr",
          "output_type": "stream",
          "text": [
            "30500it [12:18, 45.95it/s]"
          ]
        },
        {
          "name": "stdout",
          "output_type": "stream",
          "text": [
            "| epoch   1 | 30500/32580 batches | loss    0.781 \n"
          ]
        },
        {
          "name": "stderr",
          "output_type": "stream",
          "text": [
            "\r30505it [12:18, 26.88it/s]"
          ]
        },
        {
          "name": "stdout",
          "output_type": "stream",
          "text": [
            "money: battle, work, time, way, role, able, years, u, concept, well\n",
            "lion: taint, really, defeated, characterized, judgment, gazette, delighted, eusebius, imagination, deirdre\n",
            "africa: europe, america, united, part, east, end, south, germany, nine, central\n",
            "musician: writer, actor, singer, author, king, english, british, addition, u, born\n",
            "dance: music, rock, third, game, practice, concept, male, guerrero, band, country\n",
            "\n",
            "\n"
          ]
        },
        {
          "name": "stderr",
          "output_type": "stream",
          "text": [
            "30996it [12:30, 44.24it/s]"
          ]
        },
        {
          "name": "stdout",
          "output_type": "stream",
          "text": [
            "| epoch   1 | 31000/32580 batches | loss    0.779 \n"
          ]
        },
        {
          "name": "stderr",
          "output_type": "stream",
          "text": [
            "31005it [12:31, 28.54it/s]"
          ]
        },
        {
          "name": "stdout",
          "output_type": "stream",
          "text": [
            "money: battle, work, way, time, able, role, years, u, concept, fact\n",
            "lion: taint, really, defeated, characterized, judgment, gazette, eusebius, delighted, imagination, deirdre\n",
            "africa: europe, america, united, east, end, part, south, germany, nine, central\n",
            "musician: writer, actor, singer, author, english, king, british, addition, u, born\n",
            "dance: music, rock, third, game, practice, male, concept, country, band, guerrero\n",
            "\n",
            "\n"
          ]
        },
        {
          "name": "stderr",
          "output_type": "stream",
          "text": [
            "31498it [12:43, 44.22it/s]"
          ]
        },
        {
          "name": "stdout",
          "output_type": "stream",
          "text": [
            "| epoch   1 | 31500/32580 batches | loss    0.777 \n"
          ]
        },
        {
          "name": "stderr",
          "output_type": "stream",
          "text": [
            "31508it [12:43, 29.20it/s]"
          ]
        },
        {
          "name": "stdout",
          "output_type": "stream",
          "text": [
            "money: battle, work, way, able, role, time, years, concept, u, well\n",
            "lion: taint, really, defeated, characterized, judgment, gazette, delighted, eusebius, imagination, deirdre\n",
            "africa: europe, america, united, east, south, end, part, germany, central, nine\n",
            "musician: writer, actor, singer, author, king, english, british, addition, u, born\n",
            "dance: music, rock, third, game, country, male, practice, band, jazz, concept\n",
            "\n",
            "\n"
          ]
        },
        {
          "name": "stderr",
          "output_type": "stream",
          "text": [
            "31998it [12:55, 46.37it/s]"
          ]
        },
        {
          "name": "stdout",
          "output_type": "stream",
          "text": [
            "| epoch   1 | 32000/32580 batches | loss    0.772 \n"
          ]
        },
        {
          "name": "stderr",
          "output_type": "stream",
          "text": [
            "32008it [12:56, 30.56it/s]"
          ]
        },
        {
          "name": "stdout",
          "output_type": "stream",
          "text": [
            "money: battle, work, able, role, way, years, time, concept, well, u\n",
            "lion: taint, really, defeated, characterized, judgment, gazette, eusebius, delighted, imagination, deirdre\n",
            "africa: europe, united, america, east, south, end, germany, part, central, west\n",
            "musician: writer, actor, singer, king, author, english, british, american, addition, born\n",
            "dance: music, rock, third, game, concept, country, male, jazz, deaths, practice\n",
            "\n",
            "\n"
          ]
        },
        {
          "name": "stderr",
          "output_type": "stream",
          "text": [
            "32496it [13:07, 41.80it/s]"
          ]
        },
        {
          "name": "stdout",
          "output_type": "stream",
          "text": [
            "| epoch   1 | 32500/32580 batches | loss    0.772 \n"
          ]
        },
        {
          "name": "stderr",
          "output_type": "stream",
          "text": [
            "32505it [13:08, 27.64it/s]"
          ]
        },
        {
          "name": "stdout",
          "output_type": "stream",
          "text": [
            "money: battle, work, role, able, way, years, time, concept, well, fact\n",
            "lion: taint, really, defeated, characterized, judgment, gazette, eusebius, delighted, imagination, deirdre\n",
            "africa: europe, america, united, east, germany, south, end, part, central, west\n",
            "musician: writer, actor, singer, author, king, english, addition, born, british, u\n",
            "dance: music, rock, third, game, concept, live, jazz, male, deaths, country\n",
            "\n",
            "\n"
          ]
        },
        {
          "name": "stderr",
          "output_type": "stream",
          "text": [
            "32580it [13:11, 41.18it/s]\n",
            "0it [00:00, ?it/s]"
          ]
        },
        {
          "name": "stdout",
          "output_type": "stream",
          "text": [
            "| epoch   2 |     0/32580 batches | loss    0.729 \n"
          ]
        },
        {
          "name": "stderr",
          "output_type": "stream",
          "text": [
            "5it [00:01,  4.41it/s]"
          ]
        },
        {
          "name": "stdout",
          "output_type": "stream",
          "text": [
            "money: battle, work, able, role, years, way, time, concept, well, fact\n",
            "lion: taint, really, defeated, characterized, judgment, gazette, eusebius, delighted, imagination, deirdre\n",
            "africa: europe, america, united, east, germany, south, end, part, central, nine\n",
            "musician: writer, actor, singer, author, king, english, addition, british, born, president\n",
            "dance: music, rock, third, game, concept, live, jazz, male, country, small\n",
            "\n",
            "\n"
          ]
        },
        {
          "name": "stderr",
          "output_type": "stream",
          "text": [
            "498it [00:13, 45.05it/s]"
          ]
        },
        {
          "name": "stdout",
          "output_type": "stream",
          "text": [
            "| epoch   2 |   500/32580 batches | loss    0.739 \n"
          ]
        },
        {
          "name": "stderr",
          "output_type": "stream",
          "text": [
            "508it [00:14, 30.24it/s]"
          ]
        },
        {
          "name": "stdout",
          "output_type": "stream",
          "text": [
            "money: battle, work, able, years, role, way, time, concept, well, fact\n",
            "lion: taint, really, defeated, characterized, judgment, gazette, eusebius, delighted, imagination, deirdre\n",
            "africa: europe, america, united, east, germany, south, end, part, central, nine\n",
            "musician: writer, actor, singer, author, king, english, addition, british, born, president\n",
            "dance: music, rock, third, game, concept, jazz, live, male, small, country\n",
            "\n",
            "\n"
          ]
        },
        {
          "name": "stderr",
          "output_type": "stream",
          "text": [
            "999it [00:26, 44.28it/s]"
          ]
        },
        {
          "name": "stdout",
          "output_type": "stream",
          "text": [
            "| epoch   2 |  1000/32580 batches | loss    0.740 \n"
          ]
        },
        {
          "name": "stderr",
          "output_type": "stream",
          "text": [
            "1009it [00:26, 29.55it/s]"
          ]
        },
        {
          "name": "stdout",
          "output_type": "stream",
          "text": [
            "money: battle, work, able, years, role, way, time, concept, well, fact\n",
            "lion: taint, defeated, really, characterized, judgment, gazette, eusebius, delighted, imagination, deirdre\n",
            "africa: europe, america, united, east, germany, south, end, part, central, west\n",
            "musician: writer, actor, singer, author, king, english, addition, british, born, president\n",
            "dance: music, rock, third, game, concept, jazz, live, small, male, country\n",
            "\n",
            "\n"
          ]
        },
        {
          "name": "stderr",
          "output_type": "stream",
          "text": [
            "1497it [00:38, 39.89it/s]"
          ]
        },
        {
          "name": "stdout",
          "output_type": "stream",
          "text": [
            "| epoch   2 |  1500/32580 batches | loss    0.737 \n"
          ]
        },
        {
          "name": "stderr",
          "output_type": "stream",
          "text": [
            "1505it [00:39, 26.85it/s]"
          ]
        },
        {
          "name": "stdout",
          "output_type": "stream",
          "text": [
            "money: battle, work, able, years, role, way, time, concept, well, fact\n",
            "lion: taint, defeated, really, characterized, judgment, gazette, eusebius, delighted, imagination, deirdre\n",
            "africa: europe, america, united, east, germany, south, end, part, central, west\n",
            "musician: writer, actor, singer, author, king, english, addition, british, born, president\n",
            "dance: music, rock, third, game, concept, jazz, live, small, male, country\n",
            "\n",
            "\n"
          ]
        },
        {
          "name": "stderr",
          "output_type": "stream",
          "text": [
            "1999it [00:51, 35.87it/s]"
          ]
        },
        {
          "name": "stdout",
          "output_type": "stream",
          "text": [
            "| epoch   2 |  2000/32580 batches | loss    0.735 \n"
          ]
        },
        {
          "name": "stderr",
          "output_type": "stream",
          "text": [
            "\r2003it [00:51, 19.23it/s]"
          ]
        },
        {
          "name": "stdout",
          "output_type": "stream",
          "text": [
            "money: battle, work, able, years, role, way, time, concept, well, fact\n",
            "lion: taint, defeated, really, characterized, judgment, gazette, eusebius, delighted, imagination, deirdre\n",
            "africa: europe, america, united, east, germany, south, end, part, central, west\n",
            "musician: writer, actor, singer, author, king, english, addition, british, born, president\n",
            "dance: music, rock, third, game, concept, jazz, live, small, male, country\n",
            "\n",
            "\n"
          ]
        },
        {
          "name": "stderr",
          "output_type": "stream",
          "text": [
            "2498it [01:03, 35.09it/s]"
          ]
        },
        {
          "name": "stdout",
          "output_type": "stream",
          "text": [
            "| epoch   2 |  2500/32580 batches | loss    0.736 \n"
          ]
        },
        {
          "name": "stderr",
          "output_type": "stream",
          "text": [
            "2505it [01:03, 21.39it/s]"
          ]
        },
        {
          "name": "stdout",
          "output_type": "stream",
          "text": [
            "money: battle, work, years, able, role, way, time, concept, well, fact\n",
            "lion: taint, defeated, really, characterized, judgment, gazette, eusebius, delighted, imagination, deirdre\n",
            "africa: europe, america, united, east, germany, south, end, part, central, west\n",
            "musician: writer, actor, singer, author, king, english, addition, british, born, president\n",
            "dance: music, rock, third, game, concept, jazz, live, small, male, country\n",
            "\n",
            "\n"
          ]
        },
        {
          "name": "stderr",
          "output_type": "stream",
          "text": [
            "2996it [01:15, 45.44it/s]"
          ]
        },
        {
          "name": "stdout",
          "output_type": "stream",
          "text": [
            "| epoch   2 |  3000/32580 batches | loss    0.736 \n"
          ]
        },
        {
          "name": "stderr",
          "output_type": "stream",
          "text": [
            "3005it [01:15, 29.55it/s]"
          ]
        },
        {
          "name": "stdout",
          "output_type": "stream",
          "text": [
            "money: battle, work, years, able, role, way, time, concept, well, fact\n",
            "lion: taint, defeated, really, characterized, judgment, gazette, eusebius, delighted, imagination, deirdre\n",
            "africa: europe, america, united, east, germany, south, end, part, central, west\n",
            "musician: writer, actor, singer, author, king, english, addition, british, born, president\n",
            "dance: music, rock, third, game, concept, jazz, live, small, male, country\n",
            "\n",
            "\n"
          ]
        },
        {
          "name": "stderr",
          "output_type": "stream",
          "text": [
            "3497it [01:27, 46.03it/s]"
          ]
        },
        {
          "name": "stdout",
          "output_type": "stream",
          "text": [
            "| epoch   2 |  3500/32580 batches | loss    0.735 \n"
          ]
        },
        {
          "name": "stderr",
          "output_type": "stream",
          "text": [
            "3507it [01:27, 30.83it/s]"
          ]
        },
        {
          "name": "stdout",
          "output_type": "stream",
          "text": [
            "money: battle, work, years, able, role, way, time, concept, well, fact\n",
            "lion: taint, defeated, really, characterized, judgment, gazette, eusebius, delighted, imagination, deirdre\n",
            "africa: europe, america, united, east, germany, south, end, part, central, china\n",
            "musician: writer, actor, singer, author, king, english, addition, british, born, deaths\n",
            "dance: music, rock, third, game, concept, jazz, live, small, male, country\n",
            "\n",
            "\n"
          ]
        },
        {
          "name": "stderr",
          "output_type": "stream",
          "text": [
            "4000it [01:39, 45.62it/s]"
          ]
        },
        {
          "name": "stdout",
          "output_type": "stream",
          "text": [
            "| epoch   2 |  4000/32580 batches | loss    0.737 \n"
          ]
        },
        {
          "name": "stderr",
          "output_type": "stream",
          "text": [
            "\r4005it [01:39, 27.16it/s]"
          ]
        },
        {
          "name": "stdout",
          "output_type": "stream",
          "text": [
            "money: battle, work, years, able, role, way, time, concept, well, fact\n",
            "lion: taint, defeated, really, characterized, judgment, gazette, eusebius, delighted, imagination, deirdre\n",
            "africa: europe, america, united, east, germany, south, end, part, central, west\n",
            "musician: writer, actor, singer, author, king, english, addition, british, born, deaths\n",
            "dance: music, rock, third, game, jazz, concept, live, male, small, country\n",
            "\n",
            "\n"
          ]
        },
        {
          "name": "stderr",
          "output_type": "stream",
          "text": [
            "4499it [01:51, 45.95it/s]"
          ]
        },
        {
          "name": "stdout",
          "output_type": "stream",
          "text": [
            "| epoch   2 |  4500/32580 batches | loss    0.733 \n"
          ]
        },
        {
          "name": "stderr",
          "output_type": "stream",
          "text": [
            "4509it [01:52, 30.98it/s]"
          ]
        },
        {
          "name": "stdout",
          "output_type": "stream",
          "text": [
            "money: battle, work, years, able, role, way, time, concept, well, fact\n",
            "lion: taint, defeated, really, characterized, judgment, gazette, eusebius, delighted, imagination, deirdre\n",
            "africa: europe, america, united, east, germany, south, end, part, west, central\n",
            "musician: writer, actor, singer, author, king, english, addition, british, born, deaths\n",
            "dance: music, rock, third, game, concept, jazz, live, male, small, country\n",
            "\n",
            "\n"
          ]
        },
        {
          "name": "stderr",
          "output_type": "stream",
          "text": [
            "4999it [02:03, 46.50it/s]"
          ]
        },
        {
          "name": "stdout",
          "output_type": "stream",
          "text": [
            "| epoch   2 |  5000/32580 batches | loss    0.734 \n"
          ]
        },
        {
          "name": "stderr",
          "output_type": "stream",
          "text": [
            "5009it [02:04, 30.88it/s]"
          ]
        },
        {
          "name": "stdout",
          "output_type": "stream",
          "text": [
            "money: battle, work, years, able, role, way, time, concept, well, fact\n",
            "lion: taint, defeated, really, characterized, judgment, gazette, eusebius, delighted, imagination, deirdre\n",
            "africa: europe, america, united, east, germany, south, end, part, west, china\n",
            "musician: writer, actor, singer, author, king, english, addition, british, born, deaths\n",
            "dance: music, rock, third, game, concept, jazz, live, male, small, country\n",
            "\n",
            "\n"
          ]
        },
        {
          "name": "stderr",
          "output_type": "stream",
          "text": [
            "5497it [02:15, 35.37it/s]"
          ]
        },
        {
          "name": "stdout",
          "output_type": "stream",
          "text": [
            "| epoch   2 |  5500/32580 batches | loss    0.732 \n"
          ]
        },
        {
          "name": "stderr",
          "output_type": "stream",
          "text": [
            "5505it [02:16, 24.05it/s]"
          ]
        },
        {
          "name": "stdout",
          "output_type": "stream",
          "text": [
            "money: battle, work, years, able, role, way, time, concept, well, fact\n",
            "lion: taint, defeated, really, characterized, judgment, gazette, eusebius, delighted, imagination, deirdre\n",
            "africa: europe, america, united, east, germany, south, end, part, west, central\n",
            "musician: writer, actor, singer, author, king, english, addition, british, born, deaths\n",
            "dance: music, rock, third, game, concept, jazz, live, small, male, country\n",
            "\n",
            "\n"
          ]
        },
        {
          "name": "stderr",
          "output_type": "stream",
          "text": [
            "6000it [02:27, 34.24it/s]"
          ]
        },
        {
          "name": "stdout",
          "output_type": "stream",
          "text": [
            "| epoch   2 |  6000/32580 batches | loss    0.733 \n"
          ]
        },
        {
          "name": "stderr",
          "output_type": "stream",
          "text": [
            "\r6004it [02:27, 18.10it/s]"
          ]
        },
        {
          "name": "stdout",
          "output_type": "stream",
          "text": [
            "money: battle, work, years, able, role, way, time, concept, well, fact\n",
            "lion: taint, defeated, really, characterized, judgment, gazette, eusebius, delighted, imagination, deirdre\n",
            "africa: europe, america, united, east, germany, south, end, part, west, china\n",
            "musician: writer, actor, singer, author, king, english, addition, british, born, deaths\n",
            "dance: music, rock, third, game, concept, jazz, live, small, male, country\n",
            "\n",
            "\n"
          ]
        },
        {
          "name": "stderr",
          "output_type": "stream",
          "text": [
            "6496it [02:39, 44.98it/s]"
          ]
        },
        {
          "name": "stdout",
          "output_type": "stream",
          "text": [
            "| epoch   2 |  6500/32580 batches | loss    0.732 \n"
          ]
        },
        {
          "name": "stderr",
          "output_type": "stream",
          "text": [
            "6505it [02:39, 30.23it/s]"
          ]
        },
        {
          "name": "stdout",
          "output_type": "stream",
          "text": [
            "money: battle, work, years, able, role, way, time, concept, well, fact\n",
            "lion: taint, defeated, really, characterized, judgment, gazette, eusebius, delighted, imagination, deirdre\n",
            "africa: europe, america, united, east, germany, south, end, part, west, china\n",
            "musician: writer, actor, singer, author, king, english, addition, british, born, deaths\n",
            "dance: music, rock, third, game, concept, jazz, live, small, country, male\n",
            "\n",
            "\n"
          ]
        },
        {
          "name": "stderr",
          "output_type": "stream",
          "text": [
            "6996it [02:51, 45.34it/s]"
          ]
        },
        {
          "name": "stdout",
          "output_type": "stream",
          "text": [
            "| epoch   2 |  7000/32580 batches | loss    0.733 \n"
          ]
        },
        {
          "name": "stderr",
          "output_type": "stream",
          "text": [
            "7005it [02:51, 30.07it/s]"
          ]
        },
        {
          "name": "stdout",
          "output_type": "stream",
          "text": [
            "money: battle, work, years, able, role, way, time, concept, well, fact\n",
            "lion: taint, defeated, really, characterized, judgment, gazette, eusebius, delighted, imagination, deirdre\n",
            "africa: europe, america, united, east, germany, south, end, part, west, central\n",
            "musician: writer, actor, singer, author, king, english, addition, british, born, deaths\n",
            "dance: music, rock, third, game, concept, jazz, live, country, male, small\n",
            "\n",
            "\n"
          ]
        },
        {
          "name": "stderr",
          "output_type": "stream",
          "text": [
            "7499it [03:03, 46.10it/s]"
          ]
        },
        {
          "name": "stdout",
          "output_type": "stream",
          "text": [
            "| epoch   2 |  7500/32580 batches | loss    0.730 \n"
          ]
        },
        {
          "name": "stderr",
          "output_type": "stream",
          "text": [
            "7509it [03:04, 31.01it/s]"
          ]
        },
        {
          "name": "stdout",
          "output_type": "stream",
          "text": [
            "money: battle, work, years, able, role, way, time, concept, well, fact\n",
            "lion: taint, defeated, really, characterized, judgment, gazette, eusebius, delighted, imagination, deirdre\n",
            "africa: europe, america, united, east, germany, south, end, part, central, west\n",
            "musician: writer, actor, singer, author, king, english, addition, british, born, deaths\n",
            "dance: music, rock, third, game, concept, jazz, live, male, country, small\n",
            "\n",
            "\n"
          ]
        },
        {
          "name": "stderr",
          "output_type": "stream",
          "text": [
            "7999it [03:15, 44.20it/s]"
          ]
        },
        {
          "name": "stdout",
          "output_type": "stream",
          "text": [
            "| epoch   2 |  8000/32580 batches | loss    0.733 \n"
          ]
        },
        {
          "name": "stderr",
          "output_type": "stream",
          "text": [
            "8009it [03:16, 30.39it/s]"
          ]
        },
        {
          "name": "stdout",
          "output_type": "stream",
          "text": [
            "money: battle, work, years, able, role, way, time, concept, well, fact\n",
            "lion: taint, defeated, really, characterized, judgment, gazette, eusebius, delighted, imagination, deirdre\n",
            "africa: europe, america, united, east, germany, south, end, part, west, china\n",
            "musician: writer, actor, singer, author, king, english, addition, british, born, composer\n",
            "dance: music, rock, third, game, concept, jazz, live, male, country, small\n",
            "\n",
            "\n"
          ]
        },
        {
          "name": "stderr",
          "output_type": "stream",
          "text": [
            "8496it [03:28, 46.33it/s]"
          ]
        },
        {
          "name": "stdout",
          "output_type": "stream",
          "text": [
            "| epoch   2 |  8500/32580 batches | loss    0.733 \n"
          ]
        },
        {
          "name": "stderr",
          "output_type": "stream",
          "text": [
            "8505it [03:28, 29.89it/s]"
          ]
        },
        {
          "name": "stdout",
          "output_type": "stream",
          "text": [
            "money: battle, work, years, able, role, way, time, concept, well, fact\n",
            "lion: taint, defeated, really, characterized, judgment, gazette, eusebius, delighted, imagination, deirdre\n",
            "africa: europe, america, united, east, germany, south, end, part, china, west\n",
            "musician: writer, actor, singer, author, king, english, addition, british, born, composer\n",
            "dance: music, rock, third, game, concept, jazz, live, male, country, small\n",
            "\n",
            "\n"
          ]
        },
        {
          "name": "stderr",
          "output_type": "stream",
          "text": [
            "8999it [03:40, 44.78it/s]"
          ]
        },
        {
          "name": "stdout",
          "output_type": "stream",
          "text": [
            "| epoch   2 |  9000/32580 batches | loss    0.733 \n"
          ]
        },
        {
          "name": "stderr",
          "output_type": "stream",
          "text": [
            "9009it [03:40, 30.28it/s]"
          ]
        },
        {
          "name": "stdout",
          "output_type": "stream",
          "text": [
            "money: battle, work, years, able, role, way, time, concept, well, fact\n",
            "lion: taint, defeated, really, characterized, judgment, gazette, eusebius, delighted, imagination, deirdre\n",
            "africa: europe, america, united, east, germany, south, end, part, west, china\n",
            "musician: writer, actor, singer, author, king, english, addition, british, born, composer\n",
            "dance: music, rock, third, game, concept, jazz, live, male, small, country\n",
            "\n",
            "\n"
          ]
        },
        {
          "name": "stderr",
          "output_type": "stream",
          "text": [
            "9498it [03:51, 35.79it/s]"
          ]
        },
        {
          "name": "stdout",
          "output_type": "stream",
          "text": [
            "| epoch   2 |  9500/32580 batches | loss    0.735 \n"
          ]
        },
        {
          "name": "stderr",
          "output_type": "stream",
          "text": [
            "9506it [03:52, 21.55it/s]"
          ]
        },
        {
          "name": "stdout",
          "output_type": "stream",
          "text": [
            "money: battle, work, years, able, role, way, time, concept, well, fact\n",
            "lion: taint, defeated, really, characterized, judgment, gazette, eusebius, delighted, imagination, deirdre\n",
            "africa: europe, america, united, east, germany, south, end, part, china, west\n",
            "musician: writer, actor, singer, author, king, english, addition, british, born, deaths\n",
            "dance: music, rock, third, game, concept, jazz, live, male, country, small\n",
            "\n",
            "\n"
          ]
        },
        {
          "name": "stderr",
          "output_type": "stream",
          "text": [
            "9998it [04:07, 34.00it/s]"
          ]
        },
        {
          "name": "stdout",
          "output_type": "stream",
          "text": [
            "| epoch   2 | 10000/32580 batches | loss    0.731 \n"
          ]
        },
        {
          "name": "stderr",
          "output_type": "stream",
          "text": [
            "10006it [04:07, 22.87it/s]"
          ]
        },
        {
          "name": "stdout",
          "output_type": "stream",
          "text": [
            "money: battle, work, years, able, role, way, time, concept, well, fact\n",
            "lion: taint, defeated, really, characterized, judgment, gazette, eusebius, delighted, imagination, deirdre\n",
            "africa: europe, america, united, east, germany, south, end, part, china, west\n",
            "musician: writer, actor, singer, author, king, english, addition, british, born, composer\n",
            "dance: music, rock, third, game, jazz, concept, live, small, male, country\n",
            "\n",
            "\n"
          ]
        },
        {
          "name": "stderr",
          "output_type": "stream",
          "text": [
            "10499it [04:18, 36.05it/s]"
          ]
        },
        {
          "name": "stdout",
          "output_type": "stream",
          "text": [
            "| epoch   2 | 10500/32580 batches | loss    0.732 \n"
          ]
        },
        {
          "name": "stderr",
          "output_type": "stream",
          "text": [
            "10507it [04:19, 22.11it/s]"
          ]
        },
        {
          "name": "stdout",
          "output_type": "stream",
          "text": [
            "money: battle, work, years, able, role, way, time, concept, well, fact\n",
            "lion: taint, defeated, really, characterized, judgment, gazette, eusebius, delighted, imagination, deirdre\n",
            "africa: europe, america, united, east, germany, south, end, part, china, west\n",
            "musician: writer, actor, singer, author, king, english, addition, british, born, composer\n",
            "dance: music, rock, third, game, jazz, concept, live, small, male, country\n",
            "\n",
            "\n"
          ]
        },
        {
          "name": "stderr",
          "output_type": "stream",
          "text": [
            "10998it [04:30, 44.99it/s]"
          ]
        },
        {
          "name": "stdout",
          "output_type": "stream",
          "text": [
            "| epoch   2 | 11000/32580 batches | loss    0.730 \n"
          ]
        },
        {
          "name": "stderr",
          "output_type": "stream",
          "text": [
            "11008it [04:31, 30.56it/s]"
          ]
        },
        {
          "name": "stdout",
          "output_type": "stream",
          "text": [
            "money: battle, work, years, able, role, way, time, concept, well, fact\n",
            "lion: taint, defeated, really, characterized, judgment, gazette, eusebius, delighted, imagination, deirdre\n",
            "africa: europe, america, united, east, germany, south, end, china, part, west\n",
            "musician: writer, actor, singer, author, king, english, addition, british, born, composer\n",
            "dance: music, rock, third, game, jazz, concept, live, small, male, country\n",
            "\n",
            "\n"
          ]
        },
        {
          "name": "stderr",
          "output_type": "stream",
          "text": [
            "11500it [04:42, 44.63it/s]"
          ]
        },
        {
          "name": "stdout",
          "output_type": "stream",
          "text": [
            "| epoch   2 | 11500/32580 batches | loss    0.730 \n"
          ]
        },
        {
          "name": "stderr",
          "output_type": "stream",
          "text": [
            "\r11505it [04:43, 26.75it/s]"
          ]
        },
        {
          "name": "stdout",
          "output_type": "stream",
          "text": [
            "money: battle, work, years, able, role, way, time, concept, well, fact\n",
            "lion: taint, defeated, really, characterized, judgment, gazette, eusebius, delighted, imagination, deirdre\n",
            "africa: europe, america, united, east, germany, south, end, china, west, part\n",
            "musician: writer, actor, singer, author, king, english, addition, british, born, composer\n",
            "dance: music, rock, third, game, jazz, concept, live, small, male, country\n",
            "\n",
            "\n"
          ]
        },
        {
          "name": "stderr",
          "output_type": "stream",
          "text": [
            "11997it [04:55, 45.43it/s]"
          ]
        },
        {
          "name": "stdout",
          "output_type": "stream",
          "text": [
            "| epoch   2 | 12000/32580 batches | loss    0.731 \n"
          ]
        },
        {
          "name": "stderr",
          "output_type": "stream",
          "text": [
            "12006it [04:56, 29.82it/s]"
          ]
        },
        {
          "name": "stdout",
          "output_type": "stream",
          "text": [
            "money: battle, work, years, able, role, way, time, concept, well, fact\n",
            "lion: taint, defeated, really, characterized, judgment, gazette, eusebius, delighted, imagination, deirdre\n",
            "africa: europe, america, united, east, germany, south, end, china, west, part\n",
            "musician: writer, actor, singer, author, king, english, addition, british, born, composer\n",
            "dance: music, rock, third, game, jazz, concept, live, male, small, country\n",
            "\n",
            "\n"
          ]
        },
        {
          "name": "stderr",
          "output_type": "stream",
          "text": [
            "12500it [05:08, 44.24it/s]"
          ]
        },
        {
          "name": "stdout",
          "output_type": "stream",
          "text": [
            "| epoch   2 | 12500/32580 batches | loss    0.732 \n"
          ]
        },
        {
          "name": "stderr",
          "output_type": "stream",
          "text": [
            "\r12505it [05:08, 26.76it/s]"
          ]
        },
        {
          "name": "stdout",
          "output_type": "stream",
          "text": [
            "money: battle, work, years, able, role, way, time, concept, well, fact\n",
            "lion: taint, defeated, really, characterized, judgment, gazette, eusebius, delighted, imagination, deirdre\n",
            "africa: europe, america, united, east, germany, south, end, china, west, central\n",
            "musician: writer, actor, singer, author, king, english, addition, british, born, composer\n",
            "dance: music, rock, third, game, jazz, concept, live, small, country, male\n",
            "\n",
            "\n"
          ]
        },
        {
          "name": "stderr",
          "output_type": "stream",
          "text": [
            "12998it [05:20, 45.63it/s]"
          ]
        },
        {
          "name": "stdout",
          "output_type": "stream",
          "text": [
            "| epoch   2 | 13000/32580 batches | loss    0.732 \n"
          ]
        },
        {
          "name": "stderr",
          "output_type": "stream",
          "text": [
            "13008it [05:20, 31.15it/s]"
          ]
        },
        {
          "name": "stdout",
          "output_type": "stream",
          "text": [
            "money: battle, work, years, able, role, way, time, concept, well, fact\n",
            "lion: taint, defeated, really, characterized, judgment, gazette, eusebius, delighted, imagination, deirdre\n",
            "africa: europe, america, united, east, germany, south, end, china, west, central\n",
            "musician: writer, actor, singer, author, king, english, addition, british, born, composer\n",
            "dance: music, rock, third, game, jazz, concept, live, small, country, male\n",
            "\n",
            "\n"
          ]
        },
        {
          "name": "stderr",
          "output_type": "stream",
          "text": [
            "13496it [05:32, 41.98it/s]"
          ]
        },
        {
          "name": "stdout",
          "output_type": "stream",
          "text": [
            "| epoch   2 | 13500/32580 batches | loss    0.727 \n"
          ]
        },
        {
          "name": "stderr",
          "output_type": "stream",
          "text": [
            "13505it [05:32, 28.73it/s]"
          ]
        },
        {
          "name": "stdout",
          "output_type": "stream",
          "text": [
            "money: battle, work, years, able, role, way, time, concept, well, fact\n",
            "lion: taint, defeated, really, characterized, judgment, gazette, eusebius, delighted, imagination, deirdre\n",
            "africa: europe, america, united, east, germany, south, end, china, west, central\n",
            "musician: writer, actor, singer, author, king, english, addition, british, born, composer\n",
            "dance: music, rock, third, game, jazz, concept, live, small, country, male\n",
            "\n",
            "\n"
          ]
        },
        {
          "name": "stderr",
          "output_type": "stream",
          "text": [
            "14000it [05:44, 35.14it/s]"
          ]
        },
        {
          "name": "stdout",
          "output_type": "stream",
          "text": [
            "| epoch   2 | 14000/32580 batches | loss    0.730 \n"
          ]
        },
        {
          "name": "stderr",
          "output_type": "stream",
          "text": [
            "\r14004it [05:44, 19.09it/s]"
          ]
        },
        {
          "name": "stdout",
          "output_type": "stream",
          "text": [
            "money: battle, work, years, able, role, way, time, concept, well, fact\n",
            "lion: taint, defeated, really, characterized, judgment, gazette, eusebius, delighted, imagination, deirdre\n",
            "africa: europe, america, united, east, germany, south, end, china, west, central\n",
            "musician: writer, actor, singer, author, king, english, addition, british, born, composer\n",
            "dance: music, rock, third, game, jazz, concept, live, country, small, male\n",
            "\n",
            "\n"
          ]
        },
        {
          "name": "stderr",
          "output_type": "stream",
          "text": [
            "14497it [05:55, 35.77it/s]"
          ]
        },
        {
          "name": "stdout",
          "output_type": "stream",
          "text": [
            "| epoch   2 | 14500/32580 batches | loss    0.729 \n"
          ]
        },
        {
          "name": "stderr",
          "output_type": "stream",
          "text": [
            "14504it [05:56, 21.01it/s]"
          ]
        },
        {
          "name": "stdout",
          "output_type": "stream",
          "text": [
            "money: battle, work, years, able, role, way, time, concept, well, fact\n",
            "lion: taint, defeated, really, characterized, judgment, gazette, eusebius, delighted, imagination, deirdre\n",
            "africa: europe, america, united, east, germany, south, end, china, west, central\n",
            "musician: writer, actor, singer, author, king, english, addition, british, born, composer\n",
            "dance: music, rock, third, game, jazz, concept, live, country, small, male\n",
            "\n",
            "\n"
          ]
        },
        {
          "name": "stderr",
          "output_type": "stream",
          "text": [
            "14996it [06:07, 45.70it/s]"
          ]
        },
        {
          "name": "stdout",
          "output_type": "stream",
          "text": [
            "| epoch   2 | 15000/32580 batches | loss    0.729 \n"
          ]
        },
        {
          "name": "stderr",
          "output_type": "stream",
          "text": [
            "15005it [06:08, 30.28it/s]"
          ]
        },
        {
          "name": "stdout",
          "output_type": "stream",
          "text": [
            "money: battle, work, years, able, role, way, time, concept, well, fact\n",
            "lion: taint, defeated, really, characterized, judgment, gazette, eusebius, delighted, imagination, deirdre\n",
            "africa: europe, america, united, east, germany, south, end, china, west, central\n",
            "musician: writer, actor, singer, author, king, english, addition, british, born, composer\n",
            "dance: music, rock, third, game, jazz, concept, live, country, small, male\n",
            "\n",
            "\n"
          ]
        },
        {
          "name": "stderr",
          "output_type": "stream",
          "text": [
            "15499it [06:19, 46.40it/s]"
          ]
        },
        {
          "name": "stdout",
          "output_type": "stream",
          "text": [
            "| epoch   2 | 15500/32580 batches | loss    0.730 \n"
          ]
        },
        {
          "name": "stderr",
          "output_type": "stream",
          "text": [
            "15509it [06:20, 31.08it/s]"
          ]
        },
        {
          "name": "stdout",
          "output_type": "stream",
          "text": [
            "money: battle, work, years, able, role, way, time, concept, well, fact\n",
            "lion: taint, defeated, really, characterized, judgment, gazette, eusebius, delighted, imagination, deirdre\n",
            "africa: europe, america, united, east, germany, south, end, china, west, central\n",
            "musician: writer, actor, singer, author, king, english, addition, british, born, composer\n",
            "dance: music, rock, third, game, jazz, concept, live, country, small, male\n",
            "\n",
            "\n"
          ]
        },
        {
          "name": "stderr",
          "output_type": "stream",
          "text": [
            "15999it [06:32, 46.84it/s]"
          ]
        },
        {
          "name": "stdout",
          "output_type": "stream",
          "text": [
            "| epoch   2 | 16000/32580 batches | loss    0.729 \n"
          ]
        },
        {
          "name": "stderr",
          "output_type": "stream",
          "text": [
            "16009it [06:32, 30.51it/s]"
          ]
        },
        {
          "name": "stdout",
          "output_type": "stream",
          "text": [
            "money: battle, work, years, able, role, way, time, concept, well, fact\n",
            "lion: taint, defeated, really, characterized, judgment, gazette, eusebius, delighted, imagination, deirdre\n",
            "africa: europe, america, united, east, germany, south, end, china, west, central\n",
            "musician: writer, actor, singer, author, king, english, addition, british, composer, born\n",
            "dance: music, rock, third, game, jazz, concept, live, country, small, male\n",
            "\n",
            "\n"
          ]
        },
        {
          "name": "stderr",
          "output_type": "stream",
          "text": [
            "16497it [06:44, 45.60it/s]"
          ]
        },
        {
          "name": "stdout",
          "output_type": "stream",
          "text": [
            "| epoch   2 | 16500/32580 batches | loss    0.727 \n"
          ]
        },
        {
          "name": "stderr",
          "output_type": "stream",
          "text": [
            "16507it [06:44, 31.64it/s]"
          ]
        },
        {
          "name": "stdout",
          "output_type": "stream",
          "text": [
            "money: battle, years, work, able, role, way, concept, time, well, fact\n",
            "lion: taint, defeated, really, characterized, judgment, gazette, eusebius, delighted, imagination, deirdre\n",
            "africa: europe, america, united, east, germany, south, end, china, west, central\n",
            "musician: writer, actor, singer, author, king, english, addition, british, composer, born\n",
            "dance: music, rock, third, game, jazz, concept, live, country, small, male\n",
            "\n",
            "\n"
          ]
        },
        {
          "name": "stderr",
          "output_type": "stream",
          "text": [
            "16996it [06:56, 45.92it/s]"
          ]
        },
        {
          "name": "stdout",
          "output_type": "stream",
          "text": [
            "| epoch   2 | 17000/32580 batches | loss    0.729 \n"
          ]
        },
        {
          "name": "stderr",
          "output_type": "stream",
          "text": [
            "17005it [06:56, 29.88it/s]"
          ]
        },
        {
          "name": "stdout",
          "output_type": "stream",
          "text": [
            "money: battle, years, able, work, role, way, well, concept, time, fact\n",
            "lion: taint, defeated, really, characterized, judgment, gazette, eusebius, delighted, imagination, deirdre\n",
            "africa: europe, america, united, east, germany, south, china, end, west, central\n",
            "musician: writer, actor, singer, author, king, english, addition, british, composer, born\n",
            "dance: music, rock, third, game, jazz, concept, live, country, small, male\n",
            "\n",
            "\n"
          ]
        },
        {
          "name": "stderr",
          "output_type": "stream",
          "text": [
            "17497it [07:08, 37.77it/s]"
          ]
        },
        {
          "name": "stdout",
          "output_type": "stream",
          "text": [
            "| epoch   2 | 17500/32580 batches | loss    0.727 \n"
          ]
        },
        {
          "name": "stderr",
          "output_type": "stream",
          "text": [
            "17505it [07:08, 27.03it/s]"
          ]
        },
        {
          "name": "stdout",
          "output_type": "stream",
          "text": [
            "money: battle, years, work, able, role, way, well, concept, time, fact\n",
            "lion: taint, defeated, really, characterized, judgment, gazette, eusebius, delighted, imagination, deirdre\n",
            "africa: europe, america, united, east, germany, south, china, end, west, central\n",
            "musician: writer, actor, singer, author, king, english, addition, british, composer, born\n",
            "dance: music, rock, third, game, jazz, concept, live, country, small, male\n",
            "\n",
            "\n"
          ]
        },
        {
          "name": "stderr",
          "output_type": "stream",
          "text": [
            "17998it [07:20, 35.92it/s]"
          ]
        },
        {
          "name": "stdout",
          "output_type": "stream",
          "text": [
            "| epoch   2 | 18000/32580 batches | loss    0.727 \n"
          ]
        },
        {
          "name": "stderr",
          "output_type": "stream",
          "text": [
            "18005it [07:20, 21.36it/s]"
          ]
        },
        {
          "name": "stdout",
          "output_type": "stream",
          "text": [
            "money: battle, work, years, able, role, way, time, concept, well, fact\n",
            "lion: taint, defeated, really, characterized, judgment, gazette, eusebius, delighted, imagination, deirdre\n",
            "africa: europe, america, united, east, germany, south, china, end, west, central\n",
            "musician: writer, actor, singer, author, king, english, addition, composer, british, born\n",
            "dance: music, rock, third, game, jazz, concept, live, country, small, male\n",
            "\n",
            "\n"
          ]
        },
        {
          "name": "stderr",
          "output_type": "stream",
          "text": [
            "18496it [07:31, 46.35it/s]"
          ]
        },
        {
          "name": "stdout",
          "output_type": "stream",
          "text": [
            "| epoch   2 | 18500/32580 batches | loss    0.729 \n"
          ]
        },
        {
          "name": "stderr",
          "output_type": "stream",
          "text": [
            "18505it [07:32, 29.30it/s]"
          ]
        },
        {
          "name": "stdout",
          "output_type": "stream",
          "text": [
            "money: battle, work, years, able, role, way, concept, well, time, fact\n",
            "lion: taint, defeated, really, characterized, judgment, gazette, eusebius, delighted, imagination, deirdre\n",
            "africa: europe, america, united, east, germany, south, china, end, west, central\n",
            "musician: writer, actor, singer, author, king, english, addition, composer, born, british\n",
            "dance: music, rock, third, game, jazz, concept, live, country, small, male\n",
            "\n",
            "\n"
          ]
        },
        {
          "name": "stderr",
          "output_type": "stream",
          "text": [
            "18997it [07:43, 46.39it/s]"
          ]
        },
        {
          "name": "stdout",
          "output_type": "stream",
          "text": [
            "| epoch   2 | 19000/32580 batches | loss    0.729 \n"
          ]
        },
        {
          "name": "stderr",
          "output_type": "stream",
          "text": [
            "19006it [07:44, 29.70it/s]"
          ]
        },
        {
          "name": "stdout",
          "output_type": "stream",
          "text": [
            "money: battle, work, years, able, role, way, concept, well, time, fact\n",
            "lion: taint, defeated, really, characterized, judgment, gazette, eusebius, delighted, imagination, deirdre\n",
            "africa: europe, america, united, east, germany, south, china, end, west, central\n",
            "musician: writer, actor, singer, author, king, english, addition, composer, born, british\n",
            "dance: music, rock, third, game, jazz, concept, live, country, small, male\n",
            "\n",
            "\n"
          ]
        },
        {
          "name": "stderr",
          "output_type": "stream",
          "text": [
            "19500it [07:56, 45.22it/s]"
          ]
        },
        {
          "name": "stdout",
          "output_type": "stream",
          "text": [
            "| epoch   2 | 19500/32580 batches | loss    0.728 \n"
          ]
        },
        {
          "name": "stderr",
          "output_type": "stream",
          "text": [
            "\r19505it [07:56, 27.10it/s]"
          ]
        },
        {
          "name": "stdout",
          "output_type": "stream",
          "text": [
            "money: battle, work, able, years, role, way, concept, well, time, fact\n",
            "lion: taint, defeated, really, characterized, judgment, gazette, eusebius, delighted, imagination, deirdre\n",
            "africa: europe, america, united, east, germany, south, china, end, west, central\n",
            "musician: writer, actor, singer, author, king, english, addition, composer, british, born\n",
            "dance: music, rock, third, game, jazz, concept, live, country, small, male\n",
            "\n",
            "\n"
          ]
        },
        {
          "name": "stderr",
          "output_type": "stream",
          "text": [
            "19999it [08:08, 45.20it/s]"
          ]
        },
        {
          "name": "stdout",
          "output_type": "stream",
          "text": [
            "| epoch   2 | 20000/32580 batches | loss    0.728 \n"
          ]
        },
        {
          "name": "stderr",
          "output_type": "stream",
          "text": [
            "20009it [08:08, 31.54it/s]"
          ]
        },
        {
          "name": "stdout",
          "output_type": "stream",
          "text": [
            "money: battle, work, able, years, role, way, concept, well, time, fact\n",
            "lion: taint, defeated, really, characterized, judgment, gazette, eusebius, delighted, imagination, deirdre\n",
            "africa: europe, america, united, east, germany, south, china, end, west, central\n",
            "musician: writer, actor, singer, author, king, english, addition, composer, british, born\n",
            "dance: music, rock, third, game, jazz, concept, live, country, small, practice\n",
            "\n",
            "\n"
          ]
        },
        {
          "name": "stderr",
          "output_type": "stream",
          "text": [
            "20497it [08:20, 45.60it/s]"
          ]
        },
        {
          "name": "stdout",
          "output_type": "stream",
          "text": [
            "| epoch   2 | 20500/32580 batches | loss    0.727 \n"
          ]
        },
        {
          "name": "stderr",
          "output_type": "stream",
          "text": [
            "20507it [08:20, 30.75it/s]"
          ]
        },
        {
          "name": "stdout",
          "output_type": "stream",
          "text": [
            "money: battle, work, able, years, role, way, concept, well, time, fact\n",
            "lion: taint, defeated, really, characterized, judgment, gazette, eusebius, delighted, imagination, deirdre\n",
            "africa: europe, america, united, east, germany, south, china, end, west, central\n",
            "musician: writer, actor, singer, author, king, english, addition, composer, born, british\n",
            "dance: music, rock, third, game, jazz, concept, live, country, small, male\n",
            "\n",
            "\n"
          ]
        },
        {
          "name": "stderr",
          "output_type": "stream",
          "text": [
            "20998it [08:32, 43.76it/s]"
          ]
        },
        {
          "name": "stdout",
          "output_type": "stream",
          "text": [
            "| epoch   2 | 21000/32580 batches | loss    0.729 \n"
          ]
        },
        {
          "name": "stderr",
          "output_type": "stream",
          "text": [
            "21007it [08:33, 29.05it/s]"
          ]
        },
        {
          "name": "stdout",
          "output_type": "stream",
          "text": [
            "money: battle, able, work, years, role, way, concept, well, time, fact\n",
            "lion: taint, defeated, really, characterized, judgment, gazette, eusebius, imagination, delighted, deirdre\n",
            "africa: europe, america, united, east, germany, south, china, west, end, central\n",
            "musician: writer, actor, singer, author, king, english, addition, composer, born, british\n",
            "dance: music, rock, third, game, jazz, concept, live, country, small, practice\n",
            "\n",
            "\n"
          ]
        },
        {
          "name": "stderr",
          "output_type": "stream",
          "text": [
            "21496it [08:47, 36.60it/s]"
          ]
        },
        {
          "name": "stdout",
          "output_type": "stream",
          "text": [
            "| epoch   2 | 21500/32580 batches | loss    0.726 \n"
          ]
        },
        {
          "name": "stderr",
          "output_type": "stream",
          "text": [
            "21505it [08:47, 27.53it/s]"
          ]
        },
        {
          "name": "stdout",
          "output_type": "stream",
          "text": [
            "money: battle, able, work, years, role, way, well, concept, time, fact\n",
            "lion: taint, defeated, really, characterized, judgment, gazette, eusebius, imagination, delighted, deirdre\n",
            "africa: europe, america, united, east, germany, south, china, west, end, central\n",
            "musician: writer, actor, singer, author, king, english, addition, composer, born, british\n",
            "dance: music, rock, third, game, jazz, concept, live, country, small, practice\n",
            "\n",
            "\n"
          ]
        },
        {
          "name": "stderr",
          "output_type": "stream",
          "text": [
            "21999it [08:59, 35.76it/s]"
          ]
        },
        {
          "name": "stdout",
          "output_type": "stream",
          "text": [
            "| epoch   2 | 22000/32580 batches | loss    0.727 \n"
          ]
        },
        {
          "name": "stderr",
          "output_type": "stream",
          "text": [
            "22006it [09:00, 19.86it/s]"
          ]
        },
        {
          "name": "stdout",
          "output_type": "stream",
          "text": [
            "money: battle, able, work, years, role, way, well, concept, fact, time\n",
            "lion: taint, defeated, really, characterized, judgment, gazette, eusebius, imagination, delighted, deirdre\n",
            "africa: europe, america, united, east, germany, south, china, west, end, central\n",
            "musician: writer, actor, singer, author, king, english, addition, composer, born, poet\n",
            "dance: music, rock, third, game, jazz, concept, live, country, small, practice\n",
            "\n",
            "\n"
          ]
        },
        {
          "name": "stderr",
          "output_type": "stream",
          "text": [
            "22499it [09:11, 37.08it/s]"
          ]
        },
        {
          "name": "stdout",
          "output_type": "stream",
          "text": [
            "| epoch   2 | 22500/32580 batches | loss    0.727 \n"
          ]
        },
        {
          "name": "stderr",
          "output_type": "stream",
          "text": [
            "22507it [09:12, 21.99it/s]"
          ]
        },
        {
          "name": "stdout",
          "output_type": "stream",
          "text": [
            "money: battle, able, work, years, role, way, well, concept, fact, time\n",
            "lion: taint, defeated, really, characterized, judgment, gazette, eusebius, imagination, delighted, deirdre\n",
            "africa: europe, america, united, east, germany, south, china, west, end, central\n",
            "musician: writer, actor, singer, author, king, english, addition, composer, born, poet\n",
            "dance: music, rock, third, game, jazz, concept, live, country, small, practice\n",
            "\n",
            "\n"
          ]
        },
        {
          "name": "stderr",
          "output_type": "stream",
          "text": [
            "22996it [09:23, 45.08it/s]"
          ]
        },
        {
          "name": "stdout",
          "output_type": "stream",
          "text": [
            "| epoch   2 | 23000/32580 batches | loss    0.725 \n"
          ]
        },
        {
          "name": "stderr",
          "output_type": "stream",
          "text": [
            "23005it [09:24, 30.36it/s]"
          ]
        },
        {
          "name": "stdout",
          "output_type": "stream",
          "text": [
            "money: battle, able, work, years, role, way, well, concept, fact, time\n",
            "lion: taint, defeated, really, characterized, judgment, gazette, eusebius, imagination, delighted, deirdre\n",
            "africa: europe, america, united, east, germany, south, china, west, end, central\n",
            "musician: writer, actor, singer, author, king, english, addition, composer, born, poet\n",
            "dance: music, rock, third, game, jazz, concept, live, country, small, practice\n",
            "\n",
            "\n"
          ]
        },
        {
          "name": "stderr",
          "output_type": "stream",
          "text": [
            "23499it [09:36, 45.47it/s]"
          ]
        },
        {
          "name": "stdout",
          "output_type": "stream",
          "text": [
            "| epoch   2 | 23500/32580 batches | loss    0.727 \n"
          ]
        },
        {
          "name": "stderr",
          "output_type": "stream",
          "text": [
            "23509it [09:36, 30.94it/s]"
          ]
        },
        {
          "name": "stdout",
          "output_type": "stream",
          "text": [
            "money: battle, able, work, years, role, way, well, concept, fact, time\n",
            "lion: taint, defeated, really, characterized, judgment, gazette, eusebius, imagination, delighted, deirdre\n",
            "africa: europe, america, united, east, germany, south, china, end, west, central\n",
            "musician: writer, actor, singer, author, king, english, addition, composer, born, poet\n",
            "dance: music, rock, third, game, jazz, concept, live, small, country, practice\n",
            "\n",
            "\n"
          ]
        },
        {
          "name": "stderr",
          "output_type": "stream",
          "text": [
            "23996it [09:48, 43.67it/s]"
          ]
        },
        {
          "name": "stdout",
          "output_type": "stream",
          "text": [
            "| epoch   2 | 24000/32580 batches | loss    0.727 \n"
          ]
        },
        {
          "name": "stderr",
          "output_type": "stream",
          "text": [
            "24005it [09:48, 29.06it/s]"
          ]
        },
        {
          "name": "stdout",
          "output_type": "stream",
          "text": [
            "money: battle, able, work, years, role, way, well, concept, fact, time\n",
            "lion: taint, defeated, really, characterized, judgment, gazette, eusebius, imagination, delighted, deirdre\n",
            "africa: europe, america, united, east, germany, south, china, end, west, central\n",
            "musician: writer, actor, singer, author, king, english, addition, composer, born, poet\n",
            "dance: music, rock, third, game, jazz, concept, live, country, small, practice\n",
            "\n",
            "\n"
          ]
        },
        {
          "name": "stderr",
          "output_type": "stream",
          "text": [
            "24499it [10:00, 45.95it/s]"
          ]
        },
        {
          "name": "stdout",
          "output_type": "stream",
          "text": [
            "| epoch   2 | 24500/32580 batches | loss    0.726 \n"
          ]
        },
        {
          "name": "stderr",
          "output_type": "stream",
          "text": [
            "24509it [10:00, 30.24it/s]"
          ]
        },
        {
          "name": "stdout",
          "output_type": "stream",
          "text": [
            "money: battle, able, work, years, role, way, well, concept, fact, time\n",
            "lion: taint, defeated, really, characterized, judgment, gazette, eusebius, imagination, delighted, deirdre\n",
            "africa: europe, america, united, east, germany, south, china, end, west, central\n",
            "musician: writer, actor, singer, author, king, english, addition, composer, born, poet\n",
            "dance: music, rock, third, game, jazz, concept, live, country, small, practice\n",
            "\n",
            "\n"
          ]
        },
        {
          "name": "stderr",
          "output_type": "stream",
          "text": [
            "24998it [10:12, 45.54it/s]"
          ]
        },
        {
          "name": "stdout",
          "output_type": "stream",
          "text": [
            "| epoch   2 | 25000/32580 batches | loss    0.725 \n"
          ]
        },
        {
          "name": "stderr",
          "output_type": "stream",
          "text": [
            "25008it [10:13, 29.83it/s]"
          ]
        },
        {
          "name": "stdout",
          "output_type": "stream",
          "text": [
            "money: battle, able, work, years, role, way, well, concept, fact, time\n",
            "lion: taint, defeated, really, characterized, judgment, gazette, eusebius, imagination, delighted, deirdre\n",
            "africa: europe, america, united, east, germany, south, china, end, west, central\n",
            "musician: writer, actor, singer, author, king, english, addition, composer, born, poet\n",
            "dance: music, rock, third, game, jazz, concept, live, country, small, practice\n",
            "\n",
            "\n"
          ]
        },
        {
          "name": "stderr",
          "output_type": "stream",
          "text": [
            "25498it [10:24, 41.19it/s]"
          ]
        },
        {
          "name": "stdout",
          "output_type": "stream",
          "text": [
            "| epoch   2 | 25500/32580 batches | loss    0.726 \n"
          ]
        },
        {
          "name": "stderr",
          "output_type": "stream",
          "text": [
            "25508it [10:25, 28.84it/s]"
          ]
        },
        {
          "name": "stdout",
          "output_type": "stream",
          "text": [
            "money: battle, able, work, years, role, way, well, concept, fact, time\n",
            "lion: taint, defeated, really, characterized, judgment, gazette, eusebius, imagination, delighted, deirdre\n",
            "africa: europe, america, united, east, germany, south, china, end, west, central\n",
            "musician: writer, actor, singer, author, king, english, addition, composer, poet, born\n",
            "dance: music, rock, third, game, jazz, concept, live, small, country, practice\n",
            "\n",
            "\n"
          ]
        },
        {
          "name": "stderr",
          "output_type": "stream",
          "text": [
            "25998it [10:36, 35.53it/s]"
          ]
        },
        {
          "name": "stdout",
          "output_type": "stream",
          "text": [
            "| epoch   2 | 26000/32580 batches | loss    0.725 \n"
          ]
        },
        {
          "name": "stderr",
          "output_type": "stream",
          "text": [
            "26005it [10:37, 20.87it/s]"
          ]
        },
        {
          "name": "stdout",
          "output_type": "stream",
          "text": [
            "money: battle, able, work, years, role, way, well, concept, fact, time\n",
            "lion: taint, defeated, really, characterized, judgment, gazette, eusebius, imagination, delighted, deirdre\n",
            "africa: europe, america, united, east, germany, south, china, west, end, central\n",
            "musician: writer, actor, singer, author, king, english, addition, composer, poet, born\n",
            "dance: music, rock, third, game, jazz, concept, live, country, small, practice\n",
            "\n",
            "\n"
          ]
        },
        {
          "name": "stderr",
          "output_type": "stream",
          "text": [
            "26498it [10:48, 45.64it/s]"
          ]
        },
        {
          "name": "stdout",
          "output_type": "stream",
          "text": [
            "| epoch   2 | 26500/32580 batches | loss    0.724 \n"
          ]
        },
        {
          "name": "stderr",
          "output_type": "stream",
          "text": [
            "26507it [10:48, 27.73it/s]"
          ]
        },
        {
          "name": "stdout",
          "output_type": "stream",
          "text": [
            "money: battle, able, work, years, role, way, well, concept, fact, time\n",
            "lion: taint, defeated, really, characterized, judgment, gazette, eusebius, imagination, delighted, deirdre\n",
            "africa: europe, america, united, east, germany, south, china, west, end, central\n",
            "musician: writer, actor, singer, author, king, english, addition, composer, poet, deaths\n",
            "dance: music, rock, third, game, jazz, concept, live, country, small, practice\n",
            "\n",
            "\n"
          ]
        },
        {
          "name": "stderr",
          "output_type": "stream",
          "text": [
            "27000it [11:00, 45.79it/s]"
          ]
        },
        {
          "name": "stdout",
          "output_type": "stream",
          "text": [
            "| epoch   2 | 27000/32580 batches | loss    0.723 \n"
          ]
        },
        {
          "name": "stderr",
          "output_type": "stream",
          "text": [
            "\r27005it [11:00, 27.59it/s]"
          ]
        },
        {
          "name": "stdout",
          "output_type": "stream",
          "text": [
            "money: battle, able, work, years, role, way, well, concept, fact, time\n",
            "lion: taint, defeated, really, characterized, judgment, gazette, eusebius, imagination, delighted, deirdre\n",
            "africa: europe, america, united, east, germany, south, china, west, end, central\n",
            "musician: writer, actor, singer, author, king, english, addition, composer, poet, deaths\n",
            "dance: music, rock, third, game, jazz, concept, live, country, small, practice\n",
            "\n",
            "\n"
          ]
        },
        {
          "name": "stderr",
          "output_type": "stream",
          "text": [
            "27497it [11:12, 45.52it/s]"
          ]
        },
        {
          "name": "stdout",
          "output_type": "stream",
          "text": [
            "| epoch   2 | 27500/32580 batches | loss    0.723 \n"
          ]
        },
        {
          "name": "stderr",
          "output_type": "stream",
          "text": [
            "27506it [11:13, 29.44it/s]"
          ]
        },
        {
          "name": "stdout",
          "output_type": "stream",
          "text": [
            "money: battle, able, work, years, role, way, well, concept, fact, time\n",
            "lion: taint, defeated, really, characterized, judgment, gazette, eusebius, imagination, delighted, deirdre\n",
            "africa: europe, america, united, east, germany, south, china, west, end, central\n",
            "musician: writer, actor, singer, author, king, english, addition, composer, poet, deaths\n",
            "dance: music, rock, third, game, jazz, concept, live, country, small, practice\n",
            "\n",
            "\n"
          ]
        },
        {
          "name": "stderr",
          "output_type": "stream",
          "text": [
            "27999it [11:25, 45.89it/s]"
          ]
        },
        {
          "name": "stdout",
          "output_type": "stream",
          "text": [
            "| epoch   2 | 28000/32580 batches | loss    0.727 \n"
          ]
        },
        {
          "name": "stderr",
          "output_type": "stream",
          "text": [
            "28009it [11:25, 31.17it/s]"
          ]
        },
        {
          "name": "stdout",
          "output_type": "stream",
          "text": [
            "money: battle, able, work, years, role, way, well, concept, fact, time\n",
            "lion: taint, defeated, really, characterized, judgment, gazette, eusebius, imagination, delighted, deirdre\n",
            "africa: europe, america, united, east, germany, south, china, west, end, india\n",
            "musician: writer, actor, singer, author, king, english, addition, composer, poet, deaths\n",
            "dance: music, rock, third, game, jazz, concept, live, country, small, practice\n",
            "\n",
            "\n"
          ]
        },
        {
          "name": "stderr",
          "output_type": "stream",
          "text": [
            "28499it [11:37, 45.72it/s]"
          ]
        },
        {
          "name": "stdout",
          "output_type": "stream",
          "text": [
            "| epoch   2 | 28500/32580 batches | loss    0.725 \n"
          ]
        },
        {
          "name": "stderr",
          "output_type": "stream",
          "text": [
            "\r28504it [11:37, 27.33it/s]"
          ]
        },
        {
          "name": "stdout",
          "output_type": "stream",
          "text": [
            "money: battle, able, work, years, role, way, well, concept, fact, time\n",
            "lion: taint, defeated, really, characterized, judgment, gazette, eusebius, imagination, delighted, bodies\n",
            "africa: europe, america, united, east, germany, south, china, west, end, central\n",
            "musician: writer, actor, singer, author, king, english, addition, composer, poet, deaths\n",
            "dance: music, rock, third, game, jazz, concept, live, country, small, practice\n",
            "\n",
            "\n"
          ]
        },
        {
          "name": "stderr",
          "output_type": "stream",
          "text": [
            "28998it [11:49, 45.02it/s]"
          ]
        },
        {
          "name": "stdout",
          "output_type": "stream",
          "text": [
            "| epoch   2 | 29000/32580 batches | loss    0.722 \n"
          ]
        },
        {
          "name": "stderr",
          "output_type": "stream",
          "text": [
            "29008it [11:49, 31.33it/s]"
          ]
        },
        {
          "name": "stdout",
          "output_type": "stream",
          "text": [
            "money: battle, able, work, years, role, way, well, concept, fact, time\n",
            "lion: taint, defeated, really, characterized, judgment, gazette, eusebius, imagination, delighted, bodies\n",
            "africa: europe, america, united, east, germany, south, china, west, end, india\n",
            "musician: writer, actor, singer, author, king, english, addition, composer, poet, deaths\n",
            "dance: music, rock, third, game, jazz, live, concept, country, small, male\n",
            "\n",
            "\n"
          ]
        },
        {
          "name": "stderr",
          "output_type": "stream",
          "text": [
            "29500it [12:01, 34.83it/s]"
          ]
        },
        {
          "name": "stdout",
          "output_type": "stream",
          "text": [
            "| epoch   2 | 29500/32580 batches | loss    0.724 \n"
          ]
        },
        {
          "name": "stderr",
          "output_type": "stream",
          "text": [
            "\r29504it [12:01, 18.47it/s]"
          ]
        },
        {
          "name": "stdout",
          "output_type": "stream",
          "text": [
            "money: battle, able, work, years, role, way, well, concept, fact, time\n",
            "lion: taint, defeated, really, characterized, judgment, gazette, eusebius, imagination, delighted, bodies\n",
            "africa: europe, america, united, east, germany, south, china, west, end, india\n",
            "musician: writer, actor, singer, author, king, english, addition, composer, poet, deaths\n",
            "dance: music, rock, third, game, jazz, live, concept, country, small, male\n",
            "\n",
            "\n"
          ]
        },
        {
          "name": "stderr",
          "output_type": "stream",
          "text": [
            "29997it [12:13, 34.76it/s]"
          ]
        },
        {
          "name": "stdout",
          "output_type": "stream",
          "text": [
            "| epoch   2 | 30000/32580 batches | loss    0.724 \n"
          ]
        },
        {
          "name": "stderr",
          "output_type": "stream",
          "text": [
            "30004it [12:13, 21.88it/s]"
          ]
        },
        {
          "name": "stdout",
          "output_type": "stream",
          "text": [
            "money: battle, able, work, years, role, way, well, concept, fact, time\n",
            "lion: taint, defeated, really, characterized, judgment, gazette, eusebius, imagination, delighted, bodies\n",
            "africa: europe, america, united, east, germany, south, china, west, end, india\n",
            "musician: writer, actor, singer, author, king, english, addition, composer, poet, deaths\n",
            "dance: music, rock, third, game, jazz, live, concept, small, country, practice\n",
            "\n",
            "\n"
          ]
        },
        {
          "name": "stderr",
          "output_type": "stream",
          "text": [
            "30500it [12:25, 44.27it/s]"
          ]
        },
        {
          "name": "stdout",
          "output_type": "stream",
          "text": [
            "| epoch   2 | 30500/32580 batches | loss    0.724 \n"
          ]
        },
        {
          "name": "stderr",
          "output_type": "stream",
          "text": [
            "\r30505it [12:25, 27.42it/s]"
          ]
        },
        {
          "name": "stdout",
          "output_type": "stream",
          "text": [
            "money: battle, able, work, years, role, way, well, concept, fact, time\n",
            "lion: taint, defeated, really, characterized, judgment, gazette, eusebius, imagination, delighted, bodies\n",
            "africa: europe, america, united, east, germany, south, china, west, end, india\n",
            "musician: writer, actor, singer, author, king, english, composer, addition, poet, deaths\n",
            "dance: music, rock, third, game, jazz, concept, live, small, country, male\n",
            "\n",
            "\n"
          ]
        },
        {
          "name": "stderr",
          "output_type": "stream",
          "text": [
            "30997it [12:37, 45.89it/s]"
          ]
        },
        {
          "name": "stdout",
          "output_type": "stream",
          "text": [
            "| epoch   2 | 31000/32580 batches | loss    0.724 \n"
          ]
        },
        {
          "name": "stderr",
          "output_type": "stream",
          "text": [
            "31006it [12:37, 29.82it/s]"
          ]
        },
        {
          "name": "stdout",
          "output_type": "stream",
          "text": [
            "money: battle, able, work, years, role, way, well, concept, fact, time\n",
            "lion: taint, defeated, really, characterized, judgment, gazette, eusebius, imagination, delighted, bodies\n",
            "africa: europe, america, united, east, germany, south, china, west, end, india\n",
            "musician: writer, actor, singer, author, king, english, composer, addition, poet, deaths\n",
            "dance: music, rock, third, game, jazz, concept, live, small, country, practice\n",
            "\n",
            "\n"
          ]
        },
        {
          "name": "stderr",
          "output_type": "stream",
          "text": [
            "31496it [12:49, 45.46it/s]"
          ]
        },
        {
          "name": "stdout",
          "output_type": "stream",
          "text": [
            "| epoch   2 | 31500/32580 batches | loss    0.726 \n"
          ]
        },
        {
          "name": "stderr",
          "output_type": "stream",
          "text": [
            "31506it [12:49, 30.94it/s]"
          ]
        },
        {
          "name": "stdout",
          "output_type": "stream",
          "text": [
            "money: battle, able, work, years, role, way, concept, well, fact, time\n",
            "lion: taint, defeated, really, characterized, judgment, gazette, eusebius, imagination, delighted, bodies\n",
            "africa: europe, america, united, east, germany, south, china, west, end, india\n",
            "musician: writer, actor, singer, author, king, english, composer, addition, poet, born\n",
            "dance: music, rock, third, game, jazz, concept, live, small, country, male\n",
            "\n",
            "\n"
          ]
        },
        {
          "name": "stderr",
          "output_type": "stream",
          "text": [
            "31996it [13:01, 45.70it/s]"
          ]
        },
        {
          "name": "stdout",
          "output_type": "stream",
          "text": [
            "| epoch   2 | 32000/32580 batches | loss    0.723 \n"
          ]
        },
        {
          "name": "stderr",
          "output_type": "stream",
          "text": [
            "32005it [13:02, 29.97it/s]"
          ]
        },
        {
          "name": "stdout",
          "output_type": "stream",
          "text": [
            "money: battle, able, work, years, role, way, concept, well, fact, time\n",
            "lion: taint, defeated, really, characterized, judgment, gazette, eusebius, imagination, delighted, bodies\n",
            "africa: europe, america, united, east, germany, south, china, west, end, india\n",
            "musician: writer, actor, singer, author, king, english, composer, addition, poet, deaths\n",
            "dance: music, rock, third, game, jazz, concept, live, small, country, male\n",
            "\n",
            "\n"
          ]
        },
        {
          "name": "stderr",
          "output_type": "stream",
          "text": [
            "32499it [13:15, 44.17it/s]"
          ]
        },
        {
          "name": "stdout",
          "output_type": "stream",
          "text": [
            "| epoch   2 | 32500/32580 batches | loss    0.722 \n"
          ]
        },
        {
          "name": "stderr",
          "output_type": "stream",
          "text": [
            "32509it [13:15, 30.43it/s]"
          ]
        },
        {
          "name": "stdout",
          "output_type": "stream",
          "text": [
            "money: battle, able, work, years, role, way, concept, well, fact, time\n",
            "lion: taint, defeated, really, characterized, judgment, gazette, eusebius, imagination, delighted, bodies\n",
            "africa: europe, america, united, east, germany, south, china, west, end, india\n",
            "musician: writer, actor, singer, author, king, english, composer, addition, poet, deaths\n",
            "dance: music, rock, third, game, jazz, concept, live, small, country, practice\n",
            "\n",
            "\n"
          ]
        },
        {
          "name": "stderr",
          "output_type": "stream",
          "text": [
            "32580it [13:18, 40.80it/s]\n",
            "0it [00:00, ?it/s]"
          ]
        },
        {
          "name": "stdout",
          "output_type": "stream",
          "text": [
            "| epoch   3 |     0/32580 batches | loss    0.738 \n"
          ]
        },
        {
          "name": "stderr",
          "output_type": "stream",
          "text": [
            "5it [00:01,  4.62it/s]"
          ]
        },
        {
          "name": "stdout",
          "output_type": "stream",
          "text": [
            "money: battle, able, work, years, role, way, concept, well, fact, time\n",
            "lion: taint, defeated, really, characterized, judgment, gazette, eusebius, imagination, delighted, bodies\n",
            "africa: europe, america, united, east, germany, south, china, west, end, india\n",
            "musician: writer, actor, singer, author, king, english, composer, addition, poet, deaths\n",
            "dance: music, rock, third, game, jazz, concept, live, small, country, practice\n",
            "\n",
            "\n"
          ]
        },
        {
          "name": "stderr",
          "output_type": "stream",
          "text": [
            "499it [00:13, 45.40it/s]"
          ]
        },
        {
          "name": "stdout",
          "output_type": "stream",
          "text": [
            "| epoch   3 |   500/32580 batches | loss    0.718 \n"
          ]
        },
        {
          "name": "stderr",
          "output_type": "stream",
          "text": [
            "509it [00:13, 30.63it/s]"
          ]
        },
        {
          "name": "stdout",
          "output_type": "stream",
          "text": [
            "money: battle, able, work, years, role, way, concept, well, fact, time\n",
            "lion: taint, defeated, really, characterized, judgment, gazette, eusebius, imagination, delighted, bodies\n",
            "africa: europe, america, united, east, germany, south, china, west, end, india\n",
            "musician: writer, actor, singer, author, king, english, composer, addition, poet, deaths\n",
            "dance: music, rock, third, game, jazz, concept, live, small, country, practice\n",
            "\n",
            "\n"
          ]
        },
        {
          "name": "stderr",
          "output_type": "stream",
          "text": [
            "1000it [00:25, 46.73it/s]"
          ]
        },
        {
          "name": "stdout",
          "output_type": "stream",
          "text": [
            "| epoch   3 |  1000/32580 batches | loss    0.718 \n"
          ]
        },
        {
          "name": "stderr",
          "output_type": "stream",
          "text": [
            "\r1005it [00:25, 27.61it/s]"
          ]
        },
        {
          "name": "stdout",
          "output_type": "stream",
          "text": [
            "money: battle, able, work, years, role, way, well, concept, fact, time\n",
            "lion: taint, defeated, really, characterized, judgment, gazette, eusebius, imagination, delighted, bodies\n",
            "africa: europe, america, united, east, germany, south, china, west, end, india\n",
            "musician: writer, actor, singer, author, king, english, composer, addition, poet, deaths\n",
            "dance: music, rock, third, game, jazz, concept, live, small, country, practice\n",
            "\n",
            "\n"
          ]
        },
        {
          "name": "stderr",
          "output_type": "stream",
          "text": [
            "1499it [00:37, 34.34it/s]"
          ]
        },
        {
          "name": "stdout",
          "output_type": "stream",
          "text": [
            "| epoch   3 |  1500/32580 batches | loss    0.720 \n"
          ]
        },
        {
          "name": "stderr",
          "output_type": "stream",
          "text": [
            "1508it [00:38, 26.93it/s]"
          ]
        },
        {
          "name": "stdout",
          "output_type": "stream",
          "text": [
            "money: battle, able, work, years, role, way, well, concept, fact, time\n",
            "lion: taint, defeated, really, characterized, judgment, gazette, eusebius, imagination, delighted, bodies\n",
            "africa: europe, america, united, east, germany, south, china, west, end, india\n",
            "musician: writer, actor, singer, author, king, english, composer, addition, poet, deaths\n",
            "dance: music, rock, third, game, jazz, concept, live, small, country, practice\n",
            "\n",
            "\n"
          ]
        },
        {
          "name": "stderr",
          "output_type": "stream",
          "text": [
            "1997it [00:49, 35.72it/s]"
          ]
        },
        {
          "name": "stdout",
          "output_type": "stream",
          "text": [
            "| epoch   3 |  2000/32580 batches | loss    0.718 \n"
          ]
        },
        {
          "name": "stderr",
          "output_type": "stream",
          "text": [
            "2004it [00:50, 20.75it/s]"
          ]
        },
        {
          "name": "stdout",
          "output_type": "stream",
          "text": [
            "money: battle, able, work, years, role, way, well, concept, fact, time\n",
            "lion: taint, defeated, really, characterized, judgment, gazette, eusebius, imagination, delighted, bodies\n",
            "africa: europe, america, united, east, germany, south, china, west, end, india\n",
            "musician: writer, actor, singer, author, king, english, composer, addition, poet, deaths\n",
            "dance: music, rock, third, game, jazz, concept, live, small, country, practice\n",
            "\n",
            "\n"
          ]
        },
        {
          "name": "stderr",
          "output_type": "stream",
          "text": [
            "2498it [01:01, 45.70it/s]"
          ]
        },
        {
          "name": "stdout",
          "output_type": "stream",
          "text": [
            "| epoch   3 |  2500/32580 batches | loss    0.720 \n"
          ]
        },
        {
          "name": "stderr",
          "output_type": "stream",
          "text": [
            "2508it [01:01, 31.14it/s]"
          ]
        },
        {
          "name": "stdout",
          "output_type": "stream",
          "text": [
            "money: battle, able, work, years, role, way, well, concept, fact, time\n",
            "lion: taint, defeated, really, characterized, judgment, gazette, eusebius, imagination, delighted, bodies\n",
            "africa: europe, america, united, east, germany, south, china, west, end, india\n",
            "musician: writer, actor, singer, author, king, english, composer, addition, poet, deaths\n",
            "dance: music, rock, third, game, jazz, concept, live, small, country, practice\n",
            "\n",
            "\n"
          ]
        },
        {
          "name": "stderr",
          "output_type": "stream",
          "text": [
            "2999it [01:13, 45.37it/s]"
          ]
        },
        {
          "name": "stdout",
          "output_type": "stream",
          "text": [
            "| epoch   3 |  3000/32580 batches | loss    0.717 \n"
          ]
        },
        {
          "name": "stderr",
          "output_type": "stream",
          "text": [
            "3009it [01:14, 31.07it/s]"
          ]
        },
        {
          "name": "stdout",
          "output_type": "stream",
          "text": [
            "money: battle, able, work, years, role, way, well, concept, fact, time\n",
            "lion: taint, defeated, really, characterized, judgment, gazette, eusebius, imagination, delighted, bodies\n",
            "africa: europe, america, united, east, germany, south, china, west, end, india\n",
            "musician: writer, actor, singer, author, king, english, composer, addition, poet, deaths\n",
            "dance: music, rock, third, game, jazz, concept, live, small, country, practice\n",
            "\n",
            "\n"
          ]
        },
        {
          "name": "stderr",
          "output_type": "stream",
          "text": [
            "3497it [01:25, 44.84it/s]"
          ]
        },
        {
          "name": "stdout",
          "output_type": "stream",
          "text": [
            "| epoch   3 |  3500/32580 batches | loss    0.718 \n"
          ]
        },
        {
          "name": "stderr",
          "output_type": "stream",
          "text": [
            "3507it [01:26, 30.60it/s]"
          ]
        },
        {
          "name": "stdout",
          "output_type": "stream",
          "text": [
            "money: battle, able, work, years, role, way, well, concept, fact, time\n",
            "lion: taint, defeated, really, characterized, judgment, gazette, eusebius, imagination, delighted, bodies\n",
            "africa: europe, america, united, east, germany, south, china, west, end, india\n",
            "musician: writer, actor, singer, author, king, english, composer, addition, poet, deaths\n",
            "dance: music, rock, third, game, jazz, concept, live, small, country, practice\n",
            "\n",
            "\n"
          ]
        },
        {
          "name": "stderr",
          "output_type": "stream",
          "text": [
            "3997it [01:38, 45.30it/s]"
          ]
        },
        {
          "name": "stdout",
          "output_type": "stream",
          "text": [
            "| epoch   3 |  4000/32580 batches | loss    0.718 \n"
          ]
        },
        {
          "name": "stderr",
          "output_type": "stream",
          "text": [
            "4006it [01:38, 30.01it/s]"
          ]
        },
        {
          "name": "stdout",
          "output_type": "stream",
          "text": [
            "money: battle, able, work, years, role, way, well, concept, fact, time\n",
            "lion: taint, defeated, really, characterized, judgment, gazette, eusebius, imagination, delighted, bodies\n",
            "africa: europe, america, united, east, germany, south, china, west, end, india\n",
            "musician: writer, actor, singer, author, king, english, composer, addition, poet, deaths\n",
            "dance: music, rock, third, game, jazz, concept, live, small, country, practice\n",
            "\n",
            "\n"
          ]
        },
        {
          "name": "stderr",
          "output_type": "stream",
          "text": [
            "4500it [01:50, 45.17it/s]"
          ]
        },
        {
          "name": "stdout",
          "output_type": "stream",
          "text": [
            "| epoch   3 |  4500/32580 batches | loss    0.718 \n"
          ]
        },
        {
          "name": "stderr",
          "output_type": "stream",
          "text": [
            "\r4505it [01:50, 27.09it/s]"
          ]
        },
        {
          "name": "stdout",
          "output_type": "stream",
          "text": [
            "money: battle, able, work, years, role, way, well, concept, fact, time\n",
            "lion: taint, defeated, really, characterized, judgment, gazette, eusebius, imagination, delighted, bodies\n",
            "africa: europe, america, united, east, germany, south, china, west, end, india\n",
            "musician: writer, actor, singer, author, king, english, composer, addition, poet, deaths\n",
            "dance: music, rock, third, game, jazz, concept, live, small, country, practice\n",
            "\n",
            "\n"
          ]
        },
        {
          "name": "stderr",
          "output_type": "stream",
          "text": [
            "4998it [02:02, 45.54it/s]"
          ]
        },
        {
          "name": "stdout",
          "output_type": "stream",
          "text": [
            "| epoch   3 |  5000/32580 batches | loss    0.716 \n"
          ]
        },
        {
          "name": "stderr",
          "output_type": "stream",
          "text": [
            "5008it [02:03, 30.62it/s]"
          ]
        },
        {
          "name": "stdout",
          "output_type": "stream",
          "text": [
            "money: battle, able, work, years, role, way, well, concept, fact, time\n",
            "lion: taint, defeated, really, characterized, judgment, gazette, eusebius, imagination, delighted, bodies\n",
            "africa: europe, america, united, east, germany, south, china, west, end, india\n",
            "musician: writer, actor, singer, author, king, english, composer, addition, poet, deaths\n",
            "dance: music, rock, third, game, jazz, concept, live, small, country, practice\n",
            "\n",
            "\n"
          ]
        },
        {
          "name": "stderr",
          "output_type": "stream",
          "text": [
            "5499it [02:14, 34.74it/s]"
          ]
        },
        {
          "name": "stdout",
          "output_type": "stream",
          "text": [
            "| epoch   3 |  5500/32580 batches | loss    0.716 \n"
          ]
        },
        {
          "name": "stderr",
          "output_type": "stream",
          "text": [
            "\r5503it [02:15, 18.90it/s]"
          ]
        },
        {
          "name": "stdout",
          "output_type": "stream",
          "text": [
            "money: battle, able, work, years, role, way, well, concept, fact, time\n",
            "lion: taint, defeated, really, characterized, judgment, gazette, eusebius, imagination, delighted, bodies\n",
            "africa: europe, america, united, east, germany, south, china, west, end, india\n",
            "musician: writer, actor, singer, author, king, english, composer, addition, poet, deaths\n",
            "dance: music, rock, third, game, jazz, concept, live, small, country, practice\n",
            "\n",
            "\n"
          ]
        },
        {
          "name": "stderr",
          "output_type": "stream",
          "text": [
            "5997it [02:26, 36.91it/s]"
          ]
        },
        {
          "name": "stdout",
          "output_type": "stream",
          "text": [
            "| epoch   3 |  6000/32580 batches | loss    0.717 \n"
          ]
        },
        {
          "name": "stderr",
          "output_type": "stream",
          "text": [
            "6004it [02:26, 21.72it/s]"
          ]
        },
        {
          "name": "stdout",
          "output_type": "stream",
          "text": [
            "money: battle, able, work, years, role, way, well, concept, fact, time\n",
            "lion: taint, defeated, really, characterized, judgment, gazette, eusebius, imagination, delighted, bodies\n",
            "africa: europe, america, united, east, germany, south, china, west, end, india\n",
            "musician: writer, actor, singer, author, king, english, composer, addition, poet, deaths\n",
            "dance: music, rock, third, game, jazz, concept, live, small, country, practice\n",
            "\n",
            "\n"
          ]
        },
        {
          "name": "stderr",
          "output_type": "stream",
          "text": [
            "6500it [02:38, 45.45it/s]"
          ]
        },
        {
          "name": "stdout",
          "output_type": "stream",
          "text": [
            "| epoch   3 |  6500/32580 batches | loss    0.717 \n"
          ]
        },
        {
          "name": "stderr",
          "output_type": "stream",
          "text": [
            "\r6505it [02:38, 26.35it/s]"
          ]
        },
        {
          "name": "stdout",
          "output_type": "stream",
          "text": [
            "money: battle, able, work, years, role, way, well, concept, fact, time\n",
            "lion: taint, defeated, really, characterized, judgment, gazette, eusebius, imagination, delighted, bodies\n",
            "africa: europe, america, united, east, germany, south, china, west, end, india\n",
            "musician: writer, actor, singer, author, king, english, composer, addition, poet, deaths\n",
            "dance: music, rock, third, game, jazz, concept, live, small, country, practice\n",
            "\n",
            "\n"
          ]
        },
        {
          "name": "stderr",
          "output_type": "stream",
          "text": [
            "6998it [02:53, 44.65it/s]"
          ]
        },
        {
          "name": "stdout",
          "output_type": "stream",
          "text": [
            "| epoch   3 |  7000/32580 batches | loss    0.717 \n"
          ]
        },
        {
          "name": "stderr",
          "output_type": "stream",
          "text": [
            "\r7003it [02:54, 22.63it/s]"
          ]
        },
        {
          "name": "stdout",
          "output_type": "stream",
          "text": [
            "money: battle, able, work, years, role, way, well, concept, fact, time\n",
            "lion: taint, defeated, really, characterized, judgment, gazette, eusebius, imagination, delighted, bodies\n",
            "africa: europe, america, united, east, germany, south, china, west, end, india\n",
            "musician: writer, actor, singer, author, king, english, composer, addition, poet, deaths\n",
            "dance: music, rock, third, game, jazz, concept, live, small, country, practice\n",
            "\n",
            "\n"
          ]
        },
        {
          "name": "stderr",
          "output_type": "stream",
          "text": [
            "7497it [03:05, 44.98it/s]"
          ]
        },
        {
          "name": "stdout",
          "output_type": "stream",
          "text": [
            "| epoch   3 |  7500/32580 batches | loss    0.717 \n"
          ]
        },
        {
          "name": "stderr",
          "output_type": "stream",
          "text": [
            "7506it [03:06, 29.48it/s]"
          ]
        },
        {
          "name": "stdout",
          "output_type": "stream",
          "text": [
            "money: battle, able, work, years, role, way, well, concept, fact, time\n",
            "lion: taint, defeated, really, characterized, judgment, gazette, eusebius, imagination, delighted, bodies\n",
            "africa: europe, america, united, east, germany, south, china, west, end, india\n",
            "musician: writer, actor, singer, author, king, english, composer, addition, poet, deaths\n",
            "dance: music, rock, third, game, jazz, concept, live, small, country, practice\n",
            "\n",
            "\n"
          ]
        },
        {
          "name": "stderr",
          "output_type": "stream",
          "text": [
            "7998it [03:18, 44.63it/s]"
          ]
        },
        {
          "name": "stdout",
          "output_type": "stream",
          "text": [
            "| epoch   3 |  8000/32580 batches | loss    0.716 \n"
          ]
        },
        {
          "name": "stderr",
          "output_type": "stream",
          "text": [
            "8008it [03:18, 30.45it/s]"
          ]
        },
        {
          "name": "stdout",
          "output_type": "stream",
          "text": [
            "money: battle, able, work, years, role, way, well, concept, fact, time\n",
            "lion: taint, defeated, really, characterized, judgment, gazette, eusebius, imagination, delighted, bodies\n",
            "africa: europe, america, united, east, germany, south, china, west, end, india\n",
            "musician: writer, actor, singer, author, king, english, composer, addition, poet, deaths\n",
            "dance: music, rock, third, game, jazz, concept, live, small, country, practice\n",
            "\n",
            "\n"
          ]
        },
        {
          "name": "stderr",
          "output_type": "stream",
          "text": [
            "8498it [03:30, 44.23it/s]"
          ]
        },
        {
          "name": "stdout",
          "output_type": "stream",
          "text": [
            "| epoch   3 |  8500/32580 batches | loss    0.720 \n"
          ]
        },
        {
          "name": "stderr",
          "output_type": "stream",
          "text": [
            "8508it [03:31, 30.71it/s]"
          ]
        },
        {
          "name": "stdout",
          "output_type": "stream",
          "text": [
            "money: battle, able, work, years, role, way, well, concept, fact, time\n",
            "lion: taint, defeated, really, characterized, judgment, gazette, eusebius, imagination, delighted, bodies\n",
            "africa: europe, america, united, east, germany, south, china, west, end, india\n",
            "musician: writer, actor, singer, author, king, english, composer, addition, poet, deaths\n",
            "dance: music, rock, third, game, jazz, concept, live, small, country, practice\n",
            "\n",
            "\n"
          ]
        },
        {
          "name": "stderr",
          "output_type": "stream",
          "text": [
            "8997it [03:42, 43.51it/s]"
          ]
        },
        {
          "name": "stdout",
          "output_type": "stream",
          "text": [
            "| epoch   3 |  9000/32580 batches | loss    0.719 \n"
          ]
        },
        {
          "name": "stderr",
          "output_type": "stream",
          "text": [
            "9007it [03:43, 30.50it/s]"
          ]
        },
        {
          "name": "stdout",
          "output_type": "stream",
          "text": [
            "money: battle, able, work, years, role, way, well, concept, fact, time\n",
            "lion: taint, defeated, really, characterized, judgment, gazette, eusebius, imagination, delighted, bodies\n",
            "africa: europe, america, united, east, germany, south, china, west, end, india\n",
            "musician: writer, actor, singer, author, king, english, composer, addition, poet, deaths\n",
            "dance: music, rock, third, game, jazz, concept, live, small, country, practice\n",
            "\n",
            "\n"
          ]
        },
        {
          "name": "stderr",
          "output_type": "stream",
          "text": [
            "9499it [03:55, 44.57it/s]"
          ]
        },
        {
          "name": "stdout",
          "output_type": "stream",
          "text": [
            "| epoch   3 |  9500/32580 batches | loss    0.717 \n"
          ]
        },
        {
          "name": "stderr",
          "output_type": "stream",
          "text": [
            "9509it [03:55, 30.62it/s]"
          ]
        },
        {
          "name": "stdout",
          "output_type": "stream",
          "text": [
            "money: battle, able, work, years, role, way, well, concept, fact, time\n",
            "lion: taint, defeated, really, characterized, judgment, gazette, eusebius, imagination, delighted, bodies\n",
            "africa: europe, america, united, east, germany, south, china, west, end, india\n",
            "musician: writer, actor, singer, author, king, english, composer, addition, poet, deaths\n",
            "dance: music, rock, third, game, jazz, concept, live, small, country, practice\n",
            "\n",
            "\n"
          ]
        },
        {
          "name": "stderr",
          "output_type": "stream",
          "text": [
            "9998it [04:07, 33.25it/s]"
          ]
        },
        {
          "name": "stdout",
          "output_type": "stream",
          "text": [
            "| epoch   3 | 10000/32580 batches | loss    0.718 \n"
          ]
        },
        {
          "name": "stderr",
          "output_type": "stream",
          "text": [
            "10007it [04:08, 26.30it/s]"
          ]
        },
        {
          "name": "stdout",
          "output_type": "stream",
          "text": [
            "money: battle, able, work, years, role, way, well, concept, fact, time\n",
            "lion: taint, defeated, really, characterized, judgment, gazette, eusebius, imagination, delighted, bodies\n",
            "africa: europe, america, united, east, germany, south, china, west, end, india\n",
            "musician: writer, actor, singer, author, king, english, composer, addition, poet, deaths\n",
            "dance: music, rock, third, game, jazz, concept, live, small, country, practice\n",
            "\n",
            "\n"
          ]
        },
        {
          "name": "stderr",
          "output_type": "stream",
          "text": [
            "10498it [04:20, 34.48it/s]"
          ]
        },
        {
          "name": "stdout",
          "output_type": "stream",
          "text": [
            "| epoch   3 | 10500/32580 batches | loss    0.718 \n"
          ]
        },
        {
          "name": "stderr",
          "output_type": "stream",
          "text": [
            "10505it [04:21, 21.24it/s]"
          ]
        },
        {
          "name": "stdout",
          "output_type": "stream",
          "text": [
            "money: battle, able, work, years, role, way, well, concept, fact, time\n",
            "lion: taint, defeated, really, characterized, judgment, gazette, eusebius, imagination, delighted, bodies\n",
            "africa: europe, america, united, east, germany, south, china, west, end, india\n",
            "musician: writer, actor, singer, author, king, english, composer, addition, poet, deaths\n",
            "dance: music, rock, third, game, jazz, concept, live, small, country, practice\n",
            "\n",
            "\n"
          ]
        },
        {
          "name": "stderr",
          "output_type": "stream",
          "text": [
            "10998it [04:32, 36.02it/s]"
          ]
        },
        {
          "name": "stdout",
          "output_type": "stream",
          "text": [
            "| epoch   3 | 11000/32580 batches | loss    0.717 \n"
          ]
        },
        {
          "name": "stderr",
          "output_type": "stream",
          "text": [
            "11006it [04:33, 22.03it/s]"
          ]
        },
        {
          "name": "stdout",
          "output_type": "stream",
          "text": [
            "money: battle, able, work, years, role, way, well, concept, fact, time\n",
            "lion: taint, defeated, really, characterized, judgment, gazette, eusebius, imagination, delighted, bodies\n",
            "africa: europe, america, united, east, germany, south, china, west, end, india\n",
            "musician: writer, actor, singer, author, king, english, composer, addition, poet, deaths\n",
            "dance: music, rock, third, game, jazz, concept, live, small, country, practice\n",
            "\n",
            "\n"
          ]
        },
        {
          "name": "stderr",
          "output_type": "stream",
          "text": [
            "11498it [04:44, 44.81it/s]"
          ]
        },
        {
          "name": "stdout",
          "output_type": "stream",
          "text": [
            "| epoch   3 | 11500/32580 batches | loss    0.718 \n"
          ]
        },
        {
          "name": "stderr",
          "output_type": "stream",
          "text": [
            "11508it [04:45, 30.19it/s]"
          ]
        },
        {
          "name": "stdout",
          "output_type": "stream",
          "text": [
            "money: battle, able, work, years, role, way, well, concept, fact, time\n",
            "lion: taint, defeated, really, characterized, judgment, gazette, eusebius, imagination, delighted, bodies\n",
            "africa: europe, america, united, east, germany, south, china, west, india, end\n",
            "musician: writer, actor, singer, author, king, english, composer, addition, poet, deaths\n",
            "dance: music, rock, third, game, jazz, concept, live, small, country, practice\n",
            "\n",
            "\n"
          ]
        },
        {
          "name": "stderr",
          "output_type": "stream",
          "text": [
            "12000it [04:57, 45.08it/s]"
          ]
        },
        {
          "name": "stdout",
          "output_type": "stream",
          "text": [
            "| epoch   3 | 12000/32580 batches | loss    0.717 \n"
          ]
        },
        {
          "name": "stderr",
          "output_type": "stream",
          "text": [
            "\r12005it [04:57, 26.76it/s]"
          ]
        },
        {
          "name": "stdout",
          "output_type": "stream",
          "text": [
            "money: battle, able, work, years, role, way, well, concept, fact, time\n",
            "lion: taint, defeated, really, characterized, judgment, gazette, eusebius, imagination, delighted, bodies\n",
            "africa: europe, america, united, east, germany, south, china, west, india, end\n",
            "musician: writer, actor, singer, author, king, english, composer, addition, poet, deaths\n",
            "dance: music, rock, third, game, jazz, concept, live, small, country, practice\n",
            "\n",
            "\n"
          ]
        },
        {
          "name": "stderr",
          "output_type": "stream",
          "text": [
            "12498it [05:09, 44.33it/s]"
          ]
        },
        {
          "name": "stdout",
          "output_type": "stream",
          "text": [
            "| epoch   3 | 12500/32580 batches | loss    0.718 \n"
          ]
        },
        {
          "name": "stderr",
          "output_type": "stream",
          "text": [
            "12508it [05:09, 30.14it/s]"
          ]
        },
        {
          "name": "stdout",
          "output_type": "stream",
          "text": [
            "money: battle, able, work, years, role, way, well, concept, fact, time\n",
            "lion: taint, defeated, really, characterized, judgment, gazette, eusebius, imagination, delighted, bodies\n",
            "africa: europe, america, united, east, germany, south, china, west, india, end\n",
            "musician: writer, actor, singer, author, king, english, composer, addition, poet, deaths\n",
            "dance: music, rock, third, game, jazz, concept, live, small, country, practice\n",
            "\n",
            "\n"
          ]
        },
        {
          "name": "stderr",
          "output_type": "stream",
          "text": [
            "12998it [05:22, 44.85it/s]"
          ]
        },
        {
          "name": "stdout",
          "output_type": "stream",
          "text": [
            "| epoch   3 | 13000/32580 batches | loss    0.719 \n"
          ]
        },
        {
          "name": "stderr",
          "output_type": "stream",
          "text": [
            "13008it [05:22, 30.57it/s]"
          ]
        },
        {
          "name": "stdout",
          "output_type": "stream",
          "text": [
            "money: battle, able, work, years, role, way, well, concept, fact, time\n",
            "lion: taint, defeated, really, characterized, judgment, gazette, eusebius, imagination, delighted, bodies\n",
            "africa: europe, america, united, east, germany, south, china, west, india, end\n",
            "musician: writer, actor, singer, author, king, english, composer, addition, poet, deaths\n",
            "dance: music, rock, third, game, jazz, concept, live, small, country, practice\n",
            "\n",
            "\n"
          ]
        },
        {
          "name": "stderr",
          "output_type": "stream",
          "text": [
            "13500it [05:34, 44.62it/s]"
          ]
        },
        {
          "name": "stdout",
          "output_type": "stream",
          "text": [
            "| epoch   3 | 13500/32580 batches | loss    0.717 \n"
          ]
        },
        {
          "name": "stderr",
          "output_type": "stream",
          "text": [
            "\r13505it [05:34, 26.62it/s]"
          ]
        },
        {
          "name": "stdout",
          "output_type": "stream",
          "text": [
            "money: battle, able, work, years, role, way, well, concept, fact, time\n",
            "lion: taint, defeated, really, characterized, judgment, gazette, eusebius, imagination, delighted, bodies\n",
            "africa: europe, america, united, east, germany, south, china, west, india, end\n",
            "musician: writer, actor, singer, author, king, english, composer, addition, poet, deaths\n",
            "dance: music, rock, third, game, jazz, concept, live, small, country, practice\n",
            "\n",
            "\n"
          ]
        },
        {
          "name": "stderr",
          "output_type": "stream",
          "text": [
            "13997it [05:46, 41.88it/s]"
          ]
        },
        {
          "name": "stdout",
          "output_type": "stream",
          "text": [
            "| epoch   3 | 14000/32580 batches | loss    0.715 \n"
          ]
        },
        {
          "name": "stderr",
          "output_type": "stream",
          "text": [
            "14006it [05:47, 28.19it/s]"
          ]
        },
        {
          "name": "stdout",
          "output_type": "stream",
          "text": [
            "money: battle, able, work, years, role, way, well, concept, fact, time\n",
            "lion: taint, defeated, really, characterized, judgment, gazette, eusebius, imagination, delighted, bodies\n",
            "africa: europe, america, united, east, germany, south, china, west, india, end\n",
            "musician: writer, actor, singer, author, king, english, composer, addition, poet, deaths\n",
            "dance: music, rock, third, game, jazz, concept, live, small, country, practice\n",
            "\n",
            "\n"
          ]
        },
        {
          "name": "stderr",
          "output_type": "stream",
          "text": [
            "14499it [05:59, 33.48it/s]"
          ]
        },
        {
          "name": "stdout",
          "output_type": "stream",
          "text": [
            "| epoch   3 | 14500/32580 batches | loss    0.719 \n"
          ]
        },
        {
          "name": "stderr",
          "output_type": "stream",
          "text": [
            "14507it [05:59, 21.81it/s]"
          ]
        },
        {
          "name": "stdout",
          "output_type": "stream",
          "text": [
            "money: battle, able, work, years, role, way, well, concept, fact, time\n",
            "lion: taint, defeated, really, characterized, judgment, gazette, eusebius, imagination, delighted, bodies\n",
            "africa: europe, america, united, east, germany, south, china, west, india, end\n",
            "musician: writer, actor, singer, author, king, english, composer, addition, poet, deaths\n",
            "dance: music, rock, third, game, jazz, concept, live, small, country, practice\n",
            "\n",
            "\n"
          ]
        },
        {
          "name": "stderr",
          "output_type": "stream",
          "text": [
            "14999it [06:10, 35.51it/s]"
          ]
        },
        {
          "name": "stdout",
          "output_type": "stream",
          "text": [
            "| epoch   3 | 15000/32580 batches | loss    0.719 \n"
          ]
        },
        {
          "name": "stderr",
          "output_type": "stream",
          "text": [
            "15006it [06:11, 20.80it/s]"
          ]
        },
        {
          "name": "stdout",
          "output_type": "stream",
          "text": [
            "money: battle, able, work, years, role, way, well, concept, fact, time\n",
            "lion: taint, defeated, really, characterized, judgment, gazette, eusebius, imagination, delighted, bodies\n",
            "africa: europe, america, united, east, germany, south, china, west, india, end\n",
            "musician: writer, actor, singer, author, king, english, composer, addition, poet, deaths\n",
            "dance: music, rock, third, game, jazz, concept, live, small, country, practice\n",
            "\n",
            "\n"
          ]
        },
        {
          "name": "stderr",
          "output_type": "stream",
          "text": [
            "15498it [06:23, 45.15it/s]"
          ]
        },
        {
          "name": "stdout",
          "output_type": "stream",
          "text": [
            "| epoch   3 | 15500/32580 batches | loss    0.716 \n"
          ]
        },
        {
          "name": "stderr",
          "output_type": "stream",
          "text": [
            "15507it [06:23, 29.23it/s]"
          ]
        },
        {
          "name": "stdout",
          "output_type": "stream",
          "text": [
            "money: battle, able, work, years, role, way, well, concept, fact, time\n",
            "lion: taint, defeated, really, characterized, judgment, gazette, eusebius, imagination, delighted, bodies\n",
            "africa: europe, america, united, east, germany, south, china, west, india, end\n",
            "musician: writer, actor, singer, author, king, english, composer, addition, poet, deaths\n",
            "dance: music, rock, third, game, jazz, concept, live, small, country, practice\n",
            "\n",
            "\n"
          ]
        },
        {
          "name": "stderr",
          "output_type": "stream",
          "text": [
            "15999it [06:35, 45.88it/s]"
          ]
        },
        {
          "name": "stdout",
          "output_type": "stream",
          "text": [
            "| epoch   3 | 16000/32580 batches | loss    0.719 \n"
          ]
        },
        {
          "name": "stderr",
          "output_type": "stream",
          "text": [
            "16009it [06:35, 31.04it/s]"
          ]
        },
        {
          "name": "stdout",
          "output_type": "stream",
          "text": [
            "money: battle, able, work, years, role, way, well, concept, fact, time\n",
            "lion: taint, defeated, really, characterized, judgment, gazette, eusebius, imagination, delighted, bodies\n",
            "africa: europe, america, united, east, germany, south, china, west, india, end\n",
            "musician: writer, actor, singer, author, king, english, composer, addition, poet, deaths\n",
            "dance: music, rock, third, game, jazz, concept, live, small, country, practice\n",
            "\n",
            "\n"
          ]
        },
        {
          "name": "stderr",
          "output_type": "stream",
          "text": [
            "16500it [06:47, 45.23it/s]"
          ]
        },
        {
          "name": "stdout",
          "output_type": "stream",
          "text": [
            "| epoch   3 | 16500/32580 batches | loss    0.717 \n"
          ]
        },
        {
          "name": "stderr",
          "output_type": "stream",
          "text": [
            "\r16505it [06:48, 27.09it/s]"
          ]
        },
        {
          "name": "stdout",
          "output_type": "stream",
          "text": [
            "money: battle, able, work, years, role, way, well, concept, fact, time\n",
            "lion: taint, defeated, really, characterized, judgment, gazette, eusebius, imagination, delighted, bodies\n",
            "africa: europe, america, united, east, germany, south, china, west, india, end\n",
            "musician: writer, actor, singer, author, king, english, composer, addition, poet, deaths\n",
            "dance: music, rock, third, game, jazz, concept, live, small, country, practice\n",
            "\n",
            "\n"
          ]
        },
        {
          "name": "stderr",
          "output_type": "stream",
          "text": [
            "16998it [07:00, 44.42it/s]"
          ]
        },
        {
          "name": "stdout",
          "output_type": "stream",
          "text": [
            "| epoch   3 | 17000/32580 batches | loss    0.717 \n"
          ]
        },
        {
          "name": "stderr",
          "output_type": "stream",
          "text": [
            "17008it [07:00, 30.41it/s]"
          ]
        },
        {
          "name": "stdout",
          "output_type": "stream",
          "text": [
            "money: battle, able, work, years, role, way, well, concept, fact, time\n",
            "lion: taint, defeated, really, characterized, judgment, gazette, eusebius, imagination, delighted, bodies\n",
            "africa: europe, america, united, east, germany, south, china, west, india, end\n",
            "musician: writer, actor, singer, author, king, english, composer, addition, poet, deaths\n",
            "dance: music, rock, third, game, jazz, concept, live, small, country, practice\n",
            "\n",
            "\n"
          ]
        },
        {
          "name": "stderr",
          "output_type": "stream",
          "text": [
            "17497it [07:12, 45.41it/s]"
          ]
        },
        {
          "name": "stdout",
          "output_type": "stream",
          "text": [
            "| epoch   3 | 17500/32580 batches | loss    0.716 \n"
          ]
        },
        {
          "name": "stderr",
          "output_type": "stream",
          "text": [
            "17507it [07:12, 30.34it/s]"
          ]
        },
        {
          "name": "stdout",
          "output_type": "stream",
          "text": [
            "money: battle, able, work, years, role, way, well, concept, fact, time\n",
            "lion: taint, defeated, really, characterized, judgment, gazette, eusebius, imagination, delighted, bodies\n",
            "africa: europe, america, united, east, germany, south, china, west, india, end\n",
            "musician: writer, actor, singer, author, king, english, composer, addition, poet, deaths\n",
            "dance: music, rock, third, game, jazz, concept, live, small, country, practice\n",
            "\n",
            "\n"
          ]
        },
        {
          "name": "stderr",
          "output_type": "stream",
          "text": [
            "17999it [07:24, 43.51it/s]"
          ]
        },
        {
          "name": "stdout",
          "output_type": "stream",
          "text": [
            "| epoch   3 | 18000/32580 batches | loss    0.720 \n"
          ]
        },
        {
          "name": "stderr",
          "output_type": "stream",
          "text": [
            "18009it [07:25, 30.44it/s]"
          ]
        },
        {
          "name": "stdout",
          "output_type": "stream",
          "text": [
            "money: battle, able, work, years, role, way, well, concept, fact, time\n",
            "lion: taint, defeated, really, characterized, judgment, gazette, eusebius, imagination, delighted, bodies\n",
            "africa: europe, america, united, east, germany, south, china, west, india, end\n",
            "musician: writer, actor, singer, author, king, english, composer, addition, poet, deaths\n",
            "dance: music, rock, third, game, jazz, concept, live, small, country, practice\n",
            "\n",
            "\n"
          ]
        },
        {
          "name": "stderr",
          "output_type": "stream",
          "text": [
            "18499it [07:36, 35.05it/s]"
          ]
        },
        {
          "name": "stdout",
          "output_type": "stream",
          "text": [
            "| epoch   3 | 18500/32580 batches | loss    0.718 \n"
          ]
        },
        {
          "name": "stderr",
          "output_type": "stream",
          "text": [
            "\r18503it [07:37, 18.61it/s]"
          ]
        },
        {
          "name": "stdout",
          "output_type": "stream",
          "text": [
            "money: battle, able, work, years, role, way, well, concept, fact, time\n",
            "lion: taint, defeated, really, characterized, judgment, gazette, eusebius, imagination, delighted, bodies\n",
            "africa: europe, america, united, east, germany, south, china, west, india, end\n",
            "musician: writer, actor, singer, author, king, english, composer, addition, poet, deaths\n",
            "dance: music, rock, third, game, jazz, concept, live, small, country, practice\n",
            "\n",
            "\n"
          ]
        },
        {
          "name": "stderr",
          "output_type": "stream",
          "text": [
            "18998it [07:48, 37.45it/s]"
          ]
        },
        {
          "name": "stdout",
          "output_type": "stream",
          "text": [
            "| epoch   3 | 19000/32580 batches | loss    0.717 \n"
          ]
        },
        {
          "name": "stderr",
          "output_type": "stream",
          "text": [
            "19006it [07:49, 22.14it/s]"
          ]
        },
        {
          "name": "stdout",
          "output_type": "stream",
          "text": [
            "money: battle, able, work, years, role, way, well, concept, fact, time\n",
            "lion: taint, defeated, really, characterized, judgment, gazette, eusebius, imagination, delighted, bodies\n",
            "africa: europe, america, united, east, germany, south, china, west, india, end\n",
            "musician: writer, actor, singer, author, king, english, composer, addition, poet, deaths\n",
            "dance: music, rock, third, game, jazz, concept, live, small, country, practice\n",
            "\n",
            "\n"
          ]
        },
        {
          "name": "stderr",
          "output_type": "stream",
          "text": [
            "19500it [08:00, 44.29it/s]"
          ]
        },
        {
          "name": "stdout",
          "output_type": "stream",
          "text": [
            "| epoch   3 | 19500/32580 batches | loss    0.719 \n"
          ]
        },
        {
          "name": "stderr",
          "output_type": "stream",
          "text": [
            "\r19505it [08:01, 26.90it/s]"
          ]
        },
        {
          "name": "stdout",
          "output_type": "stream",
          "text": [
            "money: battle, able, work, years, role, way, well, concept, fact, time\n",
            "lion: taint, defeated, really, characterized, judgment, gazette, eusebius, imagination, delighted, bodies\n",
            "africa: europe, america, united, east, germany, south, china, west, india, end\n",
            "musician: writer, actor, singer, author, king, english, composer, addition, poet, deaths\n",
            "dance: music, rock, third, game, jazz, concept, live, small, country, practice\n",
            "\n",
            "\n"
          ]
        },
        {
          "name": "stderr",
          "output_type": "stream",
          "text": [
            "19998it [08:13, 43.30it/s]"
          ]
        },
        {
          "name": "stdout",
          "output_type": "stream",
          "text": [
            "| epoch   3 | 20000/32580 batches | loss    0.720 \n"
          ]
        },
        {
          "name": "stderr",
          "output_type": "stream",
          "text": [
            "20007it [08:13, 29.10it/s]"
          ]
        },
        {
          "name": "stdout",
          "output_type": "stream",
          "text": [
            "money: battle, able, work, years, role, way, well, concept, fact, time\n",
            "lion: taint, defeated, really, characterized, judgment, gazette, eusebius, imagination, delighted, bodies\n",
            "africa: europe, america, united, east, germany, south, china, west, india, end\n",
            "musician: writer, actor, singer, author, king, english, composer, addition, poet, deaths\n",
            "dance: music, rock, third, game, jazz, concept, live, small, country, practice\n",
            "\n",
            "\n"
          ]
        },
        {
          "name": "stderr",
          "output_type": "stream",
          "text": [
            "20499it [08:26, 35.76it/s]"
          ]
        },
        {
          "name": "stdout",
          "output_type": "stream",
          "text": [
            "| epoch   3 | 20500/32580 batches | loss    0.717 \n"
          ]
        },
        {
          "name": "stderr",
          "output_type": "stream",
          "text": [
            "\r20503it [08:26, 18.91it/s]"
          ]
        },
        {
          "name": "stdout",
          "output_type": "stream",
          "text": [
            "money: battle, able, work, years, role, way, well, concept, fact, time\n",
            "lion: taint, defeated, really, characterized, judgment, gazette, eusebius, imagination, delighted, bodies\n",
            "africa: europe, america, united, east, germany, south, china, west, india, end\n",
            "musician: writer, actor, singer, author, king, english, composer, addition, poet, deaths\n",
            "dance: music, rock, third, game, jazz, concept, live, small, country, practice\n",
            "\n",
            "\n"
          ]
        },
        {
          "name": "stderr",
          "output_type": "stream",
          "text": [
            "21000it [08:38, 45.71it/s]"
          ]
        },
        {
          "name": "stdout",
          "output_type": "stream",
          "text": [
            "| epoch   3 | 21000/32580 batches | loss    0.718 \n"
          ]
        },
        {
          "name": "stderr",
          "output_type": "stream",
          "text": [
            "\r21005it [08:39, 27.23it/s]"
          ]
        },
        {
          "name": "stdout",
          "output_type": "stream",
          "text": [
            "money: battle, able, work, years, role, way, well, concept, fact, time\n",
            "lion: taint, defeated, really, characterized, judgment, gazette, eusebius, imagination, delighted, bodies\n",
            "africa: europe, america, united, east, germany, south, china, west, india, end\n",
            "musician: writer, actor, singer, author, king, english, composer, addition, poet, deaths\n",
            "dance: music, rock, third, game, jazz, concept, live, small, country, practice\n",
            "\n",
            "\n"
          ]
        },
        {
          "name": "stderr",
          "output_type": "stream",
          "text": [
            "21498it [08:51, 44.28it/s]"
          ]
        },
        {
          "name": "stdout",
          "output_type": "stream",
          "text": [
            "| epoch   3 | 21500/32580 batches | loss    0.719 \n"
          ]
        },
        {
          "name": "stderr",
          "output_type": "stream",
          "text": [
            "21508it [08:51, 30.97it/s]"
          ]
        },
        {
          "name": "stdout",
          "output_type": "stream",
          "text": [
            "money: battle, able, work, years, role, way, well, concept, fact, time\n",
            "lion: taint, defeated, really, characterized, judgment, gazette, eusebius, imagination, delighted, bodies\n",
            "africa: europe, america, united, east, germany, south, china, west, india, end\n",
            "musician: writer, actor, singer, author, king, english, composer, addition, poet, deaths\n",
            "dance: music, rock, third, game, jazz, concept, live, small, country, practice\n",
            "\n",
            "\n"
          ]
        },
        {
          "name": "stderr",
          "output_type": "stream",
          "text": [
            "21996it [09:03, 45.02it/s]"
          ]
        },
        {
          "name": "stdout",
          "output_type": "stream",
          "text": [
            "| epoch   3 | 22000/32580 batches | loss    0.717 \n"
          ]
        },
        {
          "name": "stderr",
          "output_type": "stream",
          "text": [
            "22005it [09:03, 29.90it/s]"
          ]
        },
        {
          "name": "stdout",
          "output_type": "stream",
          "text": [
            "money: battle, able, work, years, role, way, well, concept, fact, time\n",
            "lion: taint, defeated, really, characterized, judgment, gazette, eusebius, imagination, delighted, bodies\n",
            "africa: europe, america, united, east, germany, south, china, west, india, end\n",
            "musician: writer, actor, singer, author, king, english, composer, addition, poet, deaths\n",
            "dance: music, rock, third, game, jazz, concept, live, small, country, practice\n",
            "\n",
            "\n"
          ]
        },
        {
          "name": "stderr",
          "output_type": "stream",
          "text": [
            "22498it [09:15, 33.52it/s]"
          ]
        },
        {
          "name": "stdout",
          "output_type": "stream",
          "text": [
            "| epoch   3 | 22500/32580 batches | loss    0.717 \n"
          ]
        },
        {
          "name": "stderr",
          "output_type": "stream",
          "text": [
            "22506it [09:16, 21.44it/s]"
          ]
        },
        {
          "name": "stdout",
          "output_type": "stream",
          "text": [
            "money: battle, able, work, years, role, way, well, concept, fact, time\n",
            "lion: taint, defeated, really, characterized, judgment, gazette, eusebius, imagination, delighted, bodies\n",
            "africa: europe, america, united, east, germany, south, china, west, india, end\n",
            "musician: writer, actor, singer, author, king, english, composer, addition, poet, deaths\n",
            "dance: music, rock, third, game, jazz, concept, live, small, country, practice\n",
            "\n",
            "\n"
          ]
        },
        {
          "name": "stderr",
          "output_type": "stream",
          "text": [
            "22998it [09:27, 35.09it/s]"
          ]
        },
        {
          "name": "stdout",
          "output_type": "stream",
          "text": [
            "| epoch   3 | 23000/32580 batches | loss    0.718 \n"
          ]
        },
        {
          "name": "stderr",
          "output_type": "stream",
          "text": [
            "23006it [09:28, 21.10it/s]"
          ]
        },
        {
          "name": "stdout",
          "output_type": "stream",
          "text": [
            "money: battle, able, work, years, role, way, well, concept, fact, time\n",
            "lion: taint, defeated, really, characterized, judgment, gazette, eusebius, imagination, delighted, bodies\n",
            "africa: europe, america, united, east, germany, south, china, west, india, end\n",
            "musician: writer, actor, singer, author, king, english, composer, addition, poet, deaths\n",
            "dance: music, rock, third, game, jazz, concept, live, small, country, practice\n",
            "\n",
            "\n"
          ]
        },
        {
          "name": "stderr",
          "output_type": "stream",
          "text": [
            "23496it [09:39, 45.52it/s]"
          ]
        },
        {
          "name": "stdout",
          "output_type": "stream",
          "text": [
            "| epoch   3 | 23500/32580 batches | loss    0.718 \n"
          ]
        },
        {
          "name": "stderr",
          "output_type": "stream",
          "text": [
            "23505it [09:39, 29.52it/s]"
          ]
        },
        {
          "name": "stdout",
          "output_type": "stream",
          "text": [
            "money: battle, able, work, years, role, way, well, concept, fact, time\n",
            "lion: taint, defeated, really, characterized, judgment, gazette, eusebius, imagination, delighted, bodies\n",
            "africa: europe, america, united, east, germany, south, china, west, india, end\n",
            "musician: writer, actor, singer, author, king, english, composer, addition, poet, deaths\n",
            "dance: music, rock, third, game, jazz, concept, live, small, country, practice\n",
            "\n",
            "\n"
          ]
        },
        {
          "name": "stderr",
          "output_type": "stream",
          "text": [
            "23997it [09:51, 45.20it/s]"
          ]
        },
        {
          "name": "stdout",
          "output_type": "stream",
          "text": [
            "| epoch   3 | 24000/32580 batches | loss    0.718 \n"
          ]
        },
        {
          "name": "stderr",
          "output_type": "stream",
          "text": [
            "24006it [09:52, 30.09it/s]"
          ]
        },
        {
          "name": "stdout",
          "output_type": "stream",
          "text": [
            "money: battle, able, work, years, role, way, well, concept, fact, time\n",
            "lion: taint, defeated, really, characterized, judgment, gazette, eusebius, imagination, delighted, bodies\n",
            "africa: europe, america, united, east, germany, south, china, west, india, end\n",
            "musician: writer, actor, singer, author, king, english, composer, addition, poet, deaths\n",
            "dance: music, rock, third, game, jazz, concept, live, small, country, practice\n",
            "\n",
            "\n"
          ]
        },
        {
          "name": "stderr",
          "output_type": "stream",
          "text": [
            "24499it [10:04, 45.00it/s]"
          ]
        },
        {
          "name": "stdout",
          "output_type": "stream",
          "text": [
            "| epoch   3 | 24500/32580 batches | loss    0.719 \n"
          ]
        },
        {
          "name": "stderr",
          "output_type": "stream",
          "text": [
            "24509it [10:04, 30.76it/s]"
          ]
        },
        {
          "name": "stdout",
          "output_type": "stream",
          "text": [
            "money: battle, able, work, years, role, way, well, concept, fact, time\n",
            "lion: taint, defeated, really, characterized, judgment, gazette, eusebius, imagination, delighted, bodies\n",
            "africa: europe, america, united, east, germany, south, china, west, india, end\n",
            "musician: writer, actor, singer, author, king, english, composer, addition, poet, deaths\n",
            "dance: music, rock, third, game, jazz, concept, live, small, country, practice\n",
            "\n",
            "\n"
          ]
        },
        {
          "name": "stderr",
          "output_type": "stream",
          "text": [
            "24996it [10:16, 44.45it/s]"
          ]
        },
        {
          "name": "stdout",
          "output_type": "stream",
          "text": [
            "| epoch   3 | 25000/32580 batches | loss    0.715 \n"
          ]
        },
        {
          "name": "stderr",
          "output_type": "stream",
          "text": [
            "25005it [10:16, 29.71it/s]"
          ]
        },
        {
          "name": "stdout",
          "output_type": "stream",
          "text": [
            "money: battle, able, work, years, role, way, well, concept, fact, time\n",
            "lion: taint, defeated, really, characterized, judgment, gazette, eusebius, imagination, delighted, bodies\n",
            "africa: europe, america, united, east, germany, south, china, west, india, end\n",
            "musician: writer, actor, singer, author, king, english, composer, addition, poet, deaths\n",
            "dance: music, rock, third, game, jazz, concept, live, small, country, practice\n",
            "\n",
            "\n"
          ]
        },
        {
          "name": "stderr",
          "output_type": "stream",
          "text": [
            "25499it [10:28, 44.39it/s]"
          ]
        },
        {
          "name": "stdout",
          "output_type": "stream",
          "text": [
            "| epoch   3 | 25500/32580 batches | loss    0.716 \n"
          ]
        },
        {
          "name": "stderr",
          "output_type": "stream",
          "text": [
            "25509it [10:29, 30.45it/s]"
          ]
        },
        {
          "name": "stdout",
          "output_type": "stream",
          "text": [
            "money: battle, able, work, years, role, way, well, concept, fact, time\n",
            "lion: taint, defeated, really, characterized, judgment, gazette, eusebius, imagination, delighted, bodies\n",
            "africa: europe, america, united, east, germany, south, china, west, india, end\n",
            "musician: writer, actor, singer, author, king, english, composer, addition, poet, deaths\n",
            "dance: music, rock, third, game, jazz, concept, live, small, country, practice\n",
            "\n",
            "\n"
          ]
        },
        {
          "name": "stderr",
          "output_type": "stream",
          "text": [
            "25998it [10:41, 42.39it/s]"
          ]
        },
        {
          "name": "stdout",
          "output_type": "stream",
          "text": [
            "| epoch   3 | 26000/32580 batches | loss    0.718 \n"
          ]
        },
        {
          "name": "stderr",
          "output_type": "stream",
          "text": [
            "26008it [10:41, 29.64it/s]"
          ]
        },
        {
          "name": "stdout",
          "output_type": "stream",
          "text": [
            "money: battle, able, work, years, role, way, well, concept, fact, time\n",
            "lion: taint, defeated, really, characterized, judgment, gazette, eusebius, imagination, delighted, bodies\n",
            "africa: europe, america, united, east, germany, south, china, west, india, end\n",
            "musician: writer, actor, singer, author, king, english, composer, addition, poet, deaths\n",
            "dance: music, rock, third, game, jazz, concept, live, small, country, practice\n",
            "\n",
            "\n"
          ]
        },
        {
          "name": "stderr",
          "output_type": "stream",
          "text": [
            "26498it [10:53, 34.46it/s]"
          ]
        },
        {
          "name": "stdout",
          "output_type": "stream",
          "text": [
            "| epoch   3 | 26500/32580 batches | loss    0.717 \n"
          ]
        },
        {
          "name": "stderr",
          "output_type": "stream",
          "text": [
            "26505it [10:53, 20.91it/s]"
          ]
        },
        {
          "name": "stdout",
          "output_type": "stream",
          "text": [
            "money: battle, able, work, years, role, way, well, concept, fact, time\n",
            "lion: taint, defeated, really, characterized, judgment, gazette, eusebius, imagination, delighted, bodies\n",
            "africa: europe, america, united, east, germany, south, china, west, india, end\n",
            "musician: writer, actor, singer, author, king, english, composer, addition, poet, deaths\n",
            "dance: music, rock, third, game, jazz, concept, live, small, country, practice\n",
            "\n",
            "\n"
          ]
        },
        {
          "name": "stderr",
          "output_type": "stream",
          "text": [
            "26997it [11:05, 37.84it/s]"
          ]
        },
        {
          "name": "stdout",
          "output_type": "stream",
          "text": [
            "| epoch   3 | 27000/32580 batches | loss    0.716 \n"
          ]
        },
        {
          "name": "stderr",
          "output_type": "stream",
          "text": [
            "27004it [11:05, 21.94it/s]"
          ]
        },
        {
          "name": "stdout",
          "output_type": "stream",
          "text": [
            "money: battle, able, work, years, role, way, well, concept, fact, time\n",
            "lion: taint, defeated, really, characterized, judgment, gazette, eusebius, imagination, delighted, bodies\n",
            "africa: europe, america, united, east, germany, south, china, west, india, end\n",
            "musician: writer, actor, singer, author, king, english, composer, addition, poet, deaths\n",
            "dance: music, rock, third, game, jazz, concept, live, small, country, practice\n",
            "\n",
            "\n"
          ]
        },
        {
          "name": "stderr",
          "output_type": "stream",
          "text": [
            "27498it [11:17, 44.74it/s]"
          ]
        },
        {
          "name": "stdout",
          "output_type": "stream",
          "text": [
            "| epoch   3 | 27500/32580 batches | loss    0.719 \n"
          ]
        },
        {
          "name": "stderr",
          "output_type": "stream",
          "text": [
            "27507it [11:17, 29.37it/s]"
          ]
        },
        {
          "name": "stdout",
          "output_type": "stream",
          "text": [
            "money: battle, able, work, years, role, way, well, concept, fact, time\n",
            "lion: taint, defeated, really, characterized, judgment, gazette, eusebius, imagination, delighted, bodies\n",
            "africa: europe, america, united, east, germany, south, china, west, india, end\n",
            "musician: writer, actor, singer, author, king, english, composer, addition, poet, deaths\n",
            "dance: music, rock, third, game, jazz, concept, live, small, country, practice\n",
            "\n",
            "\n"
          ]
        },
        {
          "name": "stderr",
          "output_type": "stream",
          "text": [
            "27996it [11:29, 44.75it/s]"
          ]
        },
        {
          "name": "stdout",
          "output_type": "stream",
          "text": [
            "| epoch   3 | 28000/32580 batches | loss    0.719 \n"
          ]
        },
        {
          "name": "stderr",
          "output_type": "stream",
          "text": [
            "28005it [11:30, 29.22it/s]"
          ]
        },
        {
          "name": "stdout",
          "output_type": "stream",
          "text": [
            "money: battle, able, work, years, role, way, well, concept, fact, time\n",
            "lion: taint, defeated, really, characterized, judgment, gazette, eusebius, imagination, delighted, bodies\n",
            "africa: europe, america, united, east, germany, south, china, west, india, end\n",
            "musician: writer, actor, singer, author, king, english, composer, addition, poet, deaths\n",
            "dance: music, rock, third, game, jazz, concept, live, small, country, practice\n",
            "\n",
            "\n"
          ]
        },
        {
          "name": "stderr",
          "output_type": "stream",
          "text": [
            "28498it [11:42, 44.25it/s]"
          ]
        },
        {
          "name": "stdout",
          "output_type": "stream",
          "text": [
            "| epoch   3 | 28500/32580 batches | loss    0.717 \n"
          ]
        },
        {
          "name": "stderr",
          "output_type": "stream",
          "text": [
            "28508it [11:42, 30.70it/s]"
          ]
        },
        {
          "name": "stdout",
          "output_type": "stream",
          "text": [
            "money: battle, able, work, years, role, way, well, concept, fact, time\n",
            "lion: taint, defeated, really, characterized, judgment, gazette, eusebius, imagination, delighted, bodies\n",
            "africa: europe, america, united, east, germany, south, china, west, india, end\n",
            "musician: writer, actor, singer, author, king, english, composer, addition, poet, deaths\n",
            "dance: music, rock, third, game, jazz, concept, live, small, country, practice\n",
            "\n",
            "\n"
          ]
        },
        {
          "name": "stderr",
          "output_type": "stream",
          "text": [
            "28996it [11:54, 45.33it/s]"
          ]
        },
        {
          "name": "stdout",
          "output_type": "stream",
          "text": [
            "| epoch   3 | 29000/32580 batches | loss    0.718 \n"
          ]
        },
        {
          "name": "stderr",
          "output_type": "stream",
          "text": [
            "29005it [11:54, 29.93it/s]"
          ]
        },
        {
          "name": "stdout",
          "output_type": "stream",
          "text": [
            "money: battle, able, work, years, role, way, well, concept, fact, time\n",
            "lion: taint, defeated, really, characterized, judgment, gazette, eusebius, imagination, delighted, bodies\n",
            "africa: europe, america, united, east, germany, south, china, west, india, end\n",
            "musician: writer, actor, singer, author, king, english, composer, addition, poet, deaths\n",
            "dance: music, rock, third, game, jazz, concept, live, small, country, practice\n",
            "\n",
            "\n"
          ]
        },
        {
          "name": "stderr",
          "output_type": "stream",
          "text": [
            "29497it [12:09, 45.62it/s]"
          ]
        },
        {
          "name": "stdout",
          "output_type": "stream",
          "text": [
            "| epoch   3 | 29500/32580 batches | loss    0.718 \n"
          ]
        },
        {
          "name": "stderr",
          "output_type": "stream",
          "text": [
            "29506it [12:09, 29.52it/s]"
          ]
        },
        {
          "name": "stdout",
          "output_type": "stream",
          "text": [
            "money: battle, able, work, years, role, way, well, concept, fact, time\n",
            "lion: taint, defeated, really, characterized, judgment, gazette, eusebius, imagination, delighted, bodies\n",
            "africa: europe, america, united, east, germany, south, china, west, india, end\n",
            "musician: writer, actor, singer, author, king, english, composer, addition, poet, deaths\n",
            "dance: music, rock, third, game, jazz, concept, live, small, country, practice\n",
            "\n",
            "\n"
          ]
        },
        {
          "name": "stderr",
          "output_type": "stream",
          "text": [
            "29996it [12:21, 44.83it/s]"
          ]
        },
        {
          "name": "stdout",
          "output_type": "stream",
          "text": [
            "| epoch   3 | 30000/32580 batches | loss    0.718 \n"
          ]
        },
        {
          "name": "stderr",
          "output_type": "stream",
          "text": [
            "30005it [12:22, 29.49it/s]"
          ]
        },
        {
          "name": "stdout",
          "output_type": "stream",
          "text": [
            "money: battle, able, work, years, role, way, well, concept, fact, time\n",
            "lion: taint, defeated, really, characterized, judgment, gazette, eusebius, imagination, delighted, bodies\n",
            "africa: europe, america, united, east, germany, south, china, west, india, end\n",
            "musician: writer, actor, singer, author, king, english, composer, addition, poet, deaths\n",
            "dance: music, rock, third, game, jazz, concept, live, small, country, practice\n",
            "\n",
            "\n"
          ]
        },
        {
          "name": "stderr",
          "output_type": "stream",
          "text": [
            "30497it [12:34, 45.01it/s]"
          ]
        },
        {
          "name": "stdout",
          "output_type": "stream",
          "text": [
            "| epoch   3 | 30500/32580 batches | loss    0.718 \n"
          ]
        },
        {
          "name": "stderr",
          "output_type": "stream",
          "text": [
            "30506it [12:34, 29.13it/s]"
          ]
        },
        {
          "name": "stdout",
          "output_type": "stream",
          "text": [
            "money: battle, able, work, years, role, way, well, concept, fact, time\n",
            "lion: taint, defeated, really, characterized, judgment, gazette, eusebius, imagination, delighted, bodies\n",
            "africa: europe, america, united, east, germany, south, china, west, india, end\n",
            "musician: writer, actor, singer, author, king, english, composer, addition, poet, deaths\n",
            "dance: music, rock, third, game, jazz, concept, live, small, country, practice\n",
            "\n",
            "\n"
          ]
        },
        {
          "name": "stderr",
          "output_type": "stream",
          "text": [
            "31000it [12:47, 43.34it/s]"
          ]
        },
        {
          "name": "stdout",
          "output_type": "stream",
          "text": [
            "| epoch   3 | 31000/32580 batches | loss    0.719 \n"
          ]
        },
        {
          "name": "stderr",
          "output_type": "stream",
          "text": [
            "\r31005it [12:47, 25.92it/s]"
          ]
        },
        {
          "name": "stdout",
          "output_type": "stream",
          "text": [
            "money: battle, able, work, years, role, way, well, concept, fact, time\n",
            "lion: taint, defeated, really, characterized, judgment, gazette, eusebius, imagination, delighted, bodies\n",
            "africa: europe, america, united, east, germany, south, china, west, india, end\n",
            "musician: writer, actor, singer, author, king, english, composer, addition, poet, deaths\n",
            "dance: music, rock, third, game, jazz, concept, live, small, country, practice\n",
            "\n",
            "\n"
          ]
        },
        {
          "name": "stderr",
          "output_type": "stream",
          "text": [
            "31497it [12:59, 36.49it/s]"
          ]
        },
        {
          "name": "stdout",
          "output_type": "stream",
          "text": [
            "| epoch   3 | 31500/32580 batches | loss    0.718 \n"
          ]
        },
        {
          "name": "stderr",
          "output_type": "stream",
          "text": [
            "31504it [12:59, 20.85it/s]"
          ]
        },
        {
          "name": "stdout",
          "output_type": "stream",
          "text": [
            "money: battle, able, work, years, role, way, well, concept, fact, time\n",
            "lion: taint, defeated, really, characterized, judgment, gazette, eusebius, imagination, delighted, bodies\n",
            "africa: europe, america, united, east, germany, south, china, west, india, end\n",
            "musician: writer, actor, singer, author, king, english, composer, addition, poet, deaths\n",
            "dance: music, rock, third, game, jazz, concept, live, small, country, practice\n",
            "\n",
            "\n"
          ]
        },
        {
          "name": "stderr",
          "output_type": "stream",
          "text": [
            "31999it [13:11, 41.79it/s]"
          ]
        },
        {
          "name": "stdout",
          "output_type": "stream",
          "text": [
            "| epoch   3 | 32000/32580 batches | loss    0.719 \n"
          ]
        },
        {
          "name": "stderr",
          "output_type": "stream",
          "text": [
            "\r32004it [13:11, 23.06it/s]"
          ]
        },
        {
          "name": "stdout",
          "output_type": "stream",
          "text": [
            "money: battle, able, work, years, role, way, well, concept, fact, time\n",
            "lion: taint, defeated, really, characterized, judgment, gazette, eusebius, imagination, delighted, bodies\n",
            "africa: europe, america, united, east, germany, south, china, west, india, end\n",
            "musician: writer, actor, singer, author, king, english, composer, addition, poet, deaths\n",
            "dance: music, rock, third, game, jazz, concept, live, small, country, practice\n",
            "\n",
            "\n"
          ]
        },
        {
          "name": "stderr",
          "output_type": "stream",
          "text": [
            "32499it [13:23, 44.92it/s]"
          ]
        },
        {
          "name": "stdout",
          "output_type": "stream",
          "text": [
            "| epoch   3 | 32500/32580 batches | loss    0.718 \n"
          ]
        },
        {
          "name": "stderr",
          "output_type": "stream",
          "text": [
            "32509it [13:24, 31.12it/s]"
          ]
        },
        {
          "name": "stdout",
          "output_type": "stream",
          "text": [
            "money: battle, able, work, years, role, way, well, concept, fact, time\n",
            "lion: taint, defeated, really, characterized, judgment, gazette, eusebius, imagination, delighted, bodies\n",
            "africa: europe, america, united, east, germany, south, china, west, india, end\n",
            "musician: writer, actor, singer, author, king, english, composer, addition, poet, deaths\n",
            "dance: music, rock, third, game, jazz, concept, live, small, country, practice\n",
            "\n",
            "\n"
          ]
        },
        {
          "name": "stderr",
          "output_type": "stream",
          "text": [
            "32580it [13:27, 40.35it/s]\n",
            "0it [00:00, ?it/s]"
          ]
        },
        {
          "name": "stdout",
          "output_type": "stream",
          "text": [
            "| epoch   4 |     0/32580 batches | loss    0.736 \n"
          ]
        },
        {
          "name": "stderr",
          "output_type": "stream",
          "text": [
            "5it [00:01,  3.66it/s]"
          ]
        },
        {
          "name": "stdout",
          "output_type": "stream",
          "text": [
            "money: battle, able, work, years, role, way, well, concept, fact, time\n",
            "lion: taint, defeated, really, characterized, judgment, gazette, eusebius, imagination, delighted, bodies\n",
            "africa: europe, america, united, east, germany, south, china, west, india, end\n",
            "musician: writer, actor, singer, author, king, english, composer, addition, poet, deaths\n",
            "dance: music, rock, third, game, jazz, concept, live, small, country, practice\n",
            "\n",
            "\n"
          ]
        },
        {
          "name": "stderr",
          "output_type": "stream",
          "text": [
            "498it [00:13, 34.22it/s]"
          ]
        },
        {
          "name": "stdout",
          "output_type": "stream",
          "text": [
            "| epoch   4 |   500/32580 batches | loss    0.716 \n"
          ]
        },
        {
          "name": "stderr",
          "output_type": "stream",
          "text": [
            "506it [00:13, 21.11it/s]"
          ]
        },
        {
          "name": "stdout",
          "output_type": "stream",
          "text": [
            "money: battle, able, work, years, role, way, well, concept, fact, time\n",
            "lion: taint, defeated, really, characterized, judgment, gazette, eusebius, imagination, delighted, bodies\n",
            "africa: europe, america, united, east, germany, south, china, west, india, end\n",
            "musician: writer, actor, singer, author, king, english, composer, addition, poet, deaths\n",
            "dance: music, rock, third, game, jazz, concept, live, small, country, practice\n",
            "\n",
            "\n"
          ]
        },
        {
          "name": "stderr",
          "output_type": "stream",
          "text": [
            "1000it [00:25, 41.72it/s]"
          ]
        },
        {
          "name": "stdout",
          "output_type": "stream",
          "text": [
            "| epoch   4 |  1000/32580 batches | loss    0.717 \n"
          ]
        },
        {
          "name": "stderr",
          "output_type": "stream",
          "text": [
            "\r1005it [00:25, 21.53it/s]"
          ]
        },
        {
          "name": "stdout",
          "output_type": "stream",
          "text": [
            "money: battle, able, work, years, role, way, well, concept, fact, time\n",
            "lion: taint, defeated, really, characterized, judgment, gazette, eusebius, imagination, delighted, bodies\n",
            "africa: europe, america, united, east, germany, south, china, west, india, end\n",
            "musician: writer, actor, singer, author, king, english, composer, addition, poet, deaths\n",
            "dance: music, rock, third, game, jazz, concept, live, small, country, practice\n",
            "\n",
            "\n"
          ]
        },
        {
          "name": "stderr",
          "output_type": "stream",
          "text": [
            "1496it [00:37, 44.81it/s]"
          ]
        },
        {
          "name": "stdout",
          "output_type": "stream",
          "text": [
            "| epoch   4 |  1500/32580 batches | loss    0.717 \n"
          ]
        },
        {
          "name": "stderr",
          "output_type": "stream",
          "text": [
            "1505it [00:37, 29.79it/s]"
          ]
        },
        {
          "name": "stdout",
          "output_type": "stream",
          "text": [
            "money: battle, able, work, years, role, way, well, concept, fact, time\n",
            "lion: taint, defeated, really, characterized, judgment, gazette, eusebius, imagination, delighted, bodies\n",
            "africa: europe, america, united, east, germany, south, china, west, india, end\n",
            "musician: writer, actor, singer, author, king, english, composer, addition, poet, deaths\n",
            "dance: music, rock, third, game, jazz, concept, live, small, country, practice\n",
            "\n",
            "\n"
          ]
        },
        {
          "name": "stderr",
          "output_type": "stream",
          "text": [
            "1997it [00:49, 44.69it/s]"
          ]
        },
        {
          "name": "stdout",
          "output_type": "stream",
          "text": [
            "| epoch   4 |  2000/32580 batches | loss    0.716 \n"
          ]
        },
        {
          "name": "stderr",
          "output_type": "stream",
          "text": [
            "2007it [00:50, 30.96it/s]"
          ]
        },
        {
          "name": "stdout",
          "output_type": "stream",
          "text": [
            "money: battle, able, work, years, role, way, well, concept, fact, time\n",
            "lion: taint, defeated, really, characterized, judgment, gazette, eusebius, imagination, delighted, bodies\n",
            "africa: europe, america, united, east, germany, south, china, west, india, end\n",
            "musician: writer, actor, singer, author, king, english, composer, addition, poet, deaths\n",
            "dance: music, rock, third, game, jazz, concept, live, small, country, practice\n",
            "\n",
            "\n"
          ]
        },
        {
          "name": "stderr",
          "output_type": "stream",
          "text": [
            "2496it [01:01, 45.05it/s]"
          ]
        },
        {
          "name": "stdout",
          "output_type": "stream",
          "text": [
            "| epoch   4 |  2500/32580 batches | loss    0.716 \n"
          ]
        },
        {
          "name": "stderr",
          "output_type": "stream",
          "text": [
            "2505it [01:02, 30.19it/s]"
          ]
        },
        {
          "name": "stdout",
          "output_type": "stream",
          "text": [
            "money: battle, able, work, years, role, way, well, concept, fact, time\n",
            "lion: taint, defeated, really, characterized, judgment, gazette, eusebius, imagination, delighted, bodies\n",
            "africa: europe, america, united, east, germany, south, china, west, india, end\n",
            "musician: writer, actor, singer, author, king, english, composer, addition, poet, deaths\n",
            "dance: music, rock, third, game, jazz, concept, live, small, country, practice\n",
            "\n",
            "\n"
          ]
        },
        {
          "name": "stderr",
          "output_type": "stream",
          "text": [
            "2997it [01:14, 44.56it/s]"
          ]
        },
        {
          "name": "stdout",
          "output_type": "stream",
          "text": [
            "| epoch   4 |  3000/32580 batches | loss    0.716 \n"
          ]
        },
        {
          "name": "stderr",
          "output_type": "stream",
          "text": [
            "3006it [01:14, 29.68it/s]"
          ]
        },
        {
          "name": "stdout",
          "output_type": "stream",
          "text": [
            "money: battle, able, work, years, role, way, well, concept, fact, time\n",
            "lion: taint, defeated, really, characterized, judgment, gazette, eusebius, imagination, delighted, bodies\n",
            "africa: europe, america, united, east, germany, south, china, west, india, end\n",
            "musician: writer, actor, singer, author, king, english, composer, addition, poet, deaths\n",
            "dance: music, rock, third, game, jazz, concept, live, small, country, practice\n",
            "\n",
            "\n"
          ]
        },
        {
          "name": "stderr",
          "output_type": "stream",
          "text": [
            "3499it [01:26, 44.01it/s]"
          ]
        },
        {
          "name": "stdout",
          "output_type": "stream",
          "text": [
            "| epoch   4 |  3500/32580 batches | loss    0.719 \n"
          ]
        },
        {
          "name": "stderr",
          "output_type": "stream",
          "text": [
            "3509it [01:27, 30.38it/s]"
          ]
        },
        {
          "name": "stdout",
          "output_type": "stream",
          "text": [
            "money: battle, able, work, years, role, way, well, concept, fact, time\n",
            "lion: taint, defeated, really, characterized, judgment, gazette, eusebius, imagination, delighted, bodies\n",
            "africa: europe, america, united, east, germany, south, china, west, india, end\n",
            "musician: writer, actor, singer, author, king, english, composer, addition, poet, deaths\n",
            "dance: music, rock, third, game, jazz, concept, live, small, country, practice\n",
            "\n",
            "\n"
          ]
        },
        {
          "name": "stderr",
          "output_type": "stream",
          "text": [
            "3999it [01:38, 36.41it/s]"
          ]
        },
        {
          "name": "stdout",
          "output_type": "stream",
          "text": [
            "| epoch   4 |  4000/32580 batches | loss    0.716 \n"
          ]
        },
        {
          "name": "stderr",
          "output_type": "stream",
          "text": [
            "4008it [01:39, 27.08it/s]"
          ]
        },
        {
          "name": "stdout",
          "output_type": "stream",
          "text": [
            "money: battle, able, work, years, role, way, well, concept, fact, time\n",
            "lion: taint, defeated, really, characterized, judgment, gazette, eusebius, imagination, delighted, bodies\n",
            "africa: europe, america, united, east, germany, south, china, west, india, end\n",
            "musician: writer, actor, singer, author, king, english, composer, addition, poet, deaths\n",
            "dance: music, rock, third, game, jazz, concept, live, small, country, practice\n",
            "\n",
            "\n"
          ]
        },
        {
          "name": "stderr",
          "output_type": "stream",
          "text": [
            "4498it [01:50, 34.16it/s]"
          ]
        },
        {
          "name": "stdout",
          "output_type": "stream",
          "text": [
            "| epoch   4 |  4500/32580 batches | loss    0.717 \n"
          ]
        },
        {
          "name": "stderr",
          "output_type": "stream",
          "text": [
            "4505it [01:51, 21.51it/s]"
          ]
        },
        {
          "name": "stdout",
          "output_type": "stream",
          "text": [
            "money: battle, able, work, years, role, way, well, concept, fact, time\n",
            "lion: taint, defeated, really, characterized, judgment, gazette, eusebius, imagination, delighted, bodies\n",
            "africa: europe, america, united, east, germany, south, china, west, india, end\n",
            "musician: writer, actor, singer, author, king, english, composer, addition, poet, deaths\n",
            "dance: music, rock, third, game, jazz, concept, live, small, country, practice\n",
            "\n",
            "\n"
          ]
        },
        {
          "name": "stderr",
          "output_type": "stream",
          "text": [
            "4999it [02:02, 45.67it/s]"
          ]
        },
        {
          "name": "stdout",
          "output_type": "stream",
          "text": [
            "| epoch   4 |  5000/32580 batches | loss    0.716 \n"
          ]
        },
        {
          "name": "stderr",
          "output_type": "stream",
          "text": [
            "\r5004it [02:03, 24.54it/s]"
          ]
        },
        {
          "name": "stdout",
          "output_type": "stream",
          "text": [
            "money: battle, able, work, years, role, way, well, concept, fact, time\n",
            "lion: taint, defeated, really, characterized, judgment, gazette, eusebius, imagination, delighted, bodies\n",
            "africa: europe, america, united, east, germany, south, china, west, india, end\n",
            "musician: writer, actor, singer, author, king, english, composer, addition, poet, deaths\n",
            "dance: music, rock, third, game, jazz, concept, live, small, country, practice\n",
            "\n",
            "\n"
          ]
        },
        {
          "name": "stderr",
          "output_type": "stream",
          "text": [
            "5498it [02:14, 44.45it/s]"
          ]
        },
        {
          "name": "stdout",
          "output_type": "stream",
          "text": [
            "| epoch   4 |  5500/32580 batches | loss    0.716 \n"
          ]
        },
        {
          "name": "stderr",
          "output_type": "stream",
          "text": [
            "5508it [02:15, 30.18it/s]"
          ]
        },
        {
          "name": "stdout",
          "output_type": "stream",
          "text": [
            "money: battle, able, work, years, role, way, well, concept, fact, time\n",
            "lion: taint, defeated, really, characterized, judgment, gazette, eusebius, imagination, delighted, bodies\n",
            "africa: europe, america, united, east, germany, south, china, west, india, end\n",
            "musician: writer, actor, singer, author, king, english, composer, addition, poet, deaths\n",
            "dance: music, rock, third, game, jazz, concept, live, small, country, practice\n",
            "\n",
            "\n"
          ]
        },
        {
          "name": "stderr",
          "output_type": "stream",
          "text": [
            "6000it [02:27, 44.34it/s]"
          ]
        },
        {
          "name": "stdout",
          "output_type": "stream",
          "text": [
            "| epoch   4 |  6000/32580 batches | loss    0.715 \n"
          ]
        },
        {
          "name": "stderr",
          "output_type": "stream",
          "text": [
            "\r6005it [02:27, 27.23it/s]"
          ]
        },
        {
          "name": "stdout",
          "output_type": "stream",
          "text": [
            "money: battle, able, work, years, role, way, well, concept, fact, time\n",
            "lion: taint, defeated, really, characterized, judgment, gazette, eusebius, imagination, delighted, bodies\n",
            "africa: europe, america, united, east, germany, south, china, west, india, end\n",
            "musician: writer, actor, singer, author, king, english, composer, addition, poet, deaths\n",
            "dance: music, rock, third, game, jazz, concept, live, small, country, practice\n",
            "\n",
            "\n"
          ]
        },
        {
          "name": "stderr",
          "output_type": "stream",
          "text": [
            "6498it [02:39, 45.85it/s]"
          ]
        },
        {
          "name": "stdout",
          "output_type": "stream",
          "text": [
            "| epoch   4 |  6500/32580 batches | loss    0.718 \n"
          ]
        },
        {
          "name": "stderr",
          "output_type": "stream",
          "text": [
            "6508it [02:40, 30.81it/s]"
          ]
        },
        {
          "name": "stdout",
          "output_type": "stream",
          "text": [
            "money: battle, able, work, years, role, way, well, concept, fact, time\n",
            "lion: taint, defeated, really, characterized, judgment, gazette, eusebius, imagination, delighted, bodies\n",
            "africa: europe, america, united, east, germany, south, china, west, india, end\n",
            "musician: writer, actor, singer, author, king, english, composer, addition, poet, deaths\n",
            "dance: music, rock, third, game, jazz, concept, live, small, country, practice\n",
            "\n",
            "\n"
          ]
        },
        {
          "name": "stderr",
          "output_type": "stream",
          "text": [
            "6996it [02:51, 44.45it/s]"
          ]
        },
        {
          "name": "stdout",
          "output_type": "stream",
          "text": [
            "| epoch   4 |  7000/32580 batches | loss    0.718 \n"
          ]
        },
        {
          "name": "stderr",
          "output_type": "stream",
          "text": [
            "7005it [02:52, 29.05it/s]"
          ]
        },
        {
          "name": "stdout",
          "output_type": "stream",
          "text": [
            "money: battle, able, work, years, role, way, well, concept, fact, time\n",
            "lion: taint, defeated, really, characterized, judgment, gazette, eusebius, imagination, delighted, bodies\n",
            "africa: europe, america, united, east, germany, south, china, west, india, end\n",
            "musician: writer, actor, singer, author, king, english, composer, addition, poet, deaths\n",
            "dance: music, rock, third, game, jazz, concept, live, small, country, practice\n",
            "\n",
            "\n"
          ]
        },
        {
          "name": "stderr",
          "output_type": "stream",
          "text": [
            "7496it [03:04, 44.77it/s]"
          ]
        },
        {
          "name": "stdout",
          "output_type": "stream",
          "text": [
            "| epoch   4 |  7500/32580 batches | loss    0.717 \n"
          ]
        },
        {
          "name": "stderr",
          "output_type": "stream",
          "text": [
            "7505it [03:04, 28.86it/s]"
          ]
        },
        {
          "name": "stdout",
          "output_type": "stream",
          "text": [
            "money: battle, able, work, years, role, way, well, concept, fact, time\n",
            "lion: taint, defeated, really, characterized, judgment, gazette, eusebius, imagination, delighted, bodies\n",
            "africa: europe, america, united, east, germany, south, china, west, india, end\n",
            "musician: writer, actor, singer, author, king, english, composer, addition, poet, deaths\n",
            "dance: music, rock, third, game, jazz, concept, live, small, country, practice\n",
            "\n",
            "\n"
          ]
        },
        {
          "name": "stderr",
          "output_type": "stream",
          "text": [
            "7998it [03:16, 33.97it/s]"
          ]
        },
        {
          "name": "stdout",
          "output_type": "stream",
          "text": [
            "| epoch   4 |  8000/32580 batches | loss    0.718 \n"
          ]
        },
        {
          "name": "stderr",
          "output_type": "stream",
          "text": [
            "8007it [03:17, 22.64it/s]"
          ]
        },
        {
          "name": "stdout",
          "output_type": "stream",
          "text": [
            "money: battle, able, work, years, role, way, well, concept, fact, time\n",
            "lion: taint, defeated, really, characterized, judgment, gazette, eusebius, imagination, delighted, bodies\n",
            "africa: europe, america, united, east, germany, south, china, west, india, end\n",
            "musician: writer, actor, singer, author, king, english, composer, addition, poet, deaths\n",
            "dance: music, rock, third, game, jazz, concept, live, small, country, practice\n",
            "\n",
            "\n"
          ]
        },
        {
          "name": "stderr",
          "output_type": "stream",
          "text": [
            "8497it [03:29, 34.38it/s]"
          ]
        },
        {
          "name": "stdout",
          "output_type": "stream",
          "text": [
            "| epoch   4 |  8500/32580 batches | loss    0.716 \n"
          ]
        },
        {
          "name": "stderr",
          "output_type": "stream",
          "text": [
            "8504it [03:30, 20.13it/s]"
          ]
        },
        {
          "name": "stdout",
          "output_type": "stream",
          "text": [
            "money: battle, able, work, years, role, way, well, concept, fact, time\n",
            "lion: taint, defeated, really, characterized, judgment, gazette, eusebius, imagination, delighted, bodies\n",
            "africa: europe, america, united, east, germany, south, china, west, india, end\n",
            "musician: writer, actor, singer, author, king, english, composer, addition, poet, deaths\n",
            "dance: music, rock, third, game, jazz, concept, live, small, country, practice\n",
            "\n",
            "\n"
          ]
        },
        {
          "name": "stderr",
          "output_type": "stream",
          "text": [
            "9000it [03:41, 37.44it/s]"
          ]
        },
        {
          "name": "stdout",
          "output_type": "stream",
          "text": [
            "| epoch   4 |  9000/32580 batches | loss    0.717 \n"
          ]
        },
        {
          "name": "stderr",
          "output_type": "stream",
          "text": [
            "\r9004it [03:42, 20.01it/s]"
          ]
        },
        {
          "name": "stdout",
          "output_type": "stream",
          "text": [
            "money: battle, able, work, years, role, way, well, concept, fact, time\n",
            "lion: taint, defeated, really, characterized, judgment, gazette, eusebius, imagination, delighted, bodies\n",
            "africa: europe, america, united, east, germany, south, china, west, india, end\n",
            "musician: writer, actor, singer, author, king, english, composer, addition, poet, deaths\n",
            "dance: music, rock, third, game, jazz, concept, live, small, country, practice\n",
            "\n",
            "\n"
          ]
        },
        {
          "name": "stderr",
          "output_type": "stream",
          "text": [
            "9496it [03:53, 45.77it/s]"
          ]
        },
        {
          "name": "stdout",
          "output_type": "stream",
          "text": [
            "| epoch   4 |  9500/32580 batches | loss    0.718 \n"
          ]
        },
        {
          "name": "stderr",
          "output_type": "stream",
          "text": [
            "9505it [03:54, 29.37it/s]"
          ]
        },
        {
          "name": "stdout",
          "output_type": "stream",
          "text": [
            "money: battle, able, work, years, role, way, well, concept, fact, time\n",
            "lion: taint, defeated, really, characterized, judgment, gazette, eusebius, imagination, delighted, bodies\n",
            "africa: europe, america, united, east, germany, south, china, west, india, end\n",
            "musician: writer, actor, singer, author, king, english, composer, addition, poet, deaths\n",
            "dance: music, rock, third, game, jazz, concept, live, small, country, practice\n",
            "\n",
            "\n"
          ]
        },
        {
          "name": "stderr",
          "output_type": "stream",
          "text": [
            "9999it [04:05, 46.43it/s]"
          ]
        },
        {
          "name": "stdout",
          "output_type": "stream",
          "text": [
            "| epoch   4 | 10000/32580 batches | loss    0.718 \n"
          ]
        },
        {
          "name": "stderr",
          "output_type": "stream",
          "text": [
            "10009it [04:06, 31.36it/s]"
          ]
        },
        {
          "name": "stdout",
          "output_type": "stream",
          "text": [
            "money: battle, able, work, years, role, way, well, concept, fact, time\n",
            "lion: taint, defeated, really, characterized, judgment, gazette, eusebius, imagination, delighted, bodies\n",
            "africa: europe, america, united, east, germany, south, china, west, india, end\n",
            "musician: writer, actor, singer, author, king, english, composer, addition, poet, deaths\n",
            "dance: music, rock, third, game, jazz, concept, live, small, country, practice\n",
            "\n",
            "\n"
          ]
        },
        {
          "name": "stderr",
          "output_type": "stream",
          "text": [
            "10498it [04:18, 42.33it/s]"
          ]
        },
        {
          "name": "stdout",
          "output_type": "stream",
          "text": [
            "| epoch   4 | 10500/32580 batches | loss    0.715 \n"
          ]
        },
        {
          "name": "stderr",
          "output_type": "stream",
          "text": [
            "10508it [04:18, 29.71it/s]"
          ]
        },
        {
          "name": "stdout",
          "output_type": "stream",
          "text": [
            "money: battle, able, work, years, role, way, well, concept, fact, time\n",
            "lion: taint, defeated, really, characterized, judgment, gazette, eusebius, imagination, delighted, bodies\n",
            "africa: europe, america, united, east, germany, south, china, west, india, end\n",
            "musician: writer, actor, singer, author, king, english, composer, addition, poet, deaths\n",
            "dance: music, rock, third, game, jazz, concept, live, small, country, practice\n",
            "\n",
            "\n"
          ]
        },
        {
          "name": "stderr",
          "output_type": "stream",
          "text": [
            "10997it [04:30, 45.47it/s]"
          ]
        },
        {
          "name": "stdout",
          "output_type": "stream",
          "text": [
            "| epoch   4 | 11000/32580 batches | loss    0.716 \n"
          ]
        },
        {
          "name": "stderr",
          "output_type": "stream",
          "text": [
            "11006it [04:30, 30.00it/s]"
          ]
        },
        {
          "name": "stdout",
          "output_type": "stream",
          "text": [
            "money: battle, able, work, years, role, way, well, concept, fact, time\n",
            "lion: taint, defeated, really, characterized, judgment, gazette, eusebius, imagination, delighted, bodies\n",
            "africa: europe, america, united, east, germany, south, china, west, india, end\n",
            "musician: writer, actor, singer, author, king, english, composer, addition, poet, deaths\n",
            "dance: music, rock, third, game, jazz, concept, live, small, country, practice\n",
            "\n",
            "\n"
          ]
        },
        {
          "name": "stderr",
          "output_type": "stream",
          "text": [
            "11500it [04:42, 44.46it/s]"
          ]
        },
        {
          "name": "stdout",
          "output_type": "stream",
          "text": [
            "| epoch   4 | 11500/32580 batches | loss    0.717 \n"
          ]
        },
        {
          "name": "stderr",
          "output_type": "stream",
          "text": [
            "\r11505it [04:42, 27.00it/s]"
          ]
        },
        {
          "name": "stdout",
          "output_type": "stream",
          "text": [
            "money: battle, able, work, years, role, way, well, concept, fact, time\n",
            "lion: taint, defeated, really, characterized, judgment, gazette, eusebius, imagination, delighted, bodies\n",
            "africa: europe, america, united, east, germany, south, china, west, india, end\n",
            "musician: writer, actor, singer, author, king, english, composer, addition, poet, deaths\n",
            "dance: music, rock, third, game, jazz, concept, live, small, country, practice\n",
            "\n",
            "\n"
          ]
        },
        {
          "name": "stderr",
          "output_type": "stream",
          "text": [
            "12000it [04:54, 35.09it/s]"
          ]
        },
        {
          "name": "stdout",
          "output_type": "stream",
          "text": [
            "| epoch   4 | 12000/32580 batches | loss    0.716 \n"
          ]
        },
        {
          "name": "stderr",
          "output_type": "stream",
          "text": [
            "\r12004it [04:54, 19.24it/s]"
          ]
        },
        {
          "name": "stdout",
          "output_type": "stream",
          "text": [
            "money: battle, able, work, years, role, way, well, concept, fact, time\n",
            "lion: taint, defeated, really, characterized, judgment, gazette, eusebius, imagination, delighted, bodies\n",
            "africa: europe, america, united, east, germany, south, china, west, india, end\n",
            "musician: writer, actor, singer, author, king, english, composer, addition, poet, deaths\n",
            "dance: music, rock, third, game, jazz, concept, live, small, country, practice\n",
            "\n",
            "\n"
          ]
        },
        {
          "name": "stderr",
          "output_type": "stream",
          "text": [
            "12497it [05:06, 36.96it/s]"
          ]
        },
        {
          "name": "stdout",
          "output_type": "stream",
          "text": [
            "| epoch   4 | 12500/32580 batches | loss    0.716 \n"
          ]
        },
        {
          "name": "stderr",
          "output_type": "stream",
          "text": [
            "12504it [05:06, 21.36it/s]"
          ]
        },
        {
          "name": "stdout",
          "output_type": "stream",
          "text": [
            "money: battle, able, work, years, role, way, well, concept, fact, time\n",
            "lion: taint, defeated, really, characterized, judgment, gazette, eusebius, imagination, delighted, bodies\n",
            "africa: europe, america, united, east, germany, south, china, west, india, end\n",
            "musician: writer, actor, singer, author, king, english, composer, addition, poet, deaths\n",
            "dance: music, rock, third, game, jazz, concept, live, small, country, practice\n",
            "\n",
            "\n"
          ]
        },
        {
          "name": "stderr",
          "output_type": "stream",
          "text": [
            "13000it [05:18, 44.96it/s]"
          ]
        },
        {
          "name": "stdout",
          "output_type": "stream",
          "text": [
            "| epoch   4 | 13000/32580 batches | loss    0.714 \n"
          ]
        },
        {
          "name": "stderr",
          "output_type": "stream",
          "text": [
            "\r13005it [05:18, 27.38it/s]"
          ]
        },
        {
          "name": "stdout",
          "output_type": "stream",
          "text": [
            "money: battle, able, work, years, role, way, well, concept, fact, time\n",
            "lion: taint, defeated, really, characterized, judgment, gazette, eusebius, imagination, delighted, bodies\n",
            "africa: europe, america, united, east, germany, south, china, west, india, end\n",
            "musician: writer, actor, singer, author, king, english, composer, addition, poet, deaths\n",
            "dance: music, rock, third, game, jazz, concept, live, small, country, practice\n",
            "\n",
            "\n"
          ]
        },
        {
          "name": "stderr",
          "output_type": "stream",
          "text": [
            "13499it [05:30, 44.42it/s]"
          ]
        },
        {
          "name": "stdout",
          "output_type": "stream",
          "text": [
            "| epoch   4 | 13500/32580 batches | loss    0.718 \n"
          ]
        },
        {
          "name": "stderr",
          "output_type": "stream",
          "text": [
            "13509it [05:30, 30.74it/s]"
          ]
        },
        {
          "name": "stdout",
          "output_type": "stream",
          "text": [
            "money: battle, able, work, years, role, way, well, concept, fact, time\n",
            "lion: taint, defeated, really, characterized, judgment, gazette, eusebius, imagination, delighted, bodies\n",
            "africa: europe, america, united, east, germany, south, china, west, india, end\n",
            "musician: writer, actor, singer, author, king, english, composer, addition, poet, deaths\n",
            "dance: music, rock, third, game, jazz, concept, live, small, country, practice\n",
            "\n",
            "\n"
          ]
        },
        {
          "name": "stderr",
          "output_type": "stream",
          "text": [
            "13998it [05:42, 45.77it/s]"
          ]
        },
        {
          "name": "stdout",
          "output_type": "stream",
          "text": [
            "| epoch   4 | 14000/32580 batches | loss    0.717 \n"
          ]
        },
        {
          "name": "stderr",
          "output_type": "stream",
          "text": [
            "14008it [05:43, 30.88it/s]"
          ]
        },
        {
          "name": "stdout",
          "output_type": "stream",
          "text": [
            "money: battle, able, work, years, role, way, well, concept, fact, time\n",
            "lion: taint, defeated, really, characterized, judgment, gazette, eusebius, imagination, delighted, bodies\n",
            "africa: europe, america, united, east, germany, south, china, west, india, end\n",
            "musician: writer, actor, singer, author, king, english, composer, addition, poet, deaths\n",
            "dance: music, rock, third, game, jazz, concept, live, small, country, practice\n",
            "\n",
            "\n"
          ]
        },
        {
          "name": "stderr",
          "output_type": "stream",
          "text": [
            "14496it [05:54, 45.37it/s]"
          ]
        },
        {
          "name": "stdout",
          "output_type": "stream",
          "text": [
            "| epoch   4 | 14500/32580 batches | loss    0.716 \n"
          ]
        },
        {
          "name": "stderr",
          "output_type": "stream",
          "text": [
            "14505it [05:55, 29.90it/s]"
          ]
        },
        {
          "name": "stdout",
          "output_type": "stream",
          "text": [
            "money: battle, able, work, years, role, way, well, concept, fact, time\n",
            "lion: taint, defeated, really, characterized, judgment, gazette, eusebius, imagination, delighted, bodies\n",
            "africa: europe, america, united, east, germany, south, china, west, india, end\n",
            "musician: writer, actor, singer, author, king, english, composer, addition, poet, deaths\n",
            "dance: music, rock, third, game, jazz, concept, live, small, country, practice\n",
            "\n",
            "\n"
          ]
        },
        {
          "name": "stderr",
          "output_type": "stream",
          "text": [
            "15000it [06:06, 45.93it/s]"
          ]
        },
        {
          "name": "stdout",
          "output_type": "stream",
          "text": [
            "| epoch   4 | 15000/32580 batches | loss    0.716 \n"
          ]
        },
        {
          "name": "stderr",
          "output_type": "stream",
          "text": [
            "\r15005it [06:07, 27.38it/s]"
          ]
        },
        {
          "name": "stdout",
          "output_type": "stream",
          "text": [
            "money: battle, able, work, years, role, way, well, concept, fact, time\n",
            "lion: taint, defeated, really, characterized, judgment, gazette, eusebius, imagination, delighted, bodies\n",
            "africa: europe, america, united, east, germany, south, china, west, india, end\n",
            "musician: writer, actor, singer, author, king, english, composer, addition, poet, deaths\n",
            "dance: music, rock, third, game, jazz, concept, live, small, country, practice\n",
            "\n",
            "\n"
          ]
        },
        {
          "name": "stderr",
          "output_type": "stream",
          "text": [
            "15499it [06:18, 35.56it/s]"
          ]
        },
        {
          "name": "stdout",
          "output_type": "stream",
          "text": [
            "| epoch   4 | 15500/32580 batches | loss    0.717 \n"
          ]
        },
        {
          "name": "stderr",
          "output_type": "stream",
          "text": [
            "\r15503it [06:19, 18.45it/s]"
          ]
        },
        {
          "name": "stdout",
          "output_type": "stream",
          "text": [
            "money: battle, able, work, years, role, way, well, concept, fact, time\n",
            "lion: taint, defeated, really, characterized, judgment, gazette, eusebius, imagination, delighted, bodies\n",
            "africa: europe, america, united, east, germany, south, china, west, india, end\n",
            "musician: writer, actor, singer, author, king, english, composer, addition, poet, deaths\n",
            "dance: music, rock, third, game, jazz, concept, live, small, country, practice\n",
            "\n",
            "\n"
          ]
        },
        {
          "name": "stderr",
          "output_type": "stream",
          "text": [
            "15998it [06:30, 36.39it/s]"
          ]
        },
        {
          "name": "stdout",
          "output_type": "stream",
          "text": [
            "| epoch   4 | 16000/32580 batches | loss    0.718 \n"
          ]
        },
        {
          "name": "stderr",
          "output_type": "stream",
          "text": [
            "16006it [06:30, 22.30it/s]"
          ]
        },
        {
          "name": "stdout",
          "output_type": "stream",
          "text": [
            "money: battle, able, work, years, role, way, well, concept, fact, time\n",
            "lion: taint, defeated, really, characterized, judgment, gazette, eusebius, imagination, delighted, bodies\n",
            "africa: europe, america, united, east, germany, south, china, west, india, end\n",
            "musician: writer, actor, singer, author, king, english, composer, addition, poet, deaths\n",
            "dance: music, rock, third, game, jazz, concept, live, small, country, practice\n",
            "\n",
            "\n"
          ]
        },
        {
          "name": "stderr",
          "output_type": "stream",
          "text": [
            "16499it [06:42, 45.93it/s]"
          ]
        },
        {
          "name": "stdout",
          "output_type": "stream",
          "text": [
            "| epoch   4 | 16500/32580 batches | loss    0.715 \n"
          ]
        },
        {
          "name": "stderr",
          "output_type": "stream",
          "text": [
            "16509it [06:42, 31.38it/s]"
          ]
        },
        {
          "name": "stdout",
          "output_type": "stream",
          "text": [
            "money: battle, able, work, years, role, way, well, concept, fact, time\n",
            "lion: taint, defeated, really, characterized, judgment, gazette, eusebius, imagination, delighted, bodies\n",
            "africa: europe, america, united, east, germany, south, china, west, india, end\n",
            "musician: writer, actor, singer, author, king, english, composer, addition, poet, deaths\n",
            "dance: music, rock, third, game, jazz, concept, live, small, country, practice\n",
            "\n",
            "\n"
          ]
        },
        {
          "name": "stderr",
          "output_type": "stream",
          "text": [
            "16996it [06:54, 46.15it/s]"
          ]
        },
        {
          "name": "stdout",
          "output_type": "stream",
          "text": [
            "| epoch   4 | 17000/32580 batches | loss    0.715 \n"
          ]
        },
        {
          "name": "stderr",
          "output_type": "stream",
          "text": [
            "17005it [06:54, 30.35it/s]"
          ]
        },
        {
          "name": "stdout",
          "output_type": "stream",
          "text": [
            "money: battle, able, work, years, role, way, well, concept, fact, time\n",
            "lion: taint, defeated, really, characterized, judgment, gazette, eusebius, imagination, delighted, bodies\n",
            "africa: europe, america, united, east, germany, south, china, west, india, end\n",
            "musician: writer, actor, singer, author, king, english, composer, addition, poet, deaths\n",
            "dance: music, rock, third, game, jazz, concept, live, small, country, practice\n",
            "\n",
            "\n"
          ]
        },
        {
          "name": "stderr",
          "output_type": "stream",
          "text": [
            "17498it [07:06, 46.45it/s]"
          ]
        },
        {
          "name": "stdout",
          "output_type": "stream",
          "text": [
            "| epoch   4 | 17500/32580 batches | loss    0.716 \n"
          ]
        },
        {
          "name": "stderr",
          "output_type": "stream",
          "text": [
            "17507it [07:06, 29.78it/s]"
          ]
        },
        {
          "name": "stdout",
          "output_type": "stream",
          "text": [
            "money: battle, able, work, years, role, way, well, concept, fact, time\n",
            "lion: taint, defeated, really, characterized, judgment, gazette, eusebius, imagination, delighted, bodies\n",
            "africa: europe, america, united, east, germany, south, china, west, india, end\n",
            "musician: writer, actor, singer, author, king, english, composer, addition, poet, deaths\n",
            "dance: music, rock, third, game, jazz, concept, live, small, country, practice\n",
            "\n",
            "\n"
          ]
        },
        {
          "name": "stderr",
          "output_type": "stream",
          "text": [
            "18000it [07:18, 44.92it/s]"
          ]
        },
        {
          "name": "stdout",
          "output_type": "stream",
          "text": [
            "| epoch   4 | 18000/32580 batches | loss    0.718 \n"
          ]
        },
        {
          "name": "stderr",
          "output_type": "stream",
          "text": [
            "\r18005it [07:18, 24.01it/s]"
          ]
        },
        {
          "name": "stdout",
          "output_type": "stream",
          "text": [
            "money: battle, able, work, years, role, way, well, concept, fact, time\n",
            "lion: taint, defeated, really, characterized, judgment, gazette, eusebius, imagination, delighted, bodies\n",
            "africa: europe, america, united, east, germany, south, china, west, india, end\n",
            "musician: writer, actor, singer, author, king, english, composer, addition, poet, deaths\n",
            "dance: music, rock, third, game, jazz, concept, live, small, country, practice\n",
            "\n",
            "\n"
          ]
        },
        {
          "name": "stderr",
          "output_type": "stream",
          "text": [
            "18496it [07:30, 45.48it/s]"
          ]
        },
        {
          "name": "stdout",
          "output_type": "stream",
          "text": [
            "| epoch   4 | 18500/32580 batches | loss    0.720 \n"
          ]
        },
        {
          "name": "stderr",
          "output_type": "stream",
          "text": [
            "18505it [07:31, 30.21it/s]"
          ]
        },
        {
          "name": "stdout",
          "output_type": "stream",
          "text": [
            "money: battle, able, work, years, role, way, well, concept, fact, time\n",
            "lion: taint, defeated, really, characterized, judgment, gazette, eusebius, imagination, delighted, bodies\n",
            "africa: europe, america, united, east, germany, south, china, west, india, end\n",
            "musician: writer, actor, singer, author, king, english, composer, addition, poet, deaths\n",
            "dance: music, rock, third, game, jazz, concept, live, small, country, practice\n",
            "\n",
            "\n"
          ]
        },
        {
          "name": "stderr",
          "output_type": "stream",
          "text": [
            "18998it [07:43, 39.46it/s]"
          ]
        },
        {
          "name": "stdout",
          "output_type": "stream",
          "text": [
            "| epoch   4 | 19000/32580 batches | loss    0.715 \n"
          ]
        },
        {
          "name": "stderr",
          "output_type": "stream",
          "text": [
            "19007it [07:44, 29.16it/s]"
          ]
        },
        {
          "name": "stdout",
          "output_type": "stream",
          "text": [
            "money: battle, able, work, years, role, way, well, concept, fact, time\n",
            "lion: taint, defeated, really, characterized, judgment, gazette, eusebius, imagination, delighted, bodies\n",
            "africa: europe, america, united, east, germany, south, china, west, india, end\n",
            "musician: writer, actor, singer, author, king, english, composer, addition, poet, deaths\n",
            "dance: music, rock, third, game, jazz, concept, live, small, country, practice\n",
            "\n",
            "\n"
          ]
        },
        {
          "name": "stderr",
          "output_type": "stream",
          "text": [
            "19499it [07:55, 35.47it/s]"
          ]
        },
        {
          "name": "stdout",
          "output_type": "stream",
          "text": [
            "| epoch   4 | 19500/32580 batches | loss    0.716 \n"
          ]
        },
        {
          "name": "stderr",
          "output_type": "stream",
          "text": [
            "19507it [07:56, 22.18it/s]"
          ]
        },
        {
          "name": "stdout",
          "output_type": "stream",
          "text": [
            "money: battle, able, work, years, role, way, well, concept, fact, time\n",
            "lion: taint, defeated, really, characterized, judgment, gazette, eusebius, imagination, delighted, bodies\n",
            "africa: europe, america, united, east, germany, south, china, west, india, end\n",
            "musician: writer, actor, singer, author, king, english, composer, addition, poet, deaths\n",
            "dance: music, rock, third, game, jazz, concept, live, small, country, practice\n",
            "\n",
            "\n"
          ]
        },
        {
          "name": "stderr",
          "output_type": "stream",
          "text": [
            "19998it [08:10, 34.65it/s]"
          ]
        },
        {
          "name": "stdout",
          "output_type": "stream",
          "text": [
            "| epoch   4 | 20000/32580 batches | loss    0.717 \n"
          ]
        },
        {
          "name": "stderr",
          "output_type": "stream",
          "text": [
            "20006it [08:11, 22.60it/s]"
          ]
        },
        {
          "name": "stdout",
          "output_type": "stream",
          "text": [
            "money: battle, able, work, years, role, way, well, concept, fact, time\n",
            "lion: taint, defeated, really, characterized, judgment, gazette, eusebius, imagination, delighted, bodies\n",
            "africa: europe, america, united, east, germany, south, china, west, india, end\n",
            "musician: writer, actor, singer, author, king, english, composer, addition, poet, deaths\n",
            "dance: music, rock, third, game, jazz, concept, live, small, country, practice\n",
            "\n",
            "\n"
          ]
        },
        {
          "name": "stderr",
          "output_type": "stream",
          "text": [
            "20500it [08:22, 36.35it/s]"
          ]
        },
        {
          "name": "stdout",
          "output_type": "stream",
          "text": [
            "| epoch   4 | 20500/32580 batches | loss    0.716 \n"
          ]
        },
        {
          "name": "stderr",
          "output_type": "stream",
          "text": [
            "\r20504it [08:22, 19.36it/s]"
          ]
        },
        {
          "name": "stdout",
          "output_type": "stream",
          "text": [
            "money: battle, able, work, years, role, way, well, concept, fact, time\n",
            "lion: taint, defeated, really, characterized, judgment, gazette, eusebius, imagination, delighted, bodies\n",
            "africa: europe, america, united, east, germany, south, china, west, india, end\n",
            "musician: writer, actor, singer, author, king, english, composer, addition, poet, deaths\n",
            "dance: music, rock, third, game, jazz, concept, live, small, country, practice\n",
            "\n",
            "\n"
          ]
        },
        {
          "name": "stderr",
          "output_type": "stream",
          "text": [
            "20999it [08:33, 46.72it/s]"
          ]
        },
        {
          "name": "stdout",
          "output_type": "stream",
          "text": [
            "| epoch   4 | 21000/32580 batches | loss    0.716 \n"
          ]
        },
        {
          "name": "stderr",
          "output_type": "stream",
          "text": [
            "21009it [08:34, 31.12it/s]"
          ]
        },
        {
          "name": "stdout",
          "output_type": "stream",
          "text": [
            "money: battle, able, work, years, role, way, well, concept, fact, time\n",
            "lion: taint, defeated, really, characterized, judgment, gazette, eusebius, imagination, delighted, bodies\n",
            "africa: europe, america, united, east, germany, south, china, west, india, end\n",
            "musician: writer, actor, singer, author, king, english, composer, addition, poet, deaths\n",
            "dance: music, rock, third, game, jazz, concept, live, small, country, practice\n",
            "\n",
            "\n"
          ]
        },
        {
          "name": "stderr",
          "output_type": "stream",
          "text": [
            "21498it [08:46, 45.73it/s]"
          ]
        },
        {
          "name": "stdout",
          "output_type": "stream",
          "text": [
            "| epoch   4 | 21500/32580 batches | loss    0.720 \n"
          ]
        },
        {
          "name": "stderr",
          "output_type": "stream",
          "text": [
            "21508it [08:46, 30.55it/s]"
          ]
        },
        {
          "name": "stdout",
          "output_type": "stream",
          "text": [
            "money: battle, able, work, years, role, way, well, concept, fact, time\n",
            "lion: taint, defeated, really, characterized, judgment, gazette, eusebius, imagination, delighted, bodies\n",
            "africa: europe, america, united, east, germany, south, china, west, india, end\n",
            "musician: writer, actor, singer, author, king, english, composer, addition, poet, deaths\n",
            "dance: music, rock, third, game, jazz, concept, live, small, country, practice\n",
            "\n",
            "\n"
          ]
        },
        {
          "name": "stderr",
          "output_type": "stream",
          "text": [
            "21997it [08:58, 45.27it/s]"
          ]
        },
        {
          "name": "stdout",
          "output_type": "stream",
          "text": [
            "| epoch   4 | 22000/32580 batches | loss    0.716 \n"
          ]
        },
        {
          "name": "stderr",
          "output_type": "stream",
          "text": [
            "22006it [08:58, 30.03it/s]"
          ]
        },
        {
          "name": "stdout",
          "output_type": "stream",
          "text": [
            "money: battle, able, work, years, role, way, well, concept, fact, time\n",
            "lion: taint, defeated, really, characterized, judgment, gazette, eusebius, imagination, delighted, bodies\n",
            "africa: europe, america, united, east, germany, south, china, west, india, end\n",
            "musician: writer, actor, singer, author, king, english, composer, addition, poet, deaths\n",
            "dance: music, rock, third, game, jazz, concept, live, small, country, practice\n",
            "\n",
            "\n"
          ]
        },
        {
          "name": "stderr",
          "output_type": "stream",
          "text": [
            "22499it [09:10, 45.57it/s]"
          ]
        },
        {
          "name": "stdout",
          "output_type": "stream",
          "text": [
            "| epoch   4 | 22500/32580 batches | loss    0.716 \n"
          ]
        },
        {
          "name": "stderr",
          "output_type": "stream",
          "text": [
            "22509it [09:10, 31.45it/s]"
          ]
        },
        {
          "name": "stdout",
          "output_type": "stream",
          "text": [
            "money: battle, able, work, years, role, way, well, concept, fact, time\n",
            "lion: taint, defeated, really, characterized, judgment, gazette, eusebius, imagination, delighted, bodies\n",
            "africa: europe, america, united, east, germany, south, china, west, india, end\n",
            "musician: writer, actor, singer, author, king, english, composer, addition, poet, deaths\n",
            "dance: music, rock, third, game, jazz, concept, live, small, country, practice\n",
            "\n",
            "\n"
          ]
        },
        {
          "name": "stderr",
          "output_type": "stream",
          "text": [
            "22996it [09:22, 45.61it/s]"
          ]
        },
        {
          "name": "stdout",
          "output_type": "stream",
          "text": [
            "| epoch   4 | 23000/32580 batches | loss    0.715 \n"
          ]
        },
        {
          "name": "stderr",
          "output_type": "stream",
          "text": [
            "23005it [09:23, 29.49it/s]"
          ]
        },
        {
          "name": "stdout",
          "output_type": "stream",
          "text": [
            "money: battle, able, work, years, role, way, well, concept, fact, time\n",
            "lion: taint, defeated, really, characterized, judgment, gazette, eusebius, imagination, delighted, bodies\n",
            "africa: europe, america, united, east, germany, south, china, west, india, end\n",
            "musician: writer, actor, singer, author, king, english, composer, addition, poet, deaths\n",
            "dance: music, rock, third, game, jazz, concept, live, small, country, practice\n",
            "\n",
            "\n"
          ]
        },
        {
          "name": "stderr",
          "output_type": "stream",
          "text": [
            "23500it [09:34, 34.63it/s]"
          ]
        },
        {
          "name": "stdout",
          "output_type": "stream",
          "text": [
            "| epoch   4 | 23500/32580 batches | loss    0.715 \n"
          ]
        },
        {
          "name": "stderr",
          "output_type": "stream",
          "text": [
            "\r23504it [09:34, 20.04it/s]"
          ]
        },
        {
          "name": "stdout",
          "output_type": "stream",
          "text": [
            "money: battle, able, work, years, role, way, well, concept, fact, time\n",
            "lion: taint, defeated, really, characterized, judgment, gazette, eusebius, imagination, delighted, bodies\n",
            "africa: europe, america, united, east, germany, south, china, west, india, end\n",
            "musician: writer, actor, singer, author, king, english, composer, addition, poet, deaths\n",
            "dance: music, rock, third, game, jazz, concept, live, small, country, practice\n",
            "\n",
            "\n"
          ]
        },
        {
          "name": "stderr",
          "output_type": "stream",
          "text": [
            "23999it [09:46, 36.95it/s]"
          ]
        },
        {
          "name": "stdout",
          "output_type": "stream",
          "text": [
            "| epoch   4 | 24000/32580 batches | loss    0.717 \n"
          ]
        },
        {
          "name": "stderr",
          "output_type": "stream",
          "text": [
            "\r24003it [09:46, 20.13it/s]"
          ]
        },
        {
          "name": "stdout",
          "output_type": "stream",
          "text": [
            "money: battle, able, work, years, role, way, well, concept, fact, time\n",
            "lion: taint, defeated, really, characterized, judgment, gazette, eusebius, imagination, delighted, bodies\n",
            "africa: europe, america, united, east, germany, south, china, west, india, end\n",
            "musician: writer, actor, singer, author, king, english, composer, addition, poet, deaths\n",
            "dance: music, rock, third, game, jazz, concept, live, small, country, practice\n",
            "\n",
            "\n"
          ]
        },
        {
          "name": "stderr",
          "output_type": "stream",
          "text": [
            "24499it [09:57, 46.17it/s]"
          ]
        },
        {
          "name": "stdout",
          "output_type": "stream",
          "text": [
            "| epoch   4 | 24500/32580 batches | loss    0.716 \n"
          ]
        },
        {
          "name": "stderr",
          "output_type": "stream",
          "text": [
            "24509it [09:58, 31.73it/s]"
          ]
        },
        {
          "name": "stdout",
          "output_type": "stream",
          "text": [
            "money: battle, able, work, years, role, way, well, concept, fact, time\n",
            "lion: taint, defeated, really, characterized, judgment, gazette, eusebius, imagination, delighted, bodies\n",
            "africa: europe, america, united, east, germany, south, china, west, india, end\n",
            "musician: writer, actor, singer, author, king, english, composer, addition, poet, deaths\n",
            "dance: music, rock, third, game, jazz, concept, live, small, country, practice\n",
            "\n",
            "\n"
          ]
        },
        {
          "name": "stderr",
          "output_type": "stream",
          "text": [
            "24999it [10:10, 44.95it/s]"
          ]
        },
        {
          "name": "stdout",
          "output_type": "stream",
          "text": [
            "| epoch   4 | 25000/32580 batches | loss    0.716 \n"
          ]
        },
        {
          "name": "stderr",
          "output_type": "stream",
          "text": [
            "25009it [10:10, 30.74it/s]"
          ]
        },
        {
          "name": "stdout",
          "output_type": "stream",
          "text": [
            "money: battle, able, work, years, role, way, well, concept, fact, time\n",
            "lion: taint, defeated, really, characterized, judgment, gazette, eusebius, imagination, delighted, bodies\n",
            "africa: europe, america, united, east, germany, south, china, west, india, end\n",
            "musician: writer, actor, singer, author, king, english, composer, addition, poet, deaths\n",
            "dance: music, rock, third, game, jazz, concept, live, small, country, practice\n",
            "\n",
            "\n"
          ]
        },
        {
          "name": "stderr",
          "output_type": "stream",
          "text": [
            "25497it [10:22, 45.51it/s]"
          ]
        },
        {
          "name": "stdout",
          "output_type": "stream",
          "text": [
            "| epoch   4 | 25500/32580 batches | loss    0.718 \n"
          ]
        },
        {
          "name": "stderr",
          "output_type": "stream",
          "text": [
            "25507it [10:22, 30.69it/s]"
          ]
        },
        {
          "name": "stdout",
          "output_type": "stream",
          "text": [
            "money: battle, able, work, years, role, way, well, concept, fact, time\n",
            "lion: taint, defeated, really, characterized, judgment, gazette, eusebius, imagination, delighted, bodies\n",
            "africa: europe, america, united, east, germany, south, china, west, india, end\n",
            "musician: writer, actor, singer, author, king, english, composer, addition, poet, deaths\n",
            "dance: music, rock, third, game, jazz, concept, live, small, country, practice\n",
            "\n",
            "\n"
          ]
        },
        {
          "name": "stderr",
          "output_type": "stream",
          "text": [
            "26000it [10:34, 46.03it/s]"
          ]
        },
        {
          "name": "stdout",
          "output_type": "stream",
          "text": [
            "| epoch   4 | 26000/32580 batches | loss    0.717 \n"
          ]
        },
        {
          "name": "stderr",
          "output_type": "stream",
          "text": [
            "\r26005it [10:34, 27.06it/s]"
          ]
        },
        {
          "name": "stdout",
          "output_type": "stream",
          "text": [
            "money: battle, able, work, years, role, way, well, concept, fact, time\n",
            "lion: taint, defeated, really, characterized, judgment, gazette, eusebius, imagination, delighted, bodies\n",
            "africa: europe, america, united, east, germany, south, china, west, india, end\n",
            "musician: writer, actor, singer, author, king, english, composer, addition, poet, deaths\n",
            "dance: music, rock, third, game, jazz, concept, live, small, country, practice\n",
            "\n",
            "\n"
          ]
        },
        {
          "name": "stderr",
          "output_type": "stream",
          "text": [
            "26497it [10:46, 45.90it/s]"
          ]
        },
        {
          "name": "stdout",
          "output_type": "stream",
          "text": [
            "| epoch   4 | 26500/32580 batches | loss    0.717 \n"
          ]
        },
        {
          "name": "stderr",
          "output_type": "stream",
          "text": [
            "26506it [10:46, 30.16it/s]"
          ]
        },
        {
          "name": "stdout",
          "output_type": "stream",
          "text": [
            "money: battle, able, work, years, role, way, well, concept, fact, time\n",
            "lion: taint, defeated, really, characterized, judgment, gazette, eusebius, imagination, delighted, bodies\n",
            "africa: europe, america, united, east, germany, south, china, west, india, end\n",
            "musician: writer, actor, singer, author, king, english, composer, addition, poet, deaths\n",
            "dance: music, rock, third, game, jazz, concept, live, small, country, practice\n",
            "\n",
            "\n"
          ]
        },
        {
          "name": "stderr",
          "output_type": "stream",
          "text": [
            "26997it [10:58, 36.02it/s]"
          ]
        },
        {
          "name": "stdout",
          "output_type": "stream",
          "text": [
            "| epoch   4 | 27000/32580 batches | loss    0.717 \n"
          ]
        },
        {
          "name": "stderr",
          "output_type": "stream",
          "text": [
            "27004it [10:58, 20.81it/s]"
          ]
        },
        {
          "name": "stdout",
          "output_type": "stream",
          "text": [
            "money: battle, able, work, years, role, way, well, concept, fact, time\n",
            "lion: taint, defeated, really, characterized, judgment, gazette, eusebius, imagination, delighted, bodies\n",
            "africa: europe, america, united, east, germany, south, china, west, india, end\n",
            "musician: writer, actor, singer, author, king, english, composer, addition, poet, deaths\n",
            "dance: music, rock, third, game, jazz, concept, live, small, country, practice\n",
            "\n",
            "\n"
          ]
        },
        {
          "name": "stderr",
          "output_type": "stream",
          "text": [
            "27498it [11:09, 38.10it/s]"
          ]
        },
        {
          "name": "stdout",
          "output_type": "stream",
          "text": [
            "| epoch   4 | 27500/32580 batches | loss    0.714 \n"
          ]
        },
        {
          "name": "stderr",
          "output_type": "stream",
          "text": [
            "27505it [11:10, 21.70it/s]"
          ]
        },
        {
          "name": "stdout",
          "output_type": "stream",
          "text": [
            "money: battle, able, work, years, role, way, well, concept, fact, time\n",
            "lion: taint, defeated, really, characterized, judgment, gazette, eusebius, imagination, delighted, bodies\n",
            "africa: europe, america, united, east, germany, south, china, west, india, end\n",
            "musician: writer, actor, singer, author, king, english, composer, addition, poet, deaths\n",
            "dance: music, rock, third, game, jazz, concept, live, small, country, practice\n",
            "\n",
            "\n"
          ]
        },
        {
          "name": "stderr",
          "output_type": "stream",
          "text": [
            "27999it [11:21, 44.79it/s]"
          ]
        },
        {
          "name": "stdout",
          "output_type": "stream",
          "text": [
            "| epoch   4 | 28000/32580 batches | loss    0.716 \n"
          ]
        },
        {
          "name": "stderr",
          "output_type": "stream",
          "text": [
            "28009it [11:22, 30.62it/s]"
          ]
        },
        {
          "name": "stdout",
          "output_type": "stream",
          "text": [
            "money: battle, able, work, years, role, way, well, concept, fact, time\n",
            "lion: taint, defeated, really, characterized, judgment, gazette, eusebius, imagination, delighted, bodies\n",
            "africa: europe, america, united, east, germany, south, china, west, india, end\n",
            "musician: writer, actor, singer, author, king, english, composer, addition, poet, deaths\n",
            "dance: music, rock, third, game, jazz, concept, live, small, country, practice\n",
            "\n",
            "\n"
          ]
        },
        {
          "name": "stderr",
          "output_type": "stream",
          "text": [
            "28498it [11:34, 45.55it/s]"
          ]
        },
        {
          "name": "stdout",
          "output_type": "stream",
          "text": [
            "| epoch   4 | 28500/32580 batches | loss    0.716 \n"
          ]
        },
        {
          "name": "stderr",
          "output_type": "stream",
          "text": [
            "28508it [11:34, 30.57it/s]"
          ]
        },
        {
          "name": "stdout",
          "output_type": "stream",
          "text": [
            "money: battle, able, work, years, role, way, well, concept, fact, time\n",
            "lion: taint, defeated, really, characterized, judgment, gazette, eusebius, imagination, delighted, bodies\n",
            "africa: europe, america, united, east, germany, south, china, west, india, end\n",
            "musician: writer, actor, singer, author, king, english, composer, addition, poet, deaths\n",
            "dance: music, rock, third, game, jazz, concept, live, small, country, practice\n",
            "\n",
            "\n"
          ]
        },
        {
          "name": "stderr",
          "output_type": "stream",
          "text": [
            "28998it [11:46, 45.96it/s]"
          ]
        },
        {
          "name": "stdout",
          "output_type": "stream",
          "text": [
            "| epoch   4 | 29000/32580 batches | loss    0.717 \n"
          ]
        },
        {
          "name": "stderr",
          "output_type": "stream",
          "text": [
            "29008it [11:46, 30.53it/s]"
          ]
        },
        {
          "name": "stdout",
          "output_type": "stream",
          "text": [
            "money: battle, able, work, years, role, way, well, concept, fact, time\n",
            "lion: taint, defeated, really, characterized, judgment, gazette, eusebius, imagination, delighted, bodies\n",
            "africa: europe, america, united, east, germany, south, china, west, india, end\n",
            "musician: writer, actor, singer, author, king, english, composer, addition, poet, deaths\n",
            "dance: music, rock, third, game, jazz, concept, live, small, country, practice\n",
            "\n",
            "\n"
          ]
        },
        {
          "name": "stderr",
          "output_type": "stream",
          "text": [
            "29496it [11:59, 42.99it/s]"
          ]
        },
        {
          "name": "stdout",
          "output_type": "stream",
          "text": [
            "| epoch   4 | 29500/32580 batches | loss    0.716 \n"
          ]
        },
        {
          "name": "stderr",
          "output_type": "stream",
          "text": [
            "29505it [12:00, 28.87it/s]"
          ]
        },
        {
          "name": "stdout",
          "output_type": "stream",
          "text": [
            "money: battle, able, work, years, role, way, well, concept, fact, time\n",
            "lion: taint, defeated, really, characterized, judgment, gazette, eusebius, imagination, delighted, bodies\n",
            "africa: europe, america, united, east, germany, south, china, west, india, end\n",
            "musician: writer, actor, singer, author, king, english, composer, addition, poet, deaths\n",
            "dance: music, rock, third, game, jazz, concept, live, small, country, practice\n",
            "\n",
            "\n"
          ]
        },
        {
          "name": "stderr",
          "output_type": "stream",
          "text": [
            "29998it [12:11, 45.25it/s]"
          ]
        },
        {
          "name": "stdout",
          "output_type": "stream",
          "text": [
            "| epoch   4 | 30000/32580 batches | loss    0.714 \n"
          ]
        },
        {
          "name": "stderr",
          "output_type": "stream",
          "text": [
            "30008it [12:12, 30.79it/s]"
          ]
        },
        {
          "name": "stdout",
          "output_type": "stream",
          "text": [
            "money: battle, able, work, years, role, way, well, concept, fact, time\n",
            "lion: taint, defeated, really, characterized, judgment, gazette, eusebius, imagination, delighted, bodies\n",
            "africa: europe, america, united, east, germany, south, china, west, india, end\n",
            "musician: writer, actor, singer, author, king, english, composer, addition, poet, deaths\n",
            "dance: music, rock, third, game, jazz, concept, live, small, country, practice\n",
            "\n",
            "\n"
          ]
        },
        {
          "name": "stderr",
          "output_type": "stream",
          "text": [
            "30499it [12:23, 35.46it/s]"
          ]
        },
        {
          "name": "stdout",
          "output_type": "stream",
          "text": [
            "| epoch   4 | 30500/32580 batches | loss    0.717 \n"
          ]
        },
        {
          "name": "stderr",
          "output_type": "stream",
          "text": [
            "30507it [12:24, 21.51it/s]"
          ]
        },
        {
          "name": "stdout",
          "output_type": "stream",
          "text": [
            "money: battle, able, work, years, role, way, well, concept, fact, time\n",
            "lion: taint, defeated, really, characterized, judgment, gazette, eusebius, imagination, delighted, bodies\n",
            "africa: europe, america, united, east, germany, south, china, west, india, end\n",
            "musician: writer, actor, singer, author, king, english, composer, addition, poet, deaths\n",
            "dance: music, rock, third, game, jazz, concept, live, small, country, practice\n",
            "\n",
            "\n"
          ]
        },
        {
          "name": "stderr",
          "output_type": "stream",
          "text": [
            "30997it [12:35, 36.11it/s]"
          ]
        },
        {
          "name": "stdout",
          "output_type": "stream",
          "text": [
            "| epoch   4 | 31000/32580 batches | loss    0.717 \n"
          ]
        },
        {
          "name": "stderr",
          "output_type": "stream",
          "text": [
            "31005it [12:36, 23.45it/s]"
          ]
        },
        {
          "name": "stdout",
          "output_type": "stream",
          "text": [
            "money: battle, able, work, years, role, way, well, concept, fact, time\n",
            "lion: taint, defeated, really, characterized, judgment, gazette, eusebius, imagination, delighted, bodies\n",
            "africa: europe, america, united, east, germany, south, china, west, india, end\n",
            "musician: writer, actor, singer, author, king, english, composer, addition, poet, deaths\n",
            "dance: music, rock, third, game, jazz, concept, live, small, country, practice\n",
            "\n",
            "\n"
          ]
        },
        {
          "name": "stderr",
          "output_type": "stream",
          "text": [
            "31499it [12:47, 44.76it/s]"
          ]
        },
        {
          "name": "stdout",
          "output_type": "stream",
          "text": [
            "| epoch   4 | 31500/32580 batches | loss    0.717 \n"
          ]
        },
        {
          "name": "stderr",
          "output_type": "stream",
          "text": [
            "31509it [12:48, 30.96it/s]"
          ]
        },
        {
          "name": "stdout",
          "output_type": "stream",
          "text": [
            "money: battle, able, work, years, role, way, well, concept, fact, time\n",
            "lion: taint, defeated, really, characterized, judgment, gazette, eusebius, imagination, delighted, bodies\n",
            "africa: europe, america, united, east, germany, south, china, west, india, end\n",
            "musician: writer, actor, singer, author, king, english, composer, addition, poet, deaths\n",
            "dance: music, rock, third, game, jazz, concept, live, small, country, practice\n",
            "\n",
            "\n"
          ]
        },
        {
          "name": "stderr",
          "output_type": "stream",
          "text": [
            "31997it [13:02, 44.99it/s]"
          ]
        },
        {
          "name": "stdout",
          "output_type": "stream",
          "text": [
            "| epoch   4 | 32000/32580 batches | loss    0.718 \n"
          ]
        },
        {
          "name": "stderr",
          "output_type": "stream",
          "text": [
            "32006it [13:02, 27.90it/s]"
          ]
        },
        {
          "name": "stdout",
          "output_type": "stream",
          "text": [
            "money: battle, able, work, years, role, way, well, concept, fact, time\n",
            "lion: taint, defeated, really, characterized, judgment, gazette, eusebius, imagination, delighted, bodies\n",
            "africa: europe, america, united, east, germany, south, china, west, india, end\n",
            "musician: writer, actor, singer, author, king, english, composer, addition, poet, deaths\n",
            "dance: music, rock, third, game, jazz, concept, live, small, country, practice\n",
            "\n",
            "\n"
          ]
        },
        {
          "name": "stderr",
          "output_type": "stream",
          "text": [
            "32496it [13:14, 45.48it/s]"
          ]
        },
        {
          "name": "stdout",
          "output_type": "stream",
          "text": [
            "| epoch   4 | 32500/32580 batches | loss    0.714 \n"
          ]
        },
        {
          "name": "stderr",
          "output_type": "stream",
          "text": [
            "32505it [13:14, 29.79it/s]"
          ]
        },
        {
          "name": "stdout",
          "output_type": "stream",
          "text": [
            "money: battle, able, work, years, role, way, well, concept, fact, time\n",
            "lion: taint, defeated, really, characterized, judgment, gazette, eusebius, imagination, delighted, bodies\n",
            "africa: europe, america, united, east, germany, south, china, west, india, end\n",
            "musician: writer, actor, singer, author, king, english, composer, addition, poet, deaths\n",
            "dance: music, rock, third, game, jazz, concept, live, small, country, practice\n",
            "\n",
            "\n"
          ]
        },
        {
          "name": "stderr",
          "output_type": "stream",
          "text": [
            "32580it [13:18, 40.82it/s]\n",
            "0it [00:00, ?it/s]"
          ]
        },
        {
          "name": "stdout",
          "output_type": "stream",
          "text": [
            "| epoch   5 |     0/32580 batches | loss    0.684 \n"
          ]
        },
        {
          "name": "stderr",
          "output_type": "stream",
          "text": [
            "5it [00:01,  3.36it/s]"
          ]
        },
        {
          "name": "stdout",
          "output_type": "stream",
          "text": [
            "money: battle, able, work, years, role, way, well, concept, fact, time\n",
            "lion: taint, defeated, really, characterized, judgment, gazette, eusebius, imagination, delighted, bodies\n",
            "africa: europe, america, united, east, germany, south, china, west, india, end\n",
            "musician: writer, actor, singer, author, king, english, composer, addition, poet, deaths\n",
            "dance: music, rock, third, game, jazz, concept, live, small, country, practice\n",
            "\n",
            "\n"
          ]
        },
        {
          "name": "stderr",
          "output_type": "stream",
          "text": [
            "499it [00:13, 34.76it/s]"
          ]
        },
        {
          "name": "stdout",
          "output_type": "stream",
          "text": [
            "| epoch   5 |   500/32580 batches | loss    0.716 \n"
          ]
        },
        {
          "name": "stderr",
          "output_type": "stream",
          "text": [
            "507it [00:13, 21.51it/s]"
          ]
        },
        {
          "name": "stdout",
          "output_type": "stream",
          "text": [
            "money: battle, able, work, years, role, way, well, concept, fact, time\n",
            "lion: taint, defeated, really, characterized, judgment, gazette, eusebius, imagination, delighted, bodies\n",
            "africa: europe, america, united, east, germany, south, china, west, india, end\n",
            "musician: writer, actor, singer, author, king, english, composer, addition, poet, deaths\n",
            "dance: music, rock, third, game, jazz, concept, live, small, country, practice\n",
            "\n",
            "\n"
          ]
        },
        {
          "name": "stderr",
          "output_type": "stream",
          "text": [
            "1000it [00:25, 45.24it/s]"
          ]
        },
        {
          "name": "stdout",
          "output_type": "stream",
          "text": [
            "| epoch   5 |  1000/32580 batches | loss    0.717 \n"
          ]
        },
        {
          "name": "stderr",
          "output_type": "stream",
          "text": [
            "\r1005it [00:25, 27.44it/s]"
          ]
        },
        {
          "name": "stdout",
          "output_type": "stream",
          "text": [
            "money: battle, able, work, years, role, way, well, concept, fact, time\n",
            "lion: taint, defeated, really, characterized, judgment, gazette, eusebius, imagination, delighted, bodies\n",
            "africa: europe, america, united, east, germany, south, china, west, india, end\n",
            "musician: writer, actor, singer, author, king, english, composer, addition, poet, deaths\n",
            "dance: music, rock, third, game, jazz, concept, live, small, country, practice\n",
            "\n",
            "\n"
          ]
        },
        {
          "name": "stderr",
          "output_type": "stream",
          "text": [
            "1496it [00:37, 45.39it/s]"
          ]
        },
        {
          "name": "stdout",
          "output_type": "stream",
          "text": [
            "| epoch   5 |  1500/32580 batches | loss    0.716 \n"
          ]
        },
        {
          "name": "stderr",
          "output_type": "stream",
          "text": [
            "1505it [00:37, 30.47it/s]"
          ]
        },
        {
          "name": "stdout",
          "output_type": "stream",
          "text": [
            "money: battle, able, work, years, role, way, well, concept, fact, time\n",
            "lion: taint, defeated, really, characterized, judgment, gazette, eusebius, imagination, delighted, bodies\n",
            "africa: europe, america, united, east, germany, south, china, west, india, end\n",
            "musician: writer, actor, singer, author, king, english, composer, addition, poet, deaths\n",
            "dance: music, rock, third, game, jazz, concept, live, small, country, practice\n",
            "\n",
            "\n"
          ]
        },
        {
          "name": "stderr",
          "output_type": "stream",
          "text": [
            "2000it [00:49, 45.77it/s]"
          ]
        },
        {
          "name": "stdout",
          "output_type": "stream",
          "text": [
            "| epoch   5 |  2000/32580 batches | loss    0.716 \n"
          ]
        },
        {
          "name": "stderr",
          "output_type": "stream",
          "text": [
            "\r2005it [00:49, 26.49it/s]"
          ]
        },
        {
          "name": "stdout",
          "output_type": "stream",
          "text": [
            "money: battle, able, work, years, role, way, well, concept, fact, time\n",
            "lion: taint, defeated, really, characterized, judgment, gazette, eusebius, imagination, delighted, bodies\n",
            "africa: europe, america, united, east, germany, south, china, west, india, end\n",
            "musician: writer, actor, singer, author, king, english, composer, addition, poet, deaths\n",
            "dance: music, rock, third, game, jazz, concept, live, small, country, practice\n",
            "\n",
            "\n"
          ]
        },
        {
          "name": "stderr",
          "output_type": "stream",
          "text": [
            "2499it [01:01, 46.07it/s]"
          ]
        },
        {
          "name": "stdout",
          "output_type": "stream",
          "text": [
            "| epoch   5 |  2500/32580 batches | loss    0.715 \n"
          ]
        },
        {
          "name": "stderr",
          "output_type": "stream",
          "text": [
            "2509it [01:02, 30.96it/s]"
          ]
        },
        {
          "name": "stdout",
          "output_type": "stream",
          "text": [
            "money: battle, able, work, years, role, way, well, concept, fact, time\n",
            "lion: taint, defeated, really, characterized, judgment, gazette, eusebius, imagination, delighted, bodies\n",
            "africa: europe, america, united, east, germany, south, china, west, india, end\n",
            "musician: writer, actor, singer, author, king, english, composer, addition, poet, deaths\n",
            "dance: music, rock, third, game, jazz, concept, live, small, country, practice\n",
            "\n",
            "\n"
          ]
        },
        {
          "name": "stderr",
          "output_type": "stream",
          "text": [
            "2997it [01:13, 45.41it/s]"
          ]
        },
        {
          "name": "stdout",
          "output_type": "stream",
          "text": [
            "| epoch   5 |  3000/32580 batches | loss    0.716 \n"
          ]
        },
        {
          "name": "stderr",
          "output_type": "stream",
          "text": [
            "3007it [01:14, 31.05it/s]"
          ]
        },
        {
          "name": "stdout",
          "output_type": "stream",
          "text": [
            "money: battle, able, work, years, role, way, well, concept, fact, time\n",
            "lion: taint, defeated, really, characterized, judgment, gazette, eusebius, imagination, delighted, bodies\n",
            "africa: europe, america, united, east, germany, south, china, west, india, end\n",
            "musician: writer, actor, singer, author, king, english, composer, addition, poet, deaths\n",
            "dance: music, rock, third, game, jazz, concept, live, small, country, practice\n",
            "\n",
            "\n"
          ]
        },
        {
          "name": "stderr",
          "output_type": "stream",
          "text": [
            "3500it [01:26, 35.62it/s]"
          ]
        },
        {
          "name": "stdout",
          "output_type": "stream",
          "text": [
            "| epoch   5 |  3500/32580 batches | loss    0.717 \n"
          ]
        },
        {
          "name": "stderr",
          "output_type": "stream",
          "text": [
            "3509it [01:26, 26.81it/s]"
          ]
        },
        {
          "name": "stdout",
          "output_type": "stream",
          "text": [
            "money: battle, able, work, years, role, way, well, concept, fact, time\n",
            "lion: taint, defeated, really, characterized, judgment, gazette, eusebius, imagination, delighted, bodies\n",
            "africa: europe, america, united, east, germany, south, china, west, india, end\n",
            "musician: writer, actor, singer, author, king, english, composer, addition, poet, deaths\n",
            "dance: music, rock, third, game, jazz, concept, live, small, country, practice\n",
            "\n",
            "\n"
          ]
        },
        {
          "name": "stderr",
          "output_type": "stream",
          "text": [
            "3999it [01:37, 34.62it/s]"
          ]
        },
        {
          "name": "stdout",
          "output_type": "stream",
          "text": [
            "| epoch   5 |  4000/32580 batches | loss    0.717 \n"
          ]
        },
        {
          "name": "stderr",
          "output_type": "stream",
          "text": [
            "4006it [01:38, 20.37it/s]"
          ]
        },
        {
          "name": "stdout",
          "output_type": "stream",
          "text": [
            "money: battle, able, work, years, role, way, well, concept, fact, time\n",
            "lion: taint, defeated, really, characterized, judgment, gazette, eusebius, imagination, delighted, bodies\n",
            "africa: europe, america, united, east, germany, south, china, west, india, end\n",
            "musician: writer, actor, singer, author, king, english, composer, addition, poet, deaths\n",
            "dance: music, rock, third, game, jazz, concept, live, small, country, practice\n",
            "\n",
            "\n"
          ]
        },
        {
          "name": "stderr",
          "output_type": "stream",
          "text": [
            "4496it [01:49, 43.31it/s]"
          ]
        },
        {
          "name": "stdout",
          "output_type": "stream",
          "text": [
            "| epoch   5 |  4500/32580 batches | loss    0.715 \n"
          ]
        },
        {
          "name": "stderr",
          "output_type": "stream",
          "text": [
            "4505it [01:50, 26.11it/s]"
          ]
        },
        {
          "name": "stdout",
          "output_type": "stream",
          "text": [
            "money: battle, able, work, years, role, way, well, concept, fact, time\n",
            "lion: taint, defeated, really, characterized, judgment, gazette, eusebius, imagination, delighted, bodies\n",
            "africa: europe, america, united, east, germany, south, china, west, india, end\n",
            "musician: writer, actor, singer, author, king, english, composer, addition, poet, deaths\n",
            "dance: music, rock, third, game, jazz, concept, live, small, country, practice\n",
            "\n",
            "\n"
          ]
        },
        {
          "name": "stderr",
          "output_type": "stream",
          "text": [
            "4999it [02:02, 45.65it/s]"
          ]
        },
        {
          "name": "stdout",
          "output_type": "stream",
          "text": [
            "| epoch   5 |  5000/32580 batches | loss    0.717 \n"
          ]
        },
        {
          "name": "stderr",
          "output_type": "stream",
          "text": [
            "5009it [02:02, 30.70it/s]"
          ]
        },
        {
          "name": "stdout",
          "output_type": "stream",
          "text": [
            "money: battle, able, work, years, role, way, well, concept, fact, time\n",
            "lion: taint, defeated, really, characterized, judgment, gazette, eusebius, imagination, delighted, bodies\n",
            "africa: europe, america, united, east, germany, south, china, west, india, end\n",
            "musician: writer, actor, singer, author, king, english, composer, addition, poet, deaths\n",
            "dance: music, rock, third, game, jazz, concept, live, small, country, practice\n",
            "\n",
            "\n"
          ]
        },
        {
          "name": "stderr",
          "output_type": "stream",
          "text": [
            "5498it [02:14, 44.84it/s]"
          ]
        },
        {
          "name": "stdout",
          "output_type": "stream",
          "text": [
            "| epoch   5 |  5500/32580 batches | loss    0.715 \n"
          ]
        },
        {
          "name": "stderr",
          "output_type": "stream",
          "text": [
            "5508it [02:15, 30.25it/s]"
          ]
        },
        {
          "name": "stdout",
          "output_type": "stream",
          "text": [
            "money: battle, able, work, years, role, way, well, concept, fact, time\n",
            "lion: taint, defeated, really, characterized, judgment, gazette, eusebius, imagination, delighted, bodies\n",
            "africa: europe, america, united, east, germany, south, china, west, india, end\n",
            "musician: writer, actor, singer, author, king, english, composer, addition, poet, deaths\n",
            "dance: music, rock, third, game, jazz, concept, live, small, country, practice\n",
            "\n",
            "\n"
          ]
        },
        {
          "name": "stderr",
          "output_type": "stream",
          "text": [
            "6000it [02:27, 45.32it/s]"
          ]
        },
        {
          "name": "stdout",
          "output_type": "stream",
          "text": [
            "| epoch   5 |  6000/32580 batches | loss    0.716 \n"
          ]
        },
        {
          "name": "stderr",
          "output_type": "stream",
          "text": [
            "\r6005it [02:27, 26.82it/s]"
          ]
        },
        {
          "name": "stdout",
          "output_type": "stream",
          "text": [
            "money: battle, able, work, years, role, way, well, concept, fact, time\n",
            "lion: taint, defeated, really, characterized, judgment, gazette, eusebius, imagination, delighted, bodies\n",
            "africa: europe, america, united, east, germany, south, china, west, india, end\n",
            "musician: writer, actor, singer, author, king, english, composer, addition, poet, deaths\n",
            "dance: music, rock, third, game, jazz, concept, live, small, country, practice\n",
            "\n",
            "\n"
          ]
        },
        {
          "name": "stderr",
          "output_type": "stream",
          "text": [
            "6496it [02:39, 43.99it/s]"
          ]
        },
        {
          "name": "stdout",
          "output_type": "stream",
          "text": [
            "| epoch   5 |  6500/32580 batches | loss    0.715 \n"
          ]
        },
        {
          "name": "stderr",
          "output_type": "stream",
          "text": [
            "6505it [02:40, 29.55it/s]"
          ]
        },
        {
          "name": "stdout",
          "output_type": "stream",
          "text": [
            "money: battle, able, work, years, role, way, well, concept, fact, time\n",
            "lion: taint, defeated, really, characterized, judgment, gazette, eusebius, imagination, delighted, bodies\n",
            "africa: europe, america, united, east, germany, south, china, west, india, end\n",
            "musician: writer, actor, singer, author, king, english, composer, addition, poet, deaths\n",
            "dance: music, rock, third, game, jazz, concept, live, small, country, practice\n",
            "\n",
            "\n"
          ]
        },
        {
          "name": "stderr",
          "output_type": "stream",
          "text": [
            "6998it [02:52, 43.95it/s]"
          ]
        },
        {
          "name": "stdout",
          "output_type": "stream",
          "text": [
            "| epoch   5 |  7000/32580 batches | loss    0.716 \n"
          ]
        },
        {
          "name": "stderr",
          "output_type": "stream",
          "text": [
            "7008it [02:52, 30.03it/s]"
          ]
        },
        {
          "name": "stdout",
          "output_type": "stream",
          "text": [
            "money: battle, able, work, years, role, way, well, concept, fact, time\n",
            "lion: taint, defeated, really, characterized, judgment, gazette, eusebius, imagination, delighted, bodies\n",
            "africa: europe, america, united, east, germany, south, china, west, india, end\n",
            "musician: writer, actor, singer, author, king, english, composer, addition, poet, deaths\n",
            "dance: music, rock, third, game, jazz, concept, live, small, country, practice\n",
            "\n",
            "\n"
          ]
        },
        {
          "name": "stderr",
          "output_type": "stream",
          "text": [
            "7497it [03:05, 43.78it/s]"
          ]
        },
        {
          "name": "stdout",
          "output_type": "stream",
          "text": [
            "| epoch   5 |  7500/32580 batches | loss    0.717 \n"
          ]
        },
        {
          "name": "stderr",
          "output_type": "stream",
          "text": [
            "7506it [03:06, 29.42it/s]"
          ]
        },
        {
          "name": "stdout",
          "output_type": "stream",
          "text": [
            "money: battle, able, work, years, role, way, well, concept, fact, time\n",
            "lion: taint, defeated, really, characterized, judgment, gazette, eusebius, imagination, delighted, bodies\n",
            "africa: europe, america, united, east, germany, south, china, west, india, end\n",
            "musician: writer, actor, singer, author, king, english, composer, addition, poet, deaths\n",
            "dance: music, rock, third, game, jazz, concept, live, small, country, practice\n",
            "\n",
            "\n"
          ]
        },
        {
          "name": "stderr",
          "output_type": "stream",
          "text": [
            "7999it [03:18, 34.03it/s]"
          ]
        },
        {
          "name": "stdout",
          "output_type": "stream",
          "text": [
            "| epoch   5 |  8000/32580 batches | loss    0.717 \n"
          ]
        },
        {
          "name": "stderr",
          "output_type": "stream",
          "text": [
            "\r8003it [03:18, 18.25it/s]"
          ]
        },
        {
          "name": "stdout",
          "output_type": "stream",
          "text": [
            "money: battle, able, work, years, role, way, well, concept, fact, time\n",
            "lion: taint, defeated, really, characterized, judgment, gazette, eusebius, imagination, delighted, bodies\n",
            "africa: europe, america, united, east, germany, south, china, west, india, end\n",
            "musician: writer, actor, singer, author, king, english, composer, addition, poet, deaths\n",
            "dance: music, rock, third, game, jazz, concept, live, small, country, practice\n",
            "\n",
            "\n"
          ]
        },
        {
          "name": "stderr",
          "output_type": "stream",
          "text": [
            "8498it [03:30, 35.08it/s]"
          ]
        },
        {
          "name": "stdout",
          "output_type": "stream",
          "text": [
            "| epoch   5 |  8500/32580 batches | loss    0.717 \n"
          ]
        },
        {
          "name": "stderr",
          "output_type": "stream",
          "text": [
            "8505it [03:30, 20.33it/s]"
          ]
        },
        {
          "name": "stdout",
          "output_type": "stream",
          "text": [
            "money: battle, able, work, years, role, way, well, concept, fact, time\n",
            "lion: taint, defeated, really, characterized, judgment, gazette, eusebius, imagination, delighted, bodies\n",
            "africa: europe, america, united, east, germany, south, china, west, india, end\n",
            "musician: writer, actor, singer, author, king, english, composer, addition, poet, deaths\n",
            "dance: music, rock, third, game, jazz, concept, live, small, country, practice\n",
            "\n",
            "\n"
          ]
        },
        {
          "name": "stderr",
          "output_type": "stream",
          "text": [
            "8998it [03:42, 45.29it/s]"
          ]
        },
        {
          "name": "stdout",
          "output_type": "stream",
          "text": [
            "| epoch   5 |  9000/32580 batches | loss    0.717 \n"
          ]
        },
        {
          "name": "stderr",
          "output_type": "stream",
          "text": [
            "9008it [03:42, 31.09it/s]"
          ]
        },
        {
          "name": "stdout",
          "output_type": "stream",
          "text": [
            "money: battle, able, work, years, role, way, well, concept, fact, time\n",
            "lion: taint, defeated, really, characterized, judgment, gazette, eusebius, imagination, delighted, bodies\n",
            "africa: europe, america, united, east, germany, south, china, west, india, end\n",
            "musician: writer, actor, singer, author, king, english, composer, addition, poet, deaths\n",
            "dance: music, rock, third, game, jazz, concept, live, small, country, practice\n",
            "\n",
            "\n"
          ]
        },
        {
          "name": "stderr",
          "output_type": "stream",
          "text": [
            "9496it [03:54, 46.12it/s]"
          ]
        },
        {
          "name": "stdout",
          "output_type": "stream",
          "text": [
            "| epoch   5 |  9500/32580 batches | loss    0.717 \n"
          ]
        },
        {
          "name": "stderr",
          "output_type": "stream",
          "text": [
            "9505it [03:54, 29.79it/s]"
          ]
        },
        {
          "name": "stdout",
          "output_type": "stream",
          "text": [
            "money: battle, able, work, years, role, way, well, concept, fact, time\n",
            "lion: taint, defeated, really, characterized, judgment, gazette, eusebius, imagination, delighted, bodies\n",
            "africa: europe, america, united, east, germany, south, china, west, india, end\n",
            "musician: writer, actor, singer, author, king, english, composer, addition, poet, deaths\n",
            "dance: music, rock, third, game, jazz, concept, live, small, country, practice\n",
            "\n",
            "\n"
          ]
        },
        {
          "name": "stderr",
          "output_type": "stream",
          "text": [
            "9996it [04:06, 44.95it/s]"
          ]
        },
        {
          "name": "stdout",
          "output_type": "stream",
          "text": [
            "| epoch   5 | 10000/32580 batches | loss    0.718 \n"
          ]
        },
        {
          "name": "stderr",
          "output_type": "stream",
          "text": [
            "10005it [04:07, 29.76it/s]"
          ]
        },
        {
          "name": "stdout",
          "output_type": "stream",
          "text": [
            "money: battle, able, work, years, role, way, well, concept, fact, time\n",
            "lion: taint, defeated, really, characterized, judgment, gazette, eusebius, imagination, delighted, bodies\n",
            "africa: europe, america, united, east, germany, south, china, west, india, end\n",
            "musician: writer, actor, singer, author, king, english, composer, addition, poet, deaths\n",
            "dance: music, rock, third, game, jazz, concept, live, small, country, practice\n",
            "\n",
            "\n"
          ]
        },
        {
          "name": "stderr",
          "output_type": "stream",
          "text": [
            "10496it [04:18, 44.65it/s]"
          ]
        },
        {
          "name": "stdout",
          "output_type": "stream",
          "text": [
            "| epoch   5 | 10500/32580 batches | loss    0.716 \n"
          ]
        },
        {
          "name": "stderr",
          "output_type": "stream",
          "text": [
            "10506it [04:19, 30.12it/s]"
          ]
        },
        {
          "name": "stdout",
          "output_type": "stream",
          "text": [
            "money: battle, able, work, years, role, way, well, concept, fact, time\n",
            "lion: taint, defeated, really, characterized, judgment, gazette, eusebius, imagination, delighted, bodies\n",
            "africa: europe, america, united, east, germany, south, china, west, india, end\n",
            "musician: writer, actor, singer, author, king, english, composer, addition, poet, deaths\n",
            "dance: music, rock, third, game, jazz, concept, live, small, country, practice\n",
            "\n",
            "\n"
          ]
        },
        {
          "name": "stderr",
          "output_type": "stream",
          "text": [
            "10998it [04:31, 44.79it/s]"
          ]
        },
        {
          "name": "stdout",
          "output_type": "stream",
          "text": [
            "| epoch   5 | 11000/32580 batches | loss    0.718 \n"
          ]
        },
        {
          "name": "stderr",
          "output_type": "stream",
          "text": [
            "11008it [04:31, 30.94it/s]"
          ]
        },
        {
          "name": "stdout",
          "output_type": "stream",
          "text": [
            "money: battle, able, work, years, role, way, well, concept, fact, time\n",
            "lion: taint, defeated, really, characterized, judgment, gazette, eusebius, imagination, delighted, bodies\n",
            "africa: europe, america, united, east, germany, south, china, west, india, end\n",
            "musician: writer, actor, singer, author, king, english, composer, addition, poet, deaths\n",
            "dance: music, rock, third, game, jazz, concept, live, small, country, practice\n",
            "\n",
            "\n"
          ]
        },
        {
          "name": "stderr",
          "output_type": "stream",
          "text": [
            "11496it [04:43, 38.83it/s]"
          ]
        },
        {
          "name": "stdout",
          "output_type": "stream",
          "text": [
            "| epoch   5 | 11500/32580 batches | loss    0.716 \n"
          ]
        },
        {
          "name": "stderr",
          "output_type": "stream",
          "text": [
            "11505it [04:43, 27.28it/s]"
          ]
        },
        {
          "name": "stdout",
          "output_type": "stream",
          "text": [
            "money: battle, able, work, years, role, way, well, concept, fact, time\n",
            "lion: taint, defeated, really, characterized, judgment, gazette, eusebius, imagination, delighted, bodies\n",
            "africa: europe, america, united, east, germany, south, china, west, india, end\n",
            "musician: writer, actor, singer, author, king, english, composer, addition, poet, deaths\n",
            "dance: music, rock, third, game, jazz, concept, live, small, country, practice\n",
            "\n",
            "\n"
          ]
        },
        {
          "name": "stderr",
          "output_type": "stream",
          "text": [
            "12000it [04:55, 34.44it/s]"
          ]
        },
        {
          "name": "stdout",
          "output_type": "stream",
          "text": [
            "| epoch   5 | 12000/32580 batches | loss    0.715 \n"
          ]
        },
        {
          "name": "stderr",
          "output_type": "stream",
          "text": [
            "\r12004it [04:55, 18.42it/s]"
          ]
        },
        {
          "name": "stdout",
          "output_type": "stream",
          "text": [
            "money: battle, able, work, years, role, way, well, concept, fact, time\n",
            "lion: taint, defeated, really, characterized, judgment, gazette, eusebius, imagination, delighted, bodies\n",
            "africa: europe, america, united, east, germany, south, china, west, india, end\n",
            "musician: writer, actor, singer, author, king, english, composer, addition, poet, deaths\n",
            "dance: music, rock, third, game, jazz, concept, live, small, country, practice\n",
            "\n",
            "\n"
          ]
        },
        {
          "name": "stderr",
          "output_type": "stream",
          "text": [
            "12496it [05:07, 43.91it/s]"
          ]
        },
        {
          "name": "stdout",
          "output_type": "stream",
          "text": [
            "| epoch   5 | 12500/32580 batches | loss    0.715 \n"
          ]
        },
        {
          "name": "stderr",
          "output_type": "stream",
          "text": [
            "12505it [05:07, 24.68it/s]"
          ]
        },
        {
          "name": "stdout",
          "output_type": "stream",
          "text": [
            "money: battle, able, work, years, role, way, well, concept, fact, time\n",
            "lion: taint, defeated, really, characterized, judgment, gazette, eusebius, imagination, delighted, bodies\n",
            "africa: europe, america, united, east, germany, south, china, west, india, end\n",
            "musician: writer, actor, singer, author, king, english, composer, addition, poet, deaths\n",
            "dance: music, rock, third, game, jazz, concept, live, small, country, practice\n",
            "\n",
            "\n"
          ]
        },
        {
          "name": "stderr",
          "output_type": "stream",
          "text": [
            "12999it [05:19, 44.99it/s]"
          ]
        },
        {
          "name": "stdout",
          "output_type": "stream",
          "text": [
            "| epoch   5 | 13000/32580 batches | loss    0.716 \n"
          ]
        },
        {
          "name": "stderr",
          "output_type": "stream",
          "text": [
            "13009it [05:20, 29.98it/s]"
          ]
        },
        {
          "name": "stdout",
          "output_type": "stream",
          "text": [
            "money: battle, able, work, years, role, way, well, concept, fact, time\n",
            "lion: taint, defeated, really, characterized, judgment, gazette, eusebius, imagination, delighted, bodies\n",
            "africa: europe, america, united, east, germany, south, china, west, india, end\n",
            "musician: writer, actor, singer, author, king, english, composer, addition, poet, deaths\n",
            "dance: music, rock, third, game, jazz, concept, live, small, country, practice\n",
            "\n",
            "\n"
          ]
        },
        {
          "name": "stderr",
          "output_type": "stream",
          "text": [
            "13500it [05:31, 45.80it/s]"
          ]
        },
        {
          "name": "stdout",
          "output_type": "stream",
          "text": [
            "| epoch   5 | 13500/32580 batches | loss    0.715 \n"
          ]
        },
        {
          "name": "stderr",
          "output_type": "stream",
          "text": [
            "\r13505it [05:32, 27.11it/s]"
          ]
        },
        {
          "name": "stdout",
          "output_type": "stream",
          "text": [
            "money: battle, able, work, years, role, way, well, concept, fact, time\n",
            "lion: taint, defeated, really, characterized, judgment, gazette, eusebius, imagination, delighted, bodies\n",
            "africa: europe, america, united, east, germany, south, china, west, india, end\n",
            "musician: writer, actor, singer, author, king, english, composer, addition, poet, deaths\n",
            "dance: music, rock, third, game, jazz, concept, live, small, country, practice\n",
            "\n",
            "\n"
          ]
        },
        {
          "name": "stderr",
          "output_type": "stream",
          "text": [
            "13997it [05:44, 45.35it/s]"
          ]
        },
        {
          "name": "stdout",
          "output_type": "stream",
          "text": [
            "| epoch   5 | 14000/32580 batches | loss    0.717 \n"
          ]
        },
        {
          "name": "stderr",
          "output_type": "stream",
          "text": [
            "14007it [05:44, 30.60it/s]"
          ]
        },
        {
          "name": "stdout",
          "output_type": "stream",
          "text": [
            "money: battle, able, work, years, role, way, well, concept, fact, time\n",
            "lion: taint, defeated, really, characterized, judgment, gazette, eusebius, imagination, delighted, bodies\n",
            "africa: europe, america, united, east, germany, south, china, west, india, end\n",
            "musician: writer, actor, singer, author, king, english, composer, addition, poet, deaths\n",
            "dance: music, rock, third, game, jazz, concept, live, small, country, practice\n",
            "\n",
            "\n"
          ]
        },
        {
          "name": "stderr",
          "output_type": "stream",
          "text": [
            "14498it [05:56, 45.52it/s]"
          ]
        },
        {
          "name": "stdout",
          "output_type": "stream",
          "text": [
            "| epoch   5 | 14500/32580 batches | loss    0.716 \n"
          ]
        },
        {
          "name": "stderr",
          "output_type": "stream",
          "text": [
            "14508it [05:56, 30.33it/s]"
          ]
        },
        {
          "name": "stdout",
          "output_type": "stream",
          "text": [
            "money: battle, able, work, years, role, way, well, concept, fact, time\n",
            "lion: taint, defeated, really, characterized, judgment, gazette, eusebius, imagination, delighted, bodies\n",
            "africa: europe, america, united, east, germany, south, china, west, india, end\n",
            "musician: writer, actor, singer, author, king, english, composer, addition, poet, deaths\n",
            "dance: music, rock, third, game, jazz, concept, live, small, country, practice\n",
            "\n",
            "\n"
          ]
        },
        {
          "name": "stderr",
          "output_type": "stream",
          "text": [
            "14997it [06:08, 44.58it/s]"
          ]
        },
        {
          "name": "stdout",
          "output_type": "stream",
          "text": [
            "| epoch   5 | 15000/32580 batches | loss    0.717 \n"
          ]
        },
        {
          "name": "stderr",
          "output_type": "stream",
          "text": [
            "15007it [06:09, 30.47it/s]"
          ]
        },
        {
          "name": "stdout",
          "output_type": "stream",
          "text": [
            "money: battle, able, work, years, role, way, well, concept, fact, time\n",
            "lion: taint, defeated, really, characterized, judgment, gazette, eusebius, imagination, delighted, bodies\n",
            "africa: europe, america, united, east, germany, south, china, west, india, end\n",
            "musician: writer, actor, singer, author, king, english, composer, addition, poet, deaths\n",
            "dance: music, rock, third, game, jazz, concept, live, small, country, practice\n",
            "\n",
            "\n"
          ]
        },
        {
          "name": "stderr",
          "output_type": "stream",
          "text": [
            "15498it [06:20, 35.53it/s]"
          ]
        },
        {
          "name": "stdout",
          "output_type": "stream",
          "text": [
            "| epoch   5 | 15500/32580 batches | loss    0.715 \n"
          ]
        },
        {
          "name": "stderr",
          "output_type": "stream",
          "text": [
            "15506it [06:21, 21.34it/s]"
          ]
        },
        {
          "name": "stdout",
          "output_type": "stream",
          "text": [
            "money: battle, able, work, years, role, way, well, concept, fact, time\n",
            "lion: taint, defeated, really, characterized, judgment, gazette, eusebius, imagination, delighted, bodies\n",
            "africa: europe, america, united, east, germany, south, china, west, india, end\n",
            "musician: writer, actor, singer, author, king, english, composer, addition, poet, deaths\n",
            "dance: music, rock, third, game, jazz, concept, live, small, country, practice\n",
            "\n",
            "\n"
          ]
        },
        {
          "name": "stderr",
          "output_type": "stream",
          "text": [
            "16000it [06:32, 37.15it/s]"
          ]
        },
        {
          "name": "stdout",
          "output_type": "stream",
          "text": [
            "| epoch   5 | 16000/32580 batches | loss    0.717 \n"
          ]
        },
        {
          "name": "stderr",
          "output_type": "stream",
          "text": [
            "\r16004it [06:32, 19.99it/s]"
          ]
        },
        {
          "name": "stdout",
          "output_type": "stream",
          "text": [
            "money: battle, able, work, years, role, way, well, concept, fact, time\n",
            "lion: taint, defeated, really, characterized, judgment, gazette, eusebius, imagination, delighted, bodies\n",
            "africa: europe, america, united, east, germany, south, china, west, india, end\n",
            "musician: writer, actor, singer, author, king, english, composer, addition, poet, deaths\n",
            "dance: music, rock, third, game, jazz, concept, live, small, country, practice\n",
            "\n",
            "\n"
          ]
        },
        {
          "name": "stderr",
          "output_type": "stream",
          "text": [
            "16497it [06:44, 44.63it/s]"
          ]
        },
        {
          "name": "stdout",
          "output_type": "stream",
          "text": [
            "| epoch   5 | 16500/32580 batches | loss    0.715 \n"
          ]
        },
        {
          "name": "stderr",
          "output_type": "stream",
          "text": [
            "16507it [06:44, 30.51it/s]"
          ]
        },
        {
          "name": "stdout",
          "output_type": "stream",
          "text": [
            "money: battle, able, work, years, role, way, well, concept, fact, time\n",
            "lion: taint, defeated, really, characterized, judgment, gazette, eusebius, imagination, delighted, bodies\n",
            "africa: europe, america, united, east, germany, south, china, west, india, end\n",
            "musician: writer, actor, singer, author, king, english, composer, addition, poet, deaths\n",
            "dance: music, rock, third, game, jazz, concept, live, small, country, practice\n",
            "\n",
            "\n"
          ]
        },
        {
          "name": "stderr",
          "output_type": "stream",
          "text": [
            "16997it [06:56, 44.50it/s]"
          ]
        },
        {
          "name": "stdout",
          "output_type": "stream",
          "text": [
            "| epoch   5 | 17000/32580 batches | loss    0.715 \n"
          ]
        },
        {
          "name": "stderr",
          "output_type": "stream",
          "text": [
            "17006it [06:57, 29.38it/s]"
          ]
        },
        {
          "name": "stdout",
          "output_type": "stream",
          "text": [
            "money: battle, able, work, years, role, way, well, concept, fact, time\n",
            "lion: taint, defeated, really, characterized, judgment, gazette, eusebius, imagination, delighted, bodies\n",
            "africa: europe, america, united, east, germany, south, china, west, india, end\n",
            "musician: writer, actor, singer, author, king, english, composer, addition, poet, deaths\n",
            "dance: music, rock, third, game, jazz, concept, live, small, country, practice\n",
            "\n",
            "\n"
          ]
        },
        {
          "name": "stderr",
          "output_type": "stream",
          "text": [
            "17500it [07:09, 43.73it/s]"
          ]
        },
        {
          "name": "stdout",
          "output_type": "stream",
          "text": [
            "| epoch   5 | 17500/32580 batches | loss    0.718 \n"
          ]
        },
        {
          "name": "stderr",
          "output_type": "stream",
          "text": [
            "\r17505it [07:09, 26.47it/s]"
          ]
        },
        {
          "name": "stdout",
          "output_type": "stream",
          "text": [
            "money: battle, able, work, years, role, way, well, concept, fact, time\n",
            "lion: taint, defeated, really, characterized, judgment, gazette, eusebius, imagination, delighted, bodies\n",
            "africa: europe, america, united, east, germany, south, china, west, india, end\n",
            "musician: writer, actor, singer, author, king, english, composer, addition, poet, deaths\n",
            "dance: music, rock, third, game, jazz, concept, live, small, country, practice\n",
            "\n",
            "\n"
          ]
        },
        {
          "name": "stderr",
          "output_type": "stream",
          "text": [
            "17998it [07:22, 45.45it/s]"
          ]
        },
        {
          "name": "stdout",
          "output_type": "stream",
          "text": [
            "| epoch   5 | 18000/32580 batches | loss    0.717 \n"
          ]
        },
        {
          "name": "stderr",
          "output_type": "stream",
          "text": [
            "18008it [07:23, 30.66it/s]"
          ]
        },
        {
          "name": "stdout",
          "output_type": "stream",
          "text": [
            "money: battle, able, work, years, role, way, well, concept, fact, time\n",
            "lion: taint, defeated, really, characterized, judgment, gazette, eusebius, imagination, delighted, bodies\n",
            "africa: europe, america, united, east, germany, south, china, west, india, end\n",
            "musician: writer, actor, singer, author, king, english, composer, addition, poet, deaths\n",
            "dance: music, rock, third, game, jazz, concept, live, small, country, practice\n",
            "\n",
            "\n"
          ]
        },
        {
          "name": "stderr",
          "output_type": "stream",
          "text": [
            "18496it [07:34, 35.46it/s]"
          ]
        },
        {
          "name": "stdout",
          "output_type": "stream",
          "text": [
            "| epoch   5 | 18500/32580 batches | loss    0.717 \n"
          ]
        },
        {
          "name": "stderr",
          "output_type": "stream",
          "text": [
            "18505it [07:35, 25.84it/s]"
          ]
        },
        {
          "name": "stdout",
          "output_type": "stream",
          "text": [
            "money: battle, able, work, years, role, way, well, concept, fact, time\n",
            "lion: taint, defeated, really, characterized, judgment, gazette, eusebius, imagination, delighted, bodies\n",
            "africa: europe, america, united, east, germany, south, china, west, india, end\n",
            "musician: writer, actor, singer, author, king, english, composer, addition, poet, deaths\n",
            "dance: music, rock, third, game, jazz, concept, live, small, country, practice\n",
            "\n",
            "\n"
          ]
        },
        {
          "name": "stderr",
          "output_type": "stream",
          "text": [
            "18998it [07:46, 34.59it/s]"
          ]
        },
        {
          "name": "stdout",
          "output_type": "stream",
          "text": [
            "| epoch   5 | 19000/32580 batches | loss    0.718 \n"
          ]
        },
        {
          "name": "stderr",
          "output_type": "stream",
          "text": [
            "19006it [07:46, 21.47it/s]"
          ]
        },
        {
          "name": "stdout",
          "output_type": "stream",
          "text": [
            "money: battle, able, work, years, role, way, well, concept, fact, time\n",
            "lion: taint, defeated, really, characterized, judgment, gazette, eusebius, imagination, delighted, bodies\n",
            "africa: europe, america, united, east, germany, south, china, west, india, end\n",
            "musician: writer, actor, singer, author, king, english, composer, addition, poet, deaths\n",
            "dance: music, rock, third, game, jazz, concept, live, small, country, practice\n",
            "\n",
            "\n"
          ]
        },
        {
          "name": "stderr",
          "output_type": "stream",
          "text": [
            "19500it [07:58, 45.36it/s]"
          ]
        },
        {
          "name": "stdout",
          "output_type": "stream",
          "text": [
            "| epoch   5 | 19500/32580 batches | loss    0.717 \n"
          ]
        },
        {
          "name": "stderr",
          "output_type": "stream",
          "text": [
            "\r19505it [07:58, 27.41it/s]"
          ]
        },
        {
          "name": "stdout",
          "output_type": "stream",
          "text": [
            "money: battle, able, work, years, role, way, well, concept, fact, time\n",
            "lion: taint, defeated, really, characterized, judgment, gazette, eusebius, imagination, delighted, bodies\n",
            "africa: europe, america, united, east, germany, south, china, west, india, end\n",
            "musician: writer, actor, singer, author, king, english, composer, addition, poet, deaths\n",
            "dance: music, rock, third, game, jazz, concept, live, small, country, practice\n",
            "\n",
            "\n"
          ]
        },
        {
          "name": "stderr",
          "output_type": "stream",
          "text": [
            "19998it [08:10, 46.18it/s]"
          ]
        },
        {
          "name": "stdout",
          "output_type": "stream",
          "text": [
            "| epoch   5 | 20000/32580 batches | loss    0.715 \n"
          ]
        },
        {
          "name": "stderr",
          "output_type": "stream",
          "text": [
            "20008it [08:10, 30.82it/s]"
          ]
        },
        {
          "name": "stdout",
          "output_type": "stream",
          "text": [
            "money: battle, able, work, years, role, way, well, concept, fact, time\n",
            "lion: taint, defeated, really, characterized, judgment, gazette, eusebius, imagination, delighted, bodies\n",
            "africa: europe, america, united, east, germany, south, china, west, india, end\n",
            "musician: writer, actor, singer, author, king, english, composer, addition, poet, deaths\n",
            "dance: music, rock, third, game, jazz, concept, live, small, country, practice\n",
            "\n",
            "\n"
          ]
        },
        {
          "name": "stderr",
          "output_type": "stream",
          "text": [
            "20496it [08:22, 45.76it/s]"
          ]
        },
        {
          "name": "stdout",
          "output_type": "stream",
          "text": [
            "| epoch   5 | 20500/32580 batches | loss    0.718 \n"
          ]
        },
        {
          "name": "stderr",
          "output_type": "stream",
          "text": [
            "20505it [08:23, 29.29it/s]"
          ]
        },
        {
          "name": "stdout",
          "output_type": "stream",
          "text": [
            "money: battle, able, work, years, role, way, well, concept, fact, time\n",
            "lion: taint, defeated, really, characterized, judgment, gazette, eusebius, imagination, delighted, bodies\n",
            "africa: europe, america, united, east, germany, south, china, west, india, end\n",
            "musician: writer, actor, singer, author, king, english, composer, addition, poet, deaths\n",
            "dance: music, rock, third, game, jazz, concept, live, small, country, practice\n",
            "\n",
            "\n"
          ]
        },
        {
          "name": "stderr",
          "output_type": "stream",
          "text": [
            "20997it [08:34, 45.74it/s]"
          ]
        },
        {
          "name": "stdout",
          "output_type": "stream",
          "text": [
            "| epoch   5 | 21000/32580 batches | loss    0.717 \n"
          ]
        },
        {
          "name": "stderr",
          "output_type": "stream",
          "text": [
            "21007it [08:35, 31.02it/s]"
          ]
        },
        {
          "name": "stdout",
          "output_type": "stream",
          "text": [
            "money: battle, able, work, years, role, way, well, concept, fact, time\n",
            "lion: taint, defeated, really, characterized, judgment, gazette, eusebius, imagination, delighted, bodies\n",
            "africa: europe, america, united, east, germany, south, china, west, india, end\n",
            "musician: writer, actor, singer, author, king, english, composer, addition, poet, deaths\n",
            "dance: music, rock, third, game, jazz, concept, live, small, country, practice\n",
            "\n",
            "\n"
          ]
        },
        {
          "name": "stderr",
          "output_type": "stream",
          "text": [
            "21498it [08:46, 44.25it/s]"
          ]
        },
        {
          "name": "stdout",
          "output_type": "stream",
          "text": [
            "| epoch   5 | 21500/32580 batches | loss    0.716 \n"
          ]
        },
        {
          "name": "stderr",
          "output_type": "stream",
          "text": [
            "21508it [08:47, 30.67it/s]"
          ]
        },
        {
          "name": "stdout",
          "output_type": "stream",
          "text": [
            "money: battle, able, work, years, role, way, well, concept, fact, time\n",
            "lion: taint, defeated, really, characterized, judgment, gazette, eusebius, imagination, delighted, bodies\n",
            "africa: europe, america, united, east, germany, south, china, west, india, end\n",
            "musician: writer, actor, singer, author, king, english, composer, addition, poet, deaths\n",
            "dance: music, rock, third, game, jazz, concept, live, small, country, practice\n",
            "\n",
            "\n"
          ]
        },
        {
          "name": "stderr",
          "output_type": "stream",
          "text": [
            "21996it [08:58, 35.92it/s]"
          ]
        },
        {
          "name": "stdout",
          "output_type": "stream",
          "text": [
            "| epoch   5 | 22000/32580 batches | loss    0.714 \n"
          ]
        },
        {
          "name": "stderr",
          "output_type": "stream",
          "text": [
            "22005it [08:59, 26.59it/s]"
          ]
        },
        {
          "name": "stdout",
          "output_type": "stream",
          "text": [
            "money: battle, able, work, years, role, way, well, concept, fact, time\n",
            "lion: taint, defeated, really, characterized, judgment, gazette, eusebius, imagination, delighted, bodies\n",
            "africa: europe, america, united, east, germany, south, china, west, india, end\n",
            "musician: writer, actor, singer, author, king, english, composer, addition, poet, deaths\n",
            "dance: music, rock, third, game, jazz, concept, live, small, country, practice\n",
            "\n",
            "\n"
          ]
        },
        {
          "name": "stderr",
          "output_type": "stream",
          "text": [
            "22497it [09:13, 44.93it/s]"
          ]
        },
        {
          "name": "stdout",
          "output_type": "stream",
          "text": [
            "| epoch   5 | 22500/32580 batches | loss    0.717 \n"
          ]
        },
        {
          "name": "stderr",
          "output_type": "stream",
          "text": [
            "22506it [09:14, 29.44it/s]"
          ]
        },
        {
          "name": "stdout",
          "output_type": "stream",
          "text": [
            "money: battle, able, work, years, role, way, well, concept, fact, time\n",
            "lion: taint, defeated, really, characterized, judgment, gazette, eusebius, imagination, delighted, bodies\n",
            "africa: europe, america, united, east, germany, south, china, west, india, end\n",
            "musician: writer, actor, singer, author, king, english, composer, addition, poet, deaths\n",
            "dance: music, rock, third, game, jazz, concept, live, small, country, practice\n",
            "\n",
            "\n"
          ]
        },
        {
          "name": "stderr",
          "output_type": "stream",
          "text": [
            "23000it [09:25, 35.24it/s]"
          ]
        },
        {
          "name": "stdout",
          "output_type": "stream",
          "text": [
            "| epoch   5 | 23000/32580 batches | loss    0.716 \n"
          ]
        },
        {
          "name": "stderr",
          "output_type": "stream",
          "text": [
            "\r23004it [09:26, 18.57it/s]"
          ]
        },
        {
          "name": "stdout",
          "output_type": "stream",
          "text": [
            "money: battle, able, work, years, role, way, well, concept, fact, time\n",
            "lion: taint, defeated, really, characterized, judgment, gazette, eusebius, imagination, delighted, bodies\n",
            "africa: europe, america, united, east, germany, south, china, west, india, end\n",
            "musician: writer, actor, singer, author, king, english, composer, addition, poet, deaths\n",
            "dance: music, rock, third, game, jazz, concept, live, small, country, practice\n",
            "\n",
            "\n"
          ]
        },
        {
          "name": "stderr",
          "output_type": "stream",
          "text": [
            "23498it [09:37, 38.68it/s]"
          ]
        },
        {
          "name": "stdout",
          "output_type": "stream",
          "text": [
            "| epoch   5 | 23500/32580 batches | loss    0.718 \n"
          ]
        },
        {
          "name": "stderr",
          "output_type": "stream",
          "text": [
            "23506it [09:37, 22.73it/s]"
          ]
        },
        {
          "name": "stdout",
          "output_type": "stream",
          "text": [
            "money: battle, able, work, years, role, way, well, concept, fact, time\n",
            "lion: taint, defeated, really, characterized, judgment, gazette, eusebius, imagination, delighted, bodies\n",
            "africa: europe, america, united, east, germany, south, china, west, india, end\n",
            "musician: writer, actor, singer, author, king, english, composer, addition, poet, deaths\n",
            "dance: music, rock, third, game, jazz, concept, live, small, country, practice\n",
            "\n",
            "\n"
          ]
        },
        {
          "name": "stderr",
          "output_type": "stream",
          "text": [
            "23999it [09:49, 45.55it/s]"
          ]
        },
        {
          "name": "stdout",
          "output_type": "stream",
          "text": [
            "| epoch   5 | 24000/32580 batches | loss    0.716 \n"
          ]
        },
        {
          "name": "stderr",
          "output_type": "stream",
          "text": [
            "24009it [09:49, 30.26it/s]"
          ]
        },
        {
          "name": "stdout",
          "output_type": "stream",
          "text": [
            "money: battle, able, work, years, role, way, well, concept, fact, time\n",
            "lion: taint, defeated, really, characterized, judgment, gazette, eusebius, imagination, delighted, bodies\n",
            "africa: europe, america, united, east, germany, south, china, west, india, end\n",
            "musician: writer, actor, singer, author, king, english, composer, addition, poet, deaths\n",
            "dance: music, rock, third, game, jazz, concept, live, small, country, practice\n",
            "\n",
            "\n"
          ]
        },
        {
          "name": "stderr",
          "output_type": "stream",
          "text": [
            "24500it [10:01, 46.37it/s]"
          ]
        },
        {
          "name": "stdout",
          "output_type": "stream",
          "text": [
            "| epoch   5 | 24500/32580 batches | loss    0.717 \n"
          ]
        },
        {
          "name": "stderr",
          "output_type": "stream",
          "text": [
            "\r24505it [10:01, 27.27it/s]"
          ]
        },
        {
          "name": "stdout",
          "output_type": "stream",
          "text": [
            "money: battle, able, work, years, role, way, well, concept, fact, time\n",
            "lion: taint, defeated, really, characterized, judgment, gazette, eusebius, imagination, delighted, bodies\n",
            "africa: europe, america, united, east, germany, south, china, west, india, end\n",
            "musician: writer, actor, singer, author, king, english, composer, addition, poet, deaths\n",
            "dance: music, rock, third, game, jazz, concept, live, small, country, practice\n",
            "\n",
            "\n"
          ]
        },
        {
          "name": "stderr",
          "output_type": "stream",
          "text": [
            "24996it [10:13, 46.24it/s]"
          ]
        },
        {
          "name": "stdout",
          "output_type": "stream",
          "text": [
            "| epoch   5 | 25000/32580 batches | loss    0.717 \n"
          ]
        },
        {
          "name": "stderr",
          "output_type": "stream",
          "text": [
            "25005it [10:14, 30.10it/s]"
          ]
        },
        {
          "name": "stdout",
          "output_type": "stream",
          "text": [
            "money: battle, able, work, years, role, way, well, concept, fact, time\n",
            "lion: taint, defeated, really, characterized, judgment, gazette, eusebius, imagination, delighted, bodies\n",
            "africa: europe, america, united, east, germany, south, china, west, india, end\n",
            "musician: writer, actor, singer, author, king, english, composer, addition, poet, deaths\n",
            "dance: music, rock, third, game, jazz, concept, live, small, country, practice\n",
            "\n",
            "\n"
          ]
        },
        {
          "name": "stderr",
          "output_type": "stream",
          "text": [
            "25499it [10:25, 46.22it/s]"
          ]
        },
        {
          "name": "stdout",
          "output_type": "stream",
          "text": [
            "| epoch   5 | 25500/32580 batches | loss    0.716 \n"
          ]
        },
        {
          "name": "stderr",
          "output_type": "stream",
          "text": [
            "25509it [10:26, 30.94it/s]"
          ]
        },
        {
          "name": "stdout",
          "output_type": "stream",
          "text": [
            "money: battle, able, work, years, role, way, well, concept, fact, time\n",
            "lion: taint, defeated, really, characterized, judgment, gazette, eusebius, imagination, delighted, bodies\n",
            "africa: europe, america, united, east, germany, south, china, west, india, end\n",
            "musician: writer, actor, singer, author, king, english, composer, addition, poet, deaths\n",
            "dance: music, rock, third, game, jazz, concept, live, small, country, practice\n",
            "\n",
            "\n"
          ]
        },
        {
          "name": "stderr",
          "output_type": "stream",
          "text": [
            "25999it [10:37, 45.79it/s]"
          ]
        },
        {
          "name": "stdout",
          "output_type": "stream",
          "text": [
            "| epoch   5 | 26000/32580 batches | loss    0.715 \n"
          ]
        },
        {
          "name": "stderr",
          "output_type": "stream",
          "text": [
            "26009it [10:38, 31.02it/s]"
          ]
        },
        {
          "name": "stdout",
          "output_type": "stream",
          "text": [
            "money: battle, able, work, years, role, way, well, concept, fact, time\n",
            "lion: taint, defeated, really, characterized, judgment, gazette, eusebius, imagination, delighted, bodies\n",
            "africa: europe, america, united, east, germany, south, china, west, india, end\n",
            "musician: writer, actor, singer, author, king, english, composer, addition, poet, deaths\n",
            "dance: music, rock, third, game, jazz, concept, live, small, country, practice\n",
            "\n",
            "\n"
          ]
        },
        {
          "name": "stderr",
          "output_type": "stream",
          "text": [
            "26498it [10:49, 34.29it/s]"
          ]
        },
        {
          "name": "stdout",
          "output_type": "stream",
          "text": [
            "| epoch   5 | 26500/32580 batches | loss    0.717 \n"
          ]
        },
        {
          "name": "stderr",
          "output_type": "stream",
          "text": [
            "26506it [10:50, 21.81it/s]"
          ]
        },
        {
          "name": "stdout",
          "output_type": "stream",
          "text": [
            "money: battle, able, work, years, role, way, well, concept, fact, time\n",
            "lion: taint, defeated, really, characterized, judgment, gazette, eusebius, imagination, delighted, bodies\n",
            "africa: europe, america, united, east, germany, south, china, west, india, end\n",
            "musician: writer, actor, singer, author, king, english, composer, addition, poet, deaths\n",
            "dance: music, rock, third, game, jazz, concept, live, small, country, practice\n",
            "\n",
            "\n"
          ]
        },
        {
          "name": "stderr",
          "output_type": "stream",
          "text": [
            "27000it [11:01, 37.37it/s]"
          ]
        },
        {
          "name": "stdout",
          "output_type": "stream",
          "text": [
            "| epoch   5 | 27000/32580 batches | loss    0.718 \n"
          ]
        },
        {
          "name": "stderr",
          "output_type": "stream",
          "text": [
            "\r27004it [11:01, 19.11it/s]"
          ]
        },
        {
          "name": "stdout",
          "output_type": "stream",
          "text": [
            "money: battle, able, work, years, role, way, well, concept, fact, time\n",
            "lion: taint, defeated, really, characterized, judgment, gazette, eusebius, imagination, delighted, bodies\n",
            "africa: europe, america, united, east, germany, south, china, west, india, end\n",
            "musician: writer, actor, singer, author, king, english, composer, addition, poet, deaths\n",
            "dance: music, rock, third, game, jazz, concept, live, small, country, practice\n",
            "\n",
            "\n"
          ]
        },
        {
          "name": "stderr",
          "output_type": "stream",
          "text": [
            "27497it [11:13, 45.42it/s]"
          ]
        },
        {
          "name": "stdout",
          "output_type": "stream",
          "text": [
            "| epoch   5 | 27500/32580 batches | loss    0.717 \n"
          ]
        },
        {
          "name": "stderr",
          "output_type": "stream",
          "text": [
            "27507it [11:13, 31.34it/s]"
          ]
        },
        {
          "name": "stdout",
          "output_type": "stream",
          "text": [
            "money: battle, able, work, years, role, way, well, concept, fact, time\n",
            "lion: taint, defeated, really, characterized, judgment, gazette, eusebius, imagination, delighted, bodies\n",
            "africa: europe, america, united, east, germany, south, china, west, india, end\n",
            "musician: writer, actor, singer, author, king, english, composer, addition, poet, deaths\n",
            "dance: music, rock, third, game, jazz, concept, live, small, country, practice\n",
            "\n",
            "\n"
          ]
        },
        {
          "name": "stderr",
          "output_type": "stream",
          "text": [
            "28000it [11:25, 44.25it/s]"
          ]
        },
        {
          "name": "stdout",
          "output_type": "stream",
          "text": [
            "| epoch   5 | 28000/32580 batches | loss    0.717 \n"
          ]
        },
        {
          "name": "stderr",
          "output_type": "stream",
          "text": [
            "\r28005it [11:26, 27.04it/s]"
          ]
        },
        {
          "name": "stdout",
          "output_type": "stream",
          "text": [
            "money: battle, able, work, years, role, way, well, concept, fact, time\n",
            "lion: taint, defeated, really, characterized, judgment, gazette, eusebius, imagination, delighted, bodies\n",
            "africa: europe, america, united, east, germany, south, china, west, india, end\n",
            "musician: writer, actor, singer, author, king, english, composer, addition, poet, deaths\n",
            "dance: music, rock, third, game, jazz, concept, live, small, country, practice\n",
            "\n",
            "\n"
          ]
        },
        {
          "name": "stderr",
          "output_type": "stream",
          "text": [
            "28499it [11:38, 46.02it/s]"
          ]
        },
        {
          "name": "stdout",
          "output_type": "stream",
          "text": [
            "| epoch   5 | 28500/32580 batches | loss    0.717 \n"
          ]
        },
        {
          "name": "stderr",
          "output_type": "stream",
          "text": [
            "28509it [11:39, 31.72it/s]"
          ]
        },
        {
          "name": "stdout",
          "output_type": "stream",
          "text": [
            "money: battle, able, work, years, role, way, well, concept, fact, time\n",
            "lion: taint, defeated, really, characterized, judgment, gazette, eusebius, imagination, delighted, bodies\n",
            "africa: europe, america, united, east, germany, south, china, west, india, end\n",
            "musician: writer, actor, singer, author, king, english, composer, addition, poet, deaths\n",
            "dance: music, rock, third, game, jazz, concept, live, small, country, practice\n",
            "\n",
            "\n"
          ]
        },
        {
          "name": "stderr",
          "output_type": "stream",
          "text": [
            "28998it [11:50, 46.25it/s]"
          ]
        },
        {
          "name": "stdout",
          "output_type": "stream",
          "text": [
            "| epoch   5 | 29000/32580 batches | loss    0.717 \n"
          ]
        },
        {
          "name": "stderr",
          "output_type": "stream",
          "text": [
            "29008it [11:51, 31.14it/s]"
          ]
        },
        {
          "name": "stdout",
          "output_type": "stream",
          "text": [
            "money: battle, able, work, years, role, way, well, concept, fact, time\n",
            "lion: taint, defeated, really, characterized, judgment, gazette, eusebius, imagination, delighted, bodies\n",
            "africa: europe, america, united, east, germany, south, china, west, india, end\n",
            "musician: writer, actor, singer, author, king, english, composer, addition, poet, deaths\n",
            "dance: music, rock, third, game, jazz, concept, live, small, country, practice\n",
            "\n",
            "\n"
          ]
        },
        {
          "name": "stderr",
          "output_type": "stream",
          "text": [
            "29496it [12:02, 46.00it/s]"
          ]
        },
        {
          "name": "stdout",
          "output_type": "stream",
          "text": [
            "| epoch   5 | 29500/32580 batches | loss    0.717 \n"
          ]
        },
        {
          "name": "stderr",
          "output_type": "stream",
          "text": [
            "29505it [12:03, 29.73it/s]"
          ]
        },
        {
          "name": "stdout",
          "output_type": "stream",
          "text": [
            "money: battle, able, work, years, role, way, well, concept, fact, time\n",
            "lion: taint, defeated, really, characterized, judgment, gazette, eusebius, imagination, delighted, bodies\n",
            "africa: europe, america, united, east, germany, south, china, west, india, end\n",
            "musician: writer, actor, singer, author, king, english, composer, addition, poet, deaths\n",
            "dance: music, rock, third, game, jazz, concept, live, small, country, practice\n",
            "\n",
            "\n"
          ]
        },
        {
          "name": "stderr",
          "output_type": "stream",
          "text": [
            "29997it [12:14, 36.49it/s]"
          ]
        },
        {
          "name": "stdout",
          "output_type": "stream",
          "text": [
            "| epoch   5 | 30000/32580 batches | loss    0.719 \n"
          ]
        },
        {
          "name": "stderr",
          "output_type": "stream",
          "text": [
            "30005it [12:15, 26.18it/s]"
          ]
        },
        {
          "name": "stdout",
          "output_type": "stream",
          "text": [
            "money: battle, able, work, years, role, way, well, concept, fact, time\n",
            "lion: taint, defeated, really, characterized, judgment, gazette, eusebius, imagination, delighted, bodies\n",
            "africa: europe, america, united, east, germany, south, china, west, india, end\n",
            "musician: writer, actor, singer, author, king, english, composer, addition, poet, deaths\n",
            "dance: music, rock, third, game, jazz, concept, live, small, country, practice\n",
            "\n",
            "\n"
          ]
        },
        {
          "name": "stderr",
          "output_type": "stream",
          "text": [
            "30498it [12:26, 36.53it/s]"
          ]
        },
        {
          "name": "stdout",
          "output_type": "stream",
          "text": [
            "| epoch   5 | 30500/32580 batches | loss    0.715 \n"
          ]
        },
        {
          "name": "stderr",
          "output_type": "stream",
          "text": [
            "30506it [12:26, 22.28it/s]"
          ]
        },
        {
          "name": "stdout",
          "output_type": "stream",
          "text": [
            "money: battle, able, work, years, role, way, well, concept, fact, time\n",
            "lion: taint, defeated, really, characterized, judgment, gazette, eusebius, imagination, delighted, bodies\n",
            "africa: europe, america, united, east, germany, south, china, west, india, end\n",
            "musician: writer, actor, singer, author, king, english, composer, addition, poet, deaths\n",
            "dance: music, rock, third, game, jazz, concept, live, small, country, practice\n",
            "\n",
            "\n"
          ]
        },
        {
          "name": "stderr",
          "output_type": "stream",
          "text": [
            "30999it [12:38, 44.91it/s]"
          ]
        },
        {
          "name": "stdout",
          "output_type": "stream",
          "text": [
            "| epoch   5 | 31000/32580 batches | loss    0.718 \n"
          ]
        },
        {
          "name": "stderr",
          "output_type": "stream",
          "text": [
            "31009it [12:38, 30.80it/s]"
          ]
        },
        {
          "name": "stdout",
          "output_type": "stream",
          "text": [
            "money: battle, able, work, years, role, way, well, concept, fact, time\n",
            "lion: taint, defeated, really, characterized, judgment, gazette, eusebius, imagination, delighted, bodies\n",
            "africa: europe, america, united, east, germany, south, china, west, india, end\n",
            "musician: writer, actor, singer, author, king, english, composer, addition, poet, deaths\n",
            "dance: music, rock, third, game, jazz, concept, live, small, country, practice\n",
            "\n",
            "\n"
          ]
        },
        {
          "name": "stderr",
          "output_type": "stream",
          "text": [
            "31499it [12:50, 45.79it/s]"
          ]
        },
        {
          "name": "stdout",
          "output_type": "stream",
          "text": [
            "| epoch   5 | 31500/32580 batches | loss    0.715 \n"
          ]
        },
        {
          "name": "stderr",
          "output_type": "stream",
          "text": [
            "31509it [12:50, 31.40it/s]"
          ]
        },
        {
          "name": "stdout",
          "output_type": "stream",
          "text": [
            "money: battle, able, work, years, role, way, well, concept, fact, time\n",
            "lion: taint, defeated, really, characterized, judgment, gazette, eusebius, imagination, delighted, bodies\n",
            "africa: europe, america, united, east, germany, south, china, west, india, end\n",
            "musician: writer, actor, singer, author, king, english, composer, addition, poet, deaths\n",
            "dance: music, rock, third, game, jazz, concept, live, small, country, practice\n",
            "\n",
            "\n"
          ]
        },
        {
          "name": "stderr",
          "output_type": "stream",
          "text": [
            "31998it [13:02, 47.41it/s]"
          ]
        },
        {
          "name": "stdout",
          "output_type": "stream",
          "text": [
            "| epoch   5 | 32000/32580 batches | loss    0.715 \n"
          ]
        },
        {
          "name": "stderr",
          "output_type": "stream",
          "text": [
            "32008it [13:02, 32.04it/s]"
          ]
        },
        {
          "name": "stdout",
          "output_type": "stream",
          "text": [
            "money: battle, able, work, years, role, way, well, concept, fact, time\n",
            "lion: taint, defeated, really, characterized, judgment, gazette, eusebius, imagination, delighted, bodies\n",
            "africa: europe, america, united, east, germany, south, china, west, india, end\n",
            "musician: writer, actor, singer, author, king, english, composer, addition, poet, deaths\n",
            "dance: music, rock, third, game, jazz, concept, live, small, country, practice\n",
            "\n",
            "\n"
          ]
        },
        {
          "name": "stderr",
          "output_type": "stream",
          "text": [
            "32497it [13:13, 46.37it/s]"
          ]
        },
        {
          "name": "stdout",
          "output_type": "stream",
          "text": [
            "| epoch   5 | 32500/32580 batches | loss    0.714 \n"
          ]
        },
        {
          "name": "stderr",
          "output_type": "stream",
          "text": [
            "32507it [13:14, 31.60it/s]"
          ]
        },
        {
          "name": "stdout",
          "output_type": "stream",
          "text": [
            "money: battle, able, work, years, role, way, well, concept, fact, time\n",
            "lion: taint, defeated, really, characterized, judgment, gazette, eusebius, imagination, delighted, bodies\n",
            "africa: europe, america, united, east, germany, south, china, west, india, end\n",
            "musician: writer, actor, singer, author, king, english, composer, addition, poet, deaths\n",
            "dance: music, rock, third, game, jazz, concept, live, small, country, practice\n",
            "\n",
            "\n"
          ]
        },
        {
          "name": "stderr",
          "output_type": "stream",
          "text": [
            "32580it [13:16, 40.88it/s]\n",
            "0it [00:00, ?it/s]"
          ]
        },
        {
          "name": "stdout",
          "output_type": "stream",
          "text": [
            "| epoch   6 |     0/32580 batches | loss    0.708 \n"
          ]
        },
        {
          "name": "stderr",
          "output_type": "stream",
          "text": [
            "5it [00:01,  4.89it/s]"
          ]
        },
        {
          "name": "stdout",
          "output_type": "stream",
          "text": [
            "money: battle, able, work, years, role, way, well, concept, fact, time\n",
            "lion: taint, defeated, really, characterized, judgment, gazette, eusebius, imagination, delighted, bodies\n",
            "africa: europe, america, united, east, germany, south, china, west, india, end\n",
            "musician: writer, actor, singer, author, king, english, composer, addition, poet, deaths\n",
            "dance: music, rock, third, game, jazz, concept, live, small, country, practice\n",
            "\n",
            "\n"
          ]
        },
        {
          "name": "stderr",
          "output_type": "stream",
          "text": [
            "500it [00:12, 46.91it/s]"
          ]
        },
        {
          "name": "stdout",
          "output_type": "stream",
          "text": [
            "| epoch   6 |   500/32580 batches | loss    0.716 \n"
          ]
        },
        {
          "name": "stderr",
          "output_type": "stream",
          "text": [
            "\r505it [00:13, 27.49it/s]"
          ]
        },
        {
          "name": "stdout",
          "output_type": "stream",
          "text": [
            "money: battle, able, work, years, role, way, well, concept, fact, time\n",
            "lion: taint, defeated, really, characterized, judgment, gazette, eusebius, imagination, delighted, bodies\n",
            "africa: europe, america, united, east, germany, south, china, west, india, end\n",
            "musician: writer, actor, singer, author, king, english, composer, addition, poet, deaths\n",
            "dance: music, rock, third, game, jazz, concept, live, small, country, practice\n",
            "\n",
            "\n"
          ]
        },
        {
          "name": "stderr",
          "output_type": "stream",
          "text": [
            "996it [00:24, 46.81it/s]"
          ]
        },
        {
          "name": "stdout",
          "output_type": "stream",
          "text": [
            "| epoch   6 |  1000/32580 batches | loss    0.717 \n"
          ]
        },
        {
          "name": "stderr",
          "output_type": "stream",
          "text": [
            "1005it [00:25, 30.52it/s]"
          ]
        },
        {
          "name": "stdout",
          "output_type": "stream",
          "text": [
            "money: battle, able, work, years, role, way, well, concept, fact, time\n",
            "lion: taint, defeated, really, characterized, judgment, gazette, eusebius, imagination, delighted, bodies\n",
            "africa: europe, america, united, east, germany, south, china, west, india, end\n",
            "musician: writer, actor, singer, author, king, english, composer, addition, poet, deaths\n",
            "dance: music, rock, third, game, jazz, concept, live, small, country, practice\n",
            "\n",
            "\n"
          ]
        },
        {
          "name": "stderr",
          "output_type": "stream",
          "text": [
            "1496it [00:36, 46.10it/s]"
          ]
        },
        {
          "name": "stdout",
          "output_type": "stream",
          "text": [
            "| epoch   6 |  1500/32580 batches | loss    0.717 \n"
          ]
        },
        {
          "name": "stderr",
          "output_type": "stream",
          "text": [
            "1506it [00:37, 30.38it/s]"
          ]
        },
        {
          "name": "stdout",
          "output_type": "stream",
          "text": [
            "money: battle, able, work, years, role, way, well, concept, fact, time\n",
            "lion: taint, defeated, really, characterized, judgment, gazette, eusebius, imagination, delighted, bodies\n",
            "africa: europe, america, united, east, germany, south, china, west, india, end\n",
            "musician: writer, actor, singer, author, king, english, composer, addition, poet, deaths\n",
            "dance: music, rock, third, game, jazz, concept, live, small, country, practice\n",
            "\n",
            "\n"
          ]
        },
        {
          "name": "stderr",
          "output_type": "stream",
          "text": [
            "2000it [00:48, 35.26it/s]"
          ]
        },
        {
          "name": "stdout",
          "output_type": "stream",
          "text": [
            "| epoch   6 |  2000/32580 batches | loss    0.716 \n"
          ]
        },
        {
          "name": "stderr",
          "output_type": "stream",
          "text": [
            "2009it [00:49, 24.43it/s]"
          ]
        },
        {
          "name": "stdout",
          "output_type": "stream",
          "text": [
            "money: battle, able, work, years, role, way, well, concept, fact, time\n",
            "lion: taint, defeated, really, characterized, judgment, gazette, eusebius, imagination, delighted, bodies\n",
            "africa: europe, america, united, east, germany, south, china, west, india, end\n",
            "musician: writer, actor, singer, author, king, english, composer, addition, poet, deaths\n",
            "dance: music, rock, third, game, jazz, concept, live, small, country, practice\n",
            "\n",
            "\n"
          ]
        },
        {
          "name": "stderr",
          "output_type": "stream",
          "text": [
            "2500it [01:00, 36.06it/s]"
          ]
        },
        {
          "name": "stdout",
          "output_type": "stream",
          "text": [
            "| epoch   6 |  2500/32580 batches | loss    0.718 \n"
          ]
        },
        {
          "name": "stderr",
          "output_type": "stream",
          "text": [
            "\r2504it [01:00, 19.87it/s]"
          ]
        },
        {
          "name": "stdout",
          "output_type": "stream",
          "text": [
            "money: battle, able, work, years, role, way, well, concept, fact, time\n",
            "lion: taint, defeated, really, characterized, judgment, gazette, eusebius, imagination, delighted, bodies\n",
            "africa: europe, america, united, east, germany, south, china, west, india, end\n",
            "musician: writer, actor, singer, author, king, english, composer, addition, poet, deaths\n",
            "dance: music, rock, third, game, jazz, concept, live, small, country, practice\n",
            "\n",
            "\n"
          ]
        },
        {
          "name": "stderr",
          "output_type": "stream",
          "text": [
            "3000it [01:11, 47.21it/s]"
          ]
        },
        {
          "name": "stdout",
          "output_type": "stream",
          "text": [
            "| epoch   6 |  3000/32580 batches | loss    0.715 \n"
          ]
        },
        {
          "name": "stderr",
          "output_type": "stream",
          "text": [
            "\r3005it [01:11, 28.10it/s]"
          ]
        },
        {
          "name": "stdout",
          "output_type": "stream",
          "text": [
            "money: battle, able, work, years, role, way, well, concept, fact, time\n",
            "lion: taint, defeated, really, characterized, judgment, gazette, eusebius, imagination, delighted, bodies\n",
            "africa: europe, america, united, east, germany, south, china, west, india, end\n",
            "musician: writer, actor, singer, author, king, english, composer, addition, poet, deaths\n",
            "dance: music, rock, third, game, jazz, concept, live, small, country, practice\n",
            "\n",
            "\n"
          ]
        },
        {
          "name": "stderr",
          "output_type": "stream",
          "text": [
            "3498it [01:23, 46.85it/s]"
          ]
        },
        {
          "name": "stdout",
          "output_type": "stream",
          "text": [
            "| epoch   6 |  3500/32580 batches | loss    0.719 \n"
          ]
        },
        {
          "name": "stderr",
          "output_type": "stream",
          "text": [
            "3508it [01:23, 31.66it/s]"
          ]
        },
        {
          "name": "stdout",
          "output_type": "stream",
          "text": [
            "money: battle, able, work, years, role, way, well, concept, fact, time\n",
            "lion: taint, defeated, really, characterized, judgment, gazette, eusebius, imagination, delighted, bodies\n",
            "africa: europe, america, united, east, germany, south, china, west, india, end\n",
            "musician: writer, actor, singer, author, king, english, composer, addition, poet, deaths\n",
            "dance: music, rock, third, game, jazz, concept, live, small, country, practice\n",
            "\n",
            "\n"
          ]
        },
        {
          "name": "stderr",
          "output_type": "stream",
          "text": [
            "3996it [01:34, 47.16it/s]"
          ]
        },
        {
          "name": "stdout",
          "output_type": "stream",
          "text": [
            "| epoch   6 |  4000/32580 batches | loss    0.717 \n"
          ]
        },
        {
          "name": "stderr",
          "output_type": "stream",
          "text": [
            "4005it [01:35, 30.80it/s]"
          ]
        },
        {
          "name": "stdout",
          "output_type": "stream",
          "text": [
            "money: battle, able, work, years, role, way, well, concept, fact, time\n",
            "lion: taint, defeated, really, characterized, judgment, gazette, eusebius, imagination, delighted, bodies\n",
            "africa: europe, america, united, east, germany, south, china, west, india, end\n",
            "musician: writer, actor, singer, author, king, english, composer, addition, poet, deaths\n",
            "dance: music, rock, third, game, jazz, concept, live, small, country, practice\n",
            "\n",
            "\n"
          ]
        },
        {
          "name": "stderr",
          "output_type": "stream",
          "text": [
            "4498it [01:46, 46.73it/s]"
          ]
        },
        {
          "name": "stdout",
          "output_type": "stream",
          "text": [
            "| epoch   6 |  4500/32580 batches | loss    0.716 \n"
          ]
        },
        {
          "name": "stderr",
          "output_type": "stream",
          "text": [
            "4508it [01:46, 31.43it/s]"
          ]
        },
        {
          "name": "stdout",
          "output_type": "stream",
          "text": [
            "money: battle, able, work, years, role, way, well, concept, fact, time\n",
            "lion: taint, defeated, really, characterized, judgment, gazette, eusebius, imagination, delighted, bodies\n",
            "africa: europe, america, united, east, germany, south, china, west, india, end\n",
            "musician: writer, actor, singer, author, king, english, composer, addition, poet, deaths\n",
            "dance: music, rock, third, game, jazz, concept, live, small, country, practice\n",
            "\n",
            "\n"
          ]
        },
        {
          "name": "stderr",
          "output_type": "stream",
          "text": [
            "4996it [01:58, 45.67it/s]"
          ]
        },
        {
          "name": "stdout",
          "output_type": "stream",
          "text": [
            "| epoch   6 |  5000/32580 batches | loss    0.716 \n"
          ]
        },
        {
          "name": "stderr",
          "output_type": "stream",
          "text": [
            "5005it [01:58, 29.54it/s]"
          ]
        },
        {
          "name": "stdout",
          "output_type": "stream",
          "text": [
            "money: battle, able, work, years, role, way, well, concept, fact, time\n",
            "lion: taint, defeated, really, characterized, judgment, gazette, eusebius, imagination, delighted, bodies\n",
            "africa: europe, america, united, east, germany, south, china, west, india, end\n",
            "musician: writer, actor, singer, author, king, english, composer, addition, poet, deaths\n",
            "dance: music, rock, third, game, jazz, concept, live, small, country, practice\n",
            "\n",
            "\n"
          ]
        },
        {
          "name": "stderr",
          "output_type": "stream",
          "text": [
            "5499it [02:10, 46.42it/s]"
          ]
        },
        {
          "name": "stdout",
          "output_type": "stream",
          "text": [
            "| epoch   6 |  5500/32580 batches | loss    0.716 \n"
          ]
        },
        {
          "name": "stderr",
          "output_type": "stream",
          "text": [
            "5509it [02:10, 31.57it/s]"
          ]
        },
        {
          "name": "stdout",
          "output_type": "stream",
          "text": [
            "money: battle, able, work, years, role, way, well, concept, fact, time\n",
            "lion: taint, defeated, really, characterized, judgment, gazette, eusebius, imagination, delighted, bodies\n",
            "africa: europe, america, united, east, germany, south, china, west, india, end\n",
            "musician: writer, actor, singer, author, king, english, composer, addition, poet, deaths\n",
            "dance: music, rock, third, game, jazz, concept, live, small, country, practice\n",
            "\n",
            "\n"
          ]
        },
        {
          "name": "stderr",
          "output_type": "stream",
          "text": [
            "6000it [02:21, 46.39it/s]"
          ]
        },
        {
          "name": "stdout",
          "output_type": "stream",
          "text": [
            "| epoch   6 |  6000/32580 batches | loss    0.717 \n"
          ]
        },
        {
          "name": "stderr",
          "output_type": "stream",
          "text": [
            "\r6005it [02:22, 26.63it/s]"
          ]
        },
        {
          "name": "stdout",
          "output_type": "stream",
          "text": [
            "money: battle, able, work, years, role, way, well, concept, fact, time\n",
            "lion: taint, defeated, really, characterized, judgment, gazette, eusebius, imagination, delighted, bodies\n",
            "africa: europe, america, united, east, germany, south, china, west, india, end\n",
            "musician: writer, actor, singer, author, king, english, composer, addition, poet, deaths\n",
            "dance: music, rock, third, game, jazz, concept, live, small, country, practice\n",
            "\n",
            "\n"
          ]
        },
        {
          "name": "stderr",
          "output_type": "stream",
          "text": [
            "6498it [02:33, 45.88it/s]"
          ]
        },
        {
          "name": "stdout",
          "output_type": "stream",
          "text": [
            "| epoch   6 |  6500/32580 batches | loss    0.718 \n"
          ]
        },
        {
          "name": "stderr",
          "output_type": "stream",
          "text": [
            "\r6503it [02:33, 24.91it/s]"
          ]
        },
        {
          "name": "stdout",
          "output_type": "stream",
          "text": [
            "money: battle, able, work, years, role, way, well, concept, fact, time\n",
            "lion: taint, defeated, really, characterized, judgment, gazette, eusebius, imagination, delighted, bodies\n",
            "africa: europe, america, united, east, germany, south, china, west, india, end\n",
            "musician: writer, actor, singer, author, king, english, composer, addition, poet, deaths\n",
            "dance: music, rock, third, game, jazz, concept, live, small, country, practice\n",
            "\n",
            "\n"
          ]
        },
        {
          "name": "stderr",
          "output_type": "stream",
          "text": [
            "7000it [02:46, 45.12it/s]"
          ]
        },
        {
          "name": "stdout",
          "output_type": "stream",
          "text": [
            "| epoch   6 |  7000/32580 batches | loss    0.717 \n"
          ]
        },
        {
          "name": "stderr",
          "output_type": "stream",
          "text": [
            "\r7005it [02:46, 27.25it/s]"
          ]
        },
        {
          "name": "stdout",
          "output_type": "stream",
          "text": [
            "money: battle, able, work, years, role, way, well, concept, fact, time\n",
            "lion: taint, defeated, really, characterized, judgment, gazette, eusebius, imagination, delighted, bodies\n",
            "africa: europe, america, united, east, germany, south, china, west, india, end\n",
            "musician: writer, actor, singer, author, king, english, composer, addition, poet, deaths\n",
            "dance: music, rock, third, game, jazz, concept, live, small, country, practice\n",
            "\n",
            "\n"
          ]
        },
        {
          "name": "stderr",
          "output_type": "stream",
          "text": [
            "7500it [02:57, 35.98it/s]"
          ]
        },
        {
          "name": "stdout",
          "output_type": "stream",
          "text": [
            "| epoch   6 |  7500/32580 batches | loss    0.717 \n"
          ]
        },
        {
          "name": "stderr",
          "output_type": "stream",
          "text": [
            "\r7504it [02:58, 18.14it/s]"
          ]
        },
        {
          "name": "stdout",
          "output_type": "stream",
          "text": [
            "money: battle, able, work, years, role, way, well, concept, fact, time\n",
            "lion: taint, defeated, really, characterized, judgment, gazette, eusebius, imagination, delighted, bodies\n",
            "africa: europe, america, united, east, germany, south, china, west, india, end\n",
            "musician: writer, actor, singer, author, king, english, composer, addition, poet, deaths\n",
            "dance: music, rock, third, game, jazz, concept, live, small, country, practice\n",
            "\n",
            "\n"
          ]
        },
        {
          "name": "stderr",
          "output_type": "stream",
          "text": [
            "7998it [03:09, 35.10it/s]"
          ]
        },
        {
          "name": "stdout",
          "output_type": "stream",
          "text": [
            "| epoch   6 |  8000/32580 batches | loss    0.715 \n"
          ]
        },
        {
          "name": "stderr",
          "output_type": "stream",
          "text": [
            "8006it [03:09, 22.08it/s]"
          ]
        },
        {
          "name": "stdout",
          "output_type": "stream",
          "text": [
            "money: battle, able, work, years, role, way, well, concept, fact, time\n",
            "lion: taint, defeated, really, characterized, judgment, gazette, eusebius, imagination, delighted, bodies\n",
            "africa: europe, america, united, east, germany, south, china, west, india, end\n",
            "musician: writer, actor, singer, author, king, english, composer, addition, poet, deaths\n",
            "dance: music, rock, third, game, jazz, concept, live, small, country, practice\n",
            "\n",
            "\n"
          ]
        },
        {
          "name": "stderr",
          "output_type": "stream",
          "text": [
            "8496it [03:20, 45.78it/s]"
          ]
        },
        {
          "name": "stdout",
          "output_type": "stream",
          "text": [
            "| epoch   6 |  8500/32580 batches | loss    0.716 \n"
          ]
        },
        {
          "name": "stderr",
          "output_type": "stream",
          "text": [
            "8505it [03:21, 29.93it/s]"
          ]
        },
        {
          "name": "stdout",
          "output_type": "stream",
          "text": [
            "money: battle, able, work, years, role, way, well, concept, fact, time\n",
            "lion: taint, defeated, really, characterized, judgment, gazette, eusebius, imagination, delighted, bodies\n",
            "africa: europe, america, united, east, germany, south, china, west, india, end\n",
            "musician: writer, actor, singer, author, king, english, composer, addition, poet, deaths\n",
            "dance: music, rock, third, game, jazz, concept, live, small, country, practice\n",
            "\n",
            "\n"
          ]
        },
        {
          "name": "stderr",
          "output_type": "stream",
          "text": [
            "8997it [03:32, 43.70it/s]"
          ]
        },
        {
          "name": "stdout",
          "output_type": "stream",
          "text": [
            "| epoch   6 |  9000/32580 batches | loss    0.718 \n"
          ]
        },
        {
          "name": "stderr",
          "output_type": "stream",
          "text": [
            "9006it [03:33, 28.79it/s]"
          ]
        },
        {
          "name": "stdout",
          "output_type": "stream",
          "text": [
            "money: battle, able, work, years, role, way, well, concept, fact, time\n",
            "lion: taint, defeated, really, characterized, judgment, gazette, eusebius, imagination, delighted, bodies\n",
            "africa: europe, america, united, east, germany, south, china, west, india, end\n",
            "musician: writer, actor, singer, author, king, english, composer, addition, poet, deaths\n",
            "dance: music, rock, third, game, jazz, concept, live, small, country, practice\n",
            "\n",
            "\n"
          ]
        },
        {
          "name": "stderr",
          "output_type": "stream",
          "text": [
            "9496it [03:45, 43.55it/s]"
          ]
        },
        {
          "name": "stdout",
          "output_type": "stream",
          "text": [
            "| epoch   6 |  9500/32580 batches | loss    0.718 \n"
          ]
        },
        {
          "name": "stderr",
          "output_type": "stream",
          "text": [
            "9505it [03:45, 28.98it/s]"
          ]
        },
        {
          "name": "stdout",
          "output_type": "stream",
          "text": [
            "money: battle, able, work, years, role, way, well, concept, fact, time\n",
            "lion: taint, defeated, really, characterized, judgment, gazette, eusebius, imagination, delighted, bodies\n",
            "africa: europe, america, united, east, germany, south, china, west, india, end\n",
            "musician: writer, actor, singer, author, king, english, composer, addition, poet, deaths\n",
            "dance: music, rock, third, game, jazz, concept, live, small, country, practice\n",
            "\n",
            "\n"
          ]
        },
        {
          "name": "stderr",
          "output_type": "stream",
          "text": [
            "9996it [03:57, 41.93it/s]"
          ]
        },
        {
          "name": "stdout",
          "output_type": "stream",
          "text": [
            "| epoch   6 | 10000/32580 batches | loss    0.717 \n"
          ]
        },
        {
          "name": "stderr",
          "output_type": "stream",
          "text": [
            "10005it [03:58, 27.60it/s]"
          ]
        },
        {
          "name": "stdout",
          "output_type": "stream",
          "text": [
            "money: battle, able, work, years, role, way, well, concept, fact, time\n",
            "lion: taint, defeated, really, characterized, judgment, gazette, eusebius, imagination, delighted, bodies\n",
            "africa: europe, america, united, east, germany, south, china, west, india, end\n",
            "musician: writer, actor, singer, author, king, english, composer, addition, poet, deaths\n",
            "dance: music, rock, third, game, jazz, concept, live, small, country, practice\n",
            "\n",
            "\n"
          ]
        },
        {
          "name": "stderr",
          "output_type": "stream",
          "text": [
            "10496it [04:09, 44.80it/s]"
          ]
        },
        {
          "name": "stdout",
          "output_type": "stream",
          "text": [
            "| epoch   6 | 10500/32580 batches | loss    0.718 \n"
          ]
        },
        {
          "name": "stderr",
          "output_type": "stream",
          "text": [
            "10505it [04:10, 29.52it/s]"
          ]
        },
        {
          "name": "stdout",
          "output_type": "stream",
          "text": [
            "money: battle, able, work, years, role, way, well, concept, fact, time\n",
            "lion: taint, defeated, really, characterized, judgment, gazette, eusebius, imagination, delighted, bodies\n",
            "africa: europe, america, united, east, germany, south, china, west, india, end\n",
            "musician: writer, actor, singer, author, king, english, composer, addition, poet, deaths\n",
            "dance: music, rock, third, game, jazz, concept, live, small, country, practice\n",
            "\n",
            "\n"
          ]
        },
        {
          "name": "stderr",
          "output_type": "stream",
          "text": [
            "10996it [04:22, 43.04it/s]"
          ]
        },
        {
          "name": "stdout",
          "output_type": "stream",
          "text": [
            "| epoch   6 | 11000/32580 batches | loss    0.715 \n"
          ]
        },
        {
          "name": "stderr",
          "output_type": "stream",
          "text": [
            "11005it [04:22, 27.63it/s]"
          ]
        },
        {
          "name": "stdout",
          "output_type": "stream",
          "text": [
            "money: battle, able, work, years, role, way, well, concept, fact, time\n",
            "lion: taint, defeated, really, characterized, judgment, gazette, eusebius, imagination, delighted, bodies\n",
            "africa: europe, america, united, east, germany, south, china, west, india, end\n",
            "musician: writer, actor, singer, author, king, english, composer, addition, poet, deaths\n",
            "dance: music, rock, third, game, jazz, concept, live, small, country, practice\n",
            "\n",
            "\n"
          ]
        },
        {
          "name": "stderr",
          "output_type": "stream",
          "text": [
            "11499it [04:34, 42.90it/s]"
          ]
        },
        {
          "name": "stdout",
          "output_type": "stream",
          "text": [
            "| epoch   6 | 11500/32580 batches | loss    0.715 \n"
          ]
        },
        {
          "name": "stderr",
          "output_type": "stream",
          "text": [
            "11509it [04:35, 29.02it/s]"
          ]
        },
        {
          "name": "stdout",
          "output_type": "stream",
          "text": [
            "money: battle, able, work, years, role, way, well, concept, fact, time\n",
            "lion: taint, defeated, really, characterized, judgment, gazette, eusebius, imagination, delighted, bodies\n",
            "africa: europe, america, united, east, germany, south, china, west, india, end\n",
            "musician: writer, actor, singer, author, king, english, composer, addition, poet, deaths\n",
            "dance: music, rock, third, game, jazz, concept, live, small, country, practice\n",
            "\n",
            "\n"
          ]
        },
        {
          "name": "stderr",
          "output_type": "stream",
          "text": [
            "12000it [04:46, 45.36it/s]"
          ]
        },
        {
          "name": "stdout",
          "output_type": "stream",
          "text": [
            "| epoch   6 | 12000/32580 batches | loss    0.718 \n"
          ]
        },
        {
          "name": "stderr",
          "output_type": "stream",
          "text": [
            "\r12005it [04:47, 26.60it/s]"
          ]
        },
        {
          "name": "stdout",
          "output_type": "stream",
          "text": [
            "money: battle, able, work, years, role, way, well, concept, fact, time\n",
            "lion: taint, defeated, really, characterized, judgment, gazette, eusebius, imagination, delighted, bodies\n",
            "africa: europe, america, united, east, germany, south, china, west, india, end\n",
            "musician: writer, actor, singer, author, king, english, composer, addition, poet, deaths\n",
            "dance: music, rock, third, game, jazz, concept, live, small, country, practice\n",
            "\n",
            "\n"
          ]
        },
        {
          "name": "stderr",
          "output_type": "stream",
          "text": [
            "12498it [04:59, 44.10it/s]"
          ]
        },
        {
          "name": "stdout",
          "output_type": "stream",
          "text": [
            "| epoch   6 | 12500/32580 batches | loss    0.716 \n"
          ]
        },
        {
          "name": "stderr",
          "output_type": "stream",
          "text": [
            "12508it [05:00, 30.35it/s]"
          ]
        },
        {
          "name": "stdout",
          "output_type": "stream",
          "text": [
            "money: battle, able, work, years, role, way, well, concept, fact, time\n",
            "lion: taint, defeated, really, characterized, judgment, gazette, eusebius, imagination, delighted, bodies\n",
            "africa: europe, america, united, east, germany, south, china, west, india, end\n",
            "musician: writer, actor, singer, author, king, english, composer, addition, poet, deaths\n",
            "dance: music, rock, third, game, jazz, concept, live, small, country, practice\n",
            "\n",
            "\n"
          ]
        },
        {
          "name": "stderr",
          "output_type": "stream",
          "text": [
            "12998it [05:12, 42.87it/s]"
          ]
        },
        {
          "name": "stdout",
          "output_type": "stream",
          "text": [
            "| epoch   6 | 13000/32580 batches | loss    0.716 \n"
          ]
        },
        {
          "name": "stderr",
          "output_type": "stream",
          "text": [
            "13007it [05:12, 28.19it/s]"
          ]
        },
        {
          "name": "stdout",
          "output_type": "stream",
          "text": [
            "money: battle, able, work, years, role, way, well, concept, fact, time\n",
            "lion: taint, defeated, really, characterized, judgment, gazette, eusebius, imagination, delighted, bodies\n",
            "africa: europe, america, united, east, germany, south, china, west, india, end\n",
            "musician: writer, actor, singer, author, king, english, composer, addition, poet, deaths\n",
            "dance: music, rock, third, game, jazz, concept, live, small, country, practice\n",
            "\n",
            "\n"
          ]
        },
        {
          "name": "stderr",
          "output_type": "stream",
          "text": [
            "13497it [05:27, 41.43it/s]"
          ]
        },
        {
          "name": "stdout",
          "output_type": "stream",
          "text": [
            "| epoch   6 | 13500/32580 batches | loss    0.718 \n"
          ]
        },
        {
          "name": "stderr",
          "output_type": "stream",
          "text": [
            "13506it [05:27, 27.59it/s]"
          ]
        },
        {
          "name": "stdout",
          "output_type": "stream",
          "text": [
            "money: battle, able, work, years, role, way, well, concept, fact, time\n",
            "lion: taint, defeated, really, characterized, judgment, gazette, eusebius, imagination, delighted, bodies\n",
            "africa: europe, america, united, east, germany, south, china, west, india, end\n",
            "musician: writer, actor, singer, author, king, english, composer, addition, poet, deaths\n",
            "dance: music, rock, third, game, jazz, concept, live, small, country, practice\n",
            "\n",
            "\n"
          ]
        },
        {
          "name": "stderr",
          "output_type": "stream",
          "text": [
            "13996it [05:39, 42.93it/s]"
          ]
        },
        {
          "name": "stdout",
          "output_type": "stream",
          "text": [
            "| epoch   6 | 14000/32580 batches | loss    0.716 \n"
          ]
        },
        {
          "name": "stderr",
          "output_type": "stream",
          "text": [
            "14005it [05:40, 27.47it/s]"
          ]
        },
        {
          "name": "stdout",
          "output_type": "stream",
          "text": [
            "money: battle, able, work, years, role, way, well, concept, fact, time\n",
            "lion: taint, defeated, really, characterized, judgment, gazette, eusebius, imagination, delighted, bodies\n",
            "africa: europe, america, united, east, germany, south, china, west, india, end\n",
            "musician: writer, actor, singer, author, king, english, composer, addition, poet, deaths\n",
            "dance: music, rock, third, game, jazz, concept, live, small, country, practice\n",
            "\n",
            "\n"
          ]
        },
        {
          "name": "stderr",
          "output_type": "stream",
          "text": [
            "14496it [05:52, 42.96it/s]"
          ]
        },
        {
          "name": "stdout",
          "output_type": "stream",
          "text": [
            "| epoch   6 | 14500/32580 batches | loss    0.716 \n"
          ]
        },
        {
          "name": "stderr",
          "output_type": "stream",
          "text": [
            "14505it [05:52, 28.53it/s]"
          ]
        },
        {
          "name": "stdout",
          "output_type": "stream",
          "text": [
            "money: battle, able, work, years, role, way, well, concept, fact, time\n",
            "lion: taint, defeated, really, characterized, judgment, gazette, eusebius, imagination, delighted, bodies\n",
            "africa: europe, america, united, east, germany, south, china, west, india, end\n",
            "musician: writer, actor, singer, author, king, english, composer, addition, poet, deaths\n",
            "dance: music, rock, third, game, jazz, concept, live, small, country, practice\n",
            "\n",
            "\n"
          ]
        },
        {
          "name": "stderr",
          "output_type": "stream",
          "text": [
            "14998it [06:05, 40.92it/s]"
          ]
        },
        {
          "name": "stdout",
          "output_type": "stream",
          "text": [
            "| epoch   6 | 15000/32580 batches | loss    0.719 \n"
          ]
        },
        {
          "name": "stderr",
          "output_type": "stream",
          "text": [
            "15007it [06:05, 27.87it/s]"
          ]
        },
        {
          "name": "stdout",
          "output_type": "stream",
          "text": [
            "money: battle, able, work, years, role, way, well, concept, fact, time\n",
            "lion: taint, defeated, really, characterized, judgment, gazette, eusebius, imagination, delighted, bodies\n",
            "africa: europe, america, united, east, germany, south, china, west, india, end\n",
            "musician: writer, actor, singer, author, king, english, composer, addition, poet, deaths\n",
            "dance: music, rock, third, game, jazz, concept, live, small, country, practice\n",
            "\n",
            "\n"
          ]
        },
        {
          "name": "stderr",
          "output_type": "stream",
          "text": [
            "15497it [06:17, 34.28it/s]"
          ]
        },
        {
          "name": "stdout",
          "output_type": "stream",
          "text": [
            "| epoch   6 | 15500/32580 batches | loss    0.717 \n"
          ]
        },
        {
          "name": "stderr",
          "output_type": "stream",
          "text": [
            "15505it [06:18, 23.20it/s]"
          ]
        },
        {
          "name": "stdout",
          "output_type": "stream",
          "text": [
            "money: battle, able, work, years, role, way, well, concept, fact, time\n",
            "lion: taint, defeated, really, characterized, judgment, gazette, eusebius, imagination, delighted, bodies\n",
            "africa: europe, america, united, east, germany, south, china, west, india, end\n",
            "musician: writer, actor, singer, author, king, english, composer, addition, poet, deaths\n",
            "dance: music, rock, third, game, jazz, concept, live, small, country, practice\n",
            "\n",
            "\n"
          ]
        },
        {
          "name": "stderr",
          "output_type": "stream",
          "text": [
            "15999it [06:30, 31.14it/s]"
          ]
        },
        {
          "name": "stdout",
          "output_type": "stream",
          "text": [
            "| epoch   6 | 16000/32580 batches | loss    0.714 \n"
          ]
        },
        {
          "name": "stderr",
          "output_type": "stream",
          "text": [
            "16007it [06:31, 20.65it/s]"
          ]
        },
        {
          "name": "stdout",
          "output_type": "stream",
          "text": [
            "money: battle, able, work, years, role, way, well, concept, fact, time\n",
            "lion: taint, defeated, really, characterized, judgment, gazette, eusebius, imagination, delighted, bodies\n",
            "africa: europe, america, united, east, germany, south, china, west, india, end\n",
            "musician: writer, actor, singer, author, king, english, composer, addition, poet, deaths\n",
            "dance: music, rock, third, game, jazz, concept, live, small, country, practice\n",
            "\n",
            "\n"
          ]
        },
        {
          "name": "stderr",
          "output_type": "stream",
          "text": [
            "16499it [06:42, 33.65it/s]"
          ]
        },
        {
          "name": "stdout",
          "output_type": "stream",
          "text": [
            "| epoch   6 | 16500/32580 batches | loss    0.715 \n"
          ]
        },
        {
          "name": "stderr",
          "output_type": "stream",
          "text": [
            "\r16503it [06:43, 17.63it/s]"
          ]
        },
        {
          "name": "stdout",
          "output_type": "stream",
          "text": [
            "money: battle, able, work, years, role, way, well, concept, fact, time\n",
            "lion: taint, defeated, really, characterized, judgment, gazette, eusebius, imagination, delighted, bodies\n",
            "africa: europe, america, united, east, germany, south, china, west, india, end\n",
            "musician: writer, actor, singer, author, king, english, composer, addition, poet, deaths\n",
            "dance: music, rock, third, game, jazz, concept, live, small, country, practice\n",
            "\n",
            "\n"
          ]
        },
        {
          "name": "stderr",
          "output_type": "stream",
          "text": [
            "16998it [06:55, 33.79it/s]"
          ]
        },
        {
          "name": "stdout",
          "output_type": "stream",
          "text": [
            "| epoch   6 | 17000/32580 batches | loss    0.715 \n"
          ]
        },
        {
          "name": "stderr",
          "output_type": "stream",
          "text": [
            "17006it [06:55, 20.33it/s]"
          ]
        },
        {
          "name": "stdout",
          "output_type": "stream",
          "text": [
            "money: battle, able, work, years, role, way, well, concept, fact, time\n",
            "lion: taint, defeated, really, characterized, judgment, gazette, eusebius, imagination, delighted, bodies\n",
            "africa: europe, america, united, east, germany, south, china, west, india, end\n",
            "musician: writer, actor, singer, author, king, english, composer, addition, poet, deaths\n",
            "dance: music, rock, third, game, jazz, concept, live, small, country, practice\n",
            "\n",
            "\n"
          ]
        },
        {
          "name": "stderr",
          "output_type": "stream",
          "text": [
            "17499it [07:08, 35.36it/s]"
          ]
        },
        {
          "name": "stdout",
          "output_type": "stream",
          "text": [
            "| epoch   6 | 17500/32580 batches | loss    0.716 \n"
          ]
        },
        {
          "name": "stderr",
          "output_type": "stream",
          "text": [
            "\r17503it [07:09, 18.32it/s]"
          ]
        },
        {
          "name": "stdout",
          "output_type": "stream",
          "text": [
            "money: battle, able, work, years, role, way, well, concept, fact, time\n",
            "lion: taint, defeated, really, characterized, judgment, gazette, eusebius, imagination, delighted, bodies\n",
            "africa: europe, america, united, east, germany, south, china, west, india, end\n",
            "musician: writer, actor, singer, author, king, english, composer, addition, poet, deaths\n",
            "dance: music, rock, third, game, jazz, concept, live, small, country, practice\n",
            "\n",
            "\n"
          ]
        },
        {
          "name": "stderr",
          "output_type": "stream",
          "text": [
            "18000it [07:21, 41.22it/s]"
          ]
        },
        {
          "name": "stdout",
          "output_type": "stream",
          "text": [
            "| epoch   6 | 18000/32580 batches | loss    0.716 \n"
          ]
        },
        {
          "name": "stderr",
          "output_type": "stream",
          "text": [
            "\r18005it [07:21, 21.33it/s]"
          ]
        },
        {
          "name": "stdout",
          "output_type": "stream",
          "text": [
            "money: battle, able, work, years, role, way, well, concept, fact, time\n",
            "lion: taint, defeated, really, characterized, judgment, gazette, eusebius, imagination, delighted, bodies\n",
            "africa: europe, america, united, east, germany, south, china, west, india, end\n",
            "musician: writer, actor, singer, author, king, english, composer, addition, poet, deaths\n",
            "dance: music, rock, third, game, jazz, concept, live, small, country, practice\n",
            "\n",
            "\n"
          ]
        },
        {
          "name": "stderr",
          "output_type": "stream",
          "text": [
            "18498it [07:33, 44.66it/s]"
          ]
        },
        {
          "name": "stdout",
          "output_type": "stream",
          "text": [
            "| epoch   6 | 18500/32580 batches | loss    0.717 \n"
          ]
        },
        {
          "name": "stderr",
          "output_type": "stream",
          "text": [
            "18508it [07:34, 29.53it/s]"
          ]
        },
        {
          "name": "stdout",
          "output_type": "stream",
          "text": [
            "money: battle, able, work, years, role, way, well, concept, fact, time\n",
            "lion: taint, defeated, really, characterized, judgment, gazette, eusebius, imagination, delighted, bodies\n",
            "africa: europe, america, united, east, germany, south, china, west, india, end\n",
            "musician: writer, actor, singer, author, king, english, composer, addition, poet, deaths\n",
            "dance: music, rock, third, game, jazz, concept, live, small, country, practice\n",
            "\n",
            "\n"
          ]
        },
        {
          "name": "stderr",
          "output_type": "stream",
          "text": [
            "19000it [07:46, 37.38it/s]"
          ]
        },
        {
          "name": "stdout",
          "output_type": "stream",
          "text": [
            "| epoch   6 | 19000/32580 batches | loss    0.717 \n"
          ]
        },
        {
          "name": "stderr",
          "output_type": "stream",
          "text": [
            "19009it [07:46, 26.59it/s]"
          ]
        },
        {
          "name": "stdout",
          "output_type": "stream",
          "text": [
            "money: battle, able, work, years, role, way, well, concept, fact, time\n",
            "lion: taint, defeated, really, characterized, judgment, gazette, eusebius, imagination, delighted, bodies\n",
            "africa: europe, america, united, east, germany, south, china, west, india, end\n",
            "musician: writer, actor, singer, author, king, english, composer, addition, poet, deaths\n",
            "dance: music, rock, third, game, jazz, concept, live, small, country, practice\n",
            "\n",
            "\n"
          ]
        },
        {
          "name": "stderr",
          "output_type": "stream",
          "text": [
            "19497it [07:58, 44.97it/s]"
          ]
        },
        {
          "name": "stdout",
          "output_type": "stream",
          "text": [
            "| epoch   6 | 19500/32580 batches | loss    0.716 \n"
          ]
        },
        {
          "name": "stderr",
          "output_type": "stream",
          "text": [
            "19506it [07:59, 29.50it/s]"
          ]
        },
        {
          "name": "stdout",
          "output_type": "stream",
          "text": [
            "money: battle, able, work, years, role, way, well, concept, fact, time\n",
            "lion: taint, defeated, really, characterized, judgment, gazette, eusebius, imagination, delighted, bodies\n",
            "africa: europe, america, united, east, germany, south, china, west, india, end\n",
            "musician: writer, actor, singer, author, king, english, composer, addition, poet, deaths\n",
            "dance: music, rock, third, game, jazz, concept, live, small, country, practice\n",
            "\n",
            "\n"
          ]
        },
        {
          "name": "stderr",
          "output_type": "stream",
          "text": [
            "19996it [08:11, 43.52it/s]"
          ]
        },
        {
          "name": "stdout",
          "output_type": "stream",
          "text": [
            "| epoch   6 | 20000/32580 batches | loss    0.717 \n"
          ]
        },
        {
          "name": "stderr",
          "output_type": "stream",
          "text": [
            "20005it [08:11, 28.52it/s]"
          ]
        },
        {
          "name": "stdout",
          "output_type": "stream",
          "text": [
            "money: battle, able, work, years, role, way, well, concept, fact, time\n",
            "lion: taint, defeated, really, characterized, judgment, gazette, eusebius, imagination, delighted, bodies\n",
            "africa: europe, america, united, east, germany, south, china, west, india, end\n",
            "musician: writer, actor, singer, author, king, english, composer, addition, poet, deaths\n",
            "dance: music, rock, third, game, jazz, concept, live, small, country, practice\n",
            "\n",
            "\n"
          ]
        },
        {
          "name": "stderr",
          "output_type": "stream",
          "text": [
            "20498it [08:23, 43.98it/s]"
          ]
        },
        {
          "name": "stdout",
          "output_type": "stream",
          "text": [
            "| epoch   6 | 20500/32580 batches | loss    0.717 \n"
          ]
        },
        {
          "name": "stderr",
          "output_type": "stream",
          "text": [
            "20507it [08:24, 28.64it/s]"
          ]
        },
        {
          "name": "stdout",
          "output_type": "stream",
          "text": [
            "money: battle, able, work, years, role, way, well, concept, fact, time\n",
            "lion: taint, defeated, really, characterized, judgment, gazette, eusebius, imagination, delighted, bodies\n",
            "africa: europe, america, united, east, germany, south, china, west, india, end\n",
            "musician: writer, actor, singer, author, king, english, composer, addition, poet, deaths\n",
            "dance: music, rock, third, game, jazz, concept, live, small, country, practice\n",
            "\n",
            "\n"
          ]
        },
        {
          "name": "stderr",
          "output_type": "stream",
          "text": [
            "21000it [08:36, 41.90it/s]"
          ]
        },
        {
          "name": "stdout",
          "output_type": "stream",
          "text": [
            "| epoch   6 | 21000/32580 batches | loss    0.715 \n"
          ]
        },
        {
          "name": "stderr",
          "output_type": "stream",
          "text": [
            "\r21005it [08:36, 24.83it/s]"
          ]
        },
        {
          "name": "stdout",
          "output_type": "stream",
          "text": [
            "money: battle, able, work, years, role, way, well, concept, fact, time\n",
            "lion: taint, defeated, really, characterized, judgment, gazette, eusebius, imagination, delighted, bodies\n",
            "africa: europe, america, united, east, germany, south, china, west, india, end\n",
            "musician: writer, actor, singer, author, king, english, composer, addition, poet, deaths\n",
            "dance: music, rock, third, game, jazz, concept, live, small, country, practice\n",
            "\n",
            "\n"
          ]
        },
        {
          "name": "stderr",
          "output_type": "stream",
          "text": [
            "21496it [08:48, 43.33it/s]"
          ]
        },
        {
          "name": "stdout",
          "output_type": "stream",
          "text": [
            "| epoch   6 | 21500/32580 batches | loss    0.717 \n"
          ]
        },
        {
          "name": "stderr",
          "output_type": "stream",
          "text": [
            "21505it [08:49, 27.53it/s]"
          ]
        },
        {
          "name": "stdout",
          "output_type": "stream",
          "text": [
            "money: battle, able, work, years, role, way, well, concept, fact, time\n",
            "lion: taint, defeated, really, characterized, judgment, gazette, eusebius, imagination, delighted, bodies\n",
            "africa: europe, america, united, east, germany, south, china, west, india, end\n",
            "musician: writer, actor, singer, author, king, english, composer, addition, poet, deaths\n",
            "dance: music, rock, third, game, jazz, concept, live, small, country, practice\n",
            "\n",
            "\n"
          ]
        },
        {
          "name": "stderr",
          "output_type": "stream",
          "text": [
            "21998it [09:01, 40.75it/s]"
          ]
        },
        {
          "name": "stdout",
          "output_type": "stream",
          "text": [
            "| epoch   6 | 22000/32580 batches | loss    0.718 \n"
          ]
        },
        {
          "name": "stderr",
          "output_type": "stream",
          "text": [
            "22008it [09:02, 28.04it/s]"
          ]
        },
        {
          "name": "stdout",
          "output_type": "stream",
          "text": [
            "money: battle, able, work, years, role, way, well, concept, fact, time\n",
            "lion: taint, defeated, really, characterized, judgment, gazette, eusebius, imagination, delighted, bodies\n",
            "africa: europe, america, united, east, germany, south, china, west, india, end\n",
            "musician: writer, actor, singer, author, king, english, composer, addition, poet, deaths\n",
            "dance: music, rock, third, game, jazz, concept, live, small, country, practice\n",
            "\n",
            "\n"
          ]
        },
        {
          "name": "stderr",
          "output_type": "stream",
          "text": [
            "22499it [09:14, 44.12it/s]"
          ]
        },
        {
          "name": "stdout",
          "output_type": "stream",
          "text": [
            "| epoch   6 | 22500/32580 batches | loss    0.716 \n"
          ]
        },
        {
          "name": "stderr",
          "output_type": "stream",
          "text": [
            "22509it [09:14, 30.20it/s]"
          ]
        },
        {
          "name": "stdout",
          "output_type": "stream",
          "text": [
            "money: battle, able, work, years, role, way, well, concept, fact, time\n",
            "lion: taint, defeated, really, characterized, judgment, gazette, eusebius, imagination, delighted, bodies\n",
            "africa: europe, america, united, east, germany, south, china, west, india, end\n",
            "musician: writer, actor, singer, author, king, english, composer, addition, poet, deaths\n",
            "dance: music, rock, third, game, jazz, concept, live, small, country, practice\n",
            "\n",
            "\n"
          ]
        },
        {
          "name": "stderr",
          "output_type": "stream",
          "text": [
            "22996it [09:26, 43.23it/s]"
          ]
        },
        {
          "name": "stdout",
          "output_type": "stream",
          "text": [
            "| epoch   6 | 23000/32580 batches | loss    0.715 \n"
          ]
        },
        {
          "name": "stderr",
          "output_type": "stream",
          "text": [
            "23005it [09:27, 28.73it/s]"
          ]
        },
        {
          "name": "stdout",
          "output_type": "stream",
          "text": [
            "money: battle, able, work, years, role, way, well, concept, fact, time\n",
            "lion: taint, defeated, really, characterized, judgment, gazette, eusebius, imagination, delighted, bodies\n",
            "africa: europe, america, united, east, germany, south, china, west, india, end\n",
            "musician: writer, actor, singer, author, king, english, composer, addition, poet, deaths\n",
            "dance: music, rock, third, game, jazz, concept, live, small, country, practice\n",
            "\n",
            "\n"
          ]
        },
        {
          "name": "stderr",
          "output_type": "stream",
          "text": [
            "23498it [09:38, 44.30it/s]"
          ]
        },
        {
          "name": "stdout",
          "output_type": "stream",
          "text": [
            "| epoch   6 | 23500/32580 batches | loss    0.715 \n"
          ]
        },
        {
          "name": "stderr",
          "output_type": "stream",
          "text": [
            "23507it [09:39, 29.12it/s]"
          ]
        },
        {
          "name": "stdout",
          "output_type": "stream",
          "text": [
            "money: battle, able, work, years, role, way, well, concept, fact, time\n",
            "lion: taint, defeated, really, characterized, judgment, gazette, eusebius, imagination, delighted, bodies\n",
            "africa: europe, america, united, east, germany, south, china, west, india, end\n",
            "musician: writer, actor, singer, author, king, english, composer, addition, poet, deaths\n",
            "dance: music, rock, third, game, jazz, concept, live, small, country, practice\n",
            "\n",
            "\n"
          ]
        },
        {
          "name": "stderr",
          "output_type": "stream",
          "text": [
            "24000it [09:50, 36.71it/s]"
          ]
        },
        {
          "name": "stdout",
          "output_type": "stream",
          "text": [
            "| epoch   6 | 24000/32580 batches | loss    0.716 \n"
          ]
        },
        {
          "name": "stderr",
          "output_type": "stream",
          "text": [
            "\r24004it [09:51, 18.74it/s]"
          ]
        },
        {
          "name": "stdout",
          "output_type": "stream",
          "text": [
            "money: battle, able, work, years, role, way, well, concept, fact, time\n",
            "lion: taint, defeated, really, characterized, judgment, gazette, eusebius, imagination, delighted, bodies\n",
            "africa: europe, america, united, east, germany, south, china, west, india, end\n",
            "musician: writer, actor, singer, author, king, english, composer, addition, poet, deaths\n",
            "dance: music, rock, third, game, jazz, concept, live, small, country, practice\n",
            "\n",
            "\n"
          ]
        },
        {
          "name": "stderr",
          "output_type": "stream",
          "text": [
            "24497it [10:02, 34.45it/s]"
          ]
        },
        {
          "name": "stdout",
          "output_type": "stream",
          "text": [
            "| epoch   6 | 24500/32580 batches | loss    0.715 \n"
          ]
        },
        {
          "name": "stderr",
          "output_type": "stream",
          "text": [
            "24504it [10:03, 20.83it/s]"
          ]
        },
        {
          "name": "stdout",
          "output_type": "stream",
          "text": [
            "money: battle, able, work, years, role, way, well, concept, fact, time\n",
            "lion: taint, defeated, really, characterized, judgment, gazette, eusebius, imagination, delighted, bodies\n",
            "africa: europe, america, united, east, germany, south, china, west, india, end\n",
            "musician: writer, actor, singer, author, king, english, composer, addition, poet, deaths\n",
            "dance: music, rock, third, game, jazz, concept, live, small, country, practice\n",
            "\n",
            "\n"
          ]
        },
        {
          "name": "stderr",
          "output_type": "stream",
          "text": [
            "24999it [10:14, 44.89it/s]"
          ]
        },
        {
          "name": "stdout",
          "output_type": "stream",
          "text": [
            "| epoch   6 | 25000/32580 batches | loss    0.718 \n"
          ]
        },
        {
          "name": "stderr",
          "output_type": "stream",
          "text": [
            "\r25004it [10:15, 22.12it/s]"
          ]
        },
        {
          "name": "stdout",
          "output_type": "stream",
          "text": [
            "money: battle, able, work, years, role, way, well, concept, fact, time\n",
            "lion: taint, defeated, really, characterized, judgment, gazette, eusebius, imagination, delighted, bodies\n",
            "africa: europe, america, united, east, germany, south, china, west, india, end\n",
            "musician: writer, actor, singer, author, king, english, composer, addition, poet, deaths\n",
            "dance: music, rock, third, game, jazz, concept, live, small, country, practice\n",
            "\n",
            "\n"
          ]
        },
        {
          "name": "stderr",
          "output_type": "stream",
          "text": [
            "25500it [10:30, 34.42it/s]"
          ]
        },
        {
          "name": "stdout",
          "output_type": "stream",
          "text": [
            "| epoch   6 | 25500/32580 batches | loss    0.716 \n"
          ]
        },
        {
          "name": "stderr",
          "output_type": "stream",
          "text": [
            "\r25504it [10:30, 18.06it/s]"
          ]
        },
        {
          "name": "stdout",
          "output_type": "stream",
          "text": [
            "money: battle, able, work, years, role, way, well, concept, fact, time\n",
            "lion: taint, defeated, really, characterized, judgment, gazette, eusebius, imagination, delighted, bodies\n",
            "africa: europe, america, united, east, germany, south, china, west, india, end\n",
            "musician: writer, actor, singer, author, king, english, composer, addition, poet, deaths\n",
            "dance: music, rock, third, game, jazz, concept, live, small, country, practice\n",
            "\n",
            "\n"
          ]
        },
        {
          "name": "stderr",
          "output_type": "stream",
          "text": [
            "25999it [10:42, 35.05it/s]"
          ]
        },
        {
          "name": "stdout",
          "output_type": "stream",
          "text": [
            "| epoch   6 | 26000/32580 batches | loss    0.718 \n"
          ]
        },
        {
          "name": "stderr",
          "output_type": "stream",
          "text": [
            "26007it [10:42, 21.32it/s]"
          ]
        },
        {
          "name": "stdout",
          "output_type": "stream",
          "text": [
            "money: battle, able, work, years, role, way, well, concept, fact, time\n",
            "lion: taint, defeated, really, characterized, judgment, gazette, eusebius, imagination, delighted, bodies\n",
            "africa: europe, america, united, east, germany, south, china, west, india, end\n",
            "musician: writer, actor, singer, author, king, english, composer, addition, poet, deaths\n",
            "dance: music, rock, third, game, jazz, concept, live, small, country, practice\n",
            "\n",
            "\n"
          ]
        },
        {
          "name": "stderr",
          "output_type": "stream",
          "text": [
            "26499it [10:54, 44.51it/s]"
          ]
        },
        {
          "name": "stdout",
          "output_type": "stream",
          "text": [
            "| epoch   6 | 26500/32580 batches | loss    0.718 \n"
          ]
        },
        {
          "name": "stderr",
          "output_type": "stream",
          "text": [
            "\r26504it [10:54, 22.14it/s]"
          ]
        },
        {
          "name": "stdout",
          "output_type": "stream",
          "text": [
            "money: battle, able, work, years, role, way, well, concept, fact, time\n",
            "lion: taint, defeated, really, characterized, judgment, gazette, eusebius, imagination, delighted, bodies\n",
            "africa: europe, america, united, east, germany, south, china, west, india, end\n",
            "musician: writer, actor, singer, author, king, english, composer, addition, poet, deaths\n",
            "dance: music, rock, third, game, jazz, concept, live, small, country, practice\n",
            "\n",
            "\n"
          ]
        },
        {
          "name": "stderr",
          "output_type": "stream",
          "text": [
            "27000it [11:06, 44.71it/s]"
          ]
        },
        {
          "name": "stdout",
          "output_type": "stream",
          "text": [
            "| epoch   6 | 27000/32580 batches | loss    0.717 \n"
          ]
        },
        {
          "name": "stderr",
          "output_type": "stream",
          "text": [
            "\r27005it [11:06, 26.75it/s]"
          ]
        },
        {
          "name": "stdout",
          "output_type": "stream",
          "text": [
            "money: battle, able, work, years, role, way, well, concept, fact, time\n",
            "lion: taint, defeated, really, characterized, judgment, gazette, eusebius, imagination, delighted, bodies\n",
            "africa: europe, america, united, east, germany, south, china, west, india, end\n",
            "musician: writer, actor, singer, author, king, english, composer, addition, poet, deaths\n",
            "dance: music, rock, third, game, jazz, concept, live, small, country, practice\n",
            "\n",
            "\n"
          ]
        },
        {
          "name": "stderr",
          "output_type": "stream",
          "text": [
            "27497it [11:18, 38.44it/s]"
          ]
        },
        {
          "name": "stdout",
          "output_type": "stream",
          "text": [
            "| epoch   6 | 27500/32580 batches | loss    0.717 \n"
          ]
        },
        {
          "name": "stderr",
          "output_type": "stream",
          "text": [
            "27504it [11:19, 21.64it/s]"
          ]
        },
        {
          "name": "stdout",
          "output_type": "stream",
          "text": [
            "money: battle, able, work, years, role, way, well, concept, fact, time\n",
            "lion: taint, defeated, really, characterized, judgment, gazette, eusebius, imagination, delighted, bodies\n",
            "africa: europe, america, united, east, germany, south, china, west, india, end\n",
            "musician: writer, actor, singer, author, king, english, composer, addition, poet, deaths\n",
            "dance: music, rock, third, game, jazz, concept, live, small, country, practice\n",
            "\n",
            "\n"
          ]
        },
        {
          "name": "stderr",
          "output_type": "stream",
          "text": [
            "27999it [11:31, 44.71it/s]"
          ]
        },
        {
          "name": "stdout",
          "output_type": "stream",
          "text": [
            "| epoch   6 | 28000/32580 batches | loss    0.715 \n"
          ]
        },
        {
          "name": "stderr",
          "output_type": "stream",
          "text": [
            "28009it [11:32, 30.04it/s]"
          ]
        },
        {
          "name": "stdout",
          "output_type": "stream",
          "text": [
            "money: battle, able, work, years, role, way, well, concept, fact, time\n",
            "lion: taint, defeated, really, characterized, judgment, gazette, eusebius, imagination, delighted, bodies\n",
            "africa: europe, america, united, east, germany, south, china, west, india, end\n",
            "musician: writer, actor, singer, author, king, english, composer, addition, poet, deaths\n",
            "dance: music, rock, third, game, jazz, concept, live, small, country, practice\n",
            "\n",
            "\n"
          ]
        },
        {
          "name": "stderr",
          "output_type": "stream",
          "text": [
            "28497it [11:43, 44.26it/s]"
          ]
        },
        {
          "name": "stdout",
          "output_type": "stream",
          "text": [
            "| epoch   6 | 28500/32580 batches | loss    0.716 \n"
          ]
        },
        {
          "name": "stderr",
          "output_type": "stream",
          "text": [
            "28506it [11:44, 29.48it/s]"
          ]
        },
        {
          "name": "stdout",
          "output_type": "stream",
          "text": [
            "money: battle, able, work, years, role, way, well, concept, fact, time\n",
            "lion: taint, defeated, really, characterized, judgment, gazette, eusebius, imagination, delighted, bodies\n",
            "africa: europe, america, united, east, germany, south, china, west, india, end\n",
            "musician: writer, actor, singer, author, king, english, composer, addition, poet, deaths\n",
            "dance: music, rock, third, game, jazz, concept, live, small, country, practice\n",
            "\n",
            "\n"
          ]
        },
        {
          "name": "stderr",
          "output_type": "stream",
          "text": [
            "28996it [11:56, 44.58it/s]"
          ]
        },
        {
          "name": "stdout",
          "output_type": "stream",
          "text": [
            "| epoch   6 | 29000/32580 batches | loss    0.714 \n"
          ]
        },
        {
          "name": "stderr",
          "output_type": "stream",
          "text": [
            "29005it [11:56, 29.29it/s]"
          ]
        },
        {
          "name": "stdout",
          "output_type": "stream",
          "text": [
            "money: battle, able, work, years, role, way, well, concept, fact, time\n",
            "lion: taint, defeated, really, characterized, judgment, gazette, eusebius, imagination, delighted, bodies\n",
            "africa: europe, america, united, east, germany, south, china, west, india, end\n",
            "musician: writer, actor, singer, author, king, english, composer, addition, poet, deaths\n",
            "dance: music, rock, third, game, jazz, concept, live, small, country, practice\n",
            "\n",
            "\n"
          ]
        },
        {
          "name": "stderr",
          "output_type": "stream",
          "text": [
            "29499it [12:08, 44.17it/s]"
          ]
        },
        {
          "name": "stdout",
          "output_type": "stream",
          "text": [
            "| epoch   6 | 29500/32580 batches | loss    0.717 \n"
          ]
        },
        {
          "name": "stderr",
          "output_type": "stream",
          "text": [
            "29509it [12:08, 30.39it/s]"
          ]
        },
        {
          "name": "stdout",
          "output_type": "stream",
          "text": [
            "money: battle, able, work, years, role, way, well, concept, fact, time\n",
            "lion: taint, defeated, really, characterized, judgment, gazette, eusebius, imagination, delighted, bodies\n",
            "africa: europe, america, united, east, germany, south, china, west, india, end\n",
            "musician: writer, actor, singer, author, king, english, composer, addition, poet, deaths\n",
            "dance: music, rock, third, game, jazz, concept, live, small, country, practice\n",
            "\n",
            "\n"
          ]
        },
        {
          "name": "stderr",
          "output_type": "stream",
          "text": [
            "29999it [12:20, 44.17it/s]"
          ]
        },
        {
          "name": "stdout",
          "output_type": "stream",
          "text": [
            "| epoch   6 | 30000/32580 batches | loss    0.715 \n"
          ]
        },
        {
          "name": "stderr",
          "output_type": "stream",
          "text": [
            "30009it [12:21, 30.59it/s]"
          ]
        },
        {
          "name": "stdout",
          "output_type": "stream",
          "text": [
            "money: battle, able, work, years, role, way, well, concept, fact, time\n",
            "lion: taint, defeated, really, characterized, judgment, gazette, eusebius, imagination, delighted, bodies\n",
            "africa: europe, america, united, east, germany, south, china, west, india, end\n",
            "musician: writer, actor, singer, author, king, english, composer, addition, poet, deaths\n",
            "dance: music, rock, third, game, jazz, concept, live, small, country, practice\n",
            "\n",
            "\n"
          ]
        },
        {
          "name": "stderr",
          "output_type": "stream",
          "text": [
            "30499it [12:32, 45.48it/s]"
          ]
        },
        {
          "name": "stdout",
          "output_type": "stream",
          "text": [
            "| epoch   6 | 30500/32580 batches | loss    0.718 \n"
          ]
        },
        {
          "name": "stderr",
          "output_type": "stream",
          "text": [
            "30509it [12:33, 30.83it/s]"
          ]
        },
        {
          "name": "stdout",
          "output_type": "stream",
          "text": [
            "money: battle, able, work, years, role, way, well, concept, fact, time\n",
            "lion: taint, defeated, really, characterized, judgment, gazette, eusebius, imagination, delighted, bodies\n",
            "africa: europe, america, united, east, germany, south, china, west, india, end\n",
            "musician: writer, actor, singer, author, king, english, composer, addition, poet, deaths\n",
            "dance: music, rock, third, game, jazz, concept, live, small, country, practice\n",
            "\n",
            "\n"
          ]
        },
        {
          "name": "stderr",
          "output_type": "stream",
          "text": [
            "30999it [12:44, 44.22it/s]"
          ]
        },
        {
          "name": "stdout",
          "output_type": "stream",
          "text": [
            "| epoch   6 | 31000/32580 batches | loss    0.716 \n"
          ]
        },
        {
          "name": "stderr",
          "output_type": "stream",
          "text": [
            "31009it [12:45, 30.29it/s]"
          ]
        },
        {
          "name": "stdout",
          "output_type": "stream",
          "text": [
            "money: battle, able, work, years, role, way, well, concept, fact, time\n",
            "lion: taint, defeated, really, characterized, judgment, gazette, eusebius, imagination, delighted, bodies\n",
            "africa: europe, america, united, east, germany, south, china, west, india, end\n",
            "musician: writer, actor, singer, author, king, english, composer, addition, poet, deaths\n",
            "dance: music, rock, third, game, jazz, concept, live, small, country, practice\n",
            "\n",
            "\n"
          ]
        },
        {
          "name": "stderr",
          "output_type": "stream",
          "text": [
            "31499it [12:57, 33.41it/s]"
          ]
        },
        {
          "name": "stdout",
          "output_type": "stream",
          "text": [
            "| epoch   6 | 31500/32580 batches | loss    0.717 \n"
          ]
        },
        {
          "name": "stderr",
          "output_type": "stream",
          "text": [
            "31508it [12:57, 24.04it/s]"
          ]
        },
        {
          "name": "stdout",
          "output_type": "stream",
          "text": [
            "money: battle, able, work, years, role, way, well, concept, fact, time\n",
            "lion: taint, defeated, really, characterized, judgment, gazette, eusebius, imagination, delighted, bodies\n",
            "africa: europe, america, united, east, germany, south, china, west, india, end\n",
            "musician: writer, actor, singer, author, king, english, composer, addition, poet, deaths\n",
            "dance: music, rock, third, game, jazz, concept, live, small, country, practice\n",
            "\n",
            "\n"
          ]
        },
        {
          "name": "stderr",
          "output_type": "stream",
          "text": [
            "31998it [13:09, 33.93it/s]"
          ]
        },
        {
          "name": "stdout",
          "output_type": "stream",
          "text": [
            "| epoch   6 | 32000/32580 batches | loss    0.716 \n"
          ]
        },
        {
          "name": "stderr",
          "output_type": "stream",
          "text": [
            "32006it [13:09, 20.85it/s]"
          ]
        },
        {
          "name": "stdout",
          "output_type": "stream",
          "text": [
            "money: battle, able, work, years, role, way, well, concept, fact, time\n",
            "lion: taint, defeated, really, characterized, judgment, gazette, eusebius, imagination, delighted, bodies\n",
            "africa: europe, america, united, east, germany, south, china, west, india, end\n",
            "musician: writer, actor, singer, author, king, english, composer, addition, poet, deaths\n",
            "dance: music, rock, third, game, jazz, concept, live, small, country, practice\n",
            "\n",
            "\n"
          ]
        },
        {
          "name": "stderr",
          "output_type": "stream",
          "text": [
            "32497it [13:20, 38.64it/s]"
          ]
        },
        {
          "name": "stdout",
          "output_type": "stream",
          "text": [
            "| epoch   6 | 32500/32580 batches | loss    0.714 \n"
          ]
        },
        {
          "name": "stderr",
          "output_type": "stream",
          "text": [
            "32505it [13:21, 21.98it/s]"
          ]
        },
        {
          "name": "stdout",
          "output_type": "stream",
          "text": [
            "money: battle, able, work, years, role, way, well, concept, fact, time\n",
            "lion: taint, defeated, really, characterized, judgment, gazette, eusebius, imagination, delighted, bodies\n",
            "africa: europe, america, united, east, germany, south, china, west, india, end\n",
            "musician: writer, actor, singer, author, king, english, composer, addition, poet, deaths\n",
            "dance: music, rock, third, game, jazz, concept, live, small, country, practice\n",
            "\n",
            "\n"
          ]
        },
        {
          "name": "stderr",
          "output_type": "stream",
          "text": [
            "32580it [13:24, 40.48it/s]\n",
            "0it [00:00, ?it/s]"
          ]
        },
        {
          "name": "stdout",
          "output_type": "stream",
          "text": [
            "| epoch   7 |     0/32580 batches | loss    0.710 \n"
          ]
        },
        {
          "name": "stderr",
          "output_type": "stream",
          "text": [
            "5it [00:01,  4.53it/s]"
          ]
        },
        {
          "name": "stdout",
          "output_type": "stream",
          "text": [
            "money: battle, able, work, years, role, way, well, concept, fact, time\n",
            "lion: taint, defeated, really, characterized, judgment, gazette, eusebius, imagination, delighted, bodies\n",
            "africa: europe, america, united, east, germany, south, china, west, india, end\n",
            "musician: writer, actor, singer, author, king, english, composer, addition, poet, deaths\n",
            "dance: music, rock, third, game, jazz, concept, live, small, country, practice\n",
            "\n",
            "\n"
          ]
        },
        {
          "name": "stderr",
          "output_type": "stream",
          "text": [
            "496it [00:13, 44.99it/s]"
          ]
        },
        {
          "name": "stdout",
          "output_type": "stream",
          "text": [
            "| epoch   7 |   500/32580 batches | loss    0.718 \n"
          ]
        },
        {
          "name": "stderr",
          "output_type": "stream",
          "text": [
            "505it [00:13, 30.12it/s]"
          ]
        },
        {
          "name": "stdout",
          "output_type": "stream",
          "text": [
            "money: battle, able, work, years, role, way, well, concept, fact, time\n",
            "lion: taint, defeated, really, characterized, judgment, gazette, eusebius, imagination, delighted, bodies\n",
            "africa: europe, america, united, east, germany, south, china, west, india, end\n",
            "musician: writer, actor, singer, author, king, english, composer, addition, poet, deaths\n",
            "dance: music, rock, third, game, jazz, concept, live, small, country, practice\n",
            "\n",
            "\n"
          ]
        },
        {
          "name": "stderr",
          "output_type": "stream",
          "text": [
            "997it [00:25, 34.94it/s]"
          ]
        },
        {
          "name": "stdout",
          "output_type": "stream",
          "text": [
            "| epoch   7 |  1000/32580 batches | loss    0.717 \n"
          ]
        },
        {
          "name": "stderr",
          "output_type": "stream",
          "text": [
            "1005it [00:25, 25.49it/s]"
          ]
        },
        {
          "name": "stdout",
          "output_type": "stream",
          "text": [
            "money: battle, able, work, years, role, way, well, concept, fact, time\n",
            "lion: taint, defeated, really, characterized, judgment, gazette, eusebius, imagination, delighted, bodies\n",
            "africa: europe, america, united, east, germany, south, china, west, india, end\n",
            "musician: writer, actor, singer, author, king, english, composer, addition, poet, deaths\n",
            "dance: music, rock, third, game, jazz, concept, live, small, country, practice\n",
            "\n",
            "\n"
          ]
        },
        {
          "name": "stderr",
          "output_type": "stream",
          "text": [
            "1498it [00:36, 34.91it/s]"
          ]
        },
        {
          "name": "stdout",
          "output_type": "stream",
          "text": [
            "| epoch   7 |  1500/32580 batches | loss    0.716 \n"
          ]
        },
        {
          "name": "stderr",
          "output_type": "stream",
          "text": [
            "1506it [00:37, 21.40it/s]"
          ]
        },
        {
          "name": "stdout",
          "output_type": "stream",
          "text": [
            "money: battle, able, work, years, role, way, well, concept, fact, time\n",
            "lion: taint, defeated, really, characterized, judgment, gazette, eusebius, imagination, delighted, bodies\n",
            "africa: europe, america, united, east, germany, south, china, west, india, end\n",
            "musician: writer, actor, singer, author, king, english, composer, addition, poet, deaths\n",
            "dance: music, rock, third, game, jazz, concept, live, small, country, practice\n",
            "\n",
            "\n"
          ]
        },
        {
          "name": "stderr",
          "output_type": "stream",
          "text": [
            "1997it [00:48, 42.34it/s]"
          ]
        },
        {
          "name": "stdout",
          "output_type": "stream",
          "text": [
            "| epoch   7 |  2000/32580 batches | loss    0.716 \n"
          ]
        },
        {
          "name": "stderr",
          "output_type": "stream",
          "text": [
            "2006it [00:49, 24.45it/s]"
          ]
        },
        {
          "name": "stdout",
          "output_type": "stream",
          "text": [
            "money: battle, able, work, years, role, way, well, concept, fact, time\n",
            "lion: taint, defeated, really, characterized, judgment, gazette, eusebius, imagination, delighted, bodies\n",
            "africa: europe, america, united, east, germany, south, china, west, india, end\n",
            "musician: writer, actor, singer, author, king, english, composer, addition, poet, deaths\n",
            "dance: music, rock, third, game, jazz, concept, live, small, country, practice\n",
            "\n",
            "\n"
          ]
        },
        {
          "name": "stderr",
          "output_type": "stream",
          "text": [
            "2497it [01:00, 45.25it/s]"
          ]
        },
        {
          "name": "stdout",
          "output_type": "stream",
          "text": [
            "| epoch   7 |  2500/32580 batches | loss    0.718 \n"
          ]
        },
        {
          "name": "stderr",
          "output_type": "stream",
          "text": [
            "2506it [01:01, 29.68it/s]"
          ]
        },
        {
          "name": "stdout",
          "output_type": "stream",
          "text": [
            "money: battle, able, work, years, role, way, well, concept, fact, time\n",
            "lion: taint, defeated, really, characterized, judgment, gazette, eusebius, imagination, delighted, bodies\n",
            "africa: europe, america, united, east, germany, south, china, west, india, end\n",
            "musician: writer, actor, singer, author, king, english, composer, addition, poet, deaths\n",
            "dance: music, rock, third, game, jazz, concept, live, small, country, practice\n",
            "\n",
            "\n"
          ]
        },
        {
          "name": "stderr",
          "output_type": "stream",
          "text": [
            "2999it [01:12, 45.07it/s]"
          ]
        },
        {
          "name": "stdout",
          "output_type": "stream",
          "text": [
            "| epoch   7 |  3000/32580 batches | loss    0.716 \n"
          ]
        },
        {
          "name": "stderr",
          "output_type": "stream",
          "text": [
            "3009it [01:13, 30.47it/s]"
          ]
        },
        {
          "name": "stdout",
          "output_type": "stream",
          "text": [
            "money: battle, able, work, years, role, way, well, concept, fact, time\n",
            "lion: taint, defeated, really, characterized, judgment, gazette, eusebius, imagination, delighted, bodies\n",
            "africa: europe, america, united, east, germany, south, china, west, india, end\n",
            "musician: writer, actor, singer, author, king, english, composer, addition, poet, deaths\n",
            "dance: music, rock, third, game, jazz, concept, live, small, country, practice\n",
            "\n",
            "\n"
          ]
        },
        {
          "name": "stderr",
          "output_type": "stream",
          "text": [
            "3500it [01:24, 44.93it/s]"
          ]
        },
        {
          "name": "stdout",
          "output_type": "stream",
          "text": [
            "| epoch   7 |  3500/32580 batches | loss    0.716 \n"
          ]
        },
        {
          "name": "stderr",
          "output_type": "stream",
          "text": [
            "\r3505it [01:25, 26.52it/s]"
          ]
        },
        {
          "name": "stdout",
          "output_type": "stream",
          "text": [
            "money: battle, able, work, years, role, way, well, concept, fact, time\n",
            "lion: taint, defeated, really, characterized, judgment, gazette, eusebius, imagination, delighted, bodies\n",
            "africa: europe, america, united, east, germany, south, china, west, india, end\n",
            "musician: writer, actor, singer, author, king, english, composer, addition, poet, deaths\n",
            "dance: music, rock, third, game, jazz, concept, live, small, country, practice\n",
            "\n",
            "\n"
          ]
        },
        {
          "name": "stderr",
          "output_type": "stream",
          "text": [
            "4000it [01:36, 45.31it/s]"
          ]
        },
        {
          "name": "stdout",
          "output_type": "stream",
          "text": [
            "| epoch   7 |  4000/32580 batches | loss    0.715 \n"
          ]
        },
        {
          "name": "stderr",
          "output_type": "stream",
          "text": [
            "\r4005it [01:37, 26.72it/s]"
          ]
        },
        {
          "name": "stdout",
          "output_type": "stream",
          "text": [
            "money: battle, able, work, years, role, way, well, concept, fact, time\n",
            "lion: taint, defeated, really, characterized, judgment, gazette, eusebius, imagination, delighted, bodies\n",
            "africa: europe, america, united, east, germany, south, china, west, india, end\n",
            "musician: writer, actor, singer, author, king, english, composer, addition, poet, deaths\n",
            "dance: music, rock, third, game, jazz, concept, live, small, country, practice\n",
            "\n",
            "\n"
          ]
        },
        {
          "name": "stderr",
          "output_type": "stream",
          "text": [
            "4499it [01:48, 45.77it/s]"
          ]
        },
        {
          "name": "stdout",
          "output_type": "stream",
          "text": [
            "| epoch   7 |  4500/32580 batches | loss    0.716 \n"
          ]
        },
        {
          "name": "stderr",
          "output_type": "stream",
          "text": [
            "\r4504it [01:49, 27.26it/s]"
          ]
        },
        {
          "name": "stdout",
          "output_type": "stream",
          "text": [
            "money: battle, able, work, years, role, way, well, concept, fact, time\n",
            "lion: taint, defeated, really, characterized, judgment, gazette, eusebius, imagination, delighted, bodies\n",
            "africa: europe, america, united, east, germany, south, china, west, india, end\n",
            "musician: writer, actor, singer, author, king, english, composer, addition, poet, deaths\n",
            "dance: music, rock, third, game, jazz, concept, live, small, country, practice\n",
            "\n",
            "\n"
          ]
        },
        {
          "name": "stderr",
          "output_type": "stream",
          "text": [
            "4999it [02:00, 45.45it/s]"
          ]
        },
        {
          "name": "stdout",
          "output_type": "stream",
          "text": [
            "| epoch   7 |  5000/32580 batches | loss    0.716 \n"
          ]
        },
        {
          "name": "stderr",
          "output_type": "stream",
          "text": [
            "5009it [02:01, 31.52it/s]"
          ]
        },
        {
          "name": "stdout",
          "output_type": "stream",
          "text": [
            "money: battle, able, work, years, role, way, well, concept, fact, time\n",
            "lion: taint, defeated, really, characterized, judgment, gazette, eusebius, imagination, delighted, bodies\n",
            "africa: europe, america, united, east, germany, south, china, west, india, end\n",
            "musician: writer, actor, singer, author, king, english, composer, addition, poet, deaths\n",
            "dance: music, rock, third, game, jazz, concept, live, small, country, practice\n",
            "\n",
            "\n"
          ]
        },
        {
          "name": "stderr",
          "output_type": "stream",
          "text": [
            "5498it [02:12, 45.09it/s]"
          ]
        },
        {
          "name": "stdout",
          "output_type": "stream",
          "text": [
            "| epoch   7 |  5500/32580 batches | loss    0.718 \n"
          ]
        },
        {
          "name": "stderr",
          "output_type": "stream",
          "text": [
            "5508it [02:13, 30.73it/s]"
          ]
        },
        {
          "name": "stdout",
          "output_type": "stream",
          "text": [
            "money: battle, able, work, years, role, way, well, concept, fact, time\n",
            "lion: taint, defeated, really, characterized, judgment, gazette, eusebius, imagination, delighted, bodies\n",
            "africa: europe, america, united, east, germany, south, china, west, india, end\n",
            "musician: writer, actor, singer, author, king, english, composer, addition, poet, deaths\n",
            "dance: music, rock, third, game, jazz, concept, live, small, country, practice\n",
            "\n",
            "\n"
          ]
        },
        {
          "name": "stderr",
          "output_type": "stream",
          "text": [
            "5997it [02:25, 45.28it/s]"
          ]
        },
        {
          "name": "stdout",
          "output_type": "stream",
          "text": [
            "| epoch   7 |  6000/32580 batches | loss    0.717 \n"
          ]
        },
        {
          "name": "stderr",
          "output_type": "stream",
          "text": [
            "6006it [02:26, 29.60it/s]"
          ]
        },
        {
          "name": "stdout",
          "output_type": "stream",
          "text": [
            "money: battle, able, work, years, role, way, well, concept, fact, time\n",
            "lion: taint, defeated, really, characterized, judgment, gazette, eusebius, imagination, delighted, bodies\n",
            "africa: europe, america, united, east, germany, south, china, west, india, end\n",
            "musician: writer, actor, singer, author, king, english, composer, addition, poet, deaths\n",
            "dance: music, rock, third, game, jazz, concept, live, small, country, practice\n",
            "\n",
            "\n"
          ]
        },
        {
          "name": "stderr",
          "output_type": "stream",
          "text": [
            "6497it [02:37, 34.40it/s]"
          ]
        },
        {
          "name": "stdout",
          "output_type": "stream",
          "text": [
            "| epoch   7 |  6500/32580 batches | loss    0.715 \n"
          ]
        },
        {
          "name": "stderr",
          "output_type": "stream",
          "text": [
            "6505it [02:38, 24.59it/s]"
          ]
        },
        {
          "name": "stdout",
          "output_type": "stream",
          "text": [
            "money: battle, able, work, years, role, way, well, concept, fact, time\n",
            "lion: taint, defeated, really, characterized, judgment, gazette, eusebius, imagination, delighted, bodies\n",
            "africa: europe, america, united, east, germany, south, china, west, india, end\n",
            "musician: writer, actor, singer, author, king, english, composer, addition, poet, deaths\n",
            "dance: music, rock, third, game, jazz, concept, live, small, country, practice\n",
            "\n",
            "\n"
          ]
        },
        {
          "name": "stderr",
          "output_type": "stream",
          "text": [
            "7000it [02:49, 34.52it/s]"
          ]
        },
        {
          "name": "stdout",
          "output_type": "stream",
          "text": [
            "| epoch   7 |  7000/32580 batches | loss    0.716 \n"
          ]
        },
        {
          "name": "stderr",
          "output_type": "stream",
          "text": [
            "\r7004it [02:50, 18.23it/s]"
          ]
        },
        {
          "name": "stdout",
          "output_type": "stream",
          "text": [
            "money: battle, able, work, years, role, way, well, concept, fact, time\n",
            "lion: taint, defeated, really, characterized, judgment, gazette, eusebius, imagination, delighted, bodies\n",
            "africa: europe, america, united, east, germany, south, china, west, india, end\n",
            "musician: writer, actor, singer, author, king, english, composer, addition, poet, deaths\n",
            "dance: music, rock, third, game, jazz, concept, live, small, country, practice\n",
            "\n",
            "\n"
          ]
        },
        {
          "name": "stderr",
          "output_type": "stream",
          "text": [
            "7498it [03:01, 36.20it/s]"
          ]
        },
        {
          "name": "stdout",
          "output_type": "stream",
          "text": [
            "| epoch   7 |  7500/32580 batches | loss    0.716 \n"
          ]
        },
        {
          "name": "stderr",
          "output_type": "stream",
          "text": [
            "7505it [03:02, 21.36it/s]"
          ]
        },
        {
          "name": "stdout",
          "output_type": "stream",
          "text": [
            "money: battle, able, work, years, role, way, well, concept, fact, time\n",
            "lion: taint, defeated, really, characterized, judgment, gazette, eusebius, imagination, delighted, bodies\n",
            "africa: europe, america, united, east, germany, south, china, west, india, end\n",
            "musician: writer, actor, singer, author, king, english, composer, addition, poet, deaths\n",
            "dance: music, rock, third, game, jazz, concept, live, small, country, practice\n",
            "\n",
            "\n"
          ]
        },
        {
          "name": "stderr",
          "output_type": "stream",
          "text": [
            "7997it [03:13, 45.03it/s]"
          ]
        },
        {
          "name": "stdout",
          "output_type": "stream",
          "text": [
            "| epoch   7 |  8000/32580 batches | loss    0.715 \n"
          ]
        },
        {
          "name": "stderr",
          "output_type": "stream",
          "text": [
            "8006it [03:14, 29.64it/s]"
          ]
        },
        {
          "name": "stdout",
          "output_type": "stream",
          "text": [
            "money: battle, able, work, years, role, way, well, concept, fact, time\n",
            "lion: taint, defeated, really, characterized, judgment, gazette, eusebius, imagination, delighted, bodies\n",
            "africa: europe, america, united, east, germany, south, china, west, india, end\n",
            "musician: writer, actor, singer, author, king, english, composer, addition, poet, deaths\n",
            "dance: music, rock, third, game, jazz, concept, live, small, country, practice\n",
            "\n",
            "\n"
          ]
        },
        {
          "name": "stderr",
          "output_type": "stream",
          "text": [
            "8496it [03:25, 44.63it/s]"
          ]
        },
        {
          "name": "stdout",
          "output_type": "stream",
          "text": [
            "| epoch   7 |  8500/32580 batches | loss    0.717 \n"
          ]
        },
        {
          "name": "stderr",
          "output_type": "stream",
          "text": [
            "8505it [03:26, 28.84it/s]"
          ]
        },
        {
          "name": "stdout",
          "output_type": "stream",
          "text": [
            "money: battle, able, work, years, role, way, well, concept, fact, time\n",
            "lion: taint, defeated, really, characterized, judgment, gazette, eusebius, imagination, delighted, bodies\n",
            "africa: europe, america, united, east, germany, south, china, west, india, end\n",
            "musician: writer, actor, singer, author, king, english, composer, addition, poet, deaths\n",
            "dance: music, rock, third, game, jazz, concept, live, small, country, practice\n",
            "\n",
            "\n"
          ]
        },
        {
          "name": "stderr",
          "output_type": "stream",
          "text": [
            "8997it [03:37, 45.21it/s]"
          ]
        },
        {
          "name": "stdout",
          "output_type": "stream",
          "text": [
            "| epoch   7 |  9000/32580 batches | loss    0.718 \n"
          ]
        },
        {
          "name": "stderr",
          "output_type": "stream",
          "text": [
            "9006it [03:38, 29.38it/s]"
          ]
        },
        {
          "name": "stdout",
          "output_type": "stream",
          "text": [
            "money: battle, able, work, years, role, way, well, concept, fact, time\n",
            "lion: taint, defeated, really, characterized, judgment, gazette, eusebius, imagination, delighted, bodies\n",
            "africa: europe, america, united, east, germany, south, china, west, india, end\n",
            "musician: writer, actor, singer, author, king, english, composer, addition, poet, deaths\n",
            "dance: music, rock, third, game, jazz, concept, live, small, country, practice\n",
            "\n",
            "\n"
          ]
        },
        {
          "name": "stderr",
          "output_type": "stream",
          "text": [
            "9500it [03:49, 44.23it/s]"
          ]
        },
        {
          "name": "stdout",
          "output_type": "stream",
          "text": [
            "| epoch   7 |  9500/32580 batches | loss    0.716 \n"
          ]
        },
        {
          "name": "stderr",
          "output_type": "stream",
          "text": [
            "\r9505it [03:50, 25.94it/s]"
          ]
        },
        {
          "name": "stdout",
          "output_type": "stream",
          "text": [
            "money: battle, able, work, years, role, way, well, concept, fact, time\n",
            "lion: taint, defeated, really, characterized, judgment, gazette, eusebius, imagination, delighted, bodies\n",
            "africa: europe, america, united, east, germany, south, china, west, india, end\n",
            "musician: writer, actor, singer, author, king, english, composer, addition, poet, deaths\n",
            "dance: music, rock, third, game, jazz, concept, live, small, country, practice\n",
            "\n",
            "\n"
          ]
        },
        {
          "name": "stderr",
          "output_type": "stream",
          "text": [
            "9997it [04:02, 44.70it/s]"
          ]
        },
        {
          "name": "stdout",
          "output_type": "stream",
          "text": [
            "| epoch   7 | 10000/32580 batches | loss    0.718 \n"
          ]
        },
        {
          "name": "stderr",
          "output_type": "stream",
          "text": [
            "10006it [04:02, 29.35it/s]"
          ]
        },
        {
          "name": "stdout",
          "output_type": "stream",
          "text": [
            "money: battle, able, work, years, role, way, well, concept, fact, time\n",
            "lion: taint, defeated, really, characterized, judgment, gazette, eusebius, imagination, delighted, bodies\n",
            "africa: europe, america, united, east, germany, south, china, west, india, end\n",
            "musician: writer, actor, singer, author, king, english, composer, addition, poet, deaths\n",
            "dance: music, rock, third, game, jazz, concept, live, small, country, practice\n",
            "\n",
            "\n"
          ]
        },
        {
          "name": "stderr",
          "output_type": "stream",
          "text": [
            "10500it [04:14, 44.41it/s]"
          ]
        },
        {
          "name": "stdout",
          "output_type": "stream",
          "text": [
            "| epoch   7 | 10500/32580 batches | loss    0.716 \n"
          ]
        },
        {
          "name": "stderr",
          "output_type": "stream",
          "text": [
            "\r10505it [04:14, 26.71it/s]"
          ]
        },
        {
          "name": "stdout",
          "output_type": "stream",
          "text": [
            "money: battle, able, work, years, role, way, well, concept, fact, time\n",
            "lion: taint, defeated, really, characterized, judgment, gazette, eusebius, imagination, delighted, bodies\n",
            "africa: europe, america, united, east, germany, south, china, west, india, end\n",
            "musician: writer, actor, singer, author, king, english, composer, addition, poet, deaths\n",
            "dance: music, rock, third, game, jazz, concept, live, small, country, practice\n",
            "\n",
            "\n"
          ]
        },
        {
          "name": "stderr",
          "output_type": "stream",
          "text": [
            "10999it [04:26, 44.66it/s]"
          ]
        },
        {
          "name": "stdout",
          "output_type": "stream",
          "text": [
            "| epoch   7 | 11000/32580 batches | loss    0.716 \n"
          ]
        },
        {
          "name": "stderr",
          "output_type": "stream",
          "text": [
            "\r11004it [04:26, 22.53it/s]"
          ]
        },
        {
          "name": "stdout",
          "output_type": "stream",
          "text": [
            "money: battle, able, work, years, role, way, well, concept, fact, time\n",
            "lion: taint, defeated, really, characterized, judgment, gazette, eusebius, imagination, delighted, bodies\n",
            "africa: europe, america, united, east, germany, south, china, west, india, end\n",
            "musician: writer, actor, singer, author, king, english, composer, addition, poet, deaths\n",
            "dance: music, rock, third, game, jazz, concept, live, small, country, practice\n",
            "\n",
            "\n"
          ]
        },
        {
          "name": "stderr",
          "output_type": "stream",
          "text": [
            "11497it [04:38, 44.34it/s]"
          ]
        },
        {
          "name": "stdout",
          "output_type": "stream",
          "text": [
            "| epoch   7 | 11500/32580 batches | loss    0.714 \n"
          ]
        },
        {
          "name": "stderr",
          "output_type": "stream",
          "text": [
            "11507it [04:39, 29.97it/s]"
          ]
        },
        {
          "name": "stdout",
          "output_type": "stream",
          "text": [
            "money: battle, able, work, years, role, way, well, concept, fact, time\n",
            "lion: taint, defeated, really, characterized, judgment, gazette, eusebius, imagination, delighted, bodies\n",
            "africa: europe, america, united, east, germany, south, china, west, india, end\n",
            "musician: writer, actor, singer, author, king, english, composer, addition, poet, deaths\n",
            "dance: music, rock, third, game, jazz, concept, live, small, country, practice\n",
            "\n",
            "\n"
          ]
        },
        {
          "name": "stderr",
          "output_type": "stream",
          "text": [
            "11997it [04:50, 42.87it/s]"
          ]
        },
        {
          "name": "stdout",
          "output_type": "stream",
          "text": [
            "| epoch   7 | 12000/32580 batches | loss    0.717 \n"
          ]
        },
        {
          "name": "stderr",
          "output_type": "stream",
          "text": [
            "12006it [04:51, 29.26it/s]"
          ]
        },
        {
          "name": "stdout",
          "output_type": "stream",
          "text": [
            "money: battle, able, work, years, role, way, well, concept, fact, time\n",
            "lion: taint, defeated, really, characterized, judgment, gazette, eusebius, imagination, delighted, bodies\n",
            "africa: europe, america, united, east, germany, south, china, west, india, end\n",
            "musician: writer, actor, singer, author, king, english, composer, addition, poet, deaths\n",
            "dance: music, rock, third, game, jazz, concept, live, small, country, practice\n",
            "\n",
            "\n"
          ]
        },
        {
          "name": "stderr",
          "output_type": "stream",
          "text": [
            "12498it [05:02, 36.16it/s]"
          ]
        },
        {
          "name": "stdout",
          "output_type": "stream",
          "text": [
            "| epoch   7 | 12500/32580 batches | loss    0.715 \n"
          ]
        },
        {
          "name": "stderr",
          "output_type": "stream",
          "text": [
            "12506it [05:03, 21.86it/s]"
          ]
        },
        {
          "name": "stdout",
          "output_type": "stream",
          "text": [
            "money: battle, able, work, years, role, way, well, concept, fact, time\n",
            "lion: taint, defeated, really, characterized, judgment, gazette, eusebius, imagination, delighted, bodies\n",
            "africa: europe, america, united, east, germany, south, china, west, india, end\n",
            "musician: writer, actor, singer, author, king, english, composer, addition, poet, deaths\n",
            "dance: music, rock, third, game, jazz, concept, live, small, country, practice\n",
            "\n",
            "\n"
          ]
        },
        {
          "name": "stderr",
          "output_type": "stream",
          "text": [
            "12998it [05:14, 34.03it/s]"
          ]
        },
        {
          "name": "stdout",
          "output_type": "stream",
          "text": [
            "| epoch   7 | 13000/32580 batches | loss    0.717 \n"
          ]
        },
        {
          "name": "stderr",
          "output_type": "stream",
          "text": [
            "13006it [05:15, 21.55it/s]"
          ]
        },
        {
          "name": "stdout",
          "output_type": "stream",
          "text": [
            "money: battle, able, work, years, role, way, well, concept, fact, time\n",
            "lion: taint, defeated, really, characterized, judgment, gazette, eusebius, imagination, delighted, bodies\n",
            "africa: europe, america, united, east, germany, south, china, west, india, end\n",
            "musician: writer, actor, singer, author, king, english, composer, addition, poet, deaths\n",
            "dance: music, rock, third, game, jazz, concept, live, small, country, practice\n",
            "\n",
            "\n"
          ]
        },
        {
          "name": "stderr",
          "output_type": "stream",
          "text": [
            "13498it [05:26, 44.50it/s]"
          ]
        },
        {
          "name": "stdout",
          "output_type": "stream",
          "text": [
            "| epoch   7 | 13500/32580 batches | loss    0.716 \n"
          ]
        },
        {
          "name": "stderr",
          "output_type": "stream",
          "text": [
            "13507it [05:27, 25.70it/s]"
          ]
        },
        {
          "name": "stdout",
          "output_type": "stream",
          "text": [
            "money: battle, able, work, years, role, way, well, concept, fact, time\n",
            "lion: taint, defeated, really, characterized, judgment, gazette, eusebius, imagination, delighted, bodies\n",
            "africa: europe, america, united, east, germany, south, china, west, india, end\n",
            "musician: writer, actor, singer, author, king, english, composer, addition, poet, deaths\n",
            "dance: music, rock, third, game, jazz, concept, live, small, country, practice\n",
            "\n",
            "\n"
          ]
        },
        {
          "name": "stderr",
          "output_type": "stream",
          "text": [
            "13999it [05:38, 44.61it/s]"
          ]
        },
        {
          "name": "stdout",
          "output_type": "stream",
          "text": [
            "| epoch   7 | 14000/32580 batches | loss    0.717 \n"
          ]
        },
        {
          "name": "stderr",
          "output_type": "stream",
          "text": [
            "14009it [05:39, 30.51it/s]"
          ]
        },
        {
          "name": "stdout",
          "output_type": "stream",
          "text": [
            "money: battle, able, work, years, role, way, well, concept, fact, time\n",
            "lion: taint, defeated, really, characterized, judgment, gazette, eusebius, imagination, delighted, bodies\n",
            "africa: europe, america, united, east, germany, south, china, west, india, end\n",
            "musician: writer, actor, singer, author, king, english, composer, addition, poet, deaths\n",
            "dance: music, rock, third, game, jazz, concept, live, small, country, practice\n",
            "\n",
            "\n"
          ]
        },
        {
          "name": "stderr",
          "output_type": "stream",
          "text": [
            "14496it [05:50, 45.40it/s]"
          ]
        },
        {
          "name": "stdout",
          "output_type": "stream",
          "text": [
            "| epoch   7 | 14500/32580 batches | loss    0.715 \n"
          ]
        },
        {
          "name": "stderr",
          "output_type": "stream",
          "text": [
            "14506it [05:51, 30.29it/s]"
          ]
        },
        {
          "name": "stdout",
          "output_type": "stream",
          "text": [
            "money: battle, able, work, years, role, way, well, concept, fact, time\n",
            "lion: taint, defeated, really, characterized, judgment, gazette, eusebius, imagination, delighted, bodies\n",
            "africa: europe, america, united, east, germany, south, china, west, india, end\n",
            "musician: writer, actor, singer, author, king, english, composer, addition, poet, deaths\n",
            "dance: music, rock, third, game, jazz, concept, live, small, country, practice\n",
            "\n",
            "\n"
          ]
        },
        {
          "name": "stderr",
          "output_type": "stream",
          "text": [
            "14996it [06:03, 45.11it/s]"
          ]
        },
        {
          "name": "stdout",
          "output_type": "stream",
          "text": [
            "| epoch   7 | 15000/32580 batches | loss    0.714 \n"
          ]
        },
        {
          "name": "stderr",
          "output_type": "stream",
          "text": [
            "15005it [06:03, 29.30it/s]"
          ]
        },
        {
          "name": "stdout",
          "output_type": "stream",
          "text": [
            "money: battle, able, work, years, role, way, well, concept, fact, time\n",
            "lion: taint, defeated, really, characterized, judgment, gazette, eusebius, imagination, delighted, bodies\n",
            "africa: europe, america, united, east, germany, south, china, west, india, end\n",
            "musician: writer, actor, singer, author, king, english, composer, addition, poet, deaths\n",
            "dance: music, rock, third, game, jazz, concept, live, small, country, practice\n",
            "\n",
            "\n"
          ]
        },
        {
          "name": "stderr",
          "output_type": "stream",
          "text": [
            "15498it [06:15, 44.97it/s]"
          ]
        },
        {
          "name": "stdout",
          "output_type": "stream",
          "text": [
            "| epoch   7 | 15500/32580 batches | loss    0.715 \n"
          ]
        },
        {
          "name": "stderr",
          "output_type": "stream",
          "text": [
            "15508it [06:15, 30.32it/s]"
          ]
        },
        {
          "name": "stdout",
          "output_type": "stream",
          "text": [
            "money: battle, able, work, years, role, way, well, concept, fact, time\n",
            "lion: taint, defeated, really, characterized, judgment, gazette, eusebius, imagination, delighted, bodies\n",
            "africa: europe, america, united, east, germany, south, china, west, india, end\n",
            "musician: writer, actor, singer, author, king, english, composer, addition, poet, deaths\n",
            "dance: music, rock, third, game, jazz, concept, live, small, country, practice\n",
            "\n",
            "\n"
          ]
        },
        {
          "name": "stderr",
          "output_type": "stream",
          "text": [
            "15997it [06:27, 45.18it/s]"
          ]
        },
        {
          "name": "stdout",
          "output_type": "stream",
          "text": [
            "| epoch   7 | 16000/32580 batches | loss    0.717 \n"
          ]
        },
        {
          "name": "stderr",
          "output_type": "stream",
          "text": [
            "16007it [06:30,  6.77it/s]"
          ]
        },
        {
          "name": "stdout",
          "output_type": "stream",
          "text": [
            "money: battle, able, work, years, role, way, well, concept, fact, time\n",
            "lion: taint, defeated, really, characterized, judgment, gazette, eusebius, imagination, delighted, bodies\n",
            "africa: europe, america, united, east, germany, south, china, west, india, end\n",
            "musician: writer, actor, singer, author, king, english, composer, addition, poet, deaths\n",
            "dance: music, rock, third, game, jazz, concept, live, small, country, practice\n",
            "\n",
            "\n"
          ]
        },
        {
          "name": "stderr",
          "output_type": "stream",
          "text": [
            "16498it [06:42, 35.27it/s]"
          ]
        },
        {
          "name": "stdout",
          "output_type": "stream",
          "text": [
            "| epoch   7 | 16500/32580 batches | loss    0.720 \n"
          ]
        },
        {
          "name": "stderr",
          "output_type": "stream",
          "text": [
            "16506it [06:43, 21.75it/s]"
          ]
        },
        {
          "name": "stdout",
          "output_type": "stream",
          "text": [
            "money: battle, able, work, years, role, way, well, concept, fact, time\n",
            "lion: taint, defeated, really, characterized, judgment, gazette, eusebius, imagination, delighted, bodies\n",
            "africa: europe, america, united, east, germany, south, china, west, india, end\n",
            "musician: writer, actor, singer, author, king, english, composer, addition, poet, deaths\n",
            "dance: music, rock, third, game, jazz, concept, live, small, country, practice\n",
            "\n",
            "\n"
          ]
        },
        {
          "name": "stderr",
          "output_type": "stream",
          "text": [
            "16999it [06:54, 44.20it/s]"
          ]
        },
        {
          "name": "stdout",
          "output_type": "stream",
          "text": [
            "| epoch   7 | 17000/32580 batches | loss    0.718 \n"
          ]
        },
        {
          "name": "stderr",
          "output_type": "stream",
          "text": [
            "17009it [06:55, 30.32it/s]"
          ]
        },
        {
          "name": "stdout",
          "output_type": "stream",
          "text": [
            "money: battle, able, work, years, role, way, well, concept, fact, time\n",
            "lion: taint, defeated, really, characterized, judgment, gazette, eusebius, imagination, delighted, bodies\n",
            "africa: europe, america, united, east, germany, south, china, west, india, end\n",
            "musician: writer, actor, singer, author, king, english, composer, addition, poet, deaths\n",
            "dance: music, rock, third, game, jazz, concept, live, small, country, practice\n",
            "\n",
            "\n"
          ]
        },
        {
          "name": "stderr",
          "output_type": "stream",
          "text": [
            "17497it [07:06, 45.03it/s]"
          ]
        },
        {
          "name": "stdout",
          "output_type": "stream",
          "text": [
            "| epoch   7 | 17500/32580 batches | loss    0.716 \n"
          ]
        },
        {
          "name": "stderr",
          "output_type": "stream",
          "text": [
            "17506it [07:07, 29.82it/s]"
          ]
        },
        {
          "name": "stdout",
          "output_type": "stream",
          "text": [
            "money: battle, able, work, years, role, way, well, concept, fact, time\n",
            "lion: taint, defeated, really, characterized, judgment, gazette, eusebius, imagination, delighted, bodies\n",
            "africa: europe, america, united, east, germany, south, china, west, india, end\n",
            "musician: writer, actor, singer, author, king, english, composer, addition, poet, deaths\n",
            "dance: music, rock, third, game, jazz, concept, live, small, country, practice\n",
            "\n",
            "\n"
          ]
        },
        {
          "name": "stderr",
          "output_type": "stream",
          "text": [
            "17996it [07:18, 45.28it/s]"
          ]
        },
        {
          "name": "stdout",
          "output_type": "stream",
          "text": [
            "| epoch   7 | 18000/32580 batches | loss    0.715 \n"
          ]
        },
        {
          "name": "stderr",
          "output_type": "stream",
          "text": [
            "18005it [07:19, 29.85it/s]"
          ]
        },
        {
          "name": "stdout",
          "output_type": "stream",
          "text": [
            "money: battle, able, work, years, role, way, well, concept, fact, time\n",
            "lion: taint, defeated, really, characterized, judgment, gazette, eusebius, imagination, delighted, bodies\n",
            "africa: europe, america, united, east, germany, south, china, west, india, end\n",
            "musician: writer, actor, singer, author, king, english, composer, addition, poet, deaths\n",
            "dance: music, rock, third, game, jazz, concept, live, small, country, practice\n",
            "\n",
            "\n"
          ]
        },
        {
          "name": "stderr",
          "output_type": "stream",
          "text": [
            "18499it [07:31, 44.07it/s]"
          ]
        },
        {
          "name": "stdout",
          "output_type": "stream",
          "text": [
            "| epoch   7 | 18500/32580 batches | loss    0.718 \n"
          ]
        },
        {
          "name": "stderr",
          "output_type": "stream",
          "text": [
            "18509it [07:31, 30.86it/s]"
          ]
        },
        {
          "name": "stdout",
          "output_type": "stream",
          "text": [
            "money: battle, able, work, years, role, way, well, concept, fact, time\n",
            "lion: taint, defeated, really, characterized, judgment, gazette, eusebius, imagination, delighted, bodies\n",
            "africa: europe, america, united, east, germany, south, china, west, india, end\n",
            "musician: writer, actor, singer, author, king, english, composer, addition, poet, deaths\n",
            "dance: music, rock, third, game, jazz, concept, live, small, country, practice\n",
            "\n",
            "\n"
          ]
        },
        {
          "name": "stderr",
          "output_type": "stream",
          "text": [
            "19000it [07:43, 35.00it/s]"
          ]
        },
        {
          "name": "stdout",
          "output_type": "stream",
          "text": [
            "| epoch   7 | 19000/32580 batches | loss    0.716 \n"
          ]
        },
        {
          "name": "stderr",
          "output_type": "stream",
          "text": [
            "19009it [07:43, 24.67it/s]"
          ]
        },
        {
          "name": "stdout",
          "output_type": "stream",
          "text": [
            "money: battle, able, work, years, role, way, well, concept, fact, time\n",
            "lion: taint, defeated, really, characterized, judgment, gazette, eusebius, imagination, delighted, bodies\n",
            "africa: europe, america, united, east, germany, south, china, west, india, end\n",
            "musician: writer, actor, singer, author, king, english, composer, addition, poet, deaths\n",
            "dance: music, rock, third, game, jazz, concept, live, small, country, practice\n",
            "\n",
            "\n"
          ]
        },
        {
          "name": "stderr",
          "output_type": "stream",
          "text": [
            "19500it [07:54, 37.51it/s]"
          ]
        },
        {
          "name": "stdout",
          "output_type": "stream",
          "text": [
            "| epoch   7 | 19500/32580 batches | loss    0.716 \n"
          ]
        },
        {
          "name": "stderr",
          "output_type": "stream",
          "text": [
            "\r19504it [07:55, 19.79it/s]"
          ]
        },
        {
          "name": "stdout",
          "output_type": "stream",
          "text": [
            "money: battle, able, work, years, role, way, well, concept, fact, time\n",
            "lion: taint, defeated, really, characterized, judgment, gazette, eusebius, imagination, delighted, bodies\n",
            "africa: europe, america, united, east, germany, south, china, west, india, end\n",
            "musician: writer, actor, singer, author, king, english, composer, addition, poet, deaths\n",
            "dance: music, rock, third, game, jazz, concept, live, small, country, practice\n",
            "\n",
            "\n"
          ]
        },
        {
          "name": "stderr",
          "output_type": "stream",
          "text": [
            "19996it [08:06, 45.63it/s]"
          ]
        },
        {
          "name": "stdout",
          "output_type": "stream",
          "text": [
            "| epoch   7 | 20000/32580 batches | loss    0.716 \n"
          ]
        },
        {
          "name": "stderr",
          "output_type": "stream",
          "text": [
            "20005it [08:06, 26.23it/s]"
          ]
        },
        {
          "name": "stdout",
          "output_type": "stream",
          "text": [
            "money: battle, able, work, years, role, way, well, concept, fact, time\n",
            "lion: taint, defeated, really, characterized, judgment, gazette, eusebius, imagination, delighted, bodies\n",
            "africa: europe, america, united, east, germany, south, china, west, india, end\n",
            "musician: writer, actor, singer, author, king, english, composer, addition, poet, deaths\n",
            "dance: music, rock, third, game, jazz, concept, live, small, country, practice\n",
            "\n",
            "\n"
          ]
        },
        {
          "name": "stderr",
          "output_type": "stream",
          "text": [
            "20497it [08:18, 44.30it/s]"
          ]
        },
        {
          "name": "stdout",
          "output_type": "stream",
          "text": [
            "| epoch   7 | 20500/32580 batches | loss    0.714 \n"
          ]
        },
        {
          "name": "stderr",
          "output_type": "stream",
          "text": [
            "20507it [08:18, 30.51it/s]"
          ]
        },
        {
          "name": "stdout",
          "output_type": "stream",
          "text": [
            "money: battle, able, work, years, role, way, well, concept, fact, time\n",
            "lion: taint, defeated, really, characterized, judgment, gazette, eusebius, imagination, delighted, bodies\n",
            "africa: europe, america, united, east, germany, south, china, west, india, end\n",
            "musician: writer, actor, singer, author, king, english, composer, addition, poet, deaths\n",
            "dance: music, rock, third, game, jazz, concept, live, small, country, practice\n",
            "\n",
            "\n"
          ]
        },
        {
          "name": "stderr",
          "output_type": "stream",
          "text": [
            "20997it [08:30, 44.32it/s]"
          ]
        },
        {
          "name": "stdout",
          "output_type": "stream",
          "text": [
            "| epoch   7 | 21000/32580 batches | loss    0.715 \n"
          ]
        },
        {
          "name": "stderr",
          "output_type": "stream",
          "text": [
            "21006it [08:30, 29.32it/s]"
          ]
        },
        {
          "name": "stdout",
          "output_type": "stream",
          "text": [
            "money: battle, able, work, years, role, way, well, concept, fact, time\n",
            "lion: taint, defeated, really, characterized, judgment, gazette, eusebius, imagination, delighted, bodies\n",
            "africa: europe, america, united, east, germany, south, china, west, india, end\n",
            "musician: writer, actor, singer, author, king, english, composer, addition, poet, deaths\n",
            "dance: music, rock, third, game, jazz, concept, live, small, country, practice\n",
            "\n",
            "\n"
          ]
        },
        {
          "name": "stderr",
          "output_type": "stream",
          "text": [
            "21499it [08:42, 45.94it/s]"
          ]
        },
        {
          "name": "stdout",
          "output_type": "stream",
          "text": [
            "| epoch   7 | 21500/32580 batches | loss    0.714 \n"
          ]
        },
        {
          "name": "stderr",
          "output_type": "stream",
          "text": [
            "\r21504it [08:42, 26.90it/s]"
          ]
        },
        {
          "name": "stdout",
          "output_type": "stream",
          "text": [
            "money: battle, able, work, years, role, way, well, concept, fact, time\n",
            "lion: taint, defeated, really, characterized, judgment, gazette, eusebius, imagination, delighted, bodies\n",
            "africa: europe, america, united, east, germany, south, china, west, india, end\n",
            "musician: writer, actor, singer, author, king, english, composer, addition, poet, deaths\n",
            "dance: music, rock, third, game, jazz, concept, live, small, country, practice\n",
            "\n",
            "\n"
          ]
        },
        {
          "name": "stderr",
          "output_type": "stream",
          "text": [
            "21999it [08:54, 45.48it/s]"
          ]
        },
        {
          "name": "stdout",
          "output_type": "stream",
          "text": [
            "| epoch   7 | 22000/32580 batches | loss    0.717 \n"
          ]
        },
        {
          "name": "stderr",
          "output_type": "stream",
          "text": [
            "22009it [08:54, 31.02it/s]"
          ]
        },
        {
          "name": "stdout",
          "output_type": "stream",
          "text": [
            "money: battle, able, work, years, role, way, well, concept, fact, time\n",
            "lion: taint, defeated, really, characterized, judgment, gazette, eusebius, imagination, delighted, bodies\n",
            "africa: europe, america, united, east, germany, south, china, west, india, end\n",
            "musician: writer, actor, singer, author, king, english, composer, addition, poet, deaths\n",
            "dance: music, rock, third, game, jazz, concept, live, small, country, practice\n",
            "\n",
            "\n"
          ]
        },
        {
          "name": "stderr",
          "output_type": "stream",
          "text": [
            "22499it [09:06, 45.24it/s]"
          ]
        },
        {
          "name": "stdout",
          "output_type": "stream",
          "text": [
            "| epoch   7 | 22500/32580 batches | loss    0.715 \n"
          ]
        },
        {
          "name": "stderr",
          "output_type": "stream",
          "text": [
            "22509it [09:07, 30.74it/s]"
          ]
        },
        {
          "name": "stdout",
          "output_type": "stream",
          "text": [
            "money: battle, able, work, years, role, way, well, concept, fact, time\n",
            "lion: taint, defeated, really, characterized, judgment, gazette, eusebius, imagination, delighted, bodies\n",
            "africa: europe, america, united, east, germany, south, china, west, india, end\n",
            "musician: writer, actor, singer, author, king, english, composer, addition, poet, deaths\n",
            "dance: music, rock, third, game, jazz, concept, live, small, country, practice\n",
            "\n",
            "\n"
          ]
        },
        {
          "name": "stderr",
          "output_type": "stream",
          "text": [
            "22998it [09:18, 45.40it/s]"
          ]
        },
        {
          "name": "stdout",
          "output_type": "stream",
          "text": [
            "| epoch   7 | 23000/32580 batches | loss    0.719 \n"
          ]
        },
        {
          "name": "stderr",
          "output_type": "stream",
          "text": [
            "23008it [09:19, 30.68it/s]"
          ]
        },
        {
          "name": "stdout",
          "output_type": "stream",
          "text": [
            "money: battle, able, work, years, role, way, well, concept, fact, time\n",
            "lion: taint, defeated, really, characterized, judgment, gazette, eusebius, imagination, delighted, bodies\n",
            "africa: europe, america, united, east, germany, south, china, west, india, end\n",
            "musician: writer, actor, singer, author, king, english, composer, addition, poet, deaths\n",
            "dance: music, rock, third, game, jazz, concept, live, small, country, practice\n",
            "\n",
            "\n"
          ]
        },
        {
          "name": "stderr",
          "output_type": "stream",
          "text": [
            "23498it [09:30, 45.76it/s]"
          ]
        },
        {
          "name": "stdout",
          "output_type": "stream",
          "text": [
            "| epoch   7 | 23500/32580 batches | loss    0.717 \n"
          ]
        },
        {
          "name": "stderr",
          "output_type": "stream",
          "text": [
            "23508it [09:31, 30.80it/s]"
          ]
        },
        {
          "name": "stdout",
          "output_type": "stream",
          "text": [
            "money: battle, able, work, years, role, way, well, concept, fact, time\n",
            "lion: taint, defeated, really, characterized, judgment, gazette, eusebius, imagination, delighted, bodies\n",
            "africa: europe, america, united, east, germany, south, china, west, india, end\n",
            "musician: writer, actor, singer, author, king, english, composer, addition, poet, deaths\n",
            "dance: music, rock, third, game, jazz, concept, live, small, country, practice\n",
            "\n",
            "\n"
          ]
        },
        {
          "name": "stderr",
          "output_type": "stream",
          "text": [
            "23998it [09:42, 41.46it/s]"
          ]
        },
        {
          "name": "stdout",
          "output_type": "stream",
          "text": [
            "| epoch   7 | 24000/32580 batches | loss    0.716 \n"
          ]
        },
        {
          "name": "stderr",
          "output_type": "stream",
          "text": [
            "24008it [09:43, 29.46it/s]"
          ]
        },
        {
          "name": "stdout",
          "output_type": "stream",
          "text": [
            "money: battle, able, work, years, role, way, well, concept, fact, time\n",
            "lion: taint, defeated, really, characterized, judgment, gazette, eusebius, imagination, delighted, bodies\n",
            "africa: europe, america, united, east, germany, south, china, west, india, end\n",
            "musician: writer, actor, singer, author, king, english, composer, addition, poet, deaths\n",
            "dance: music, rock, third, game, jazz, concept, live, small, country, practice\n",
            "\n",
            "\n"
          ]
        },
        {
          "name": "stderr",
          "output_type": "stream",
          "text": [
            "24498it [09:54, 36.90it/s]"
          ]
        },
        {
          "name": "stdout",
          "output_type": "stream",
          "text": [
            "| epoch   7 | 24500/32580 batches | loss    0.715 \n"
          ]
        },
        {
          "name": "stderr",
          "output_type": "stream",
          "text": [
            "24505it [09:55, 20.96it/s]"
          ]
        },
        {
          "name": "stdout",
          "output_type": "stream",
          "text": [
            "money: battle, able, work, years, role, way, well, concept, fact, time\n",
            "lion: taint, defeated, really, characterized, judgment, gazette, eusebius, imagination, delighted, bodies\n",
            "africa: europe, america, united, east, germany, south, china, west, india, end\n",
            "musician: writer, actor, singer, author, king, english, composer, addition, poet, deaths\n",
            "dance: music, rock, third, game, jazz, concept, live, small, country, practice\n",
            "\n",
            "\n"
          ]
        },
        {
          "name": "stderr",
          "output_type": "stream",
          "text": [
            "24998it [10:06, 37.20it/s]"
          ]
        },
        {
          "name": "stdout",
          "output_type": "stream",
          "text": [
            "| epoch   7 | 25000/32580 batches | loss    0.718 \n"
          ]
        },
        {
          "name": "stderr",
          "output_type": "stream",
          "text": [
            "25006it [10:06, 22.46it/s]"
          ]
        },
        {
          "name": "stdout",
          "output_type": "stream",
          "text": [
            "money: battle, able, work, years, role, way, well, concept, fact, time\n",
            "lion: taint, defeated, really, characterized, judgment, gazette, eusebius, imagination, delighted, bodies\n",
            "africa: europe, america, united, east, germany, south, china, west, india, end\n",
            "musician: writer, actor, singer, author, king, english, composer, addition, poet, deaths\n",
            "dance: music, rock, third, game, jazz, concept, live, small, country, practice\n",
            "\n",
            "\n"
          ]
        },
        {
          "name": "stderr",
          "output_type": "stream",
          "text": [
            "25499it [10:18, 44.76it/s]"
          ]
        },
        {
          "name": "stdout",
          "output_type": "stream",
          "text": [
            "| epoch   7 | 25500/32580 batches | loss    0.714 \n"
          ]
        },
        {
          "name": "stderr",
          "output_type": "stream",
          "text": [
            "25509it [10:18, 30.68it/s]"
          ]
        },
        {
          "name": "stdout",
          "output_type": "stream",
          "text": [
            "money: battle, able, work, years, role, way, well, concept, fact, time\n",
            "lion: taint, defeated, really, characterized, judgment, gazette, eusebius, imagination, delighted, bodies\n",
            "africa: europe, america, united, east, germany, south, china, west, india, end\n",
            "musician: writer, actor, singer, author, king, english, composer, addition, poet, deaths\n",
            "dance: music, rock, third, game, jazz, concept, live, small, country, practice\n",
            "\n",
            "\n"
          ]
        },
        {
          "name": "stderr",
          "output_type": "stream",
          "text": [
            "25999it [10:30, 44.81it/s]"
          ]
        },
        {
          "name": "stdout",
          "output_type": "stream",
          "text": [
            "| epoch   7 | 26000/32580 batches | loss    0.716 \n"
          ]
        },
        {
          "name": "stderr",
          "output_type": "stream",
          "text": [
            "26009it [10:30, 30.68it/s]"
          ]
        },
        {
          "name": "stdout",
          "output_type": "stream",
          "text": [
            "money: battle, able, work, years, role, way, well, concept, fact, time\n",
            "lion: taint, defeated, really, characterized, judgment, gazette, eusebius, imagination, delighted, bodies\n",
            "africa: europe, america, united, east, germany, south, china, west, india, end\n",
            "musician: writer, actor, singer, author, king, english, composer, addition, poet, deaths\n",
            "dance: music, rock, third, game, jazz, concept, live, small, country, practice\n",
            "\n",
            "\n"
          ]
        },
        {
          "name": "stderr",
          "output_type": "stream",
          "text": [
            "26500it [10:42, 46.26it/s]"
          ]
        },
        {
          "name": "stdout",
          "output_type": "stream",
          "text": [
            "| epoch   7 | 26500/32580 batches | loss    0.717 \n"
          ]
        },
        {
          "name": "stderr",
          "output_type": "stream",
          "text": [
            "\r26505it [10:42, 26.57it/s]"
          ]
        },
        {
          "name": "stdout",
          "output_type": "stream",
          "text": [
            "money: battle, able, work, years, role, way, well, concept, fact, time\n",
            "lion: taint, defeated, really, characterized, judgment, gazette, eusebius, imagination, delighted, bodies\n",
            "africa: europe, america, united, east, germany, south, china, west, india, end\n",
            "musician: writer, actor, singer, author, king, english, composer, addition, poet, deaths\n",
            "dance: music, rock, third, game, jazz, concept, live, small, country, practice\n",
            "\n",
            "\n"
          ]
        },
        {
          "name": "stderr",
          "output_type": "stream",
          "text": [
            "26996it [10:54, 45.38it/s]"
          ]
        },
        {
          "name": "stdout",
          "output_type": "stream",
          "text": [
            "| epoch   7 | 27000/32580 batches | loss    0.718 \n"
          ]
        },
        {
          "name": "stderr",
          "output_type": "stream",
          "text": [
            "27005it [10:54, 29.46it/s]"
          ]
        },
        {
          "name": "stdout",
          "output_type": "stream",
          "text": [
            "money: battle, able, work, years, role, way, well, concept, fact, time\n",
            "lion: taint, defeated, really, characterized, judgment, gazette, eusebius, imagination, delighted, bodies\n",
            "africa: europe, america, united, east, germany, south, china, west, india, end\n",
            "musician: writer, actor, singer, author, king, english, composer, addition, poet, deaths\n",
            "dance: music, rock, third, game, jazz, concept, live, small, country, practice\n",
            "\n",
            "\n"
          ]
        },
        {
          "name": "stderr",
          "output_type": "stream",
          "text": [
            "27496it [11:06, 44.22it/s]"
          ]
        },
        {
          "name": "stdout",
          "output_type": "stream",
          "text": [
            "| epoch   7 | 27500/32580 batches | loss    0.716 \n"
          ]
        },
        {
          "name": "stderr",
          "output_type": "stream",
          "text": [
            "27505it [11:06, 24.64it/s]"
          ]
        },
        {
          "name": "stdout",
          "output_type": "stream",
          "text": [
            "money: battle, able, work, years, role, way, well, concept, fact, time\n",
            "lion: taint, defeated, really, characterized, judgment, gazette, eusebius, imagination, delighted, bodies\n",
            "africa: europe, america, united, east, germany, south, china, west, india, end\n",
            "musician: writer, actor, singer, author, king, english, composer, addition, poet, deaths\n",
            "dance: music, rock, third, game, jazz, concept, live, small, country, practice\n",
            "\n",
            "\n"
          ]
        },
        {
          "name": "stderr",
          "output_type": "stream",
          "text": [
            "27999it [11:19, 45.42it/s]"
          ]
        },
        {
          "name": "stdout",
          "output_type": "stream",
          "text": [
            "| epoch   7 | 28000/32580 batches | loss    0.717 \n"
          ]
        },
        {
          "name": "stderr",
          "output_type": "stream",
          "text": [
            "28009it [11:19, 31.12it/s]"
          ]
        },
        {
          "name": "stdout",
          "output_type": "stream",
          "text": [
            "money: battle, able, work, years, role, way, well, concept, fact, time\n",
            "lion: taint, defeated, really, characterized, judgment, gazette, eusebius, imagination, delighted, bodies\n",
            "africa: europe, america, united, east, germany, south, china, west, india, end\n",
            "musician: writer, actor, singer, author, king, english, composer, addition, poet, deaths\n",
            "dance: music, rock, third, game, jazz, concept, live, small, country, practice\n",
            "\n",
            "\n"
          ]
        },
        {
          "name": "stderr",
          "output_type": "stream",
          "text": [
            "28499it [11:31, 44.70it/s]"
          ]
        },
        {
          "name": "stdout",
          "output_type": "stream",
          "text": [
            "| epoch   7 | 28500/32580 batches | loss    0.715 \n"
          ]
        },
        {
          "name": "stderr",
          "output_type": "stream",
          "text": [
            "28509it [11:31, 30.57it/s]"
          ]
        },
        {
          "name": "stdout",
          "output_type": "stream",
          "text": [
            "money: battle, able, work, years, role, way, well, concept, fact, time\n",
            "lion: taint, defeated, really, characterized, judgment, gazette, eusebius, imagination, delighted, bodies\n",
            "africa: europe, america, united, east, germany, south, china, west, india, end\n",
            "musician: writer, actor, singer, author, king, english, composer, addition, poet, deaths\n",
            "dance: music, rock, third, game, jazz, concept, live, small, country, practice\n",
            "\n",
            "\n"
          ]
        },
        {
          "name": "stderr",
          "output_type": "stream",
          "text": [
            "28999it [11:43, 44.86it/s]"
          ]
        },
        {
          "name": "stdout",
          "output_type": "stream",
          "text": [
            "| epoch   7 | 29000/32580 batches | loss    0.717 \n"
          ]
        },
        {
          "name": "stderr",
          "output_type": "stream",
          "text": [
            "29009it [11:43, 30.90it/s]"
          ]
        },
        {
          "name": "stdout",
          "output_type": "stream",
          "text": [
            "money: battle, able, work, years, role, way, well, concept, fact, time\n",
            "lion: taint, defeated, really, characterized, judgment, gazette, eusebius, imagination, delighted, bodies\n",
            "africa: europe, america, united, east, germany, south, china, west, india, end\n",
            "musician: writer, actor, singer, author, king, english, composer, addition, poet, deaths\n",
            "dance: music, rock, third, game, jazz, concept, live, small, country, practice\n",
            "\n",
            "\n"
          ]
        },
        {
          "name": "stderr",
          "output_type": "stream",
          "text": [
            "29496it [11:55, 44.23it/s]"
          ]
        },
        {
          "name": "stdout",
          "output_type": "stream",
          "text": [
            "| epoch   7 | 29500/32580 batches | loss    0.717 \n"
          ]
        },
        {
          "name": "stderr",
          "output_type": "stream",
          "text": [
            "29505it [11:55, 28.08it/s]"
          ]
        },
        {
          "name": "stdout",
          "output_type": "stream",
          "text": [
            "money: battle, able, work, years, role, way, well, concept, fact, time\n",
            "lion: taint, defeated, really, characterized, judgment, gazette, eusebius, imagination, delighted, bodies\n",
            "africa: europe, america, united, east, germany, south, china, west, india, end\n",
            "musician: writer, actor, singer, author, king, english, composer, addition, poet, deaths\n",
            "dance: music, rock, third, game, jazz, concept, live, small, country, practice\n",
            "\n",
            "\n"
          ]
        },
        {
          "name": "stderr",
          "output_type": "stream",
          "text": [
            "29999it [12:07, 34.65it/s]"
          ]
        },
        {
          "name": "stdout",
          "output_type": "stream",
          "text": [
            "| epoch   7 | 30000/32580 batches | loss    0.718 \n"
          ]
        },
        {
          "name": "stderr",
          "output_type": "stream",
          "text": [
            "30008it [12:07, 24.59it/s]"
          ]
        },
        {
          "name": "stdout",
          "output_type": "stream",
          "text": [
            "money: battle, able, work, years, role, way, well, concept, fact, time\n",
            "lion: taint, defeated, really, characterized, judgment, gazette, eusebius, imagination, delighted, bodies\n",
            "africa: europe, america, united, east, germany, south, china, west, india, end\n",
            "musician: writer, actor, singer, author, king, english, composer, addition, poet, deaths\n",
            "dance: music, rock, third, game, jazz, concept, live, small, country, practice\n",
            "\n",
            "\n"
          ]
        },
        {
          "name": "stderr",
          "output_type": "stream",
          "text": [
            "30498it [12:18, 36.21it/s]"
          ]
        },
        {
          "name": "stdout",
          "output_type": "stream",
          "text": [
            "| epoch   7 | 30500/32580 batches | loss    0.716 \n"
          ]
        },
        {
          "name": "stderr",
          "output_type": "stream",
          "text": [
            "30506it [12:19, 21.75it/s]"
          ]
        },
        {
          "name": "stdout",
          "output_type": "stream",
          "text": [
            "money: battle, able, work, years, role, way, well, concept, fact, time\n",
            "lion: taint, defeated, really, characterized, judgment, gazette, eusebius, imagination, delighted, bodies\n",
            "africa: europe, america, united, east, germany, south, china, west, india, end\n",
            "musician: writer, actor, singer, author, king, english, composer, addition, poet, deaths\n",
            "dance: music, rock, third, game, jazz, concept, live, small, country, practice\n",
            "\n",
            "\n"
          ]
        },
        {
          "name": "stderr",
          "output_type": "stream",
          "text": [
            "31000it [12:30, 44.85it/s]"
          ]
        },
        {
          "name": "stdout",
          "output_type": "stream",
          "text": [
            "| epoch   7 | 31000/32580 batches | loss    0.716 \n"
          ]
        },
        {
          "name": "stderr",
          "output_type": "stream",
          "text": [
            "\r31005it [12:31, 23.00it/s]"
          ]
        },
        {
          "name": "stdout",
          "output_type": "stream",
          "text": [
            "money: battle, able, work, years, role, way, well, concept, fact, time\n",
            "lion: taint, defeated, really, characterized, judgment, gazette, eusebius, imagination, delighted, bodies\n",
            "africa: europe, america, united, east, germany, south, china, west, india, end\n",
            "musician: writer, actor, singer, author, king, english, composer, addition, poet, deaths\n",
            "dance: music, rock, third, game, jazz, concept, live, small, country, practice\n",
            "\n",
            "\n"
          ]
        },
        {
          "name": "stderr",
          "output_type": "stream",
          "text": [
            "31499it [12:42, 44.50it/s]"
          ]
        },
        {
          "name": "stdout",
          "output_type": "stream",
          "text": [
            "| epoch   7 | 31500/32580 batches | loss    0.717 \n"
          ]
        },
        {
          "name": "stderr",
          "output_type": "stream",
          "text": [
            "31509it [12:43, 30.61it/s]"
          ]
        },
        {
          "name": "stdout",
          "output_type": "stream",
          "text": [
            "money: battle, able, work, years, role, way, well, concept, fact, time\n",
            "lion: taint, defeated, really, characterized, judgment, gazette, eusebius, imagination, delighted, bodies\n",
            "africa: europe, america, united, east, germany, south, china, west, india, end\n",
            "musician: writer, actor, singer, author, king, english, composer, addition, poet, deaths\n",
            "dance: music, rock, third, game, jazz, concept, live, small, country, practice\n",
            "\n",
            "\n"
          ]
        },
        {
          "name": "stderr",
          "output_type": "stream",
          "text": [
            "31999it [12:54, 45.09it/s]"
          ]
        },
        {
          "name": "stdout",
          "output_type": "stream",
          "text": [
            "| epoch   7 | 32000/32580 batches | loss    0.715 \n"
          ]
        },
        {
          "name": "stderr",
          "output_type": "stream",
          "text": [
            "32009it [12:55, 30.74it/s]"
          ]
        },
        {
          "name": "stdout",
          "output_type": "stream",
          "text": [
            "money: battle, able, work, years, role, way, well, concept, fact, time\n",
            "lion: taint, defeated, really, characterized, judgment, gazette, eusebius, imagination, delighted, bodies\n",
            "africa: europe, america, united, east, germany, south, china, west, india, end\n",
            "musician: writer, actor, singer, author, king, english, composer, addition, poet, deaths\n",
            "dance: music, rock, third, game, jazz, concept, live, small, country, practice\n",
            "\n",
            "\n"
          ]
        },
        {
          "name": "stderr",
          "output_type": "stream",
          "text": [
            "32497it [13:06, 43.53it/s]"
          ]
        },
        {
          "name": "stdout",
          "output_type": "stream",
          "text": [
            "| epoch   7 | 32500/32580 batches | loss    0.718 \n"
          ]
        },
        {
          "name": "stderr",
          "output_type": "stream",
          "text": [
            "32506it [13:07, 29.19it/s]"
          ]
        },
        {
          "name": "stdout",
          "output_type": "stream",
          "text": [
            "money: battle, able, work, years, role, way, well, concept, fact, time\n",
            "lion: taint, defeated, really, characterized, judgment, gazette, eusebius, imagination, delighted, bodies\n",
            "africa: europe, america, united, east, germany, south, china, west, india, end\n",
            "musician: writer, actor, singer, author, king, english, composer, addition, poet, deaths\n",
            "dance: music, rock, third, game, jazz, concept, live, small, country, practice\n",
            "\n",
            "\n"
          ]
        },
        {
          "name": "stderr",
          "output_type": "stream",
          "text": [
            "32580it [13:10, 41.24it/s]\n",
            "0it [00:00, ?it/s]"
          ]
        },
        {
          "name": "stdout",
          "output_type": "stream",
          "text": [
            "| epoch   8 |     0/32580 batches | loss    0.675 \n"
          ]
        },
        {
          "name": "stderr",
          "output_type": "stream",
          "text": [
            "4it [00:01,  2.96it/s]"
          ]
        },
        {
          "name": "stdout",
          "output_type": "stream",
          "text": [
            "money: battle, able, work, years, role, way, well, concept, fact, time\n",
            "lion: taint, defeated, really, characterized, judgment, gazette, eusebius, imagination, delighted, bodies\n",
            "africa: europe, america, united, east, germany, south, china, west, india, end\n",
            "musician: writer, actor, singer, author, king, english, composer, addition, poet, deaths\n",
            "dance: music, rock, third, game, jazz, concept, live, small, country, practice\n",
            "\n",
            "\n"
          ]
        },
        {
          "name": "stderr",
          "output_type": "stream",
          "text": [
            "499it [00:13, 44.73it/s]"
          ]
        },
        {
          "name": "stdout",
          "output_type": "stream",
          "text": [
            "| epoch   8 |   500/32580 batches | loss    0.717 \n"
          ]
        },
        {
          "name": "stderr",
          "output_type": "stream",
          "text": [
            "\r504it [00:13, 26.62it/s]"
          ]
        },
        {
          "name": "stdout",
          "output_type": "stream",
          "text": [
            "money: battle, able, work, years, role, way, well, concept, fact, time\n",
            "lion: taint, defeated, really, characterized, judgment, gazette, eusebius, imagination, delighted, bodies\n",
            "africa: europe, america, united, east, germany, south, china, west, india, end\n",
            "musician: writer, actor, singer, author, king, english, composer, addition, poet, deaths\n",
            "dance: music, rock, third, game, jazz, concept, live, small, country, practice\n",
            "\n",
            "\n"
          ]
        },
        {
          "name": "stderr",
          "output_type": "stream",
          "text": [
            "996it [00:25, 44.32it/s]"
          ]
        },
        {
          "name": "stdout",
          "output_type": "stream",
          "text": [
            "| epoch   8 |  1000/32580 batches | loss    0.717 \n"
          ]
        },
        {
          "name": "stderr",
          "output_type": "stream",
          "text": [
            "1005it [00:25, 29.35it/s]"
          ]
        },
        {
          "name": "stdout",
          "output_type": "stream",
          "text": [
            "money: battle, able, work, years, role, way, well, concept, fact, time\n",
            "lion: taint, defeated, really, characterized, judgment, gazette, eusebius, imagination, delighted, bodies\n",
            "africa: europe, america, united, east, germany, south, china, west, india, end\n",
            "musician: writer, actor, singer, author, king, english, composer, addition, poet, deaths\n",
            "dance: music, rock, third, game, jazz, concept, live, small, country, practice\n",
            "\n",
            "\n"
          ]
        },
        {
          "name": "stderr",
          "output_type": "stream",
          "text": [
            "1496it [00:37, 45.57it/s]"
          ]
        },
        {
          "name": "stdout",
          "output_type": "stream",
          "text": [
            "| epoch   8 |  1500/32580 batches | loss    0.715 \n"
          ]
        },
        {
          "name": "stderr",
          "output_type": "stream",
          "text": [
            "1505it [00:37, 30.12it/s]"
          ]
        },
        {
          "name": "stdout",
          "output_type": "stream",
          "text": [
            "money: battle, able, work, years, role, way, well, concept, fact, time\n",
            "lion: taint, defeated, really, characterized, judgment, gazette, eusebius, imagination, delighted, bodies\n",
            "africa: europe, america, united, east, germany, south, china, west, india, end\n",
            "musician: writer, actor, singer, author, king, english, composer, addition, poet, deaths\n",
            "dance: music, rock, third, game, jazz, concept, live, small, country, practice\n",
            "\n",
            "\n"
          ]
        },
        {
          "name": "stderr",
          "output_type": "stream",
          "text": [
            "1999it [00:49, 45.18it/s]"
          ]
        },
        {
          "name": "stdout",
          "output_type": "stream",
          "text": [
            "| epoch   8 |  2000/32580 batches | loss    0.718 \n"
          ]
        },
        {
          "name": "stderr",
          "output_type": "stream",
          "text": [
            "2009it [00:49, 30.78it/s]"
          ]
        },
        {
          "name": "stdout",
          "output_type": "stream",
          "text": [
            "money: battle, able, work, years, role, way, well, concept, fact, time\n",
            "lion: taint, defeated, really, characterized, judgment, gazette, eusebius, imagination, delighted, bodies\n",
            "africa: europe, america, united, east, germany, south, china, west, india, end\n",
            "musician: writer, actor, singer, author, king, english, composer, addition, poet, deaths\n",
            "dance: music, rock, third, game, jazz, concept, live, small, country, practice\n",
            "\n",
            "\n"
          ]
        },
        {
          "name": "stderr",
          "output_type": "stream",
          "text": [
            "2500it [01:01, 44.78it/s]"
          ]
        },
        {
          "name": "stdout",
          "output_type": "stream",
          "text": [
            "| epoch   8 |  2500/32580 batches | loss    0.715 \n"
          ]
        },
        {
          "name": "stderr",
          "output_type": "stream",
          "text": [
            "\r2505it [01:01, 26.89it/s]"
          ]
        },
        {
          "name": "stdout",
          "output_type": "stream",
          "text": [
            "money: battle, able, work, years, role, way, well, concept, fact, time\n",
            "lion: taint, defeated, really, characterized, judgment, gazette, eusebius, imagination, delighted, bodies\n",
            "africa: europe, america, united, east, germany, south, china, west, india, end\n",
            "musician: writer, actor, singer, author, king, english, composer, addition, poet, deaths\n",
            "dance: music, rock, third, game, jazz, concept, live, small, country, practice\n",
            "\n",
            "\n"
          ]
        },
        {
          "name": "stderr",
          "output_type": "stream",
          "text": [
            "2999it [01:13, 45.68it/s]"
          ]
        },
        {
          "name": "stdout",
          "output_type": "stream",
          "text": [
            "| epoch   8 |  3000/32580 batches | loss    0.717 \n"
          ]
        },
        {
          "name": "stderr",
          "output_type": "stream",
          "text": [
            "3009it [01:13, 30.31it/s]"
          ]
        },
        {
          "name": "stdout",
          "output_type": "stream",
          "text": [
            "money: battle, able, work, years, role, way, well, concept, fact, time\n",
            "lion: taint, defeated, really, characterized, judgment, gazette, eusebius, imagination, delighted, bodies\n",
            "africa: europe, america, united, east, germany, south, china, west, india, end\n",
            "musician: writer, actor, singer, author, king, english, composer, addition, poet, deaths\n",
            "dance: music, rock, third, game, jazz, concept, live, small, country, practice\n",
            "\n",
            "\n"
          ]
        },
        {
          "name": "stderr",
          "output_type": "stream",
          "text": [
            "3499it [01:25, 45.48it/s]"
          ]
        },
        {
          "name": "stdout",
          "output_type": "stream",
          "text": [
            "| epoch   8 |  3500/32580 batches | loss    0.718 \n"
          ]
        },
        {
          "name": "stderr",
          "output_type": "stream",
          "text": [
            "3509it [01:25, 30.65it/s]"
          ]
        },
        {
          "name": "stdout",
          "output_type": "stream",
          "text": [
            "money: battle, able, work, years, role, way, well, concept, fact, time\n",
            "lion: taint, defeated, really, characterized, judgment, gazette, eusebius, imagination, delighted, bodies\n",
            "africa: europe, america, united, east, germany, south, china, west, india, end\n",
            "musician: writer, actor, singer, author, king, english, composer, addition, poet, deaths\n",
            "dance: music, rock, third, game, jazz, concept, live, small, country, practice\n",
            "\n",
            "\n"
          ]
        },
        {
          "name": "stderr",
          "output_type": "stream",
          "text": [
            "3997it [01:37, 44.87it/s]"
          ]
        },
        {
          "name": "stdout",
          "output_type": "stream",
          "text": [
            "| epoch   8 |  4000/32580 batches | loss    0.717 \n"
          ]
        },
        {
          "name": "stderr",
          "output_type": "stream",
          "text": [
            "4006it [01:38, 28.92it/s]"
          ]
        },
        {
          "name": "stdout",
          "output_type": "stream",
          "text": [
            "money: battle, able, work, years, role, way, well, concept, fact, time\n",
            "lion: taint, defeated, really, characterized, judgment, gazette, eusebius, imagination, delighted, bodies\n",
            "africa: europe, america, united, east, germany, south, china, west, india, end\n",
            "musician: writer, actor, singer, author, king, english, composer, addition, poet, deaths\n",
            "dance: music, rock, third, game, jazz, concept, live, small, country, practice\n",
            "\n",
            "\n"
          ]
        },
        {
          "name": "stderr",
          "output_type": "stream",
          "text": [
            "4497it [01:49, 37.33it/s]"
          ]
        },
        {
          "name": "stdout",
          "output_type": "stream",
          "text": [
            "| epoch   8 |  4500/32580 batches | loss    0.714 \n"
          ]
        },
        {
          "name": "stderr",
          "output_type": "stream",
          "text": [
            "4505it [01:50, 26.67it/s]"
          ]
        },
        {
          "name": "stdout",
          "output_type": "stream",
          "text": [
            "money: battle, able, work, years, role, way, well, concept, fact, time\n",
            "lion: taint, defeated, really, characterized, judgment, gazette, eusebius, imagination, delighted, bodies\n",
            "africa: europe, america, united, east, germany, south, china, west, india, end\n",
            "musician: writer, actor, singer, author, king, english, composer, addition, poet, deaths\n",
            "dance: music, rock, third, game, jazz, concept, live, small, country, practice\n",
            "\n",
            "\n"
          ]
        },
        {
          "name": "stderr",
          "output_type": "stream",
          "text": [
            "4998it [02:01, 36.22it/s]"
          ]
        },
        {
          "name": "stdout",
          "output_type": "stream",
          "text": [
            "| epoch   8 |  5000/32580 batches | loss    0.717 \n"
          ]
        },
        {
          "name": "stderr",
          "output_type": "stream",
          "text": [
            "5006it [02:02, 21.97it/s]"
          ]
        },
        {
          "name": "stdout",
          "output_type": "stream",
          "text": [
            "money: battle, able, work, years, role, way, well, concept, fact, time\n",
            "lion: taint, defeated, really, characterized, judgment, gazette, eusebius, imagination, delighted, bodies\n",
            "africa: europe, america, united, east, germany, south, china, west, india, end\n",
            "musician: writer, actor, singer, author, king, english, composer, addition, poet, deaths\n",
            "dance: music, rock, third, game, jazz, concept, live, small, country, practice\n",
            "\n",
            "\n"
          ]
        },
        {
          "name": "stderr",
          "output_type": "stream",
          "text": [
            "5499it [02:13, 37.98it/s]"
          ]
        },
        {
          "name": "stdout",
          "output_type": "stream",
          "text": [
            "| epoch   8 |  5500/32580 batches | loss    0.716 \n"
          ]
        },
        {
          "name": "stderr",
          "output_type": "stream",
          "text": [
            "5507it [02:13, 23.79it/s]"
          ]
        },
        {
          "name": "stdout",
          "output_type": "stream",
          "text": [
            "money: battle, able, work, years, role, way, well, concept, fact, time\n",
            "lion: taint, defeated, really, characterized, judgment, gazette, eusebius, imagination, delighted, bodies\n",
            "africa: europe, america, united, east, germany, south, china, west, india, end\n",
            "musician: writer, actor, singer, author, king, english, composer, addition, poet, deaths\n",
            "dance: music, rock, third, game, jazz, concept, live, small, country, practice\n",
            "\n",
            "\n"
          ]
        },
        {
          "name": "stderr",
          "output_type": "stream",
          "text": [
            "6000it [02:25, 44.85it/s]"
          ]
        },
        {
          "name": "stdout",
          "output_type": "stream",
          "text": [
            "| epoch   8 |  6000/32580 batches | loss    0.716 \n"
          ]
        },
        {
          "name": "stderr",
          "output_type": "stream",
          "text": [
            "\r6005it [02:25, 26.25it/s]"
          ]
        },
        {
          "name": "stdout",
          "output_type": "stream",
          "text": [
            "money: battle, able, work, years, role, way, well, concept, fact, time\n",
            "lion: taint, defeated, really, characterized, judgment, gazette, eusebius, imagination, delighted, bodies\n",
            "africa: europe, america, united, east, germany, south, china, west, india, end\n",
            "musician: writer, actor, singer, author, king, english, composer, addition, poet, deaths\n",
            "dance: music, rock, third, game, jazz, concept, live, small, country, practice\n",
            "\n",
            "\n"
          ]
        },
        {
          "name": "stderr",
          "output_type": "stream",
          "text": [
            "6496it [02:38, 44.86it/s]"
          ]
        },
        {
          "name": "stdout",
          "output_type": "stream",
          "text": [
            "| epoch   8 |  6500/32580 batches | loss    0.717 \n"
          ]
        },
        {
          "name": "stderr",
          "output_type": "stream",
          "text": [
            "6505it [02:38, 29.79it/s]"
          ]
        },
        {
          "name": "stdout",
          "output_type": "stream",
          "text": [
            "money: battle, able, work, years, role, way, well, concept, fact, time\n",
            "lion: taint, defeated, really, characterized, judgment, gazette, eusebius, imagination, delighted, bodies\n",
            "africa: europe, america, united, east, germany, south, china, west, india, end\n",
            "musician: writer, actor, singer, author, king, english, composer, addition, poet, deaths\n",
            "dance: music, rock, third, game, jazz, concept, live, small, country, practice\n",
            "\n",
            "\n"
          ]
        },
        {
          "name": "stderr",
          "output_type": "stream",
          "text": [
            "6999it [02:53, 37.54it/s]"
          ]
        },
        {
          "name": "stdout",
          "output_type": "stream",
          "text": [
            "| epoch   8 |  7000/32580 batches | loss    0.717 \n"
          ]
        },
        {
          "name": "stderr",
          "output_type": "stream",
          "text": [
            "7009it [02:53, 27.25it/s]"
          ]
        },
        {
          "name": "stdout",
          "output_type": "stream",
          "text": [
            "money: battle, able, work, years, role, way, well, concept, fact, time\n",
            "lion: taint, defeated, really, characterized, judgment, gazette, eusebius, imagination, delighted, bodies\n",
            "africa: europe, america, united, east, germany, south, china, west, india, end\n",
            "musician: writer, actor, singer, author, king, english, composer, addition, poet, deaths\n",
            "dance: music, rock, third, game, jazz, concept, live, small, country, practice\n",
            "\n",
            "\n"
          ]
        },
        {
          "name": "stderr",
          "output_type": "stream",
          "text": [
            "7499it [03:05, 45.45it/s]"
          ]
        },
        {
          "name": "stdout",
          "output_type": "stream",
          "text": [
            "| epoch   8 |  7500/32580 batches | loss    0.718 \n"
          ]
        },
        {
          "name": "stderr",
          "output_type": "stream",
          "text": [
            "\r7504it [03:05, 27.32it/s]"
          ]
        },
        {
          "name": "stdout",
          "output_type": "stream",
          "text": [
            "money: battle, able, work, years, role, way, well, concept, fact, time\n",
            "lion: taint, defeated, really, characterized, judgment, gazette, eusebius, imagination, delighted, bodies\n",
            "africa: europe, america, united, east, germany, south, china, west, india, end\n",
            "musician: writer, actor, singer, author, king, english, composer, addition, poet, deaths\n",
            "dance: music, rock, third, game, jazz, concept, live, small, country, practice\n",
            "\n",
            "\n"
          ]
        },
        {
          "name": "stderr",
          "output_type": "stream",
          "text": [
            "7998it [03:17, 45.14it/s]"
          ]
        },
        {
          "name": "stdout",
          "output_type": "stream",
          "text": [
            "| epoch   8 |  8000/32580 batches | loss    0.715 \n"
          ]
        },
        {
          "name": "stderr",
          "output_type": "stream",
          "text": [
            "8008it [03:17, 30.91it/s]"
          ]
        },
        {
          "name": "stdout",
          "output_type": "stream",
          "text": [
            "money: battle, able, work, years, role, way, well, concept, fact, time\n",
            "lion: taint, defeated, really, characterized, judgment, gazette, eusebius, imagination, delighted, bodies\n",
            "africa: europe, america, united, east, germany, south, china, west, india, end\n",
            "musician: writer, actor, singer, author, king, english, composer, addition, poet, deaths\n",
            "dance: music, rock, third, game, jazz, concept, live, small, country, practice\n",
            "\n",
            "\n"
          ]
        },
        {
          "name": "stderr",
          "output_type": "stream",
          "text": [
            "8497it [03:29, 44.81it/s]"
          ]
        },
        {
          "name": "stdout",
          "output_type": "stream",
          "text": [
            "| epoch   8 |  8500/32580 batches | loss    0.716 \n"
          ]
        },
        {
          "name": "stderr",
          "output_type": "stream",
          "text": [
            "8506it [03:29, 29.29it/s]"
          ]
        },
        {
          "name": "stdout",
          "output_type": "stream",
          "text": [
            "money: battle, able, work, years, role, way, well, concept, fact, time\n",
            "lion: taint, defeated, really, characterized, judgment, gazette, eusebius, imagination, delighted, bodies\n",
            "africa: europe, america, united, east, germany, south, china, west, india, end\n",
            "musician: writer, actor, singer, author, king, english, composer, addition, poet, deaths\n",
            "dance: music, rock, third, game, jazz, concept, live, small, country, practice\n",
            "\n",
            "\n"
          ]
        },
        {
          "name": "stderr",
          "output_type": "stream",
          "text": [
            "8998it [03:41, 45.64it/s]"
          ]
        },
        {
          "name": "stdout",
          "output_type": "stream",
          "text": [
            "| epoch   8 |  9000/32580 batches | loss    0.716 \n"
          ]
        },
        {
          "name": "stderr",
          "output_type": "stream",
          "text": [
            "9008it [03:41, 30.75it/s]"
          ]
        },
        {
          "name": "stdout",
          "output_type": "stream",
          "text": [
            "money: battle, able, work, years, role, way, well, concept, fact, time\n",
            "lion: taint, defeated, really, characterized, judgment, gazette, eusebius, imagination, delighted, bodies\n",
            "africa: europe, america, united, east, germany, south, china, west, india, end\n",
            "musician: writer, actor, singer, author, king, english, composer, addition, poet, deaths\n",
            "dance: music, rock, third, game, jazz, concept, live, small, country, practice\n",
            "\n",
            "\n"
          ]
        },
        {
          "name": "stderr",
          "output_type": "stream",
          "text": [
            "9497it [03:53, 43.42it/s]"
          ]
        },
        {
          "name": "stdout",
          "output_type": "stream",
          "text": [
            "| epoch   8 |  9500/32580 batches | loss    0.717 \n"
          ]
        },
        {
          "name": "stderr",
          "output_type": "stream",
          "text": [
            "9506it [03:53, 28.28it/s]"
          ]
        },
        {
          "name": "stdout",
          "output_type": "stream",
          "text": [
            "money: battle, able, work, years, role, way, well, concept, fact, time\n",
            "lion: taint, defeated, really, characterized, judgment, gazette, eusebius, imagination, delighted, bodies\n",
            "africa: europe, america, united, east, germany, south, china, west, india, end\n",
            "musician: writer, actor, singer, author, king, english, composer, addition, poet, deaths\n",
            "dance: music, rock, third, game, jazz, concept, live, small, country, practice\n",
            "\n",
            "\n"
          ]
        },
        {
          "name": "stderr",
          "output_type": "stream",
          "text": [
            "9999it [04:05, 44.44it/s]"
          ]
        },
        {
          "name": "stdout",
          "output_type": "stream",
          "text": [
            "| epoch   8 | 10000/32580 batches | loss    0.714 \n"
          ]
        },
        {
          "name": "stderr",
          "output_type": "stream",
          "text": [
            "10009it [04:05, 30.57it/s]"
          ]
        },
        {
          "name": "stdout",
          "output_type": "stream",
          "text": [
            "money: battle, able, work, years, role, way, well, concept, fact, time\n",
            "lion: taint, defeated, really, characterized, judgment, gazette, eusebius, imagination, delighted, bodies\n",
            "africa: europe, america, united, east, germany, south, china, west, india, end\n",
            "musician: writer, actor, singer, author, king, english, composer, addition, poet, deaths\n",
            "dance: music, rock, third, game, jazz, concept, live, small, country, practice\n",
            "\n",
            "\n"
          ]
        },
        {
          "name": "stderr",
          "output_type": "stream",
          "text": [
            "10497it [04:17, 35.06it/s]"
          ]
        },
        {
          "name": "stdout",
          "output_type": "stream",
          "text": [
            "| epoch   8 | 10500/32580 batches | loss    0.715 \n"
          ]
        },
        {
          "name": "stderr",
          "output_type": "stream",
          "text": [
            "10505it [04:17, 21.25it/s]"
          ]
        },
        {
          "name": "stdout",
          "output_type": "stream",
          "text": [
            "money: battle, able, work, years, role, way, well, concept, fact, time\n",
            "lion: taint, defeated, really, characterized, judgment, gazette, eusebius, imagination, delighted, bodies\n",
            "africa: europe, america, united, east, germany, south, china, west, india, end\n",
            "musician: writer, actor, singer, author, king, english, composer, addition, poet, deaths\n",
            "dance: music, rock, third, game, jazz, concept, live, small, country, practice\n",
            "\n",
            "\n"
          ]
        },
        {
          "name": "stderr",
          "output_type": "stream",
          "text": [
            "11000it [04:29, 36.60it/s]"
          ]
        },
        {
          "name": "stdout",
          "output_type": "stream",
          "text": [
            "| epoch   8 | 11000/32580 batches | loss    0.715 \n"
          ]
        },
        {
          "name": "stderr",
          "output_type": "stream",
          "text": [
            "\r11004it [04:29, 19.42it/s]"
          ]
        },
        {
          "name": "stdout",
          "output_type": "stream",
          "text": [
            "money: battle, able, work, years, role, way, well, concept, fact, time\n",
            "lion: taint, defeated, really, characterized, judgment, gazette, eusebius, imagination, delighted, bodies\n",
            "africa: europe, america, united, east, germany, south, china, west, india, end\n",
            "musician: writer, actor, singer, author, king, english, composer, addition, poet, deaths\n",
            "dance: music, rock, third, game, jazz, concept, live, small, country, practice\n",
            "\n",
            "\n"
          ]
        },
        {
          "name": "stderr",
          "output_type": "stream",
          "text": [
            "11500it [04:41, 45.70it/s]"
          ]
        },
        {
          "name": "stdout",
          "output_type": "stream",
          "text": [
            "| epoch   8 | 11500/32580 batches | loss    0.718 \n"
          ]
        },
        {
          "name": "stderr",
          "output_type": "stream",
          "text": [
            "\r11505it [04:41, 25.74it/s]"
          ]
        },
        {
          "name": "stdout",
          "output_type": "stream",
          "text": [
            "money: battle, able, work, years, role, way, well, concept, fact, time\n",
            "lion: taint, defeated, really, characterized, judgment, gazette, eusebius, imagination, delighted, bodies\n",
            "africa: europe, america, united, east, germany, south, china, west, india, end\n",
            "musician: writer, actor, singer, author, king, english, composer, addition, poet, deaths\n",
            "dance: music, rock, third, game, jazz, concept, live, small, country, practice\n",
            "\n",
            "\n"
          ]
        },
        {
          "name": "stderr",
          "output_type": "stream",
          "text": [
            "11996it [04:52, 45.52it/s]"
          ]
        },
        {
          "name": "stdout",
          "output_type": "stream",
          "text": [
            "| epoch   8 | 12000/32580 batches | loss    0.715 \n"
          ]
        },
        {
          "name": "stderr",
          "output_type": "stream",
          "text": [
            "12005it [04:53, 30.38it/s]"
          ]
        },
        {
          "name": "stdout",
          "output_type": "stream",
          "text": [
            "money: battle, able, work, years, role, way, well, concept, fact, time\n",
            "lion: taint, defeated, really, characterized, judgment, gazette, eusebius, imagination, delighted, bodies\n",
            "africa: europe, america, united, east, germany, south, china, west, india, end\n",
            "musician: writer, actor, singer, author, king, english, composer, addition, poet, deaths\n",
            "dance: music, rock, third, game, jazz, concept, live, small, country, practice\n",
            "\n",
            "\n"
          ]
        },
        {
          "name": "stderr",
          "output_type": "stream",
          "text": [
            "12500it [05:05, 45.00it/s]"
          ]
        },
        {
          "name": "stdout",
          "output_type": "stream",
          "text": [
            "| epoch   8 | 12500/32580 batches | loss    0.719 \n"
          ]
        },
        {
          "name": "stderr",
          "output_type": "stream",
          "text": [
            "\r12505it [05:05, 26.43it/s]"
          ]
        },
        {
          "name": "stdout",
          "output_type": "stream",
          "text": [
            "money: battle, able, work, years, role, way, well, concept, fact, time\n",
            "lion: taint, defeated, really, characterized, judgment, gazette, eusebius, imagination, delighted, bodies\n",
            "africa: europe, america, united, east, germany, south, china, west, india, end\n",
            "musician: writer, actor, singer, author, king, english, composer, addition, poet, deaths\n",
            "dance: music, rock, third, game, jazz, concept, live, small, country, practice\n",
            "\n",
            "\n"
          ]
        },
        {
          "name": "stderr",
          "output_type": "stream",
          "text": [
            "12998it [05:17, 42.76it/s]"
          ]
        },
        {
          "name": "stdout",
          "output_type": "stream",
          "text": [
            "| epoch   8 | 13000/32580 batches | loss    0.717 \n"
          ]
        },
        {
          "name": "stderr",
          "output_type": "stream",
          "text": [
            "13008it [05:17, 29.14it/s]"
          ]
        },
        {
          "name": "stdout",
          "output_type": "stream",
          "text": [
            "money: battle, able, work, years, role, way, well, concept, fact, time\n",
            "lion: taint, defeated, really, characterized, judgment, gazette, eusebius, imagination, delighted, bodies\n",
            "africa: europe, america, united, east, germany, south, china, west, india, end\n",
            "musician: writer, actor, singer, author, king, english, composer, addition, poet, deaths\n",
            "dance: music, rock, third, game, jazz, concept, live, small, country, practice\n",
            "\n",
            "\n"
          ]
        },
        {
          "name": "stderr",
          "output_type": "stream",
          "text": [
            "13496it [05:29, 45.11it/s]"
          ]
        },
        {
          "name": "stdout",
          "output_type": "stream",
          "text": [
            "| epoch   8 | 13500/32580 batches | loss    0.717 \n"
          ]
        },
        {
          "name": "stderr",
          "output_type": "stream",
          "text": [
            "13505it [05:30, 29.33it/s]"
          ]
        },
        {
          "name": "stdout",
          "output_type": "stream",
          "text": [
            "money: battle, able, work, years, role, way, well, concept, fact, time\n",
            "lion: taint, defeated, really, characterized, judgment, gazette, eusebius, imagination, delighted, bodies\n",
            "africa: europe, america, united, east, germany, south, china, west, india, end\n",
            "musician: writer, actor, singer, author, king, english, composer, addition, poet, deaths\n",
            "dance: music, rock, third, game, jazz, concept, live, small, country, practice\n",
            "\n",
            "\n"
          ]
        },
        {
          "name": "stderr",
          "output_type": "stream",
          "text": [
            "13999it [05:41, 43.49it/s]"
          ]
        },
        {
          "name": "stdout",
          "output_type": "stream",
          "text": [
            "| epoch   8 | 14000/32580 batches | loss    0.716 \n"
          ]
        },
        {
          "name": "stderr",
          "output_type": "stream",
          "text": [
            "14009it [05:42, 29.97it/s]"
          ]
        },
        {
          "name": "stdout",
          "output_type": "stream",
          "text": [
            "money: battle, able, work, years, role, way, well, concept, fact, time\n",
            "lion: taint, defeated, really, characterized, judgment, gazette, eusebius, imagination, delighted, bodies\n",
            "africa: europe, america, united, east, germany, south, china, west, india, end\n",
            "musician: writer, actor, singer, author, king, english, composer, addition, poet, deaths\n",
            "dance: music, rock, third, game, jazz, concept, live, small, country, practice\n",
            "\n",
            "\n"
          ]
        },
        {
          "name": "stderr",
          "output_type": "stream",
          "text": [
            "14496it [05:54, 44.62it/s]"
          ]
        },
        {
          "name": "stdout",
          "output_type": "stream",
          "text": [
            "| epoch   8 | 14500/32580 batches | loss    0.714 \n"
          ]
        },
        {
          "name": "stderr",
          "output_type": "stream",
          "text": [
            "14505it [05:54, 28.13it/s]"
          ]
        },
        {
          "name": "stdout",
          "output_type": "stream",
          "text": [
            "money: battle, able, work, years, role, way, well, concept, fact, time\n",
            "lion: taint, defeated, really, characterized, judgment, gazette, eusebius, imagination, delighted, bodies\n",
            "africa: europe, america, united, east, germany, south, china, west, india, end\n",
            "musician: writer, actor, singer, author, king, english, composer, addition, poet, deaths\n",
            "dance: music, rock, third, game, jazz, concept, live, small, country, practice\n",
            "\n",
            "\n"
          ]
        },
        {
          "name": "stderr",
          "output_type": "stream",
          "text": [
            "14998it [06:06, 43.91it/s]"
          ]
        },
        {
          "name": "stdout",
          "output_type": "stream",
          "text": [
            "| epoch   8 | 15000/32580 batches | loss    0.719 \n"
          ]
        },
        {
          "name": "stderr",
          "output_type": "stream",
          "text": [
            "15007it [06:06, 29.22it/s]"
          ]
        },
        {
          "name": "stdout",
          "output_type": "stream",
          "text": [
            "money: battle, able, work, years, role, way, well, concept, fact, time\n",
            "lion: taint, defeated, really, characterized, judgment, gazette, eusebius, imagination, delighted, bodies\n",
            "africa: europe, america, united, east, germany, south, china, west, india, end\n",
            "musician: writer, actor, singer, author, king, english, composer, addition, poet, deaths\n",
            "dance: music, rock, third, game, jazz, concept, live, small, country, practice\n",
            "\n",
            "\n"
          ]
        },
        {
          "name": "stderr",
          "output_type": "stream",
          "text": [
            "15500it [06:18, 43.58it/s]"
          ]
        },
        {
          "name": "stdout",
          "output_type": "stream",
          "text": [
            "| epoch   8 | 15500/32580 batches | loss    0.716 \n"
          ]
        },
        {
          "name": "stderr",
          "output_type": "stream",
          "text": [
            "\r15505it [06:18, 26.52it/s]"
          ]
        },
        {
          "name": "stdout",
          "output_type": "stream",
          "text": [
            "money: battle, able, work, years, role, way, well, concept, fact, time\n",
            "lion: taint, defeated, really, characterized, judgment, gazette, eusebius, imagination, delighted, bodies\n",
            "africa: europe, america, united, east, germany, south, china, west, india, end\n",
            "musician: writer, actor, singer, author, king, english, composer, addition, poet, deaths\n",
            "dance: music, rock, third, game, jazz, concept, live, small, country, practice\n",
            "\n",
            "\n"
          ]
        },
        {
          "name": "stderr",
          "output_type": "stream",
          "text": [
            "15998it [06:30, 34.58it/s]"
          ]
        },
        {
          "name": "stdout",
          "output_type": "stream",
          "text": [
            "| epoch   8 | 16000/32580 batches | loss    0.715 \n"
          ]
        },
        {
          "name": "stderr",
          "output_type": "stream",
          "text": [
            "16007it [06:31, 23.75it/s]"
          ]
        },
        {
          "name": "stdout",
          "output_type": "stream",
          "text": [
            "money: battle, able, work, years, role, way, well, concept, fact, time\n",
            "lion: taint, defeated, really, characterized, judgment, gazette, eusebius, imagination, delighted, bodies\n",
            "africa: europe, america, united, east, germany, south, china, west, india, end\n",
            "musician: writer, actor, singer, author, king, english, composer, addition, poet, deaths\n",
            "dance: music, rock, third, game, jazz, concept, live, small, country, practice\n",
            "\n",
            "\n"
          ]
        },
        {
          "name": "stderr",
          "output_type": "stream",
          "text": [
            "16497it [06:42, 34.55it/s]"
          ]
        },
        {
          "name": "stdout",
          "output_type": "stream",
          "text": [
            "| epoch   8 | 16500/32580 batches | loss    0.718 \n"
          ]
        },
        {
          "name": "stderr",
          "output_type": "stream",
          "text": [
            "16504it [06:42, 20.11it/s]"
          ]
        },
        {
          "name": "stdout",
          "output_type": "stream",
          "text": [
            "money: battle, able, work, years, role, way, well, concept, fact, time\n",
            "lion: taint, defeated, really, characterized, judgment, gazette, eusebius, imagination, delighted, bodies\n",
            "africa: europe, america, united, east, germany, south, china, west, india, end\n",
            "musician: writer, actor, singer, author, king, english, composer, addition, poet, deaths\n",
            "dance: music, rock, third, game, jazz, concept, live, small, country, practice\n",
            "\n",
            "\n"
          ]
        },
        {
          "name": "stderr",
          "output_type": "stream",
          "text": [
            "17000it [06:54, 45.09it/s]"
          ]
        },
        {
          "name": "stdout",
          "output_type": "stream",
          "text": [
            "| epoch   8 | 17000/32580 batches | loss    0.715 \n"
          ]
        },
        {
          "name": "stderr",
          "output_type": "stream",
          "text": [
            "\r17005it [06:54, 22.68it/s]"
          ]
        },
        {
          "name": "stdout",
          "output_type": "stream",
          "text": [
            "money: battle, able, work, years, role, way, well, concept, fact, time\n",
            "lion: taint, defeated, really, characterized, judgment, gazette, eusebius, imagination, delighted, bodies\n",
            "africa: europe, america, united, east, germany, south, china, west, india, end\n",
            "musician: writer, actor, singer, author, king, english, composer, addition, poet, deaths\n",
            "dance: music, rock, third, game, jazz, concept, live, small, country, practice\n",
            "\n",
            "\n"
          ]
        },
        {
          "name": "stderr",
          "output_type": "stream",
          "text": [
            "17498it [07:07, 44.92it/s]"
          ]
        },
        {
          "name": "stdout",
          "output_type": "stream",
          "text": [
            "| epoch   8 | 17500/32580 batches | loss    0.717 \n"
          ]
        },
        {
          "name": "stderr",
          "output_type": "stream",
          "text": [
            "17508it [07:07, 30.09it/s]"
          ]
        },
        {
          "name": "stdout",
          "output_type": "stream",
          "text": [
            "money: battle, able, work, years, role, way, well, concept, fact, time\n",
            "lion: taint, defeated, really, characterized, judgment, gazette, eusebius, imagination, delighted, bodies\n",
            "africa: europe, america, united, east, germany, south, china, west, india, end\n",
            "musician: writer, actor, singer, author, king, english, composer, addition, poet, deaths\n",
            "dance: music, rock, third, game, jazz, concept, live, small, country, practice\n",
            "\n",
            "\n"
          ]
        },
        {
          "name": "stderr",
          "output_type": "stream",
          "text": [
            "17998it [07:19, 44.74it/s]"
          ]
        },
        {
          "name": "stdout",
          "output_type": "stream",
          "text": [
            "| epoch   8 | 18000/32580 batches | loss    0.716 \n"
          ]
        },
        {
          "name": "stderr",
          "output_type": "stream",
          "text": [
            "18007it [07:20, 29.64it/s]"
          ]
        },
        {
          "name": "stdout",
          "output_type": "stream",
          "text": [
            "money: battle, able, work, years, role, way, well, concept, fact, time\n",
            "lion: taint, defeated, really, characterized, judgment, gazette, eusebius, imagination, delighted, bodies\n",
            "africa: europe, america, united, east, germany, south, china, west, india, end\n",
            "musician: writer, actor, singer, author, king, english, composer, addition, poet, deaths\n",
            "dance: music, rock, third, game, jazz, concept, live, small, country, practice\n",
            "\n",
            "\n"
          ]
        },
        {
          "name": "stderr",
          "output_type": "stream",
          "text": [
            "18496it [07:31, 44.73it/s]"
          ]
        },
        {
          "name": "stdout",
          "output_type": "stream",
          "text": [
            "| epoch   8 | 18500/32580 batches | loss    0.717 \n"
          ]
        },
        {
          "name": "stderr",
          "output_type": "stream",
          "text": [
            "18505it [07:32, 29.68it/s]"
          ]
        },
        {
          "name": "stdout",
          "output_type": "stream",
          "text": [
            "money: battle, able, work, years, role, way, well, concept, fact, time\n",
            "lion: taint, defeated, really, characterized, judgment, gazette, eusebius, imagination, delighted, bodies\n",
            "africa: europe, america, united, east, germany, south, china, west, india, end\n",
            "musician: writer, actor, singer, author, king, english, composer, addition, poet, deaths\n",
            "dance: music, rock, third, game, jazz, concept, live, small, country, practice\n",
            "\n",
            "\n"
          ]
        },
        {
          "name": "stderr",
          "output_type": "stream",
          "text": [
            "19000it [07:46,  5.38it/s]"
          ]
        },
        {
          "name": "stdout",
          "output_type": "stream",
          "text": [
            "| epoch   8 | 19000/32580 batches | loss    0.717 \n"
          ]
        },
        {
          "name": "stderr",
          "output_type": "stream",
          "text": [
            "\r19004it [07:46,  6.19it/s]"
          ]
        },
        {
          "name": "stdout",
          "output_type": "stream",
          "text": [
            "money: battle, able, work, years, role, way, well, concept, fact, time\n",
            "lion: taint, defeated, really, characterized, judgment, gazette, eusebius, imagination, delighted, bodies\n",
            "africa: europe, america, united, east, germany, south, china, west, india, end\n",
            "musician: writer, actor, singer, author, king, english, composer, addition, poet, deaths\n",
            "dance: music, rock, third, game, jazz, concept, live, small, country, practice\n",
            "\n",
            "\n"
          ]
        },
        {
          "name": "stderr",
          "output_type": "stream",
          "text": [
            "19496it [07:58, 44.60it/s]"
          ]
        },
        {
          "name": "stdout",
          "output_type": "stream",
          "text": [
            "| epoch   8 | 19500/32580 batches | loss    0.717 \n"
          ]
        },
        {
          "name": "stderr",
          "output_type": "stream",
          "text": [
            "19505it [07:59, 28.83it/s]"
          ]
        },
        {
          "name": "stdout",
          "output_type": "stream",
          "text": [
            "money: battle, able, work, years, role, way, well, concept, fact, time\n",
            "lion: taint, defeated, really, characterized, judgment, gazette, eusebius, imagination, delighted, bodies\n",
            "africa: europe, america, united, east, germany, south, china, west, india, end\n",
            "musician: writer, actor, singer, author, king, english, composer, addition, poet, deaths\n",
            "dance: music, rock, third, game, jazz, concept, live, small, country, practice\n",
            "\n",
            "\n"
          ]
        },
        {
          "name": "stderr",
          "output_type": "stream",
          "text": [
            "19999it [08:10, 45.03it/s]"
          ]
        },
        {
          "name": "stdout",
          "output_type": "stream",
          "text": [
            "| epoch   8 | 20000/32580 batches | loss    0.715 \n"
          ]
        },
        {
          "name": "stderr",
          "output_type": "stream",
          "text": [
            "20009it [08:11, 30.69it/s]"
          ]
        },
        {
          "name": "stdout",
          "output_type": "stream",
          "text": [
            "money: battle, able, work, years, role, way, well, concept, fact, time\n",
            "lion: taint, defeated, really, characterized, judgment, gazette, eusebius, imagination, delighted, bodies\n",
            "africa: europe, america, united, east, germany, south, china, west, india, end\n",
            "musician: writer, actor, singer, author, king, english, composer, addition, poet, deaths\n",
            "dance: music, rock, third, game, jazz, concept, live, small, country, practice\n",
            "\n",
            "\n"
          ]
        },
        {
          "name": "stderr",
          "output_type": "stream",
          "text": [
            "20499it [08:23, 43.64it/s]"
          ]
        },
        {
          "name": "stdout",
          "output_type": "stream",
          "text": [
            "| epoch   8 | 20500/32580 batches | loss    0.716 \n"
          ]
        },
        {
          "name": "stderr",
          "output_type": "stream",
          "text": [
            "\r20504it [08:23, 25.94it/s]"
          ]
        },
        {
          "name": "stdout",
          "output_type": "stream",
          "text": [
            "money: battle, able, work, years, role, way, well, concept, fact, time\n",
            "lion: taint, defeated, really, characterized, judgment, gazette, eusebius, imagination, delighted, bodies\n",
            "africa: europe, america, united, east, germany, south, china, west, india, end\n",
            "musician: writer, actor, singer, author, king, english, composer, addition, poet, deaths\n",
            "dance: music, rock, third, game, jazz, concept, live, small, country, practice\n",
            "\n",
            "\n"
          ]
        },
        {
          "name": "stderr",
          "output_type": "stream",
          "text": [
            "20998it [08:35, 43.78it/s]"
          ]
        },
        {
          "name": "stdout",
          "output_type": "stream",
          "text": [
            "| epoch   8 | 21000/32580 batches | loss    0.716 \n"
          ]
        },
        {
          "name": "stderr",
          "output_type": "stream",
          "text": [
            "21008it [08:35, 30.37it/s]"
          ]
        },
        {
          "name": "stdout",
          "output_type": "stream",
          "text": [
            "money: battle, able, work, years, role, way, well, concept, fact, time\n",
            "lion: taint, defeated, really, characterized, judgment, gazette, eusebius, imagination, delighted, bodies\n",
            "africa: europe, america, united, east, germany, south, china, west, india, end\n",
            "musician: writer, actor, singer, author, king, english, composer, addition, poet, deaths\n",
            "dance: music, rock, third, game, jazz, concept, live, small, country, practice\n",
            "\n",
            "\n"
          ]
        },
        {
          "name": "stderr",
          "output_type": "stream",
          "text": [
            "21497it [08:47, 43.16it/s]"
          ]
        },
        {
          "name": "stdout",
          "output_type": "stream",
          "text": [
            "| epoch   8 | 21500/32580 batches | loss    0.716 \n"
          ]
        },
        {
          "name": "stderr",
          "output_type": "stream",
          "text": [
            "21507it [08:47, 29.69it/s]"
          ]
        },
        {
          "name": "stdout",
          "output_type": "stream",
          "text": [
            "money: battle, able, work, years, role, way, well, concept, fact, time\n",
            "lion: taint, defeated, really, characterized, judgment, gazette, eusebius, imagination, delighted, bodies\n",
            "africa: europe, america, united, east, germany, south, china, west, india, end\n",
            "musician: writer, actor, singer, author, king, english, composer, addition, poet, deaths\n",
            "dance: music, rock, third, game, jazz, concept, live, small, country, practice\n",
            "\n",
            "\n"
          ]
        },
        {
          "name": "stderr",
          "output_type": "stream",
          "text": [
            "21998it [08:59, 36.22it/s]"
          ]
        },
        {
          "name": "stdout",
          "output_type": "stream",
          "text": [
            "| epoch   8 | 22000/32580 batches | loss    0.716 \n"
          ]
        },
        {
          "name": "stderr",
          "output_type": "stream",
          "text": [
            "22006it [09:00, 22.31it/s]"
          ]
        },
        {
          "name": "stdout",
          "output_type": "stream",
          "text": [
            "money: battle, able, work, years, role, way, well, concept, fact, time\n",
            "lion: taint, defeated, really, characterized, judgment, gazette, eusebius, imagination, delighted, bodies\n",
            "africa: europe, america, united, east, germany, south, china, west, india, end\n",
            "musician: writer, actor, singer, author, king, english, composer, addition, poet, deaths\n",
            "dance: music, rock, third, game, jazz, concept, live, small, country, practice\n",
            "\n",
            "\n"
          ]
        },
        {
          "name": "stderr",
          "output_type": "stream",
          "text": [
            "22499it [09:11, 36.41it/s]"
          ]
        },
        {
          "name": "stdout",
          "output_type": "stream",
          "text": [
            "| epoch   8 | 22500/32580 batches | loss    0.716 \n"
          ]
        },
        {
          "name": "stderr",
          "output_type": "stream",
          "text": [
            "22507it [09:12, 21.86it/s]"
          ]
        },
        {
          "name": "stdout",
          "output_type": "stream",
          "text": [
            "money: battle, able, work, years, role, way, well, concept, fact, time\n",
            "lion: taint, defeated, really, characterized, judgment, gazette, eusebius, imagination, delighted, bodies\n",
            "africa: europe, america, united, east, germany, south, china, west, india, end\n",
            "musician: writer, actor, singer, author, king, english, composer, addition, poet, deaths\n",
            "dance: music, rock, third, game, jazz, concept, live, small, country, practice\n",
            "\n",
            "\n"
          ]
        },
        {
          "name": "stderr",
          "output_type": "stream",
          "text": [
            "22996it [09:23, 43.02it/s]"
          ]
        },
        {
          "name": "stdout",
          "output_type": "stream",
          "text": [
            "| epoch   8 | 23000/32580 batches | loss    0.718 \n"
          ]
        },
        {
          "name": "stderr",
          "output_type": "stream",
          "text": [
            "23005it [09:24, 24.89it/s]"
          ]
        },
        {
          "name": "stdout",
          "output_type": "stream",
          "text": [
            "money: battle, able, work, years, role, way, well, concept, fact, time\n",
            "lion: taint, defeated, really, characterized, judgment, gazette, eusebius, imagination, delighted, bodies\n",
            "africa: europe, america, united, east, germany, south, china, west, india, end\n",
            "musician: writer, actor, singer, author, king, english, composer, addition, poet, deaths\n",
            "dance: music, rock, third, game, jazz, concept, live, small, country, practice\n",
            "\n",
            "\n"
          ]
        },
        {
          "name": "stderr",
          "output_type": "stream",
          "text": [
            "23496it [09:35, 44.43it/s]"
          ]
        },
        {
          "name": "stdout",
          "output_type": "stream",
          "text": [
            "| epoch   8 | 23500/32580 batches | loss    0.717 \n"
          ]
        },
        {
          "name": "stderr",
          "output_type": "stream",
          "text": [
            "23505it [09:36, 28.74it/s]"
          ]
        },
        {
          "name": "stdout",
          "output_type": "stream",
          "text": [
            "money: battle, able, work, years, role, way, well, concept, fact, time\n",
            "lion: taint, defeated, really, characterized, judgment, gazette, eusebius, imagination, delighted, bodies\n",
            "africa: europe, america, united, east, germany, south, china, west, india, end\n",
            "musician: writer, actor, singer, author, king, english, composer, addition, poet, deaths\n",
            "dance: music, rock, third, game, jazz, concept, live, small, country, practice\n",
            "\n",
            "\n"
          ]
        },
        {
          "name": "stderr",
          "output_type": "stream",
          "text": [
            "23999it [09:47, 45.17it/s]"
          ]
        },
        {
          "name": "stdout",
          "output_type": "stream",
          "text": [
            "| epoch   8 | 24000/32580 batches | loss    0.719 \n"
          ]
        },
        {
          "name": "stderr",
          "output_type": "stream",
          "text": [
            "24008it [09:48, 29.34it/s]"
          ]
        },
        {
          "name": "stdout",
          "output_type": "stream",
          "text": [
            "money: battle, able, work, years, role, way, well, concept, fact, time\n",
            "lion: taint, defeated, really, characterized, judgment, gazette, eusebius, imagination, delighted, bodies\n",
            "africa: europe, america, united, east, germany, south, china, west, india, end\n",
            "musician: writer, actor, singer, author, king, english, composer, addition, poet, deaths\n",
            "dance: music, rock, third, game, jazz, concept, live, small, country, practice\n",
            "\n",
            "\n"
          ]
        },
        {
          "name": "stderr",
          "output_type": "stream",
          "text": [
            "24500it [10:00, 44.78it/s]"
          ]
        },
        {
          "name": "stdout",
          "output_type": "stream",
          "text": [
            "| epoch   8 | 24500/32580 batches | loss    0.717 \n"
          ]
        },
        {
          "name": "stderr",
          "output_type": "stream",
          "text": [
            "\r24505it [10:00, 27.03it/s]"
          ]
        },
        {
          "name": "stdout",
          "output_type": "stream",
          "text": [
            "money: battle, able, work, years, role, way, well, concept, fact, time\n",
            "lion: taint, defeated, really, characterized, judgment, gazette, eusebius, imagination, delighted, bodies\n",
            "africa: europe, america, united, east, germany, south, china, west, india, end\n",
            "musician: writer, actor, singer, author, king, english, composer, addition, poet, deaths\n",
            "dance: music, rock, third, game, jazz, concept, live, small, country, practice\n",
            "\n",
            "\n"
          ]
        },
        {
          "name": "stderr",
          "output_type": "stream",
          "text": [
            "24998it [10:12, 44.89it/s]"
          ]
        },
        {
          "name": "stdout",
          "output_type": "stream",
          "text": [
            "| epoch   8 | 25000/32580 batches | loss    0.718 \n"
          ]
        },
        {
          "name": "stderr",
          "output_type": "stream",
          "text": [
            "25008it [10:12, 29.80it/s]"
          ]
        },
        {
          "name": "stdout",
          "output_type": "stream",
          "text": [
            "money: battle, able, work, years, role, way, well, concept, fact, time\n",
            "lion: taint, defeated, really, characterized, judgment, gazette, eusebius, imagination, delighted, bodies\n",
            "africa: europe, america, united, east, germany, south, china, west, india, end\n",
            "musician: writer, actor, singer, author, king, english, composer, addition, poet, deaths\n",
            "dance: music, rock, third, game, jazz, concept, live, small, country, practice\n",
            "\n",
            "\n"
          ]
        },
        {
          "name": "stderr",
          "output_type": "stream",
          "text": [
            "25499it [10:24, 43.96it/s]"
          ]
        },
        {
          "name": "stdout",
          "output_type": "stream",
          "text": [
            "| epoch   8 | 25500/32580 batches | loss    0.718 \n"
          ]
        },
        {
          "name": "stderr",
          "output_type": "stream",
          "text": [
            "25509it [10:25, 30.21it/s]"
          ]
        },
        {
          "name": "stdout",
          "output_type": "stream",
          "text": [
            "money: battle, able, work, years, role, way, well, concept, fact, time\n",
            "lion: taint, defeated, really, characterized, judgment, gazette, eusebius, imagination, delighted, bodies\n",
            "africa: europe, america, united, east, germany, south, china, west, india, end\n",
            "musician: writer, actor, singer, author, king, english, composer, addition, poet, deaths\n",
            "dance: music, rock, third, game, jazz, concept, live, small, country, practice\n",
            "\n",
            "\n"
          ]
        },
        {
          "name": "stderr",
          "output_type": "stream",
          "text": [
            "25999it [10:36, 44.29it/s]"
          ]
        },
        {
          "name": "stdout",
          "output_type": "stream",
          "text": [
            "| epoch   8 | 26000/32580 batches | loss    0.716 \n"
          ]
        },
        {
          "name": "stderr",
          "output_type": "stream",
          "text": [
            "26009it [10:37, 29.44it/s]"
          ]
        },
        {
          "name": "stdout",
          "output_type": "stream",
          "text": [
            "money: battle, able, work, years, role, way, well, concept, fact, time\n",
            "lion: taint, defeated, really, characterized, judgment, gazette, eusebius, imagination, delighted, bodies\n",
            "africa: europe, america, united, east, germany, south, china, west, india, end\n",
            "musician: writer, actor, singer, author, king, english, composer, addition, poet, deaths\n",
            "dance: music, rock, third, game, jazz, concept, live, small, country, practice\n",
            "\n",
            "\n"
          ]
        },
        {
          "name": "stderr",
          "output_type": "stream",
          "text": [
            "26496it [10:48, 44.19it/s]"
          ]
        },
        {
          "name": "stdout",
          "output_type": "stream",
          "text": [
            "| epoch   8 | 26500/32580 batches | loss    0.717 \n"
          ]
        },
        {
          "name": "stderr",
          "output_type": "stream",
          "text": [
            "26505it [10:49, 28.52it/s]"
          ]
        },
        {
          "name": "stdout",
          "output_type": "stream",
          "text": [
            "money: battle, able, work, years, role, way, well, concept, fact, time\n",
            "lion: taint, defeated, really, characterized, judgment, gazette, eusebius, imagination, delighted, bodies\n",
            "africa: europe, america, united, east, germany, south, china, west, india, end\n",
            "musician: writer, actor, singer, author, king, english, composer, addition, poet, deaths\n",
            "dance: music, rock, third, game, jazz, concept, live, small, country, practice\n",
            "\n",
            "\n"
          ]
        },
        {
          "name": "stderr",
          "output_type": "stream",
          "text": [
            "26998it [11:01, 43.60it/s]"
          ]
        },
        {
          "name": "stdout",
          "output_type": "stream",
          "text": [
            "| epoch   8 | 27000/32580 batches | loss    0.720 \n"
          ]
        },
        {
          "name": "stderr",
          "output_type": "stream",
          "text": [
            "27008it [11:01, 29.62it/s]"
          ]
        },
        {
          "name": "stdout",
          "output_type": "stream",
          "text": [
            "money: battle, able, work, years, role, way, well, concept, fact, time\n",
            "lion: taint, defeated, really, characterized, judgment, gazette, eusebius, imagination, delighted, bodies\n",
            "africa: europe, america, united, east, germany, south, china, west, india, end\n",
            "musician: writer, actor, singer, author, king, english, composer, addition, poet, deaths\n",
            "dance: music, rock, third, game, jazz, concept, live, small, country, practice\n",
            "\n",
            "\n"
          ]
        },
        {
          "name": "stderr",
          "output_type": "stream",
          "text": [
            "27497it [11:13, 36.83it/s]"
          ]
        },
        {
          "name": "stdout",
          "output_type": "stream",
          "text": [
            "| epoch   8 | 27500/32580 batches | loss    0.715 \n"
          ]
        },
        {
          "name": "stderr",
          "output_type": "stream",
          "text": [
            "27505it [11:14, 26.09it/s]"
          ]
        },
        {
          "name": "stdout",
          "output_type": "stream",
          "text": [
            "money: battle, able, work, years, role, way, well, concept, fact, time\n",
            "lion: taint, defeated, really, characterized, judgment, gazette, eusebius, imagination, delighted, bodies\n",
            "africa: europe, america, united, east, germany, south, china, west, india, end\n",
            "musician: writer, actor, singer, author, king, english, composer, addition, poet, deaths\n",
            "dance: music, rock, third, game, jazz, concept, live, small, country, practice\n",
            "\n",
            "\n"
          ]
        },
        {
          "name": "stderr",
          "output_type": "stream",
          "text": [
            "28000it [11:25, 35.43it/s]"
          ]
        },
        {
          "name": "stdout",
          "output_type": "stream",
          "text": [
            "| epoch   8 | 28000/32580 batches | loss    0.718 \n"
          ]
        },
        {
          "name": "stderr",
          "output_type": "stream",
          "text": [
            "\r28004it [11:26, 17.93it/s]"
          ]
        },
        {
          "name": "stdout",
          "output_type": "stream",
          "text": [
            "money: battle, able, work, years, role, way, well, concept, fact, time\n",
            "lion: taint, defeated, really, characterized, judgment, gazette, eusebius, imagination, delighted, bodies\n",
            "africa: europe, america, united, east, germany, south, china, west, india, end\n",
            "musician: writer, actor, singer, author, king, english, composer, addition, poet, deaths\n",
            "dance: music, rock, third, game, jazz, concept, live, small, country, practice\n",
            "\n",
            "\n"
          ]
        },
        {
          "name": "stderr",
          "output_type": "stream",
          "text": [
            "28497it [11:38, 35.84it/s]"
          ]
        },
        {
          "name": "stdout",
          "output_type": "stream",
          "text": [
            "| epoch   8 | 28500/32580 batches | loss    0.717 \n"
          ]
        },
        {
          "name": "stderr",
          "output_type": "stream",
          "text": [
            "28504it [11:38, 20.69it/s]"
          ]
        },
        {
          "name": "stdout",
          "output_type": "stream",
          "text": [
            "money: battle, able, work, years, role, way, well, concept, fact, time\n",
            "lion: taint, defeated, really, characterized, judgment, gazette, eusebius, imagination, delighted, bodies\n",
            "africa: europe, america, united, east, germany, south, china, west, india, end\n",
            "musician: writer, actor, singer, author, king, english, composer, addition, poet, deaths\n",
            "dance: music, rock, third, game, jazz, concept, live, small, country, practice\n",
            "\n",
            "\n"
          ]
        },
        {
          "name": "stderr",
          "output_type": "stream",
          "text": [
            "28999it [11:50, 43.47it/s]"
          ]
        },
        {
          "name": "stdout",
          "output_type": "stream",
          "text": [
            "| epoch   8 | 29000/32580 batches | loss    0.714 \n"
          ]
        },
        {
          "name": "stderr",
          "output_type": "stream",
          "text": [
            "29009it [11:50, 29.83it/s]"
          ]
        },
        {
          "name": "stdout",
          "output_type": "stream",
          "text": [
            "money: battle, able, work, years, role, way, well, concept, fact, time\n",
            "lion: taint, defeated, really, characterized, judgment, gazette, eusebius, imagination, delighted, bodies\n",
            "africa: europe, america, united, east, germany, south, china, west, india, end\n",
            "musician: writer, actor, singer, author, king, english, composer, addition, poet, deaths\n",
            "dance: music, rock, third, game, jazz, concept, live, small, country, practice\n",
            "\n",
            "\n"
          ]
        },
        {
          "name": "stderr",
          "output_type": "stream",
          "text": [
            "29497it [12:02, 44.89it/s]"
          ]
        },
        {
          "name": "stdout",
          "output_type": "stream",
          "text": [
            "| epoch   8 | 29500/32580 batches | loss    0.717 \n"
          ]
        },
        {
          "name": "stderr",
          "output_type": "stream",
          "text": [
            "29507it [12:02, 30.61it/s]"
          ]
        },
        {
          "name": "stdout",
          "output_type": "stream",
          "text": [
            "money: battle, able, work, years, role, way, well, concept, fact, time\n",
            "lion: taint, defeated, really, characterized, judgment, gazette, eusebius, imagination, delighted, bodies\n",
            "africa: europe, america, united, east, germany, south, china, west, india, end\n",
            "musician: writer, actor, singer, author, king, english, composer, addition, poet, deaths\n",
            "dance: music, rock, third, game, jazz, concept, live, small, country, practice\n",
            "\n",
            "\n"
          ]
        },
        {
          "name": "stderr",
          "output_type": "stream",
          "text": [
            "29997it [12:14, 45.71it/s]"
          ]
        },
        {
          "name": "stdout",
          "output_type": "stream",
          "text": [
            "| epoch   8 | 30000/32580 batches | loss    0.717 \n"
          ]
        },
        {
          "name": "stderr",
          "output_type": "stream",
          "text": [
            "30006it [12:14, 28.77it/s]"
          ]
        },
        {
          "name": "stdout",
          "output_type": "stream",
          "text": [
            "money: battle, able, work, years, role, way, well, concept, fact, time\n",
            "lion: taint, defeated, really, characterized, judgment, gazette, eusebius, imagination, delighted, bodies\n",
            "africa: europe, america, united, east, germany, south, china, west, india, end\n",
            "musician: writer, actor, singer, author, king, english, composer, addition, poet, deaths\n",
            "dance: music, rock, third, game, jazz, concept, live, small, country, practice\n",
            "\n",
            "\n"
          ]
        },
        {
          "name": "stderr",
          "output_type": "stream",
          "text": [
            "30497it [12:26, 44.55it/s]"
          ]
        },
        {
          "name": "stdout",
          "output_type": "stream",
          "text": [
            "| epoch   8 | 30500/32580 batches | loss    0.715 \n"
          ]
        },
        {
          "name": "stderr",
          "output_type": "stream",
          "text": [
            "30506it [12:27, 29.71it/s]"
          ]
        },
        {
          "name": "stdout",
          "output_type": "stream",
          "text": [
            "money: battle, able, work, years, role, way, well, concept, fact, time\n",
            "lion: taint, defeated, really, characterized, judgment, gazette, eusebius, imagination, delighted, bodies\n",
            "africa: europe, america, united, east, germany, south, china, west, india, end\n",
            "musician: writer, actor, singer, author, king, english, composer, addition, poet, deaths\n",
            "dance: music, rock, third, game, jazz, concept, live, small, country, practice\n",
            "\n",
            "\n"
          ]
        },
        {
          "name": "stderr",
          "output_type": "stream",
          "text": [
            "30997it [12:38, 44.47it/s]"
          ]
        },
        {
          "name": "stdout",
          "output_type": "stream",
          "text": [
            "| epoch   8 | 31000/32580 batches | loss    0.715 \n"
          ]
        },
        {
          "name": "stderr",
          "output_type": "stream",
          "text": [
            "31007it [12:39, 30.10it/s]"
          ]
        },
        {
          "name": "stdout",
          "output_type": "stream",
          "text": [
            "money: battle, able, work, years, role, way, well, concept, fact, time\n",
            "lion: taint, defeated, really, characterized, judgment, gazette, eusebius, imagination, delighted, bodies\n",
            "africa: europe, america, united, east, germany, south, china, west, india, end\n",
            "musician: writer, actor, singer, author, king, english, composer, addition, poet, deaths\n",
            "dance: music, rock, third, game, jazz, concept, live, small, country, practice\n",
            "\n",
            "\n"
          ]
        },
        {
          "name": "stderr",
          "output_type": "stream",
          "text": [
            "31499it [12:50, 45.41it/s]"
          ]
        },
        {
          "name": "stdout",
          "output_type": "stream",
          "text": [
            "| epoch   8 | 31500/32580 batches | loss    0.716 \n"
          ]
        },
        {
          "name": "stderr",
          "output_type": "stream",
          "text": [
            "31509it [12:51, 30.56it/s]"
          ]
        },
        {
          "name": "stdout",
          "output_type": "stream",
          "text": [
            "money: battle, able, work, years, role, way, well, concept, fact, time\n",
            "lion: taint, defeated, really, characterized, judgment, gazette, eusebius, imagination, delighted, bodies\n",
            "africa: europe, america, united, east, germany, south, china, west, india, end\n",
            "musician: writer, actor, singer, author, king, english, composer, addition, poet, deaths\n",
            "dance: music, rock, third, game, jazz, concept, live, small, country, practice\n",
            "\n",
            "\n"
          ]
        },
        {
          "name": "stderr",
          "output_type": "stream",
          "text": [
            "31996it [13:02, 44.92it/s]"
          ]
        },
        {
          "name": "stdout",
          "output_type": "stream",
          "text": [
            "| epoch   8 | 32000/32580 batches | loss    0.713 \n"
          ]
        },
        {
          "name": "stderr",
          "output_type": "stream",
          "text": [
            "32005it [13:03, 29.75it/s]"
          ]
        },
        {
          "name": "stdout",
          "output_type": "stream",
          "text": [
            "money: battle, able, work, years, role, way, well, concept, fact, time\n",
            "lion: taint, defeated, really, characterized, judgment, gazette, eusebius, imagination, delighted, bodies\n",
            "africa: europe, america, united, east, germany, south, china, west, india, end\n",
            "musician: writer, actor, singer, author, king, english, composer, addition, poet, deaths\n",
            "dance: music, rock, third, game, jazz, concept, live, small, country, practice\n",
            "\n",
            "\n"
          ]
        },
        {
          "name": "stderr",
          "output_type": "stream",
          "text": [
            "32499it [13:14, 44.81it/s]"
          ]
        },
        {
          "name": "stdout",
          "output_type": "stream",
          "text": [
            "| epoch   8 | 32500/32580 batches | loss    0.717 \n"
          ]
        },
        {
          "name": "stderr",
          "output_type": "stream",
          "text": [
            "32509it [13:15, 30.39it/s]"
          ]
        },
        {
          "name": "stdout",
          "output_type": "stream",
          "text": [
            "money: battle, able, work, years, role, way, well, concept, fact, time\n",
            "lion: taint, defeated, really, characterized, judgment, gazette, eusebius, imagination, delighted, bodies\n",
            "africa: europe, america, united, east, germany, south, china, west, india, end\n",
            "musician: writer, actor, singer, author, king, english, composer, addition, poet, deaths\n",
            "dance: music, rock, third, game, jazz, concept, live, small, country, practice\n",
            "\n",
            "\n"
          ]
        },
        {
          "name": "stderr",
          "output_type": "stream",
          "text": [
            "32580it [13:18, 40.82it/s]\n",
            "0it [00:00, ?it/s]"
          ]
        },
        {
          "name": "stdout",
          "output_type": "stream",
          "text": [
            "| epoch   9 |     0/32580 batches | loss    0.719 \n"
          ]
        },
        {
          "name": "stderr",
          "output_type": "stream",
          "text": [
            "5it [00:01,  4.54it/s]"
          ]
        },
        {
          "name": "stdout",
          "output_type": "stream",
          "text": [
            "money: battle, able, work, years, role, way, well, concept, fact, time\n",
            "lion: taint, defeated, really, characterized, judgment, gazette, eusebius, imagination, delighted, bodies\n",
            "africa: europe, america, united, east, germany, south, china, west, india, end\n",
            "musician: writer, actor, singer, author, king, english, composer, addition, poet, deaths\n",
            "dance: music, rock, third, game, jazz, concept, live, small, country, practice\n",
            "\n",
            "\n"
          ]
        },
        {
          "name": "stderr",
          "output_type": "stream",
          "text": [
            "500it [00:13, 45.21it/s]"
          ]
        },
        {
          "name": "stdout",
          "output_type": "stream",
          "text": [
            "| epoch   9 |   500/32580 batches | loss    0.719 \n"
          ]
        },
        {
          "name": "stderr",
          "output_type": "stream",
          "text": [
            "\r505it [00:13, 26.38it/s]"
          ]
        },
        {
          "name": "stdout",
          "output_type": "stream",
          "text": [
            "money: battle, able, work, years, role, way, well, concept, fact, time\n",
            "lion: taint, defeated, really, characterized, judgment, gazette, eusebius, imagination, delighted, bodies\n",
            "africa: europe, america, united, east, germany, south, china, west, india, end\n",
            "musician: writer, actor, singer, author, king, english, composer, addition, poet, deaths\n",
            "dance: music, rock, third, game, jazz, concept, live, small, country, practice\n",
            "\n",
            "\n"
          ]
        },
        {
          "name": "stderr",
          "output_type": "stream",
          "text": [
            "999it [00:25, 46.01it/s]"
          ]
        },
        {
          "name": "stdout",
          "output_type": "stream",
          "text": [
            "| epoch   9 |  1000/32580 batches | loss    0.717 \n"
          ]
        },
        {
          "name": "stderr",
          "output_type": "stream",
          "text": [
            "1009it [00:25, 31.09it/s]"
          ]
        },
        {
          "name": "stdout",
          "output_type": "stream",
          "text": [
            "money: battle, able, work, years, role, way, well, concept, fact, time\n",
            "lion: taint, defeated, really, characterized, judgment, gazette, eusebius, imagination, delighted, bodies\n",
            "africa: europe, america, united, east, germany, south, china, west, india, end\n",
            "musician: writer, actor, singer, author, king, english, composer, addition, poet, deaths\n",
            "dance: music, rock, third, game, jazz, concept, live, small, country, practice\n",
            "\n",
            "\n"
          ]
        },
        {
          "name": "stderr",
          "output_type": "stream",
          "text": [
            "1498it [00:37, 44.84it/s]"
          ]
        },
        {
          "name": "stdout",
          "output_type": "stream",
          "text": [
            "| epoch   9 |  1500/32580 batches | loss    0.716 \n"
          ]
        },
        {
          "name": "stderr",
          "output_type": "stream",
          "text": [
            "1508it [00:37, 30.72it/s]"
          ]
        },
        {
          "name": "stdout",
          "output_type": "stream",
          "text": [
            "money: battle, able, work, years, role, way, well, concept, fact, time\n",
            "lion: taint, defeated, really, characterized, judgment, gazette, eusebius, imagination, delighted, bodies\n",
            "africa: europe, america, united, east, germany, south, china, west, india, end\n",
            "musician: writer, actor, singer, author, king, english, composer, addition, poet, deaths\n",
            "dance: music, rock, third, game, jazz, concept, live, small, country, practice\n",
            "\n",
            "\n"
          ]
        },
        {
          "name": "stderr",
          "output_type": "stream",
          "text": [
            "1998it [00:49, 44.09it/s]"
          ]
        },
        {
          "name": "stdout",
          "output_type": "stream",
          "text": [
            "| epoch   9 |  2000/32580 batches | loss    0.716 \n"
          ]
        },
        {
          "name": "stderr",
          "output_type": "stream",
          "text": [
            "2008it [00:49, 30.51it/s]"
          ]
        },
        {
          "name": "stdout",
          "output_type": "stream",
          "text": [
            "money: battle, able, work, years, role, way, well, concept, fact, time\n",
            "lion: taint, defeated, really, characterized, judgment, gazette, eusebius, imagination, delighted, bodies\n",
            "africa: europe, america, united, east, germany, south, china, west, india, end\n",
            "musician: writer, actor, singer, author, king, english, composer, addition, poet, deaths\n",
            "dance: music, rock, third, game, jazz, concept, live, small, country, practice\n",
            "\n",
            "\n"
          ]
        },
        {
          "name": "stderr",
          "output_type": "stream",
          "text": [
            "2497it [01:01, 36.24it/s]"
          ]
        },
        {
          "name": "stdout",
          "output_type": "stream",
          "text": [
            "| epoch   9 |  2500/32580 batches | loss    0.716 \n"
          ]
        },
        {
          "name": "stderr",
          "output_type": "stream",
          "text": [
            "2504it [01:01, 20.83it/s]"
          ]
        },
        {
          "name": "stdout",
          "output_type": "stream",
          "text": [
            "money: battle, able, work, years, role, way, well, concept, fact, time\n",
            "lion: taint, defeated, really, characterized, judgment, gazette, eusebius, imagination, delighted, bodies\n",
            "africa: europe, america, united, east, germany, south, china, west, india, end\n",
            "musician: writer, actor, singer, author, king, english, composer, addition, poet, deaths\n",
            "dance: music, rock, third, game, jazz, concept, live, small, country, practice\n",
            "\n",
            "\n"
          ]
        },
        {
          "name": "stderr",
          "output_type": "stream",
          "text": [
            "2999it [01:12, 35.32it/s]"
          ]
        },
        {
          "name": "stdout",
          "output_type": "stream",
          "text": [
            "| epoch   9 |  3000/32580 batches | loss    0.716 \n"
          ]
        },
        {
          "name": "stderr",
          "output_type": "stream",
          "text": [
            "3007it [01:13, 22.54it/s]"
          ]
        },
        {
          "name": "stdout",
          "output_type": "stream",
          "text": [
            "money: battle, able, work, years, role, way, well, concept, fact, time\n",
            "lion: taint, defeated, really, characterized, judgment, gazette, eusebius, imagination, delighted, bodies\n",
            "africa: europe, america, united, east, germany, south, china, west, india, end\n",
            "musician: writer, actor, singer, author, king, english, composer, addition, poet, deaths\n",
            "dance: music, rock, third, game, jazz, concept, live, small, country, practice\n",
            "\n",
            "\n"
          ]
        },
        {
          "name": "stderr",
          "output_type": "stream",
          "text": [
            "3497it [01:24, 46.26it/s]"
          ]
        },
        {
          "name": "stdout",
          "output_type": "stream",
          "text": [
            "| epoch   9 |  3500/32580 batches | loss    0.716 \n"
          ]
        },
        {
          "name": "stderr",
          "output_type": "stream",
          "text": [
            "3506it [01:24, 30.41it/s]"
          ]
        },
        {
          "name": "stdout",
          "output_type": "stream",
          "text": [
            "money: battle, able, work, years, role, way, well, concept, fact, time\n",
            "lion: taint, defeated, really, characterized, judgment, gazette, eusebius, imagination, delighted, bodies\n",
            "africa: europe, america, united, east, germany, south, china, west, india, end\n",
            "musician: writer, actor, singer, author, king, english, composer, addition, poet, deaths\n",
            "dance: music, rock, third, game, jazz, concept, live, small, country, practice\n",
            "\n",
            "\n"
          ]
        },
        {
          "name": "stderr",
          "output_type": "stream",
          "text": [
            "3999it [01:36, 44.89it/s]"
          ]
        },
        {
          "name": "stdout",
          "output_type": "stream",
          "text": [
            "| epoch   9 |  4000/32580 batches | loss    0.714 \n"
          ]
        },
        {
          "name": "stderr",
          "output_type": "stream",
          "text": [
            "4009it [01:36, 30.91it/s]"
          ]
        },
        {
          "name": "stdout",
          "output_type": "stream",
          "text": [
            "money: battle, able, work, years, role, way, well, concept, fact, time\n",
            "lion: taint, defeated, really, characterized, judgment, gazette, eusebius, imagination, delighted, bodies\n",
            "africa: europe, america, united, east, germany, south, china, west, india, end\n",
            "musician: writer, actor, singer, author, king, english, composer, addition, poet, deaths\n",
            "dance: music, rock, third, game, jazz, concept, live, small, country, practice\n",
            "\n",
            "\n"
          ]
        },
        {
          "name": "stderr",
          "output_type": "stream",
          "text": [
            "4498it [01:48, 46.52it/s]"
          ]
        },
        {
          "name": "stdout",
          "output_type": "stream",
          "text": [
            "| epoch   9 |  4500/32580 batches | loss    0.717 \n"
          ]
        },
        {
          "name": "stderr",
          "output_type": "stream",
          "text": [
            "4507it [01:48, 30.16it/s]"
          ]
        },
        {
          "name": "stdout",
          "output_type": "stream",
          "text": [
            "money: battle, able, work, years, role, way, well, concept, fact, time\n",
            "lion: taint, defeated, really, characterized, judgment, gazette, eusebius, imagination, delighted, bodies\n",
            "africa: europe, america, united, east, germany, south, china, west, india, end\n",
            "musician: writer, actor, singer, author, king, english, composer, addition, poet, deaths\n",
            "dance: music, rock, third, game, jazz, concept, live, small, country, practice\n",
            "\n",
            "\n"
          ]
        },
        {
          "name": "stderr",
          "output_type": "stream",
          "text": [
            "4999it [02:00, 45.32it/s]"
          ]
        },
        {
          "name": "stdout",
          "output_type": "stream",
          "text": [
            "| epoch   9 |  5000/32580 batches | loss    0.719 \n"
          ]
        },
        {
          "name": "stderr",
          "output_type": "stream",
          "text": [
            "5009it [02:00, 30.73it/s]"
          ]
        },
        {
          "name": "stdout",
          "output_type": "stream",
          "text": [
            "money: battle, able, work, years, role, way, well, concept, fact, time\n",
            "lion: taint, defeated, really, characterized, judgment, gazette, eusebius, imagination, delighted, bodies\n",
            "africa: europe, america, united, east, germany, south, china, west, india, end\n",
            "musician: writer, actor, singer, author, king, english, composer, addition, poet, deaths\n",
            "dance: music, rock, third, game, jazz, concept, live, small, country, practice\n",
            "\n",
            "\n"
          ]
        },
        {
          "name": "stderr",
          "output_type": "stream",
          "text": [
            "5499it [02:12, 46.00it/s]"
          ]
        },
        {
          "name": "stdout",
          "output_type": "stream",
          "text": [
            "| epoch   9 |  5500/32580 batches | loss    0.717 \n"
          ]
        },
        {
          "name": "stderr",
          "output_type": "stream",
          "text": [
            "\r5504it [02:12, 26.83it/s]"
          ]
        },
        {
          "name": "stdout",
          "output_type": "stream",
          "text": [
            "money: battle, able, work, years, role, way, well, concept, fact, time\n",
            "lion: taint, defeated, really, characterized, judgment, gazette, eusebius, imagination, delighted, bodies\n",
            "africa: europe, america, united, east, germany, south, china, west, india, end\n",
            "musician: writer, actor, singer, author, king, english, composer, addition, poet, deaths\n",
            "dance: music, rock, third, game, jazz, concept, live, small, country, practice\n",
            "\n",
            "\n"
          ]
        },
        {
          "name": "stderr",
          "output_type": "stream",
          "text": [
            "5996it [02:23, 46.34it/s]"
          ]
        },
        {
          "name": "stdout",
          "output_type": "stream",
          "text": [
            "| epoch   9 |  6000/32580 batches | loss    0.716 \n"
          ]
        },
        {
          "name": "stderr",
          "output_type": "stream",
          "text": [
            "6005it [02:24, 30.64it/s]"
          ]
        },
        {
          "name": "stdout",
          "output_type": "stream",
          "text": [
            "money: battle, able, work, years, role, way, well, concept, fact, time\n",
            "lion: taint, defeated, really, characterized, judgment, gazette, eusebius, imagination, delighted, bodies\n",
            "africa: europe, america, united, east, germany, south, china, west, india, end\n",
            "musician: writer, actor, singer, author, king, english, composer, addition, poet, deaths\n",
            "dance: music, rock, third, game, jazz, concept, live, small, country, practice\n",
            "\n",
            "\n"
          ]
        },
        {
          "name": "stderr",
          "output_type": "stream",
          "text": [
            "6496it [02:35, 46.52it/s]"
          ]
        },
        {
          "name": "stdout",
          "output_type": "stream",
          "text": [
            "| epoch   9 |  6500/32580 batches | loss    0.716 \n"
          ]
        },
        {
          "name": "stderr",
          "output_type": "stream",
          "text": [
            "6505it [02:36, 29.29it/s]"
          ]
        },
        {
          "name": "stdout",
          "output_type": "stream",
          "text": [
            "money: battle, able, work, years, role, way, well, concept, fact, time\n",
            "lion: taint, defeated, really, characterized, judgment, gazette, eusebius, imagination, delighted, bodies\n",
            "africa: europe, america, united, east, germany, south, china, west, india, end\n",
            "musician: writer, actor, singer, author, king, english, composer, addition, poet, deaths\n",
            "dance: music, rock, third, game, jazz, concept, live, small, country, practice\n",
            "\n",
            "\n"
          ]
        },
        {
          "name": "stderr",
          "output_type": "stream",
          "text": [
            "6996it [02:48, 46.22it/s]"
          ]
        },
        {
          "name": "stdout",
          "output_type": "stream",
          "text": [
            "| epoch   9 |  7000/32580 batches | loss    0.718 \n"
          ]
        },
        {
          "name": "stderr",
          "output_type": "stream",
          "text": [
            "7005it [02:48, 30.36it/s]"
          ]
        },
        {
          "name": "stdout",
          "output_type": "stream",
          "text": [
            "money: battle, able, work, years, role, way, well, concept, fact, time\n",
            "lion: taint, defeated, really, characterized, judgment, gazette, eusebius, imagination, delighted, bodies\n",
            "africa: europe, america, united, east, germany, south, china, west, india, end\n",
            "musician: writer, actor, singer, author, king, english, composer, addition, poet, deaths\n",
            "dance: music, rock, third, game, jazz, concept, live, small, country, practice\n",
            "\n",
            "\n"
          ]
        },
        {
          "name": "stderr",
          "output_type": "stream",
          "text": [
            "7498it [03:00, 42.75it/s]"
          ]
        },
        {
          "name": "stdout",
          "output_type": "stream",
          "text": [
            "| epoch   9 |  7500/32580 batches | loss    0.716 \n"
          ]
        },
        {
          "name": "stderr",
          "output_type": "stream",
          "text": [
            "7508it [03:00, 30.14it/s]"
          ]
        },
        {
          "name": "stdout",
          "output_type": "stream",
          "text": [
            "money: battle, able, work, years, role, way, well, concept, fact, time\n",
            "lion: taint, defeated, really, characterized, judgment, gazette, eusebius, imagination, delighted, bodies\n",
            "africa: europe, america, united, east, germany, south, china, west, india, end\n",
            "musician: writer, actor, singer, author, king, english, composer, addition, poet, deaths\n",
            "dance: music, rock, third, game, jazz, concept, live, small, country, practice\n",
            "\n",
            "\n"
          ]
        },
        {
          "name": "stderr",
          "output_type": "stream",
          "text": [
            "7998it [03:11, 36.53it/s]"
          ]
        },
        {
          "name": "stdout",
          "output_type": "stream",
          "text": [
            "| epoch   9 |  8000/32580 batches | loss    0.717 \n"
          ]
        },
        {
          "name": "stderr",
          "output_type": "stream",
          "text": [
            "8006it [03:12, 22.01it/s]"
          ]
        },
        {
          "name": "stdout",
          "output_type": "stream",
          "text": [
            "money: battle, able, work, years, role, way, well, concept, fact, time\n",
            "lion: taint, defeated, really, characterized, judgment, gazette, eusebius, imagination, delighted, bodies\n",
            "africa: europe, america, united, east, germany, south, china, west, india, end\n",
            "musician: writer, actor, singer, author, king, english, composer, addition, poet, deaths\n",
            "dance: music, rock, third, game, jazz, concept, live, small, country, practice\n",
            "\n",
            "\n"
          ]
        },
        {
          "name": "stderr",
          "output_type": "stream",
          "text": [
            "8498it [03:23, 38.25it/s]"
          ]
        },
        {
          "name": "stdout",
          "output_type": "stream",
          "text": [
            "| epoch   9 |  8500/32580 batches | loss    0.716 \n"
          ]
        },
        {
          "name": "stderr",
          "output_type": "stream",
          "text": [
            "8506it [03:23, 22.82it/s]"
          ]
        },
        {
          "name": "stdout",
          "output_type": "stream",
          "text": [
            "money: battle, able, work, years, role, way, well, concept, fact, time\n",
            "lion: taint, defeated, really, characterized, judgment, gazette, eusebius, imagination, delighted, bodies\n",
            "africa: europe, america, united, east, germany, south, china, west, india, end\n",
            "musician: writer, actor, singer, author, king, english, composer, addition, poet, deaths\n",
            "dance: music, rock, third, game, jazz, concept, live, small, country, practice\n",
            "\n",
            "\n"
          ]
        },
        {
          "name": "stderr",
          "output_type": "stream",
          "text": [
            "8996it [03:34, 45.89it/s]"
          ]
        },
        {
          "name": "stdout",
          "output_type": "stream",
          "text": [
            "| epoch   9 |  9000/32580 batches | loss    0.714 \n"
          ]
        },
        {
          "name": "stderr",
          "output_type": "stream",
          "text": [
            "9005it [03:35, 30.15it/s]"
          ]
        },
        {
          "name": "stdout",
          "output_type": "stream",
          "text": [
            "money: battle, able, work, years, role, way, well, concept, fact, time\n",
            "lion: taint, defeated, really, characterized, judgment, gazette, eusebius, imagination, delighted, bodies\n",
            "africa: europe, america, united, east, germany, south, china, west, india, end\n",
            "musician: writer, actor, singer, author, king, english, composer, addition, poet, deaths\n",
            "dance: music, rock, third, game, jazz, concept, live, small, country, practice\n",
            "\n",
            "\n"
          ]
        },
        {
          "name": "stderr",
          "output_type": "stream",
          "text": [
            "9500it [03:46, 43.84it/s]"
          ]
        },
        {
          "name": "stdout",
          "output_type": "stream",
          "text": [
            "| epoch   9 |  9500/32580 batches | loss    0.714 \n"
          ]
        },
        {
          "name": "stderr",
          "output_type": "stream",
          "text": [
            "\r9505it [03:47, 26.51it/s]"
          ]
        },
        {
          "name": "stdout",
          "output_type": "stream",
          "text": [
            "money: battle, able, work, years, role, way, well, concept, fact, time\n",
            "lion: taint, defeated, really, characterized, judgment, gazette, eusebius, imagination, delighted, bodies\n",
            "africa: europe, america, united, east, germany, south, china, west, india, end\n",
            "musician: writer, actor, singer, author, king, english, composer, addition, poet, deaths\n",
            "dance: music, rock, third, game, jazz, concept, live, small, country, practice\n",
            "\n",
            "\n"
          ]
        },
        {
          "name": "stderr",
          "output_type": "stream",
          "text": [
            "9996it [03:58, 46.18it/s]"
          ]
        },
        {
          "name": "stdout",
          "output_type": "stream",
          "text": [
            "| epoch   9 | 10000/32580 batches | loss    0.716 \n"
          ]
        },
        {
          "name": "stderr",
          "output_type": "stream",
          "text": [
            "10005it [04:01,  6.49it/s]"
          ]
        },
        {
          "name": "stdout",
          "output_type": "stream",
          "text": [
            "money: battle, able, work, years, role, way, well, concept, fact, time\n",
            "lion: taint, defeated, really, characterized, judgment, gazette, eusebius, imagination, delighted, bodies\n",
            "africa: europe, america, united, east, germany, south, china, west, india, end\n",
            "musician: writer, actor, singer, author, king, english, composer, addition, poet, deaths\n",
            "dance: music, rock, third, game, jazz, concept, live, small, country, practice\n",
            "\n",
            "\n"
          ]
        },
        {
          "name": "stderr",
          "output_type": "stream",
          "text": [
            "10499it [04:13, 46.16it/s]"
          ]
        },
        {
          "name": "stdout",
          "output_type": "stream",
          "text": [
            "| epoch   9 | 10500/32580 batches | loss    0.718 \n"
          ]
        },
        {
          "name": "stderr",
          "output_type": "stream",
          "text": [
            "10509it [04:13, 31.67it/s]"
          ]
        },
        {
          "name": "stdout",
          "output_type": "stream",
          "text": [
            "money: battle, able, work, years, role, way, well, concept, fact, time\n",
            "lion: taint, defeated, really, characterized, judgment, gazette, eusebius, imagination, delighted, bodies\n",
            "africa: europe, america, united, east, germany, south, china, west, india, end\n",
            "musician: writer, actor, singer, author, king, english, composer, addition, poet, deaths\n",
            "dance: music, rock, third, game, jazz, concept, live, small, country, practice\n",
            "\n",
            "\n"
          ]
        },
        {
          "name": "stderr",
          "output_type": "stream",
          "text": [
            "10999it [04:25, 45.89it/s]"
          ]
        },
        {
          "name": "stdout",
          "output_type": "stream",
          "text": [
            "| epoch   9 | 11000/32580 batches | loss    0.717 \n"
          ]
        },
        {
          "name": "stderr",
          "output_type": "stream",
          "text": [
            "11009it [04:25, 31.32it/s]"
          ]
        },
        {
          "name": "stdout",
          "output_type": "stream",
          "text": [
            "money: battle, able, work, years, role, way, well, concept, fact, time\n",
            "lion: taint, defeated, really, characterized, judgment, gazette, eusebius, imagination, delighted, bodies\n",
            "africa: europe, america, united, east, germany, south, china, west, india, end\n",
            "musician: writer, actor, singer, author, king, english, composer, addition, poet, deaths\n",
            "dance: music, rock, third, game, jazz, concept, live, small, country, practice\n",
            "\n",
            "\n"
          ]
        },
        {
          "name": "stderr",
          "output_type": "stream",
          "text": [
            "11497it [04:36, 46.24it/s]"
          ]
        },
        {
          "name": "stdout",
          "output_type": "stream",
          "text": [
            "| epoch   9 | 11500/32580 batches | loss    0.718 \n"
          ]
        },
        {
          "name": "stderr",
          "output_type": "stream",
          "text": [
            "11506it [04:37, 29.96it/s]"
          ]
        },
        {
          "name": "stdout",
          "output_type": "stream",
          "text": [
            "money: battle, able, work, years, role, way, well, concept, fact, time\n",
            "lion: taint, defeated, really, characterized, judgment, gazette, eusebius, imagination, delighted, bodies\n",
            "africa: europe, america, united, east, germany, south, china, west, india, end\n",
            "musician: writer, actor, singer, author, king, english, composer, addition, poet, deaths\n",
            "dance: music, rock, third, game, jazz, concept, live, small, country, practice\n",
            "\n",
            "\n"
          ]
        },
        {
          "name": "stderr",
          "output_type": "stream",
          "text": [
            "11998it [04:48, 46.77it/s]"
          ]
        },
        {
          "name": "stdout",
          "output_type": "stream",
          "text": [
            "| epoch   9 | 12000/32580 batches | loss    0.717 \n"
          ]
        },
        {
          "name": "stderr",
          "output_type": "stream",
          "text": [
            "12008it [04:49, 30.93it/s]"
          ]
        },
        {
          "name": "stdout",
          "output_type": "stream",
          "text": [
            "money: battle, able, work, years, role, way, well, concept, fact, time\n",
            "lion: taint, defeated, really, characterized, judgment, gazette, eusebius, imagination, delighted, bodies\n",
            "africa: europe, america, united, east, germany, south, china, west, india, end\n",
            "musician: writer, actor, singer, author, king, english, composer, addition, poet, deaths\n",
            "dance: music, rock, third, game, jazz, concept, live, small, country, practice\n",
            "\n",
            "\n"
          ]
        },
        {
          "name": "stderr",
          "output_type": "stream",
          "text": [
            "12499it [05:00, 46.25it/s]"
          ]
        },
        {
          "name": "stdout",
          "output_type": "stream",
          "text": [
            "| epoch   9 | 12500/32580 batches | loss    0.716 \n"
          ]
        },
        {
          "name": "stderr",
          "output_type": "stream",
          "text": [
            "12509it [05:00, 31.00it/s]"
          ]
        },
        {
          "name": "stdout",
          "output_type": "stream",
          "text": [
            "money: battle, able, work, years, role, way, well, concept, fact, time\n",
            "lion: taint, defeated, really, characterized, judgment, gazette, eusebius, imagination, delighted, bodies\n",
            "africa: europe, america, united, east, germany, south, china, west, india, end\n",
            "musician: writer, actor, singer, author, king, english, composer, addition, poet, deaths\n",
            "dance: music, rock, third, game, jazz, concept, live, small, country, practice\n",
            "\n",
            "\n"
          ]
        },
        {
          "name": "stderr",
          "output_type": "stream",
          "text": [
            "12996it [05:12, 46.54it/s]"
          ]
        },
        {
          "name": "stdout",
          "output_type": "stream",
          "text": [
            "| epoch   9 | 13000/32580 batches | loss    0.715 \n"
          ]
        },
        {
          "name": "stderr",
          "output_type": "stream",
          "text": [
            "13005it [05:12, 30.01it/s]"
          ]
        },
        {
          "name": "stdout",
          "output_type": "stream",
          "text": [
            "money: battle, able, work, years, role, way, well, concept, fact, time\n",
            "lion: taint, defeated, really, characterized, judgment, gazette, eusebius, imagination, delighted, bodies\n",
            "africa: europe, america, united, east, germany, south, china, west, india, end\n",
            "musician: writer, actor, singer, author, king, english, composer, addition, poet, deaths\n",
            "dance: music, rock, third, game, jazz, concept, live, small, country, practice\n",
            "\n",
            "\n"
          ]
        },
        {
          "name": "stderr",
          "output_type": "stream",
          "text": [
            "13498it [05:24, 46.34it/s]"
          ]
        },
        {
          "name": "stdout",
          "output_type": "stream",
          "text": [
            "| epoch   9 | 13500/32580 batches | loss    0.715 \n"
          ]
        },
        {
          "name": "stderr",
          "output_type": "stream",
          "text": [
            "13508it [05:24, 31.34it/s]"
          ]
        },
        {
          "name": "stdout",
          "output_type": "stream",
          "text": [
            "money: battle, able, work, years, role, way, well, concept, fact, time\n",
            "lion: taint, defeated, really, characterized, judgment, gazette, eusebius, imagination, delighted, bodies\n",
            "africa: europe, america, united, east, germany, south, china, west, india, end\n",
            "musician: writer, actor, singer, author, king, english, composer, addition, poet, deaths\n",
            "dance: music, rock, third, game, jazz, concept, live, small, country, practice\n",
            "\n",
            "\n"
          ]
        },
        {
          "name": "stderr",
          "output_type": "stream",
          "text": [
            "13999it [05:36, 36.28it/s]"
          ]
        },
        {
          "name": "stdout",
          "output_type": "stream",
          "text": [
            "| epoch   9 | 14000/32580 batches | loss    0.717 \n"
          ]
        },
        {
          "name": "stderr",
          "output_type": "stream",
          "text": [
            "14007it [05:36, 23.76it/s]"
          ]
        },
        {
          "name": "stdout",
          "output_type": "stream",
          "text": [
            "money: battle, able, work, years, role, way, well, concept, fact, time\n",
            "lion: taint, defeated, really, characterized, judgment, gazette, eusebius, imagination, delighted, bodies\n",
            "africa: europe, america, united, east, germany, south, china, west, india, end\n",
            "musician: writer, actor, singer, author, king, english, composer, addition, poet, deaths\n",
            "dance: music, rock, third, game, jazz, concept, live, small, country, practice\n",
            "\n",
            "\n"
          ]
        },
        {
          "name": "stderr",
          "output_type": "stream",
          "text": [
            "14499it [05:47, 34.23it/s]"
          ]
        },
        {
          "name": "stdout",
          "output_type": "stream",
          "text": [
            "| epoch   9 | 14500/32580 batches | loss    0.715 \n"
          ]
        },
        {
          "name": "stderr",
          "output_type": "stream",
          "text": [
            "\r14503it [05:48, 18.66it/s]"
          ]
        },
        {
          "name": "stdout",
          "output_type": "stream",
          "text": [
            "money: battle, able, work, years, role, way, well, concept, fact, time\n",
            "lion: taint, defeated, really, characterized, judgment, gazette, eusebius, imagination, delighted, bodies\n",
            "africa: europe, america, united, east, germany, south, china, west, india, end\n",
            "musician: writer, actor, singer, author, king, english, composer, addition, poet, deaths\n",
            "dance: music, rock, third, game, jazz, concept, live, small, country, practice\n",
            "\n",
            "\n"
          ]
        },
        {
          "name": "stderr",
          "output_type": "stream",
          "text": [
            "15000it [05:59, 46.75it/s]"
          ]
        },
        {
          "name": "stdout",
          "output_type": "stream",
          "text": [
            "| epoch   9 | 15000/32580 batches | loss    0.716 \n"
          ]
        },
        {
          "name": "stderr",
          "output_type": "stream",
          "text": [
            "\r15005it [05:59, 26.76it/s]"
          ]
        },
        {
          "name": "stdout",
          "output_type": "stream",
          "text": [
            "money: battle, able, work, years, role, way, well, concept, fact, time\n",
            "lion: taint, defeated, really, characterized, judgment, gazette, eusebius, imagination, delighted, bodies\n",
            "africa: europe, america, united, east, germany, south, china, west, india, end\n",
            "musician: writer, actor, singer, author, king, english, composer, addition, poet, deaths\n",
            "dance: music, rock, third, game, jazz, concept, live, small, country, practice\n",
            "\n",
            "\n"
          ]
        },
        {
          "name": "stderr",
          "output_type": "stream",
          "text": [
            "15499it [06:11, 45.91it/s]"
          ]
        },
        {
          "name": "stdout",
          "output_type": "stream",
          "text": [
            "| epoch   9 | 15500/32580 batches | loss    0.718 \n"
          ]
        },
        {
          "name": "stderr",
          "output_type": "stream",
          "text": [
            "15509it [06:11, 31.87it/s]"
          ]
        },
        {
          "name": "stdout",
          "output_type": "stream",
          "text": [
            "money: battle, able, work, years, role, way, well, concept, fact, time\n",
            "lion: taint, defeated, really, characterized, judgment, gazette, eusebius, imagination, delighted, bodies\n",
            "africa: europe, america, united, east, germany, south, china, west, india, end\n",
            "musician: writer, actor, singer, author, king, english, composer, addition, poet, deaths\n",
            "dance: music, rock, third, game, jazz, concept, live, small, country, practice\n",
            "\n",
            "\n"
          ]
        },
        {
          "name": "stderr",
          "output_type": "stream",
          "text": [
            "15997it [06:22, 45.14it/s]"
          ]
        },
        {
          "name": "stdout",
          "output_type": "stream",
          "text": [
            "| epoch   9 | 16000/32580 batches | loss    0.716 \n"
          ]
        },
        {
          "name": "stderr",
          "output_type": "stream",
          "text": [
            "16006it [06:23, 29.15it/s]"
          ]
        },
        {
          "name": "stdout",
          "output_type": "stream",
          "text": [
            "money: battle, able, work, years, role, way, well, concept, fact, time\n",
            "lion: taint, defeated, really, characterized, judgment, gazette, eusebius, imagination, delighted, bodies\n",
            "africa: europe, america, united, east, germany, south, china, west, india, end\n",
            "musician: writer, actor, singer, author, king, english, composer, addition, poet, deaths\n",
            "dance: music, rock, third, game, jazz, concept, live, small, country, practice\n",
            "\n",
            "\n"
          ]
        },
        {
          "name": "stderr",
          "output_type": "stream",
          "text": [
            "16497it [06:34, 45.38it/s]"
          ]
        },
        {
          "name": "stdout",
          "output_type": "stream",
          "text": [
            "| epoch   9 | 16500/32580 batches | loss    0.716 \n"
          ]
        },
        {
          "name": "stderr",
          "output_type": "stream",
          "text": [
            "16507it [06:35, 31.08it/s]"
          ]
        },
        {
          "name": "stdout",
          "output_type": "stream",
          "text": [
            "money: battle, able, work, years, role, way, well, concept, fact, time\n",
            "lion: taint, defeated, really, characterized, judgment, gazette, eusebius, imagination, delighted, bodies\n",
            "africa: europe, america, united, east, germany, south, china, west, india, end\n",
            "musician: writer, actor, singer, author, king, english, composer, addition, poet, deaths\n",
            "dance: music, rock, third, game, jazz, concept, live, small, country, practice\n",
            "\n",
            "\n"
          ]
        },
        {
          "name": "stderr",
          "output_type": "stream",
          "text": [
            "16998it [06:46, 45.42it/s]"
          ]
        },
        {
          "name": "stdout",
          "output_type": "stream",
          "text": [
            "| epoch   9 | 17000/32580 batches | loss    0.718 \n"
          ]
        },
        {
          "name": "stderr",
          "output_type": "stream",
          "text": [
            "17008it [06:47, 30.57it/s]"
          ]
        },
        {
          "name": "stdout",
          "output_type": "stream",
          "text": [
            "money: battle, able, work, years, role, way, well, concept, fact, time\n",
            "lion: taint, defeated, really, characterized, judgment, gazette, eusebius, imagination, delighted, bodies\n",
            "africa: europe, america, united, east, germany, south, china, west, india, end\n",
            "musician: writer, actor, singer, author, king, english, composer, addition, poet, deaths\n",
            "dance: music, rock, third, game, jazz, concept, live, small, country, practice\n",
            "\n",
            "\n"
          ]
        },
        {
          "name": "stderr",
          "output_type": "stream",
          "text": [
            "17499it [06:58, 44.94it/s]"
          ]
        },
        {
          "name": "stdout",
          "output_type": "stream",
          "text": [
            "| epoch   9 | 17500/32580 batches | loss    0.716 \n"
          ]
        },
        {
          "name": "stderr",
          "output_type": "stream",
          "text": [
            "17509it [06:58, 30.77it/s]"
          ]
        },
        {
          "name": "stdout",
          "output_type": "stream",
          "text": [
            "money: battle, able, work, years, role, way, well, concept, fact, time\n",
            "lion: taint, defeated, really, characterized, judgment, gazette, eusebius, imagination, delighted, bodies\n",
            "africa: europe, america, united, east, germany, south, china, west, india, end\n",
            "musician: writer, actor, singer, author, king, english, composer, addition, poet, deaths\n",
            "dance: music, rock, third, game, jazz, concept, live, small, country, practice\n",
            "\n",
            "\n"
          ]
        },
        {
          "name": "stderr",
          "output_type": "stream",
          "text": [
            "17999it [07:10, 37.94it/s]"
          ]
        },
        {
          "name": "stdout",
          "output_type": "stream",
          "text": [
            "| epoch   9 | 18000/32580 batches | loss    0.719 \n"
          ]
        },
        {
          "name": "stderr",
          "output_type": "stream",
          "text": [
            "18006it [07:10, 22.64it/s]"
          ]
        },
        {
          "name": "stdout",
          "output_type": "stream",
          "text": [
            "money: battle, able, work, years, role, way, well, concept, fact, time\n",
            "lion: taint, defeated, really, characterized, judgment, gazette, eusebius, imagination, delighted, bodies\n",
            "africa: europe, america, united, east, germany, south, china, west, india, end\n",
            "musician: writer, actor, singer, author, king, english, composer, addition, poet, deaths\n",
            "dance: music, rock, third, game, jazz, concept, live, small, country, practice\n",
            "\n",
            "\n"
          ]
        },
        {
          "name": "stderr",
          "output_type": "stream",
          "text": [
            "18499it [07:22, 45.86it/s]"
          ]
        },
        {
          "name": "stdout",
          "output_type": "stream",
          "text": [
            "| epoch   9 | 18500/32580 batches | loss    0.715 \n"
          ]
        },
        {
          "name": "stderr",
          "output_type": "stream",
          "text": [
            "18509it [07:23, 30.79it/s]"
          ]
        },
        {
          "name": "stdout",
          "output_type": "stream",
          "text": [
            "money: battle, able, work, years, role, way, well, concept, fact, time\n",
            "lion: taint, defeated, really, characterized, judgment, gazette, eusebius, imagination, delighted, bodies\n",
            "africa: europe, america, united, east, germany, south, china, west, india, end\n",
            "musician: writer, actor, singer, author, king, english, composer, addition, poet, deaths\n",
            "dance: music, rock, third, game, jazz, concept, live, small, country, practice\n",
            "\n",
            "\n"
          ]
        },
        {
          "name": "stderr",
          "output_type": "stream",
          "text": [
            "19000it [07:34, 42.87it/s]"
          ]
        },
        {
          "name": "stdout",
          "output_type": "stream",
          "text": [
            "| epoch   9 | 19000/32580 batches | loss    0.715 \n"
          ]
        },
        {
          "name": "stderr",
          "output_type": "stream",
          "text": [
            "\r19005it [07:35, 25.55it/s]"
          ]
        },
        {
          "name": "stdout",
          "output_type": "stream",
          "text": [
            "money: battle, able, work, years, role, way, well, concept, fact, time\n",
            "lion: taint, defeated, really, characterized, judgment, gazette, eusebius, imagination, delighted, bodies\n",
            "africa: europe, america, united, east, germany, south, china, west, india, end\n",
            "musician: writer, actor, singer, author, king, english, composer, addition, poet, deaths\n",
            "dance: music, rock, third, game, jazz, concept, live, small, country, practice\n",
            "\n",
            "\n"
          ]
        },
        {
          "name": "stderr",
          "output_type": "stream",
          "text": [
            "19499it [07:46, 36.48it/s]"
          ]
        },
        {
          "name": "stdout",
          "output_type": "stream",
          "text": [
            "| epoch   9 | 19500/32580 batches | loss    0.715 \n"
          ]
        },
        {
          "name": "stderr",
          "output_type": "stream",
          "text": [
            "\r19503it [07:46, 19.18it/s]"
          ]
        },
        {
          "name": "stdout",
          "output_type": "stream",
          "text": [
            "money: battle, able, work, years, role, way, well, concept, fact, time\n",
            "lion: taint, defeated, really, characterized, judgment, gazette, eusebius, imagination, delighted, bodies\n",
            "africa: europe, america, united, east, germany, south, china, west, india, end\n",
            "musician: writer, actor, singer, author, king, english, composer, addition, poet, deaths\n",
            "dance: music, rock, third, game, jazz, concept, live, small, country, practice\n",
            "\n",
            "\n"
          ]
        },
        {
          "name": "stderr",
          "output_type": "stream",
          "text": [
            "19998it [07:57, 38.82it/s]"
          ]
        },
        {
          "name": "stdout",
          "output_type": "stream",
          "text": [
            "| epoch   9 | 20000/32580 batches | loss    0.718 \n"
          ]
        },
        {
          "name": "stderr",
          "output_type": "stream",
          "text": [
            "20006it [07:58, 22.78it/s]"
          ]
        },
        {
          "name": "stdout",
          "output_type": "stream",
          "text": [
            "money: battle, able, work, years, role, way, well, concept, fact, time\n",
            "lion: taint, defeated, really, characterized, judgment, gazette, eusebius, imagination, delighted, bodies\n",
            "africa: europe, america, united, east, germany, south, china, west, india, end\n",
            "musician: writer, actor, singer, author, king, english, composer, addition, poet, deaths\n",
            "dance: music, rock, third, game, jazz, concept, live, small, country, practice\n",
            "\n",
            "\n"
          ]
        },
        {
          "name": "stderr",
          "output_type": "stream",
          "text": [
            "20499it [08:09, 46.16it/s]"
          ]
        },
        {
          "name": "stdout",
          "output_type": "stream",
          "text": [
            "| epoch   9 | 20500/32580 batches | loss    0.718 \n"
          ]
        },
        {
          "name": "stderr",
          "output_type": "stream",
          "text": [
            "20509it [08:10, 30.56it/s]"
          ]
        },
        {
          "name": "stdout",
          "output_type": "stream",
          "text": [
            "money: battle, able, work, years, role, way, well, concept, fact, time\n",
            "lion: taint, defeated, really, characterized, judgment, gazette, eusebius, imagination, delighted, bodies\n",
            "africa: europe, america, united, east, germany, south, china, west, india, end\n",
            "musician: writer, actor, singer, author, king, english, composer, addition, poet, deaths\n",
            "dance: music, rock, third, game, jazz, concept, live, small, country, practice\n",
            "\n",
            "\n"
          ]
        },
        {
          "name": "stderr",
          "output_type": "stream",
          "text": [
            "20999it [08:21, 46.26it/s]"
          ]
        },
        {
          "name": "stdout",
          "output_type": "stream",
          "text": [
            "| epoch   9 | 21000/32580 batches | loss    0.718 \n"
          ]
        },
        {
          "name": "stderr",
          "output_type": "stream",
          "text": [
            "21009it [08:22, 30.81it/s]"
          ]
        },
        {
          "name": "stdout",
          "output_type": "stream",
          "text": [
            "money: battle, able, work, years, role, way, well, concept, fact, time\n",
            "lion: taint, defeated, really, characterized, judgment, gazette, eusebius, imagination, delighted, bodies\n",
            "africa: europe, america, united, east, germany, south, china, west, india, end\n",
            "musician: writer, actor, singer, author, king, english, composer, addition, poet, deaths\n",
            "dance: music, rock, third, game, jazz, concept, live, small, country, practice\n",
            "\n",
            "\n"
          ]
        },
        {
          "name": "stderr",
          "output_type": "stream",
          "text": [
            "21500it [08:33, 45.88it/s]"
          ]
        },
        {
          "name": "stdout",
          "output_type": "stream",
          "text": [
            "| epoch   9 | 21500/32580 batches | loss    0.715 \n"
          ]
        },
        {
          "name": "stderr",
          "output_type": "stream",
          "text": [
            "\r21505it [08:33, 26.80it/s]"
          ]
        },
        {
          "name": "stdout",
          "output_type": "stream",
          "text": [
            "money: battle, able, work, years, role, way, well, concept, fact, time\n",
            "lion: taint, defeated, really, characterized, judgment, gazette, eusebius, imagination, delighted, bodies\n",
            "africa: europe, america, united, east, germany, south, china, west, india, end\n",
            "musician: writer, actor, singer, author, king, english, composer, addition, poet, deaths\n",
            "dance: music, rock, third, game, jazz, concept, live, small, country, practice\n",
            "\n",
            "\n"
          ]
        },
        {
          "name": "stderr",
          "output_type": "stream",
          "text": [
            "21996it [08:45, 46.33it/s]"
          ]
        },
        {
          "name": "stdout",
          "output_type": "stream",
          "text": [
            "| epoch   9 | 22000/32580 batches | loss    0.717 \n"
          ]
        },
        {
          "name": "stderr",
          "output_type": "stream",
          "text": [
            "22005it [08:45, 29.91it/s]"
          ]
        },
        {
          "name": "stdout",
          "output_type": "stream",
          "text": [
            "money: battle, able, work, years, role, way, well, concept, fact, time\n",
            "lion: taint, defeated, really, characterized, judgment, gazette, eusebius, imagination, delighted, bodies\n",
            "africa: europe, america, united, east, germany, south, china, west, india, end\n",
            "musician: writer, actor, singer, author, king, english, composer, addition, poet, deaths\n",
            "dance: music, rock, third, game, jazz, concept, live, small, country, practice\n",
            "\n",
            "\n"
          ]
        },
        {
          "name": "stderr",
          "output_type": "stream",
          "text": [
            "22496it [08:57, 45.93it/s]"
          ]
        },
        {
          "name": "stdout",
          "output_type": "stream",
          "text": [
            "| epoch   9 | 22500/32580 batches | loss    0.719 \n"
          ]
        },
        {
          "name": "stderr",
          "output_type": "stream",
          "text": [
            "22505it [08:57, 30.01it/s]"
          ]
        },
        {
          "name": "stdout",
          "output_type": "stream",
          "text": [
            "money: battle, able, work, years, role, way, well, concept, fact, time\n",
            "lion: taint, defeated, really, characterized, judgment, gazette, eusebius, imagination, delighted, bodies\n",
            "africa: europe, america, united, east, germany, south, china, west, india, end\n",
            "musician: writer, actor, singer, author, king, english, composer, addition, poet, deaths\n",
            "dance: music, rock, third, game, jazz, concept, live, small, country, practice\n",
            "\n",
            "\n"
          ]
        },
        {
          "name": "stderr",
          "output_type": "stream",
          "text": [
            "22998it [09:09, 45.12it/s]"
          ]
        },
        {
          "name": "stdout",
          "output_type": "stream",
          "text": [
            "| epoch   9 | 23000/32580 batches | loss    0.715 \n"
          ]
        },
        {
          "name": "stderr",
          "output_type": "stream",
          "text": [
            "23008it [09:09, 30.88it/s]"
          ]
        },
        {
          "name": "stdout",
          "output_type": "stream",
          "text": [
            "money: battle, able, work, years, role, way, well, concept, fact, time\n",
            "lion: taint, defeated, really, characterized, judgment, gazette, eusebius, imagination, delighted, bodies\n",
            "africa: europe, america, united, east, germany, south, china, west, india, end\n",
            "musician: writer, actor, singer, author, king, english, composer, addition, poet, deaths\n",
            "dance: music, rock, third, game, jazz, concept, live, small, country, practice\n",
            "\n",
            "\n"
          ]
        },
        {
          "name": "stderr",
          "output_type": "stream",
          "text": [
            "23498it [09:21, 46.58it/s]"
          ]
        },
        {
          "name": "stdout",
          "output_type": "stream",
          "text": [
            "| epoch   9 | 23500/32580 batches | loss    0.718 \n"
          ]
        },
        {
          "name": "stderr",
          "output_type": "stream",
          "text": [
            "23507it [09:21, 30.04it/s]"
          ]
        },
        {
          "name": "stdout",
          "output_type": "stream",
          "text": [
            "money: battle, able, work, years, role, way, well, concept, fact, time\n",
            "lion: taint, defeated, really, characterized, judgment, gazette, eusebius, imagination, delighted, bodies\n",
            "africa: europe, america, united, east, germany, south, china, west, india, end\n",
            "musician: writer, actor, singer, author, king, english, composer, addition, poet, deaths\n",
            "dance: music, rock, third, game, jazz, concept, live, small, country, practice\n",
            "\n",
            "\n"
          ]
        },
        {
          "name": "stderr",
          "output_type": "stream",
          "text": [
            "23998it [09:32, 44.65it/s]"
          ]
        },
        {
          "name": "stdout",
          "output_type": "stream",
          "text": [
            "| epoch   9 | 24000/32580 batches | loss    0.717 \n"
          ]
        },
        {
          "name": "stderr",
          "output_type": "stream",
          "text": [
            "24007it [09:33, 29.61it/s]"
          ]
        },
        {
          "name": "stdout",
          "output_type": "stream",
          "text": [
            "money: battle, able, work, years, role, way, well, concept, fact, time\n",
            "lion: taint, defeated, really, characterized, judgment, gazette, eusebius, imagination, delighted, bodies\n",
            "africa: europe, america, united, east, germany, south, china, west, india, end\n",
            "musician: writer, actor, singer, author, king, english, composer, addition, poet, deaths\n",
            "dance: music, rock, third, game, jazz, concept, live, small, country, practice\n",
            "\n",
            "\n"
          ]
        },
        {
          "name": "stderr",
          "output_type": "stream",
          "text": [
            "24497it [09:44, 33.85it/s]"
          ]
        },
        {
          "name": "stdout",
          "output_type": "stream",
          "text": [
            "| epoch   9 | 24500/32580 batches | loss    0.716 \n"
          ]
        },
        {
          "name": "stderr",
          "output_type": "stream",
          "text": [
            "24505it [09:45, 22.37it/s]"
          ]
        },
        {
          "name": "stdout",
          "output_type": "stream",
          "text": [
            "money: battle, able, work, years, role, way, well, concept, fact, time\n",
            "lion: taint, defeated, really, characterized, judgment, gazette, eusebius, imagination, delighted, bodies\n",
            "africa: europe, america, united, east, germany, south, china, west, india, end\n",
            "musician: writer, actor, singer, author, king, english, composer, addition, poet, deaths\n",
            "dance: music, rock, third, game, jazz, concept, live, small, country, practice\n",
            "\n",
            "\n"
          ]
        },
        {
          "name": "stderr",
          "output_type": "stream",
          "text": [
            "24999it [09:56, 35.46it/s]"
          ]
        },
        {
          "name": "stdout",
          "output_type": "stream",
          "text": [
            "| epoch   9 | 25000/32580 batches | loss    0.719 \n"
          ]
        },
        {
          "name": "stderr",
          "output_type": "stream",
          "text": [
            "25007it [09:56, 21.62it/s]"
          ]
        },
        {
          "name": "stdout",
          "output_type": "stream",
          "text": [
            "money: battle, able, work, years, role, way, well, concept, fact, time\n",
            "lion: taint, defeated, really, characterized, judgment, gazette, eusebius, imagination, delighted, bodies\n",
            "africa: europe, america, united, east, germany, south, china, west, india, end\n",
            "musician: writer, actor, singer, author, king, english, composer, addition, poet, deaths\n",
            "dance: music, rock, third, game, jazz, concept, live, small, country, practice\n",
            "\n",
            "\n"
          ]
        },
        {
          "name": "stderr",
          "output_type": "stream",
          "text": [
            "25500it [10:08, 45.54it/s]"
          ]
        },
        {
          "name": "stdout",
          "output_type": "stream",
          "text": [
            "| epoch   9 | 25500/32580 batches | loss    0.714 \n"
          ]
        },
        {
          "name": "stderr",
          "output_type": "stream",
          "text": [
            "\r25505it [10:08, 25.93it/s]"
          ]
        },
        {
          "name": "stdout",
          "output_type": "stream",
          "text": [
            "money: battle, able, work, years, role, way, well, concept, fact, time\n",
            "lion: taint, defeated, really, characterized, judgment, gazette, eusebius, imagination, delighted, bodies\n",
            "africa: europe, america, united, east, germany, south, china, west, india, end\n",
            "musician: writer, actor, singer, author, king, english, composer, addition, poet, deaths\n",
            "dance: music, rock, third, game, jazz, concept, live, small, country, practice\n",
            "\n",
            "\n"
          ]
        },
        {
          "name": "stderr",
          "output_type": "stream",
          "text": [
            "25998it [10:19, 45.78it/s]"
          ]
        },
        {
          "name": "stdout",
          "output_type": "stream",
          "text": [
            "| epoch   9 | 26000/32580 batches | loss    0.716 \n"
          ]
        },
        {
          "name": "stderr",
          "output_type": "stream",
          "text": [
            "26008it [10:20, 31.20it/s]"
          ]
        },
        {
          "name": "stdout",
          "output_type": "stream",
          "text": [
            "money: battle, able, work, years, role, way, well, concept, fact, time\n",
            "lion: taint, defeated, really, characterized, judgment, gazette, eusebius, imagination, delighted, bodies\n",
            "africa: europe, america, united, east, germany, south, china, west, india, end\n",
            "musician: writer, actor, singer, author, king, english, composer, addition, poet, deaths\n",
            "dance: music, rock, third, game, jazz, concept, live, small, country, practice\n",
            "\n",
            "\n"
          ]
        },
        {
          "name": "stderr",
          "output_type": "stream",
          "text": [
            "26496it [10:31, 45.19it/s]"
          ]
        },
        {
          "name": "stdout",
          "output_type": "stream",
          "text": [
            "| epoch   9 | 26500/32580 batches | loss    0.717 \n"
          ]
        },
        {
          "name": "stderr",
          "output_type": "stream",
          "text": [
            "26505it [10:32, 30.10it/s]"
          ]
        },
        {
          "name": "stdout",
          "output_type": "stream",
          "text": [
            "money: battle, able, work, years, role, way, well, concept, fact, time\n",
            "lion: taint, defeated, really, characterized, judgment, gazette, eusebius, imagination, delighted, bodies\n",
            "africa: europe, america, united, east, germany, south, china, west, india, end\n",
            "musician: writer, actor, singer, author, king, english, composer, addition, poet, deaths\n",
            "dance: music, rock, third, game, jazz, concept, live, small, country, practice\n",
            "\n",
            "\n"
          ]
        },
        {
          "name": "stderr",
          "output_type": "stream",
          "text": [
            "26996it [10:43, 46.38it/s]"
          ]
        },
        {
          "name": "stdout",
          "output_type": "stream",
          "text": [
            "| epoch   9 | 27000/32580 batches | loss    0.715 \n"
          ]
        },
        {
          "name": "stderr",
          "output_type": "stream",
          "text": [
            "27006it [10:43, 31.46it/s]"
          ]
        },
        {
          "name": "stdout",
          "output_type": "stream",
          "text": [
            "money: battle, able, work, years, role, way, well, concept, fact, time\n",
            "lion: taint, defeated, really, characterized, judgment, gazette, eusebius, imagination, delighted, bodies\n",
            "africa: europe, america, united, east, germany, south, china, west, india, end\n",
            "musician: writer, actor, singer, author, king, english, composer, addition, poet, deaths\n",
            "dance: music, rock, third, game, jazz, concept, live, small, country, practice\n",
            "\n",
            "\n"
          ]
        },
        {
          "name": "stderr",
          "output_type": "stream",
          "text": [
            "27497it [10:55, 45.78it/s]"
          ]
        },
        {
          "name": "stdout",
          "output_type": "stream",
          "text": [
            "| epoch   9 | 27500/32580 batches | loss    0.717 \n"
          ]
        },
        {
          "name": "stderr",
          "output_type": "stream",
          "text": [
            "27507it [10:55, 31.14it/s]"
          ]
        },
        {
          "name": "stdout",
          "output_type": "stream",
          "text": [
            "money: battle, able, work, years, role, way, well, concept, fact, time\n",
            "lion: taint, defeated, really, characterized, judgment, gazette, eusebius, imagination, delighted, bodies\n",
            "africa: europe, america, united, east, germany, south, china, west, india, end\n",
            "musician: writer, actor, singer, author, king, english, composer, addition, poet, deaths\n",
            "dance: music, rock, third, game, jazz, concept, live, small, country, practice\n",
            "\n",
            "\n"
          ]
        },
        {
          "name": "stderr",
          "output_type": "stream",
          "text": [
            "27999it [11:07, 46.35it/s]"
          ]
        },
        {
          "name": "stdout",
          "output_type": "stream",
          "text": [
            "| epoch   9 | 28000/32580 batches | loss    0.716 \n"
          ]
        },
        {
          "name": "stderr",
          "output_type": "stream",
          "text": [
            "28009it [11:07, 30.77it/s]"
          ]
        },
        {
          "name": "stdout",
          "output_type": "stream",
          "text": [
            "money: battle, able, work, years, role, way, well, concept, fact, time\n",
            "lion: taint, defeated, really, characterized, judgment, gazette, eusebius, imagination, delighted, bodies\n",
            "africa: europe, america, united, east, germany, south, china, west, india, end\n",
            "musician: writer, actor, singer, author, king, english, composer, addition, poet, deaths\n",
            "dance: music, rock, third, game, jazz, concept, live, small, country, practice\n",
            "\n",
            "\n"
          ]
        },
        {
          "name": "stderr",
          "output_type": "stream",
          "text": [
            "28498it [11:19, 46.19it/s]"
          ]
        },
        {
          "name": "stdout",
          "output_type": "stream",
          "text": [
            "| epoch   9 | 28500/32580 batches | loss    0.714 \n"
          ]
        },
        {
          "name": "stderr",
          "output_type": "stream",
          "text": [
            "28508it [11:19, 30.98it/s]"
          ]
        },
        {
          "name": "stdout",
          "output_type": "stream",
          "text": [
            "money: battle, able, work, years, role, way, well, concept, fact, time\n",
            "lion: taint, defeated, really, characterized, judgment, gazette, eusebius, imagination, delighted, bodies\n",
            "africa: europe, america, united, east, germany, south, china, west, india, end\n",
            "musician: writer, actor, singer, author, king, english, composer, addition, poet, deaths\n",
            "dance: music, rock, third, game, jazz, concept, live, small, country, practice\n",
            "\n",
            "\n"
          ]
        },
        {
          "name": "stderr",
          "output_type": "stream",
          "text": [
            "28998it [11:31, 45.09it/s]"
          ]
        },
        {
          "name": "stdout",
          "output_type": "stream",
          "text": [
            "| epoch   9 | 29000/32580 batches | loss    0.717 \n"
          ]
        },
        {
          "name": "stderr",
          "output_type": "stream",
          "text": [
            "29008it [11:31, 30.73it/s]"
          ]
        },
        {
          "name": "stdout",
          "output_type": "stream",
          "text": [
            "money: battle, able, work, years, role, way, well, concept, fact, time\n",
            "lion: taint, defeated, really, characterized, judgment, gazette, eusebius, imagination, delighted, bodies\n",
            "africa: europe, america, united, east, germany, south, china, west, india, end\n",
            "musician: writer, actor, singer, author, king, english, composer, addition, poet, deaths\n",
            "dance: music, rock, third, game, jazz, concept, live, small, country, practice\n",
            "\n",
            "\n"
          ]
        },
        {
          "name": "stderr",
          "output_type": "stream",
          "text": [
            "29500it [11:43, 30.56it/s]"
          ]
        },
        {
          "name": "stdout",
          "output_type": "stream",
          "text": [
            "| epoch   9 | 29500/32580 batches | loss    0.716 \n"
          ]
        },
        {
          "name": "stderr",
          "output_type": "stream",
          "text": [
            "\r29504it [11:44, 16.55it/s]"
          ]
        },
        {
          "name": "stdout",
          "output_type": "stream",
          "text": [
            "money: battle, able, work, years, role, way, well, concept, fact, time\n",
            "lion: taint, defeated, really, characterized, judgment, gazette, eusebius, imagination, delighted, bodies\n",
            "africa: europe, america, united, east, germany, south, china, west, india, end\n",
            "musician: writer, actor, singer, author, king, english, composer, addition, poet, deaths\n",
            "dance: music, rock, third, game, jazz, concept, live, small, country, practice\n",
            "\n",
            "\n"
          ]
        },
        {
          "name": "stderr",
          "output_type": "stream",
          "text": [
            "29998it [11:55, 45.96it/s]"
          ]
        },
        {
          "name": "stdout",
          "output_type": "stream",
          "text": [
            "| epoch   9 | 30000/32580 batches | loss    0.716 \n"
          ]
        },
        {
          "name": "stderr",
          "output_type": "stream",
          "text": [
            "\r30003it [11:55, 23.94it/s]"
          ]
        },
        {
          "name": "stdout",
          "output_type": "stream",
          "text": [
            "money: battle, able, work, years, role, way, well, concept, fact, time\n",
            "lion: taint, defeated, really, characterized, judgment, gazette, eusebius, imagination, delighted, bodies\n",
            "africa: europe, america, united, east, germany, south, china, west, india, end\n",
            "musician: writer, actor, singer, author, king, english, composer, addition, poet, deaths\n",
            "dance: music, rock, third, game, jazz, concept, live, small, country, practice\n",
            "\n",
            "\n"
          ]
        },
        {
          "name": "stderr",
          "output_type": "stream",
          "text": [
            "30500it [12:07, 45.52it/s]"
          ]
        },
        {
          "name": "stdout",
          "output_type": "stream",
          "text": [
            "| epoch   9 | 30500/32580 batches | loss    0.717 \n"
          ]
        },
        {
          "name": "stderr",
          "output_type": "stream",
          "text": [
            "\r30505it [12:07, 27.11it/s]"
          ]
        },
        {
          "name": "stdout",
          "output_type": "stream",
          "text": [
            "money: battle, able, work, years, role, way, well, concept, fact, time\n",
            "lion: taint, defeated, really, characterized, judgment, gazette, eusebius, imagination, delighted, bodies\n",
            "africa: europe, america, united, east, germany, south, china, west, india, end\n",
            "musician: writer, actor, singer, author, king, english, composer, addition, poet, deaths\n",
            "dance: music, rock, third, game, jazz, concept, live, small, country, practice\n",
            "\n",
            "\n"
          ]
        },
        {
          "name": "stderr",
          "output_type": "stream",
          "text": [
            "30997it [12:19, 45.21it/s]"
          ]
        },
        {
          "name": "stdout",
          "output_type": "stream",
          "text": [
            "| epoch   9 | 31000/32580 batches | loss    0.716 \n"
          ]
        },
        {
          "name": "stderr",
          "output_type": "stream",
          "text": [
            "31006it [12:19, 29.76it/s]"
          ]
        },
        {
          "name": "stdout",
          "output_type": "stream",
          "text": [
            "money: battle, able, work, years, role, way, well, concept, fact, time\n",
            "lion: taint, defeated, really, characterized, judgment, gazette, eusebius, imagination, delighted, bodies\n",
            "africa: europe, america, united, east, germany, south, china, west, india, end\n",
            "musician: writer, actor, singer, author, king, english, composer, addition, poet, deaths\n",
            "dance: music, rock, third, game, jazz, concept, live, small, country, practice\n",
            "\n",
            "\n"
          ]
        },
        {
          "name": "stderr",
          "output_type": "stream",
          "text": [
            "31498it [12:31, 45.98it/s]"
          ]
        },
        {
          "name": "stdout",
          "output_type": "stream",
          "text": [
            "| epoch   9 | 31500/32580 batches | loss    0.716 \n"
          ]
        },
        {
          "name": "stderr",
          "output_type": "stream",
          "text": [
            "31508it [12:31, 31.72it/s]"
          ]
        },
        {
          "name": "stdout",
          "output_type": "stream",
          "text": [
            "money: battle, able, work, years, role, way, well, concept, fact, time\n",
            "lion: taint, defeated, really, characterized, judgment, gazette, eusebius, imagination, delighted, bodies\n",
            "africa: europe, america, united, east, germany, south, china, west, india, end\n",
            "musician: writer, actor, singer, author, king, english, composer, addition, poet, deaths\n",
            "dance: music, rock, third, game, jazz, concept, live, small, country, practice\n",
            "\n",
            "\n"
          ]
        },
        {
          "name": "stderr",
          "output_type": "stream",
          "text": [
            "31996it [12:42, 45.09it/s]"
          ]
        },
        {
          "name": "stdout",
          "output_type": "stream",
          "text": [
            "| epoch   9 | 32000/32580 batches | loss    0.717 \n"
          ]
        },
        {
          "name": "stderr",
          "output_type": "stream",
          "text": [
            "32005it [12:43, 29.64it/s]"
          ]
        },
        {
          "name": "stdout",
          "output_type": "stream",
          "text": [
            "money: battle, able, work, years, role, way, well, concept, fact, time\n",
            "lion: taint, defeated, really, characterized, judgment, gazette, eusebius, imagination, delighted, bodies\n",
            "africa: europe, america, united, east, germany, south, china, west, india, end\n",
            "musician: writer, actor, singer, author, king, english, composer, addition, poet, deaths\n",
            "dance: music, rock, third, game, jazz, concept, live, small, country, practice\n",
            "\n",
            "\n"
          ]
        },
        {
          "name": "stderr",
          "output_type": "stream",
          "text": [
            "32496it [12:54, 45.05it/s]"
          ]
        },
        {
          "name": "stdout",
          "output_type": "stream",
          "text": [
            "| epoch   9 | 32500/32580 batches | loss    0.716 \n"
          ]
        },
        {
          "name": "stderr",
          "output_type": "stream",
          "text": [
            "32505it [12:55, 30.07it/s]"
          ]
        },
        {
          "name": "stdout",
          "output_type": "stream",
          "text": [
            "money: battle, able, work, years, role, way, well, concept, fact, time\n",
            "lion: taint, defeated, really, characterized, judgment, gazette, eusebius, imagination, delighted, bodies\n",
            "africa: europe, america, united, east, germany, south, china, west, india, end\n",
            "musician: writer, actor, singer, author, king, english, composer, addition, poet, deaths\n",
            "dance: music, rock, third, game, jazz, concept, live, small, country, practice\n",
            "\n",
            "\n"
          ]
        },
        {
          "name": "stderr",
          "output_type": "stream",
          "text": [
            "32580it [12:57, 41.88it/s]\n",
            "0it [00:00, ?it/s]"
          ]
        },
        {
          "name": "stdout",
          "output_type": "stream",
          "text": [
            "| epoch  10 |     0/32580 batches | loss    0.695 \n"
          ]
        },
        {
          "name": "stderr",
          "output_type": "stream",
          "text": [
            "5it [00:01,  4.60it/s]"
          ]
        },
        {
          "name": "stdout",
          "output_type": "stream",
          "text": [
            "money: battle, able, work, years, role, way, well, concept, fact, time\n",
            "lion: taint, defeated, really, characterized, judgment, gazette, eusebius, imagination, delighted, bodies\n",
            "africa: europe, america, united, east, germany, south, china, west, india, end\n",
            "musician: writer, actor, singer, author, king, english, composer, addition, poet, deaths\n",
            "dance: music, rock, third, game, jazz, concept, live, small, country, practice\n",
            "\n",
            "\n"
          ]
        },
        {
          "name": "stderr",
          "output_type": "stream",
          "text": [
            "500it [00:12, 46.31it/s]"
          ]
        },
        {
          "name": "stdout",
          "output_type": "stream",
          "text": [
            "| epoch  10 |   500/32580 batches | loss    0.718 \n"
          ]
        },
        {
          "name": "stderr",
          "output_type": "stream",
          "text": [
            "\r505it [00:13, 27.56it/s]"
          ]
        },
        {
          "name": "stdout",
          "output_type": "stream",
          "text": [
            "money: battle, able, work, years, role, way, well, concept, fact, time\n",
            "lion: taint, defeated, really, characterized, judgment, gazette, eusebius, imagination, delighted, bodies\n",
            "africa: europe, america, united, east, germany, south, china, west, india, end\n",
            "musician: writer, actor, singer, author, king, english, composer, addition, poet, deaths\n",
            "dance: music, rock, third, game, jazz, concept, live, small, country, practice\n",
            "\n",
            "\n"
          ]
        },
        {
          "name": "stderr",
          "output_type": "stream",
          "text": [
            "1000it [00:27, 35.25it/s]"
          ]
        },
        {
          "name": "stdout",
          "output_type": "stream",
          "text": [
            "| epoch  10 |  1000/32580 batches | loss    0.715 \n"
          ]
        },
        {
          "name": "stderr",
          "output_type": "stream",
          "text": [
            "\r1005it [00:27, 24.33it/s]"
          ]
        },
        {
          "name": "stdout",
          "output_type": "stream",
          "text": [
            "money: battle, able, work, years, role, way, well, concept, fact, time\n",
            "lion: taint, defeated, really, characterized, judgment, gazette, eusebius, imagination, delighted, bodies\n",
            "africa: europe, america, united, east, germany, south, china, west, india, end\n",
            "musician: writer, actor, singer, author, king, english, composer, addition, poet, deaths\n",
            "dance: music, rock, third, game, jazz, concept, live, small, country, practice\n",
            "\n",
            "\n"
          ]
        },
        {
          "name": "stderr",
          "output_type": "stream",
          "text": [
            "1498it [00:39, 45.89it/s]"
          ]
        },
        {
          "name": "stdout",
          "output_type": "stream",
          "text": [
            "| epoch  10 |  1500/32580 batches | loss    0.715 \n"
          ]
        },
        {
          "name": "stderr",
          "output_type": "stream",
          "text": [
            "1508it [00:39, 31.13it/s]"
          ]
        },
        {
          "name": "stdout",
          "output_type": "stream",
          "text": [
            "money: battle, able, work, years, role, way, well, concept, fact, time\n",
            "lion: taint, defeated, really, characterized, judgment, gazette, eusebius, imagination, delighted, bodies\n",
            "africa: europe, america, united, east, germany, south, china, west, india, end\n",
            "musician: writer, actor, singer, author, king, english, composer, addition, poet, deaths\n",
            "dance: music, rock, third, game, jazz, concept, live, small, country, practice\n",
            "\n",
            "\n"
          ]
        },
        {
          "name": "stderr",
          "output_type": "stream",
          "text": [
            "1999it [00:51, 45.75it/s]"
          ]
        },
        {
          "name": "stdout",
          "output_type": "stream",
          "text": [
            "| epoch  10 |  2000/32580 batches | loss    0.715 \n"
          ]
        },
        {
          "name": "stderr",
          "output_type": "stream",
          "text": [
            "2009it [00:51, 31.37it/s]"
          ]
        },
        {
          "name": "stdout",
          "output_type": "stream",
          "text": [
            "money: battle, able, work, years, role, way, well, concept, fact, time\n",
            "lion: taint, defeated, really, characterized, judgment, gazette, eusebius, imagination, delighted, bodies\n",
            "africa: europe, america, united, east, germany, south, china, west, india, end\n",
            "musician: writer, actor, singer, author, king, english, composer, addition, poet, deaths\n",
            "dance: music, rock, third, game, jazz, concept, live, small, country, practice\n",
            "\n",
            "\n"
          ]
        },
        {
          "name": "stderr",
          "output_type": "stream",
          "text": [
            "2499it [01:03, 46.20it/s]"
          ]
        },
        {
          "name": "stdout",
          "output_type": "stream",
          "text": [
            "| epoch  10 |  2500/32580 batches | loss    0.712 \n"
          ]
        },
        {
          "name": "stderr",
          "output_type": "stream",
          "text": [
            "2509it [01:03, 31.35it/s]"
          ]
        },
        {
          "name": "stdout",
          "output_type": "stream",
          "text": [
            "money: battle, able, work, years, role, way, well, concept, fact, time\n",
            "lion: taint, defeated, really, characterized, judgment, gazette, eusebius, imagination, delighted, bodies\n",
            "africa: europe, america, united, east, germany, south, china, west, india, end\n",
            "musician: writer, actor, singer, author, king, english, composer, addition, poet, deaths\n",
            "dance: music, rock, third, game, jazz, concept, live, small, country, practice\n",
            "\n",
            "\n"
          ]
        },
        {
          "name": "stderr",
          "output_type": "stream",
          "text": [
            "2998it [01:15, 45.75it/s]"
          ]
        },
        {
          "name": "stdout",
          "output_type": "stream",
          "text": [
            "| epoch  10 |  3000/32580 batches | loss    0.715 \n"
          ]
        },
        {
          "name": "stderr",
          "output_type": "stream",
          "text": [
            "3008it [01:15, 31.29it/s]"
          ]
        },
        {
          "name": "stdout",
          "output_type": "stream",
          "text": [
            "money: battle, able, work, years, role, way, well, concept, fact, time\n",
            "lion: taint, defeated, really, characterized, judgment, gazette, eusebius, imagination, delighted, bodies\n",
            "africa: europe, america, united, east, germany, south, china, west, india, end\n",
            "musician: writer, actor, singer, author, king, english, composer, addition, poet, deaths\n",
            "dance: music, rock, third, game, jazz, concept, live, small, country, practice\n",
            "\n",
            "\n"
          ]
        },
        {
          "name": "stderr",
          "output_type": "stream",
          "text": [
            "3500it [01:27, 45.77it/s]"
          ]
        },
        {
          "name": "stdout",
          "output_type": "stream",
          "text": [
            "| epoch  10 |  3500/32580 batches | loss    0.714 \n"
          ]
        },
        {
          "name": "stderr",
          "output_type": "stream",
          "text": [
            "\r3505it [01:27, 27.11it/s]"
          ]
        },
        {
          "name": "stdout",
          "output_type": "stream",
          "text": [
            "money: battle, able, work, years, role, way, well, concept, fact, time\n",
            "lion: taint, defeated, really, characterized, judgment, gazette, eusebius, imagination, delighted, bodies\n",
            "africa: europe, america, united, east, germany, south, china, west, india, end\n",
            "musician: writer, actor, singer, author, king, english, composer, addition, poet, deaths\n",
            "dance: music, rock, third, game, jazz, concept, live, small, country, practice\n",
            "\n",
            "\n"
          ]
        },
        {
          "name": "stderr",
          "output_type": "stream",
          "text": [
            "3996it [01:38, 44.17it/s]"
          ]
        },
        {
          "name": "stdout",
          "output_type": "stream",
          "text": [
            "| epoch  10 |  4000/32580 batches | loss    0.718 \n"
          ]
        },
        {
          "name": "stderr",
          "output_type": "stream",
          "text": [
            "4005it [01:39, 29.17it/s]"
          ]
        },
        {
          "name": "stdout",
          "output_type": "stream",
          "text": [
            "money: battle, able, work, years, role, way, well, concept, fact, time\n",
            "lion: taint, defeated, really, characterized, judgment, gazette, eusebius, imagination, delighted, bodies\n",
            "africa: europe, america, united, east, germany, south, china, west, india, end\n",
            "musician: writer, actor, singer, author, king, english, composer, addition, poet, deaths\n",
            "dance: music, rock, third, game, jazz, concept, live, small, country, practice\n",
            "\n",
            "\n"
          ]
        },
        {
          "name": "stderr",
          "output_type": "stream",
          "text": [
            "4497it [01:50, 35.70it/s]"
          ]
        },
        {
          "name": "stdout",
          "output_type": "stream",
          "text": [
            "| epoch  10 |  4500/32580 batches | loss    0.717 \n"
          ]
        },
        {
          "name": "stderr",
          "output_type": "stream",
          "text": [
            "4505it [01:51, 26.09it/s]"
          ]
        },
        {
          "name": "stdout",
          "output_type": "stream",
          "text": [
            "money: battle, able, work, years, role, way, well, concept, fact, time\n",
            "lion: taint, defeated, really, characterized, judgment, gazette, eusebius, imagination, delighted, bodies\n",
            "africa: europe, america, united, east, germany, south, china, west, india, end\n",
            "musician: writer, actor, singer, author, king, english, composer, addition, poet, deaths\n",
            "dance: music, rock, third, game, jazz, concept, live, small, country, practice\n",
            "\n",
            "\n"
          ]
        },
        {
          "name": "stderr",
          "output_type": "stream",
          "text": [
            "4999it [02:02, 34.02it/s]"
          ]
        },
        {
          "name": "stdout",
          "output_type": "stream",
          "text": [
            "| epoch  10 |  5000/32580 batches | loss    0.717 \n"
          ]
        },
        {
          "name": "stderr",
          "output_type": "stream",
          "text": [
            "\r5003it [02:02, 18.48it/s]"
          ]
        },
        {
          "name": "stdout",
          "output_type": "stream",
          "text": [
            "money: battle, able, work, years, role, way, well, concept, fact, time\n",
            "lion: taint, defeated, really, characterized, judgment, gazette, eusebius, imagination, delighted, bodies\n",
            "africa: europe, america, united, east, germany, south, china, west, india, end\n",
            "musician: writer, actor, singer, author, king, english, composer, addition, poet, deaths\n",
            "dance: music, rock, third, game, jazz, concept, live, small, country, practice\n",
            "\n",
            "\n"
          ]
        },
        {
          "name": "stderr",
          "output_type": "stream",
          "text": [
            "5496it [02:13, 41.36it/s]"
          ]
        },
        {
          "name": "stdout",
          "output_type": "stream",
          "text": [
            "| epoch  10 |  5500/32580 batches | loss    0.717 \n"
          ]
        },
        {
          "name": "stderr",
          "output_type": "stream",
          "text": [
            "5505it [02:14, 24.27it/s]"
          ]
        },
        {
          "name": "stdout",
          "output_type": "stream",
          "text": [
            "money: battle, able, work, years, role, way, well, concept, fact, time\n",
            "lion: taint, defeated, really, characterized, judgment, gazette, eusebius, imagination, delighted, bodies\n",
            "africa: europe, america, united, east, germany, south, china, west, india, end\n",
            "musician: writer, actor, singer, author, king, english, composer, addition, poet, deaths\n",
            "dance: music, rock, third, game, jazz, concept, live, small, country, practice\n",
            "\n",
            "\n"
          ]
        },
        {
          "name": "stderr",
          "output_type": "stream",
          "text": [
            "5999it [02:25, 46.68it/s]"
          ]
        },
        {
          "name": "stdout",
          "output_type": "stream",
          "text": [
            "| epoch  10 |  6000/32580 batches | loss    0.718 \n"
          ]
        },
        {
          "name": "stderr",
          "output_type": "stream",
          "text": [
            "6009it [02:26, 31.33it/s]"
          ]
        },
        {
          "name": "stdout",
          "output_type": "stream",
          "text": [
            "money: battle, able, work, years, role, way, well, concept, fact, time\n",
            "lion: taint, defeated, really, characterized, judgment, gazette, eusebius, imagination, delighted, bodies\n",
            "africa: europe, america, united, east, germany, south, china, west, india, end\n",
            "musician: writer, actor, singer, author, king, english, composer, addition, poet, deaths\n",
            "dance: music, rock, third, game, jazz, concept, live, small, country, practice\n",
            "\n",
            "\n"
          ]
        },
        {
          "name": "stderr",
          "output_type": "stream",
          "text": [
            "6496it [02:37, 45.59it/s]"
          ]
        },
        {
          "name": "stdout",
          "output_type": "stream",
          "text": [
            "| epoch  10 |  6500/32580 batches | loss    0.716 \n"
          ]
        },
        {
          "name": "stderr",
          "output_type": "stream",
          "text": [
            "6505it [02:38, 30.32it/s]"
          ]
        },
        {
          "name": "stdout",
          "output_type": "stream",
          "text": [
            "money: battle, able, work, years, role, way, well, concept, fact, time\n",
            "lion: taint, defeated, really, characterized, judgment, gazette, eusebius, imagination, delighted, bodies\n",
            "africa: europe, america, united, east, germany, south, china, west, india, end\n",
            "musician: writer, actor, singer, author, king, english, composer, addition, poet, deaths\n",
            "dance: music, rock, third, game, jazz, concept, live, small, country, practice\n",
            "\n",
            "\n"
          ]
        },
        {
          "name": "stderr",
          "output_type": "stream",
          "text": [
            "6998it [02:49, 45.03it/s]"
          ]
        },
        {
          "name": "stdout",
          "output_type": "stream",
          "text": [
            "| epoch  10 |  7000/32580 batches | loss    0.716 \n"
          ]
        },
        {
          "name": "stderr",
          "output_type": "stream",
          "text": [
            "7008it [02:49, 31.11it/s]"
          ]
        },
        {
          "name": "stdout",
          "output_type": "stream",
          "text": [
            "money: battle, able, work, years, role, way, well, concept, fact, time\n",
            "lion: taint, defeated, really, characterized, judgment, gazette, eusebius, imagination, delighted, bodies\n",
            "africa: europe, america, united, east, germany, south, china, west, india, end\n",
            "musician: writer, actor, singer, author, king, english, composer, addition, poet, deaths\n",
            "dance: music, rock, third, game, jazz, concept, live, small, country, practice\n",
            "\n",
            "\n"
          ]
        },
        {
          "name": "stderr",
          "output_type": "stream",
          "text": [
            "7496it [03:01, 44.47it/s]"
          ]
        },
        {
          "name": "stdout",
          "output_type": "stream",
          "text": [
            "| epoch  10 |  7500/32580 batches | loss    0.716 \n"
          ]
        },
        {
          "name": "stderr",
          "output_type": "stream",
          "text": [
            "7505it [03:01, 29.92it/s]"
          ]
        },
        {
          "name": "stdout",
          "output_type": "stream",
          "text": [
            "money: battle, able, work, years, role, way, well, concept, fact, time\n",
            "lion: taint, defeated, really, characterized, judgment, gazette, eusebius, imagination, delighted, bodies\n",
            "africa: europe, america, united, east, germany, south, china, west, india, end\n",
            "musician: writer, actor, singer, author, king, english, composer, addition, poet, deaths\n",
            "dance: music, rock, third, game, jazz, concept, live, small, country, practice\n",
            "\n",
            "\n"
          ]
        },
        {
          "name": "stderr",
          "output_type": "stream",
          "text": [
            "8000it [03:13, 44.55it/s]"
          ]
        },
        {
          "name": "stdout",
          "output_type": "stream",
          "text": [
            "| epoch  10 |  8000/32580 batches | loss    0.716 \n"
          ]
        },
        {
          "name": "stderr",
          "output_type": "stream",
          "text": [
            "\r8005it [03:13, 26.39it/s]"
          ]
        },
        {
          "name": "stdout",
          "output_type": "stream",
          "text": [
            "money: battle, able, work, years, role, way, well, concept, fact, time\n",
            "lion: taint, defeated, really, characterized, judgment, gazette, eusebius, imagination, delighted, bodies\n",
            "africa: europe, america, united, east, germany, south, china, west, india, end\n",
            "musician: writer, actor, singer, author, king, english, composer, addition, poet, deaths\n",
            "dance: music, rock, third, game, jazz, concept, live, small, country, practice\n",
            "\n",
            "\n"
          ]
        },
        {
          "name": "stderr",
          "output_type": "stream",
          "text": [
            "8497it [03:25, 45.63it/s]"
          ]
        },
        {
          "name": "stdout",
          "output_type": "stream",
          "text": [
            "| epoch  10 |  8500/32580 batches | loss    0.716 \n"
          ]
        },
        {
          "name": "stderr",
          "output_type": "stream",
          "text": [
            "8506it [03:26, 30.29it/s]"
          ]
        },
        {
          "name": "stdout",
          "output_type": "stream",
          "text": [
            "money: battle, able, work, years, role, way, well, concept, fact, time\n",
            "lion: taint, defeated, really, characterized, judgment, gazette, eusebius, imagination, delighted, bodies\n",
            "africa: europe, america, united, east, germany, south, china, west, india, end\n",
            "musician: writer, actor, singer, author, king, english, composer, addition, poet, deaths\n",
            "dance: music, rock, third, game, jazz, concept, live, small, country, practice\n",
            "\n",
            "\n"
          ]
        },
        {
          "name": "stderr",
          "output_type": "stream",
          "text": [
            "8997it [03:37, 46.20it/s]"
          ]
        },
        {
          "name": "stdout",
          "output_type": "stream",
          "text": [
            "| epoch  10 |  9000/32580 batches | loss    0.717 \n"
          ]
        },
        {
          "name": "stderr",
          "output_type": "stream",
          "text": [
            "9006it [03:38, 29.19it/s]"
          ]
        },
        {
          "name": "stdout",
          "output_type": "stream",
          "text": [
            "money: battle, able, work, years, role, way, well, concept, fact, time\n",
            "lion: taint, defeated, really, characterized, judgment, gazette, eusebius, imagination, delighted, bodies\n",
            "africa: europe, america, united, east, germany, south, china, west, india, end\n",
            "musician: writer, actor, singer, author, king, english, composer, addition, poet, deaths\n",
            "dance: music, rock, third, game, jazz, concept, live, small, country, practice\n",
            "\n",
            "\n"
          ]
        },
        {
          "name": "stderr",
          "output_type": "stream",
          "text": [
            "9497it [03:49, 46.17it/s]"
          ]
        },
        {
          "name": "stdout",
          "output_type": "stream",
          "text": [
            "| epoch  10 |  9500/32580 batches | loss    0.715 \n"
          ]
        },
        {
          "name": "stderr",
          "output_type": "stream",
          "text": [
            "9507it [03:50, 30.83it/s]"
          ]
        },
        {
          "name": "stdout",
          "output_type": "stream",
          "text": [
            "money: battle, able, work, years, role, way, well, concept, fact, time\n",
            "lion: taint, defeated, really, characterized, judgment, gazette, eusebius, imagination, delighted, bodies\n",
            "africa: europe, america, united, east, germany, south, china, west, india, end\n",
            "musician: writer, actor, singer, author, king, english, composer, addition, poet, deaths\n",
            "dance: music, rock, third, game, jazz, concept, live, small, country, practice\n",
            "\n",
            "\n"
          ]
        },
        {
          "name": "stderr",
          "output_type": "stream",
          "text": [
            "9996it [04:01, 38.21it/s]"
          ]
        },
        {
          "name": "stdout",
          "output_type": "stream",
          "text": [
            "| epoch  10 | 10000/32580 batches | loss    0.716 \n"
          ]
        },
        {
          "name": "stderr",
          "output_type": "stream",
          "text": [
            "10005it [04:02, 27.62it/s]"
          ]
        },
        {
          "name": "stdout",
          "output_type": "stream",
          "text": [
            "money: battle, able, work, years, role, way, well, concept, fact, time\n",
            "lion: taint, defeated, really, characterized, judgment, gazette, eusebius, imagination, delighted, bodies\n",
            "africa: europe, america, united, east, germany, south, china, west, india, end\n",
            "musician: writer, actor, singer, author, king, english, composer, addition, poet, deaths\n",
            "dance: music, rock, third, game, jazz, concept, live, small, country, practice\n",
            "\n",
            "\n"
          ]
        },
        {
          "name": "stderr",
          "output_type": "stream",
          "text": [
            "10498it [04:13, 34.47it/s]"
          ]
        },
        {
          "name": "stdout",
          "output_type": "stream",
          "text": [
            "| epoch  10 | 10500/32580 batches | loss    0.717 \n"
          ]
        },
        {
          "name": "stderr",
          "output_type": "stream",
          "text": [
            "10506it [04:13, 21.80it/s]"
          ]
        },
        {
          "name": "stdout",
          "output_type": "stream",
          "text": [
            "money: battle, able, work, years, role, way, well, concept, fact, time\n",
            "lion: taint, defeated, really, characterized, judgment, gazette, eusebius, imagination, delighted, bodies\n",
            "africa: europe, america, united, east, germany, south, china, west, india, end\n",
            "musician: writer, actor, singer, author, king, english, composer, addition, poet, deaths\n",
            "dance: music, rock, third, game, jazz, concept, live, small, country, practice\n",
            "\n",
            "\n"
          ]
        },
        {
          "name": "stderr",
          "output_type": "stream",
          "text": [
            "11000it [04:24, 40.13it/s]"
          ]
        },
        {
          "name": "stdout",
          "output_type": "stream",
          "text": [
            "| epoch  10 | 11000/32580 batches | loss    0.715 \n"
          ]
        },
        {
          "name": "stderr",
          "output_type": "stream",
          "text": [
            "\r11005it [04:25, 23.01it/s]"
          ]
        },
        {
          "name": "stdout",
          "output_type": "stream",
          "text": [
            "money: battle, able, work, years, role, way, well, concept, fact, time\n",
            "lion: taint, defeated, really, characterized, judgment, gazette, eusebius, imagination, delighted, bodies\n",
            "africa: europe, america, united, east, germany, south, china, west, india, end\n",
            "musician: writer, actor, singer, author, king, english, composer, addition, poet, deaths\n",
            "dance: music, rock, third, game, jazz, concept, live, small, country, practice\n",
            "\n",
            "\n"
          ]
        },
        {
          "name": "stderr",
          "output_type": "stream",
          "text": [
            "11498it [04:36, 46.64it/s]"
          ]
        },
        {
          "name": "stdout",
          "output_type": "stream",
          "text": [
            "| epoch  10 | 11500/32580 batches | loss    0.717 \n"
          ]
        },
        {
          "name": "stderr",
          "output_type": "stream",
          "text": [
            "11508it [04:37, 30.52it/s]"
          ]
        },
        {
          "name": "stdout",
          "output_type": "stream",
          "text": [
            "money: battle, able, work, years, role, way, well, concept, fact, time\n",
            "lion: taint, defeated, really, characterized, judgment, gazette, eusebius, imagination, delighted, bodies\n",
            "africa: europe, america, united, east, germany, south, china, west, india, end\n",
            "musician: writer, actor, singer, author, king, english, composer, addition, poet, deaths\n",
            "dance: music, rock, third, game, jazz, concept, live, small, country, practice\n",
            "\n",
            "\n"
          ]
        },
        {
          "name": "stderr",
          "output_type": "stream",
          "text": [
            "11998it [04:48, 46.30it/s]"
          ]
        },
        {
          "name": "stdout",
          "output_type": "stream",
          "text": [
            "| epoch  10 | 12000/32580 batches | loss    0.717 \n"
          ]
        },
        {
          "name": "stderr",
          "output_type": "stream",
          "text": [
            "12008it [04:48, 31.08it/s]"
          ]
        },
        {
          "name": "stdout",
          "output_type": "stream",
          "text": [
            "money: battle, able, work, years, role, way, well, concept, fact, time\n",
            "lion: taint, defeated, really, characterized, judgment, gazette, eusebius, imagination, delighted, bodies\n",
            "africa: europe, america, united, east, germany, south, china, west, india, end\n",
            "musician: writer, actor, singer, author, king, english, composer, addition, poet, deaths\n",
            "dance: music, rock, third, game, jazz, concept, live, small, country, practice\n",
            "\n",
            "\n"
          ]
        },
        {
          "name": "stderr",
          "output_type": "stream",
          "text": [
            "12499it [05:00, 45.27it/s]"
          ]
        },
        {
          "name": "stdout",
          "output_type": "stream",
          "text": [
            "| epoch  10 | 12500/32580 batches | loss    0.717 \n"
          ]
        },
        {
          "name": "stderr",
          "output_type": "stream",
          "text": [
            "12509it [05:00, 30.71it/s]"
          ]
        },
        {
          "name": "stdout",
          "output_type": "stream",
          "text": [
            "money: battle, able, work, years, role, way, well, concept, fact, time\n",
            "lion: taint, defeated, really, characterized, judgment, gazette, eusebius, imagination, delighted, bodies\n",
            "africa: europe, america, united, east, germany, south, china, west, india, end\n",
            "musician: writer, actor, singer, author, king, english, composer, addition, poet, deaths\n",
            "dance: music, rock, third, game, jazz, concept, live, small, country, practice\n",
            "\n",
            "\n"
          ]
        },
        {
          "name": "stderr",
          "output_type": "stream",
          "text": [
            "12997it [05:12, 45.78it/s]"
          ]
        },
        {
          "name": "stdout",
          "output_type": "stream",
          "text": [
            "| epoch  10 | 13000/32580 batches | loss    0.718 \n"
          ]
        },
        {
          "name": "stderr",
          "output_type": "stream",
          "text": [
            "13007it [05:12, 31.24it/s]"
          ]
        },
        {
          "name": "stdout",
          "output_type": "stream",
          "text": [
            "money: battle, able, work, years, role, way, well, concept, fact, time\n",
            "lion: taint, defeated, really, characterized, judgment, gazette, eusebius, imagination, delighted, bodies\n",
            "africa: europe, america, united, east, germany, south, china, west, india, end\n",
            "musician: writer, actor, singer, author, king, english, composer, addition, poet, deaths\n",
            "dance: music, rock, third, game, jazz, concept, live, small, country, practice\n",
            "\n",
            "\n"
          ]
        },
        {
          "name": "stderr",
          "output_type": "stream",
          "text": [
            "13496it [05:26, 44.88it/s]"
          ]
        },
        {
          "name": "stdout",
          "output_type": "stream",
          "text": [
            "| epoch  10 | 13500/32580 batches | loss    0.714 \n"
          ]
        },
        {
          "name": "stderr",
          "output_type": "stream",
          "text": [
            "13506it [05:27, 30.35it/s]"
          ]
        },
        {
          "name": "stdout",
          "output_type": "stream",
          "text": [
            "money: battle, able, work, years, role, way, well, concept, fact, time\n",
            "lion: taint, defeated, really, characterized, judgment, gazette, eusebius, imagination, delighted, bodies\n",
            "africa: europe, america, united, east, germany, south, china, west, india, end\n",
            "musician: writer, actor, singer, author, king, english, composer, addition, poet, deaths\n",
            "dance: music, rock, third, game, jazz, concept, live, small, country, practice\n",
            "\n",
            "\n"
          ]
        },
        {
          "name": "stderr",
          "output_type": "stream",
          "text": [
            "13998it [05:38, 46.50it/s]"
          ]
        },
        {
          "name": "stdout",
          "output_type": "stream",
          "text": [
            "| epoch  10 | 14000/32580 batches | loss    0.718 \n"
          ]
        },
        {
          "name": "stderr",
          "output_type": "stream",
          "text": [
            "14008it [05:39, 30.72it/s]"
          ]
        },
        {
          "name": "stdout",
          "output_type": "stream",
          "text": [
            "money: battle, able, work, years, role, way, well, concept, fact, time\n",
            "lion: taint, defeated, really, characterized, judgment, gazette, eusebius, imagination, delighted, bodies\n",
            "africa: europe, america, united, east, germany, south, china, west, india, end\n",
            "musician: writer, actor, singer, author, king, english, composer, addition, poet, deaths\n",
            "dance: music, rock, third, game, jazz, concept, live, small, country, practice\n",
            "\n",
            "\n"
          ]
        },
        {
          "name": "stderr",
          "output_type": "stream",
          "text": [
            "14498it [05:50, 45.97it/s]"
          ]
        },
        {
          "name": "stdout",
          "output_type": "stream",
          "text": [
            "| epoch  10 | 14500/32580 batches | loss    0.717 \n"
          ]
        },
        {
          "name": "stderr",
          "output_type": "stream",
          "text": [
            "14508it [05:51, 30.80it/s]"
          ]
        },
        {
          "name": "stdout",
          "output_type": "stream",
          "text": [
            "money: battle, able, work, years, role, way, well, concept, fact, time\n",
            "lion: taint, defeated, really, characterized, judgment, gazette, eusebius, imagination, delighted, bodies\n",
            "africa: europe, america, united, east, germany, south, china, west, india, end\n",
            "musician: writer, actor, singer, author, king, english, composer, addition, poet, deaths\n",
            "dance: music, rock, third, game, jazz, concept, live, small, country, practice\n",
            "\n",
            "\n"
          ]
        },
        {
          "name": "stderr",
          "output_type": "stream",
          "text": [
            "14999it [06:02, 45.34it/s]"
          ]
        },
        {
          "name": "stdout",
          "output_type": "stream",
          "text": [
            "| epoch  10 | 15000/32580 batches | loss    0.719 \n"
          ]
        },
        {
          "name": "stderr",
          "output_type": "stream",
          "text": [
            "15009it [06:03, 30.61it/s]"
          ]
        },
        {
          "name": "stdout",
          "output_type": "stream",
          "text": [
            "money: battle, able, work, years, role, way, well, concept, fact, time\n",
            "lion: taint, defeated, really, characterized, judgment, gazette, eusebius, imagination, delighted, bodies\n",
            "africa: europe, america, united, east, germany, south, china, west, india, end\n",
            "musician: writer, actor, singer, author, king, english, composer, addition, poet, deaths\n",
            "dance: music, rock, third, game, jazz, concept, live, small, country, practice\n",
            "\n",
            "\n"
          ]
        },
        {
          "name": "stderr",
          "output_type": "stream",
          "text": [
            "15497it [06:14, 43.96it/s]"
          ]
        },
        {
          "name": "stdout",
          "output_type": "stream",
          "text": [
            "| epoch  10 | 15500/32580 batches | loss    0.719 \n"
          ]
        },
        {
          "name": "stderr",
          "output_type": "stream",
          "text": [
            "15506it [06:15, 29.44it/s]"
          ]
        },
        {
          "name": "stdout",
          "output_type": "stream",
          "text": [
            "money: battle, able, work, years, role, way, well, concept, fact, time\n",
            "lion: taint, defeated, really, characterized, judgment, gazette, eusebius, imagination, delighted, bodies\n",
            "africa: europe, america, united, east, germany, south, china, west, india, end\n",
            "musician: writer, actor, singer, author, king, english, composer, addition, poet, deaths\n",
            "dance: music, rock, third, game, jazz, concept, live, small, country, practice\n",
            "\n",
            "\n"
          ]
        },
        {
          "name": "stderr",
          "output_type": "stream",
          "text": [
            "16000it [06:26, 39.39it/s]"
          ]
        },
        {
          "name": "stdout",
          "output_type": "stream",
          "text": [
            "| epoch  10 | 16000/32580 batches | loss    0.717 \n"
          ]
        },
        {
          "name": "stderr",
          "output_type": "stream",
          "text": [
            "16009it [06:27, 27.61it/s]"
          ]
        },
        {
          "name": "stdout",
          "output_type": "stream",
          "text": [
            "money: battle, able, work, years, role, way, well, concept, fact, time\n",
            "lion: taint, defeated, really, characterized, judgment, gazette, eusebius, imagination, delighted, bodies\n",
            "africa: europe, america, united, east, germany, south, china, west, india, end\n",
            "musician: writer, actor, singer, author, king, english, composer, addition, poet, deaths\n",
            "dance: music, rock, third, game, jazz, concept, live, small, country, practice\n",
            "\n",
            "\n"
          ]
        },
        {
          "name": "stderr",
          "output_type": "stream",
          "text": [
            "16498it [06:38, 35.27it/s]"
          ]
        },
        {
          "name": "stdout",
          "output_type": "stream",
          "text": [
            "| epoch  10 | 16500/32580 batches | loss    0.715 \n"
          ]
        },
        {
          "name": "stderr",
          "output_type": "stream",
          "text": [
            "16506it [06:38, 21.90it/s]"
          ]
        },
        {
          "name": "stdout",
          "output_type": "stream",
          "text": [
            "money: battle, able, work, years, role, way, well, concept, fact, time\n",
            "lion: taint, defeated, really, characterized, judgment, gazette, eusebius, imagination, delighted, bodies\n",
            "africa: europe, america, united, east, germany, south, china, west, india, end\n",
            "musician: writer, actor, singer, author, king, english, composer, addition, poet, deaths\n",
            "dance: music, rock, third, game, jazz, concept, live, small, country, practice\n",
            "\n",
            "\n"
          ]
        },
        {
          "name": "stderr",
          "output_type": "stream",
          "text": [
            "16996it [06:49, 43.46it/s]"
          ]
        },
        {
          "name": "stdout",
          "output_type": "stream",
          "text": [
            "| epoch  10 | 17000/32580 batches | loss    0.716 \n"
          ]
        },
        {
          "name": "stderr",
          "output_type": "stream",
          "text": [
            "17005it [06:50, 26.03it/s]"
          ]
        },
        {
          "name": "stdout",
          "output_type": "stream",
          "text": [
            "money: battle, able, work, years, role, way, well, concept, fact, time\n",
            "lion: taint, defeated, really, characterized, judgment, gazette, eusebius, imagination, delighted, bodies\n",
            "africa: europe, america, united, east, germany, south, china, west, india, end\n",
            "musician: writer, actor, singer, author, king, english, composer, addition, poet, deaths\n",
            "dance: music, rock, third, game, jazz, concept, live, small, country, practice\n",
            "\n",
            "\n"
          ]
        },
        {
          "name": "stderr",
          "output_type": "stream",
          "text": [
            "17498it [07:01, 45.81it/s]"
          ]
        },
        {
          "name": "stdout",
          "output_type": "stream",
          "text": [
            "| epoch  10 | 17500/32580 batches | loss    0.718 \n"
          ]
        },
        {
          "name": "stderr",
          "output_type": "stream",
          "text": [
            "17508it [07:02, 30.91it/s]"
          ]
        },
        {
          "name": "stdout",
          "output_type": "stream",
          "text": [
            "money: battle, able, work, years, role, way, well, concept, fact, time\n",
            "lion: taint, defeated, really, characterized, judgment, gazette, eusebius, imagination, delighted, bodies\n",
            "africa: europe, america, united, east, germany, south, china, west, india, end\n",
            "musician: writer, actor, singer, author, king, english, composer, addition, poet, deaths\n",
            "dance: music, rock, third, game, jazz, concept, live, small, country, practice\n",
            "\n",
            "\n"
          ]
        },
        {
          "name": "stderr",
          "output_type": "stream",
          "text": [
            "17999it [07:13, 45.65it/s]"
          ]
        },
        {
          "name": "stdout",
          "output_type": "stream",
          "text": [
            "| epoch  10 | 18000/32580 batches | loss    0.718 \n"
          ]
        },
        {
          "name": "stderr",
          "output_type": "stream",
          "text": [
            "18009it [07:14, 30.98it/s]"
          ]
        },
        {
          "name": "stdout",
          "output_type": "stream",
          "text": [
            "money: battle, able, work, years, role, way, well, concept, fact, time\n",
            "lion: taint, defeated, really, characterized, judgment, gazette, eusebius, imagination, delighted, bodies\n",
            "africa: europe, america, united, east, germany, south, china, west, india, end\n",
            "musician: writer, actor, singer, author, king, english, composer, addition, poet, deaths\n",
            "dance: music, rock, third, game, jazz, concept, live, small, country, practice\n",
            "\n",
            "\n"
          ]
        },
        {
          "name": "stderr",
          "output_type": "stream",
          "text": [
            "18498it [07:25, 45.64it/s]"
          ]
        },
        {
          "name": "stdout",
          "output_type": "stream",
          "text": [
            "| epoch  10 | 18500/32580 batches | loss    0.716 \n"
          ]
        },
        {
          "name": "stderr",
          "output_type": "stream",
          "text": [
            "18508it [07:26, 30.67it/s]"
          ]
        },
        {
          "name": "stdout",
          "output_type": "stream",
          "text": [
            "money: battle, able, work, years, role, way, well, concept, fact, time\n",
            "lion: taint, defeated, really, characterized, judgment, gazette, eusebius, imagination, delighted, bodies\n",
            "africa: europe, america, united, east, germany, south, china, west, india, end\n",
            "musician: writer, actor, singer, author, king, english, composer, addition, poet, deaths\n",
            "dance: music, rock, third, game, jazz, concept, live, small, country, practice\n",
            "\n",
            "\n"
          ]
        },
        {
          "name": "stderr",
          "output_type": "stream",
          "text": [
            "19000it [07:37, 46.11it/s]"
          ]
        },
        {
          "name": "stdout",
          "output_type": "stream",
          "text": [
            "| epoch  10 | 19000/32580 batches | loss    0.716 \n"
          ]
        },
        {
          "name": "stderr",
          "output_type": "stream",
          "text": [
            "\r19005it [07:37, 26.58it/s]"
          ]
        },
        {
          "name": "stdout",
          "output_type": "stream",
          "text": [
            "money: battle, able, work, years, role, way, well, concept, fact, time\n",
            "lion: taint, defeated, really, characterized, judgment, gazette, eusebius, imagination, delighted, bodies\n",
            "africa: europe, america, united, east, germany, south, china, west, india, end\n",
            "musician: writer, actor, singer, author, king, english, composer, addition, poet, deaths\n",
            "dance: music, rock, third, game, jazz, concept, live, small, country, practice\n",
            "\n",
            "\n"
          ]
        },
        {
          "name": "stderr",
          "output_type": "stream",
          "text": [
            "19498it [07:50, 44.18it/s]"
          ]
        },
        {
          "name": "stdout",
          "output_type": "stream",
          "text": [
            "| epoch  10 | 19500/32580 batches | loss    0.718 \n"
          ]
        },
        {
          "name": "stderr",
          "output_type": "stream",
          "text": [
            "19508it [07:50, 30.88it/s]"
          ]
        },
        {
          "name": "stdout",
          "output_type": "stream",
          "text": [
            "money: battle, able, work, years, role, way, well, concept, fact, time\n",
            "lion: taint, defeated, really, characterized, judgment, gazette, eusebius, imagination, delighted, bodies\n",
            "africa: europe, america, united, east, germany, south, china, west, india, end\n",
            "musician: writer, actor, singer, author, king, english, composer, addition, poet, deaths\n",
            "dance: music, rock, third, game, jazz, concept, live, small, country, practice\n",
            "\n",
            "\n"
          ]
        },
        {
          "name": "stderr",
          "output_type": "stream",
          "text": [
            "19998it [08:02, 45.46it/s]"
          ]
        },
        {
          "name": "stdout",
          "output_type": "stream",
          "text": [
            "| epoch  10 | 20000/32580 batches | loss    0.716 \n"
          ]
        },
        {
          "name": "stderr",
          "output_type": "stream",
          "text": [
            "20008it [08:02, 31.39it/s]"
          ]
        },
        {
          "name": "stdout",
          "output_type": "stream",
          "text": [
            "money: battle, able, work, years, role, way, well, concept, fact, time\n",
            "lion: taint, defeated, really, characterized, judgment, gazette, eusebius, imagination, delighted, bodies\n",
            "africa: europe, america, united, east, germany, south, china, west, india, end\n",
            "musician: writer, actor, singer, author, king, english, composer, addition, poet, deaths\n",
            "dance: music, rock, third, game, jazz, concept, live, small, country, practice\n",
            "\n",
            "\n"
          ]
        },
        {
          "name": "stderr",
          "output_type": "stream",
          "text": [
            "20496it [08:13, 46.61it/s]"
          ]
        },
        {
          "name": "stdout",
          "output_type": "stream",
          "text": [
            "| epoch  10 | 20500/32580 batches | loss    0.714 \n"
          ]
        },
        {
          "name": "stderr",
          "output_type": "stream",
          "text": [
            "20505it [08:14, 29.82it/s]"
          ]
        },
        {
          "name": "stdout",
          "output_type": "stream",
          "text": [
            "money: battle, able, work, years, role, way, well, concept, fact, time\n",
            "lion: taint, defeated, really, characterized, judgment, gazette, eusebius, imagination, delighted, bodies\n",
            "africa: europe, america, united, east, germany, south, china, west, india, end\n",
            "musician: writer, actor, singer, author, king, english, composer, addition, poet, deaths\n",
            "dance: music, rock, third, game, jazz, concept, live, small, country, practice\n",
            "\n",
            "\n"
          ]
        },
        {
          "name": "stderr",
          "output_type": "stream",
          "text": [
            "20998it [08:25, 47.04it/s]"
          ]
        },
        {
          "name": "stdout",
          "output_type": "stream",
          "text": [
            "| epoch  10 | 21000/32580 batches | loss    0.716 \n"
          ]
        },
        {
          "name": "stderr",
          "output_type": "stream",
          "text": [
            "21008it [08:26, 30.84it/s]"
          ]
        },
        {
          "name": "stdout",
          "output_type": "stream",
          "text": [
            "money: battle, able, work, years, role, way, well, concept, fact, time\n",
            "lion: taint, defeated, really, characterized, judgment, gazette, eusebius, imagination, delighted, bodies\n",
            "africa: europe, america, united, east, germany, south, china, west, india, end\n",
            "musician: writer, actor, singer, author, king, english, composer, addition, poet, deaths\n",
            "dance: music, rock, third, game, jazz, concept, live, small, country, practice\n",
            "\n",
            "\n"
          ]
        },
        {
          "name": "stderr",
          "output_type": "stream",
          "text": [
            "21500it [08:37, 34.21it/s]"
          ]
        },
        {
          "name": "stdout",
          "output_type": "stream",
          "text": [
            "| epoch  10 | 21500/32580 batches | loss    0.718 \n"
          ]
        },
        {
          "name": "stderr",
          "output_type": "stream",
          "text": [
            "21509it [08:38, 26.64it/s]"
          ]
        },
        {
          "name": "stdout",
          "output_type": "stream",
          "text": [
            "money: battle, able, work, years, role, way, well, concept, fact, time\n",
            "lion: taint, defeated, really, characterized, judgment, gazette, eusebius, imagination, delighted, bodies\n",
            "africa: europe, america, united, east, germany, south, china, west, india, end\n",
            "musician: writer, actor, singer, author, king, english, composer, addition, poet, deaths\n",
            "dance: music, rock, third, game, jazz, concept, live, small, country, practice\n",
            "\n",
            "\n"
          ]
        },
        {
          "name": "stderr",
          "output_type": "stream",
          "text": [
            "21997it [08:48, 34.87it/s]"
          ]
        },
        {
          "name": "stdout",
          "output_type": "stream",
          "text": [
            "| epoch  10 | 22000/32580 batches | loss    0.715 \n"
          ]
        },
        {
          "name": "stderr",
          "output_type": "stream",
          "text": [
            "22004it [08:49, 20.99it/s]"
          ]
        },
        {
          "name": "stdout",
          "output_type": "stream",
          "text": [
            "money: battle, able, work, years, role, way, well, concept, fact, time\n",
            "lion: taint, defeated, really, characterized, judgment, gazette, eusebius, imagination, delighted, bodies\n",
            "africa: europe, america, united, east, germany, south, china, west, india, end\n",
            "musician: writer, actor, singer, author, king, english, composer, addition, poet, deaths\n",
            "dance: music, rock, third, game, jazz, concept, live, small, country, practice\n",
            "\n",
            "\n"
          ]
        },
        {
          "name": "stderr",
          "output_type": "stream",
          "text": [
            "22499it [09:00, 46.47it/s]"
          ]
        },
        {
          "name": "stdout",
          "output_type": "stream",
          "text": [
            "| epoch  10 | 22500/32580 batches | loss    0.717 \n"
          ]
        },
        {
          "name": "stderr",
          "output_type": "stream",
          "text": [
            "\r22504it [09:01, 23.80it/s]"
          ]
        },
        {
          "name": "stdout",
          "output_type": "stream",
          "text": [
            "money: battle, able, work, years, role, way, well, concept, fact, time\n",
            "lion: taint, defeated, really, characterized, judgment, gazette, eusebius, imagination, delighted, bodies\n",
            "africa: europe, america, united, east, germany, south, china, west, india, end\n",
            "musician: writer, actor, singer, author, king, english, composer, addition, poet, deaths\n",
            "dance: music, rock, third, game, jazz, concept, live, small, country, practice\n",
            "\n",
            "\n"
          ]
        },
        {
          "name": "stderr",
          "output_type": "stream",
          "text": [
            "22998it [09:12, 46.01it/s]"
          ]
        },
        {
          "name": "stdout",
          "output_type": "stream",
          "text": [
            "| epoch  10 | 23000/32580 batches | loss    0.717 \n"
          ]
        },
        {
          "name": "stderr",
          "output_type": "stream",
          "text": [
            "23008it [09:12, 31.15it/s]"
          ]
        },
        {
          "name": "stdout",
          "output_type": "stream",
          "text": [
            "money: battle, able, work, years, role, way, well, concept, fact, time\n",
            "lion: taint, defeated, really, characterized, judgment, gazette, eusebius, imagination, delighted, bodies\n",
            "africa: europe, america, united, east, germany, south, china, west, india, end\n",
            "musician: writer, actor, singer, author, king, english, composer, addition, poet, deaths\n",
            "dance: music, rock, third, game, jazz, concept, live, small, country, practice\n",
            "\n",
            "\n"
          ]
        },
        {
          "name": "stderr",
          "output_type": "stream",
          "text": [
            "23500it [09:24, 46.67it/s]"
          ]
        },
        {
          "name": "stdout",
          "output_type": "stream",
          "text": [
            "| epoch  10 | 23500/32580 batches | loss    0.717 \n"
          ]
        },
        {
          "name": "stderr",
          "output_type": "stream",
          "text": [
            "\r23505it [09:24, 26.75it/s]"
          ]
        },
        {
          "name": "stdout",
          "output_type": "stream",
          "text": [
            "money: battle, able, work, years, role, way, well, concept, fact, time\n",
            "lion: taint, defeated, really, characterized, judgment, gazette, eusebius, imagination, delighted, bodies\n",
            "africa: europe, america, united, east, germany, south, china, west, india, end\n",
            "musician: writer, actor, singer, author, king, english, composer, addition, poet, deaths\n",
            "dance: music, rock, third, game, jazz, concept, live, small, country, practice\n",
            "\n",
            "\n"
          ]
        },
        {
          "name": "stderr",
          "output_type": "stream",
          "text": [
            "23997it [09:36, 46.34it/s]"
          ]
        },
        {
          "name": "stdout",
          "output_type": "stream",
          "text": [
            "| epoch  10 | 24000/32580 batches | loss    0.718 \n"
          ]
        },
        {
          "name": "stderr",
          "output_type": "stream",
          "text": [
            "24007it [09:36, 31.35it/s]"
          ]
        },
        {
          "name": "stdout",
          "output_type": "stream",
          "text": [
            "money: battle, able, work, years, role, way, well, concept, fact, time\n",
            "lion: taint, defeated, really, characterized, judgment, gazette, eusebius, imagination, delighted, bodies\n",
            "africa: europe, america, united, east, germany, south, china, west, india, end\n",
            "musician: writer, actor, singer, author, king, english, composer, addition, poet, deaths\n",
            "dance: music, rock, third, game, jazz, concept, live, small, country, practice\n",
            "\n",
            "\n"
          ]
        },
        {
          "name": "stderr",
          "output_type": "stream",
          "text": [
            "24499it [09:48, 46.14it/s]"
          ]
        },
        {
          "name": "stdout",
          "output_type": "stream",
          "text": [
            "| epoch  10 | 24500/32580 batches | loss    0.715 \n"
          ]
        },
        {
          "name": "stderr",
          "output_type": "stream",
          "text": [
            "24509it [09:48, 31.00it/s]"
          ]
        },
        {
          "name": "stdout",
          "output_type": "stream",
          "text": [
            "money: battle, able, work, years, role, way, well, concept, fact, time\n",
            "lion: taint, defeated, really, characterized, judgment, gazette, eusebius, imagination, delighted, bodies\n",
            "africa: europe, america, united, east, germany, south, china, west, india, end\n",
            "musician: writer, actor, singer, author, king, english, composer, addition, poet, deaths\n",
            "dance: music, rock, third, game, jazz, concept, live, small, country, practice\n",
            "\n",
            "\n"
          ]
        },
        {
          "name": "stderr",
          "output_type": "stream",
          "text": [
            "24999it [09:59, 45.44it/s]"
          ]
        },
        {
          "name": "stdout",
          "output_type": "stream",
          "text": [
            "| epoch  10 | 25000/32580 batches | loss    0.717 \n"
          ]
        },
        {
          "name": "stderr",
          "output_type": "stream",
          "text": [
            "25009it [10:00, 31.41it/s]"
          ]
        },
        {
          "name": "stdout",
          "output_type": "stream",
          "text": [
            "money: battle, able, work, years, role, way, well, concept, fact, time\n",
            "lion: taint, defeated, really, characterized, judgment, gazette, eusebius, imagination, delighted, bodies\n",
            "africa: europe, america, united, east, germany, south, china, west, india, end\n",
            "musician: writer, actor, singer, author, king, english, composer, addition, poet, deaths\n",
            "dance: music, rock, third, game, jazz, concept, live, small, country, practice\n",
            "\n",
            "\n"
          ]
        },
        {
          "name": "stderr",
          "output_type": "stream",
          "text": [
            "25496it [10:11, 45.75it/s]"
          ]
        },
        {
          "name": "stdout",
          "output_type": "stream",
          "text": [
            "| epoch  10 | 25500/32580 batches | loss    0.715 \n"
          ]
        },
        {
          "name": "stderr",
          "output_type": "stream",
          "text": [
            "25505it [10:12, 30.18it/s]"
          ]
        },
        {
          "name": "stdout",
          "output_type": "stream",
          "text": [
            "money: battle, able, work, years, role, way, well, concept, fact, time\n",
            "lion: taint, defeated, really, characterized, judgment, gazette, eusebius, imagination, delighted, bodies\n",
            "africa: europe, america, united, east, germany, south, china, west, india, end\n",
            "musician: writer, actor, singer, author, king, english, composer, addition, poet, deaths\n",
            "dance: music, rock, third, game, jazz, concept, live, small, country, practice\n",
            "\n",
            "\n"
          ]
        },
        {
          "name": "stderr",
          "output_type": "stream",
          "text": [
            "25998it [10:23, 46.53it/s]"
          ]
        },
        {
          "name": "stdout",
          "output_type": "stream",
          "text": [
            "| epoch  10 | 26000/32580 batches | loss    0.717 \n"
          ]
        },
        {
          "name": "stderr",
          "output_type": "stream",
          "text": [
            "26007it [10:24, 29.91it/s]"
          ]
        },
        {
          "name": "stdout",
          "output_type": "stream",
          "text": [
            "money: battle, able, work, years, role, way, well, concept, fact, time\n",
            "lion: taint, defeated, really, characterized, judgment, gazette, eusebius, imagination, delighted, bodies\n",
            "africa: europe, america, united, east, germany, south, china, west, india, end\n",
            "musician: writer, actor, singer, author, king, english, composer, addition, poet, deaths\n",
            "dance: music, rock, third, game, jazz, concept, live, small, country, practice\n",
            "\n",
            "\n"
          ]
        },
        {
          "name": "stderr",
          "output_type": "stream",
          "text": [
            "26498it [10:35, 34.81it/s]"
          ]
        },
        {
          "name": "stdout",
          "output_type": "stream",
          "text": [
            "| epoch  10 | 26500/32580 batches | loss    0.717 \n"
          ]
        },
        {
          "name": "stderr",
          "output_type": "stream",
          "text": [
            "26506it [10:35, 24.78it/s]"
          ]
        },
        {
          "name": "stdout",
          "output_type": "stream",
          "text": [
            "money: battle, able, work, years, role, way, well, concept, fact, time\n",
            "lion: taint, defeated, really, characterized, judgment, gazette, eusebius, imagination, delighted, bodies\n",
            "africa: europe, america, united, east, germany, south, china, west, india, end\n",
            "musician: writer, actor, singer, author, king, english, composer, addition, poet, deaths\n",
            "dance: music, rock, third, game, jazz, concept, live, small, country, practice\n",
            "\n",
            "\n"
          ]
        },
        {
          "name": "stderr",
          "output_type": "stream",
          "text": [
            "26999it [10:46, 34.17it/s]"
          ]
        },
        {
          "name": "stdout",
          "output_type": "stream",
          "text": [
            "| epoch  10 | 27000/32580 batches | loss    0.718 \n"
          ]
        },
        {
          "name": "stderr",
          "output_type": "stream",
          "text": [
            "27007it [10:47, 21.41it/s]"
          ]
        },
        {
          "name": "stdout",
          "output_type": "stream",
          "text": [
            "money: battle, able, work, years, role, way, well, concept, fact, time\n",
            "lion: taint, defeated, really, characterized, judgment, gazette, eusebius, imagination, delighted, bodies\n",
            "africa: europe, america, united, east, germany, south, china, west, india, end\n",
            "musician: writer, actor, singer, author, king, english, composer, addition, poet, deaths\n",
            "dance: music, rock, third, game, jazz, concept, live, small, country, practice\n",
            "\n",
            "\n"
          ]
        },
        {
          "name": "stderr",
          "output_type": "stream",
          "text": [
            "27497it [10:58, 45.92it/s]"
          ]
        },
        {
          "name": "stdout",
          "output_type": "stream",
          "text": [
            "| epoch  10 | 27500/32580 batches | loss    0.715 \n"
          ]
        },
        {
          "name": "stderr",
          "output_type": "stream",
          "text": [
            "27506it [10:59, 25.91it/s]"
          ]
        },
        {
          "name": "stdout",
          "output_type": "stream",
          "text": [
            "money: battle, able, work, years, role, way, well, concept, fact, time\n",
            "lion: taint, defeated, really, characterized, judgment, gazette, eusebius, imagination, delighted, bodies\n",
            "africa: europe, america, united, east, germany, south, china, west, india, end\n",
            "musician: writer, actor, singer, author, king, english, composer, addition, poet, deaths\n",
            "dance: music, rock, third, game, jazz, concept, live, small, country, practice\n",
            "\n",
            "\n"
          ]
        },
        {
          "name": "stderr",
          "output_type": "stream",
          "text": [
            "27997it [11:10, 46.32it/s]"
          ]
        },
        {
          "name": "stdout",
          "output_type": "stream",
          "text": [
            "| epoch  10 | 28000/32580 batches | loss    0.716 \n"
          ]
        },
        {
          "name": "stderr",
          "output_type": "stream",
          "text": [
            "28007it [11:10, 31.25it/s]"
          ]
        },
        {
          "name": "stdout",
          "output_type": "stream",
          "text": [
            "money: battle, able, work, years, role, way, well, concept, fact, time\n",
            "lion: taint, defeated, really, characterized, judgment, gazette, eusebius, imagination, delighted, bodies\n",
            "africa: europe, america, united, east, germany, south, china, west, india, end\n",
            "musician: writer, actor, singer, author, king, english, composer, addition, poet, deaths\n",
            "dance: music, rock, third, game, jazz, concept, live, small, country, practice\n",
            "\n",
            "\n"
          ]
        },
        {
          "name": "stderr",
          "output_type": "stream",
          "text": [
            "28498it [11:22, 45.90it/s]"
          ]
        },
        {
          "name": "stdout",
          "output_type": "stream",
          "text": [
            "| epoch  10 | 28500/32580 batches | loss    0.717 \n"
          ]
        },
        {
          "name": "stderr",
          "output_type": "stream",
          "text": [
            "28508it [11:22, 30.46it/s]"
          ]
        },
        {
          "name": "stdout",
          "output_type": "stream",
          "text": [
            "money: battle, able, work, years, role, way, well, concept, fact, time\n",
            "lion: taint, defeated, really, characterized, judgment, gazette, eusebius, imagination, delighted, bodies\n",
            "africa: europe, america, united, east, germany, south, china, west, india, end\n",
            "musician: writer, actor, singer, author, king, english, composer, addition, poet, deaths\n",
            "dance: music, rock, third, game, jazz, concept, live, small, country, practice\n",
            "\n",
            "\n"
          ]
        },
        {
          "name": "stderr",
          "output_type": "stream",
          "text": [
            "28999it [11:34, 45.69it/s]"
          ]
        },
        {
          "name": "stdout",
          "output_type": "stream",
          "text": [
            "| epoch  10 | 29000/32580 batches | loss    0.716 \n"
          ]
        },
        {
          "name": "stderr",
          "output_type": "stream",
          "text": [
            "\r29004it [11:34, 27.63it/s]"
          ]
        },
        {
          "name": "stdout",
          "output_type": "stream",
          "text": [
            "money: battle, able, work, years, role, way, well, concept, fact, time\n",
            "lion: taint, defeated, really, characterized, judgment, gazette, eusebius, imagination, delighted, bodies\n",
            "africa: europe, america, united, east, germany, south, china, west, india, end\n",
            "musician: writer, actor, singer, author, king, english, composer, addition, poet, deaths\n",
            "dance: music, rock, third, game, jazz, concept, live, small, country, practice\n",
            "\n",
            "\n"
          ]
        },
        {
          "name": "stderr",
          "output_type": "stream",
          "text": [
            "29498it [11:46, 45.93it/s]"
          ]
        },
        {
          "name": "stdout",
          "output_type": "stream",
          "text": [
            "| epoch  10 | 29500/32580 batches | loss    0.715 \n"
          ]
        },
        {
          "name": "stderr",
          "output_type": "stream",
          "text": [
            "29508it [11:46, 30.66it/s]"
          ]
        },
        {
          "name": "stdout",
          "output_type": "stream",
          "text": [
            "money: battle, able, work, years, role, way, well, concept, fact, time\n",
            "lion: taint, defeated, really, characterized, judgment, gazette, eusebius, imagination, delighted, bodies\n",
            "africa: europe, america, united, east, germany, south, china, west, india, end\n",
            "musician: writer, actor, singer, author, king, english, composer, addition, poet, deaths\n",
            "dance: music, rock, third, game, jazz, concept, live, small, country, practice\n",
            "\n",
            "\n"
          ]
        },
        {
          "name": "stderr",
          "output_type": "stream",
          "text": [
            "29996it [11:57, 45.59it/s]"
          ]
        },
        {
          "name": "stdout",
          "output_type": "stream",
          "text": [
            "| epoch  10 | 30000/32580 batches | loss    0.715 \n"
          ]
        },
        {
          "name": "stderr",
          "output_type": "stream",
          "text": [
            "30005it [11:58, 30.11it/s]"
          ]
        },
        {
          "name": "stdout",
          "output_type": "stream",
          "text": [
            "money: battle, able, work, years, role, way, well, concept, fact, time\n",
            "lion: taint, defeated, really, characterized, judgment, gazette, eusebius, imagination, delighted, bodies\n",
            "africa: europe, america, united, east, germany, south, china, west, india, end\n",
            "musician: writer, actor, singer, author, king, english, composer, addition, poet, deaths\n",
            "dance: music, rock, third, game, jazz, concept, live, small, country, practice\n",
            "\n",
            "\n"
          ]
        },
        {
          "name": "stderr",
          "output_type": "stream",
          "text": [
            "30500it [12:09, 45.86it/s]"
          ]
        },
        {
          "name": "stdout",
          "output_type": "stream",
          "text": [
            "| epoch  10 | 30500/32580 batches | loss    0.716 \n"
          ]
        },
        {
          "name": "stderr",
          "output_type": "stream",
          "text": [
            "\r30505it [12:10, 26.50it/s]"
          ]
        },
        {
          "name": "stdout",
          "output_type": "stream",
          "text": [
            "money: battle, able, work, years, role, way, well, concept, fact, time\n",
            "lion: taint, defeated, really, characterized, judgment, gazette, eusebius, imagination, delighted, bodies\n",
            "africa: europe, america, united, east, germany, south, china, west, india, end\n",
            "musician: writer, actor, singer, author, king, english, composer, addition, poet, deaths\n",
            "dance: music, rock, third, game, jazz, concept, live, small, country, practice\n",
            "\n",
            "\n"
          ]
        },
        {
          "name": "stderr",
          "output_type": "stream",
          "text": [
            "30997it [12:22, 33.84it/s]"
          ]
        },
        {
          "name": "stdout",
          "output_type": "stream",
          "text": [
            "| epoch  10 | 31000/32580 batches | loss    0.714 \n"
          ]
        },
        {
          "name": "stderr",
          "output_type": "stream",
          "text": [
            "31004it [12:22, 21.11it/s]"
          ]
        },
        {
          "name": "stdout",
          "output_type": "stream",
          "text": [
            "money: battle, able, work, years, role, way, well, concept, fact, time\n",
            "lion: taint, defeated, really, characterized, judgment, gazette, eusebius, imagination, delighted, bodies\n",
            "africa: europe, america, united, east, germany, south, china, west, india, end\n",
            "musician: writer, actor, singer, author, king, english, composer, addition, poet, deaths\n",
            "dance: music, rock, third, game, jazz, concept, live, small, country, practice\n",
            "\n",
            "\n"
          ]
        },
        {
          "name": "stderr",
          "output_type": "stream",
          "text": [
            "31499it [12:34, 40.78it/s]"
          ]
        },
        {
          "name": "stdout",
          "output_type": "stream",
          "text": [
            "| epoch  10 | 31500/32580 batches | loss    0.716 \n"
          ]
        },
        {
          "name": "stderr",
          "output_type": "stream",
          "text": [
            "31509it [12:34, 29.55it/s]"
          ]
        },
        {
          "name": "stdout",
          "output_type": "stream",
          "text": [
            "money: battle, able, work, years, role, way, well, concept, fact, time\n",
            "lion: taint, defeated, really, characterized, judgment, gazette, eusebius, imagination, delighted, bodies\n",
            "africa: europe, america, united, east, germany, south, china, west, india, end\n",
            "musician: writer, actor, singer, author, king, english, composer, addition, poet, deaths\n",
            "dance: music, rock, third, game, jazz, concept, live, small, country, practice\n",
            "\n",
            "\n"
          ]
        },
        {
          "name": "stderr",
          "output_type": "stream",
          "text": [
            "31998it [12:45, 33.29it/s]"
          ]
        },
        {
          "name": "stdout",
          "output_type": "stream",
          "text": [
            "| epoch  10 | 32000/32580 batches | loss    0.716 \n"
          ]
        },
        {
          "name": "stderr",
          "output_type": "stream",
          "text": [
            "32005it [12:46, 20.19it/s]"
          ]
        },
        {
          "name": "stdout",
          "output_type": "stream",
          "text": [
            "money: battle, able, work, years, role, way, well, concept, fact, time\n",
            "lion: taint, defeated, really, characterized, judgment, gazette, eusebius, imagination, delighted, bodies\n",
            "africa: europe, america, united, east, germany, south, china, west, india, end\n",
            "musician: writer, actor, singer, author, king, english, composer, addition, poet, deaths\n",
            "dance: music, rock, third, game, jazz, concept, live, small, country, practice\n",
            "\n",
            "\n"
          ]
        },
        {
          "name": "stderr",
          "output_type": "stream",
          "text": [
            "32500it [12:57, 46.27it/s]"
          ]
        },
        {
          "name": "stdout",
          "output_type": "stream",
          "text": [
            "| epoch  10 | 32500/32580 batches | loss    0.716 \n"
          ]
        },
        {
          "name": "stderr",
          "output_type": "stream",
          "text": [
            "\r32505it [12:57, 25.02it/s]"
          ]
        },
        {
          "name": "stdout",
          "output_type": "stream",
          "text": [
            "money: battle, able, work, years, role, way, well, concept, fact, time\n",
            "lion: taint, defeated, really, characterized, judgment, gazette, eusebius, imagination, delighted, bodies\n",
            "africa: europe, america, united, east, germany, south, china, west, india, end\n",
            "musician: writer, actor, singer, author, king, english, composer, addition, poet, deaths\n",
            "dance: music, rock, third, game, jazz, concept, live, small, country, practice\n",
            "\n",
            "\n"
          ]
        },
        {
          "name": "stderr",
          "output_type": "stream",
          "text": [
            "32580it [13:01, 41.71it/s]\n"
          ]
        }
      ],
      "source": [
        "for epoch in range(1, NUM_EPOCHS + 1):\n",
        "    epoch_start_time = time.time()\n",
        "\n",
        "    train(train_dl, model, optimizer, epoch,p)\n",
        "    # We have a learning rate scheduler here\n",
        "    # Basically, given the state of the optimizer, this lowers the learning rate in a smart way\n",
        "    scheduler.step()"
      ]
    },
    {
      "cell_type": "code",
      "execution_count": null,
      "id": "b0227888",
      "metadata": {
        "colab": {
          "background_save": true
        },
        "id": "b0227888"
      },
      "outputs": [],
      "source": []
    }
  ],
  "metadata": {
    "accelerator": "GPU",
    "colab": {
      "gpuType": "T4",
      "provenance": [],
      "toc_visible": true
    },
    "kernelspec": {
      "display_name": "Python 3",
      "name": "python3"
    },
    "language_info": {
      "codemirror_mode": {
        "name": "ipython",
        "version": 3
      },
      "file_extension": ".py",
      "mimetype": "text/x-python",
      "name": "python",
      "nbconvert_exporter": "python",
      "pygments_lexer": "ipython3",
      "version": "3.11.5"
    }
  },
  "nbformat": 4,
  "nbformat_minor": 5
}
