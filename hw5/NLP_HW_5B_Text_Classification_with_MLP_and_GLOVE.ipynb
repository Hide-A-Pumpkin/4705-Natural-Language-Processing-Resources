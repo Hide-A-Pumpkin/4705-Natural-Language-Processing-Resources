{
  "cells": [
    {
      "cell_type": "code",
      "execution_count": null,
      "id": "080d50fc",
      "metadata": {
        "colab": {
          "base_uri": "https://localhost:8080/"
        },
        "id": "080d50fc",
        "outputId": "d7b2d253-429f-4ef3-ed04-29b1bcf63205"
      },
      "outputs": [
        {
          "name": "stdout",
          "output_type": "stream",
          "text": [
            "Collecting portalocker\n",
            "  Downloading portalocker-2.8.2-py3-none-any.whl (17 kB)\n",
            "Installing collected packages: portalocker\n",
            "Successfully installed portalocker-2.8.2\n",
            "Collecting torchmetrics\n",
            "  Downloading torchmetrics-1.2.0-py3-none-any.whl (805 kB)\n",
            "\u001b[2K     \u001b[90m━━━━━━━━━━━━━━━━━━━━━━━━━━━━━━━━━━━━━━━━\u001b[0m \u001b[32m805.2/805.2 kB\u001b[0m \u001b[31m8.3 MB/s\u001b[0m eta \u001b[36m0:00:00\u001b[0m\n",
            "\u001b[?25hRequirement already satisfied: numpy>1.20.0 in /usr/local/lib/python3.10/dist-packages (from torchmetrics) (1.23.5)\n",
            "Requirement already satisfied: torch>=1.8.1 in /usr/local/lib/python3.10/dist-packages (from torchmetrics) (2.1.0+cu118)\n",
            "Collecting lightning-utilities>=0.8.0 (from torchmetrics)\n",
            "  Downloading lightning_utilities-0.9.0-py3-none-any.whl (23 kB)\n",
            "Requirement already satisfied: packaging>=17.1 in /usr/local/lib/python3.10/dist-packages (from lightning-utilities>=0.8.0->torchmetrics) (23.2)\n",
            "Requirement already satisfied: typing-extensions in /usr/local/lib/python3.10/dist-packages (from lightning-utilities>=0.8.0->torchmetrics) (4.5.0)\n",
            "Requirement already satisfied: filelock in /usr/local/lib/python3.10/dist-packages (from torch>=1.8.1->torchmetrics) (3.12.4)\n",
            "Requirement already satisfied: sympy in /usr/local/lib/python3.10/dist-packages (from torch>=1.8.1->torchmetrics) (1.12)\n",
            "Requirement already satisfied: networkx in /usr/local/lib/python3.10/dist-packages (from torch>=1.8.1->torchmetrics) (3.2)\n",
            "Requirement already satisfied: jinja2 in /usr/local/lib/python3.10/dist-packages (from torch>=1.8.1->torchmetrics) (3.1.2)\n",
            "Requirement already satisfied: fsspec in /usr/local/lib/python3.10/dist-packages (from torch>=1.8.1->torchmetrics) (2023.6.0)\n",
            "Requirement already satisfied: triton==2.1.0 in /usr/local/lib/python3.10/dist-packages (from torch>=1.8.1->torchmetrics) (2.1.0)\n",
            "Requirement already satisfied: MarkupSafe>=2.0 in /usr/local/lib/python3.10/dist-packages (from jinja2->torch>=1.8.1->torchmetrics) (2.1.3)\n",
            "Requirement already satisfied: mpmath>=0.19 in /usr/local/lib/python3.10/dist-packages (from sympy->torch>=1.8.1->torchmetrics) (1.3.0)\n",
            "Installing collected packages: lightning-utilities, torchmetrics\n",
            "Successfully installed lightning-utilities-0.9.0 torchmetrics-1.2.0\n"
          ]
        }
      ],
      "source": [
        "!pip install portalocker\n",
        "!pip install torchmetrics"
      ]
    },
    {
      "cell_type": "markdown",
      "id": "xjr4e43DyTz-",
      "metadata": {
        "id": "xjr4e43DyTz-"
      },
      "source": [
        "Fill in the code below with the appropriate logic to make this notebook work. You will pull the GLOVE embeddings and then create a MLP text classifier for the AG_NEWS dataset. There are many uttilities used here. You need to create a vocabulary, allow the model to update the GLOVE embeddings with gradients or not. Additionally, you might not use the GLOVE embeddings. GLOVE is a pretrained set of embeddings much like Word2Vec. Each word has a unique embedding but the objective function is different for GLOVE."
      ]
    },
    {
      "cell_type": "code",
      "execution_count": null,
      "id": "B9XxyEQVWrO6",
      "metadata": {
        "colab": {
          "base_uri": "https://localhost:8080/"
        },
        "id": "B9XxyEQVWrO6",
        "outputId": "8de6d5fb-a490-46ff-eb69-43f16d76ab49"
      },
      "outputs": [
        {
          "data": {
            "text/plain": [
              "<torch.autograd.anomaly_mode.set_detect_anomaly at 0x7b4a417f5990>"
            ]
          },
          "execution_count": 2,
          "metadata": {},
          "output_type": "execute_result"
        }
      ],
      "source": [
        "import argparse\n",
        "import logging\n",
        "import time\n",
        "\n",
        "import torch\n",
        "from torch.utils.data import DataLoader\n",
        "from torch.utils.data.dataset import random_split\n",
        "from torchtext.data.functional import to_map_style_dataset\n",
        "from torchtext.data.utils import get_tokenizer, ngrams_iterator\n",
        "from torchtext.datasets import DATASETS\n",
        "from torchtext.utils import download_from_url\n",
        "from torchtext.vocab import build_vocab_from_iterator\n",
        "import torch.nn as nn\n",
        "from torch.nn.utils.rnn import pad_sequence\n",
        "import torch.nn.functional as F\n",
        "from torchtext.vocab import GloVe\n",
        "from tqdm import tqdm\n",
        "\n",
        "torch.autograd.set_detect_anomaly(True)\n",
        "\n",
        "FILL = '_FILL_'"
      ]
    },
    {
      "cell_type": "markdown",
      "id": "66eb271d",
      "metadata": {
        "id": "66eb271d"
      },
      "source": [
        "### Information\n",
        "- torchtext repo: https://github.com/pytorch/text/tree/main/torchtext\n",
        "- torchtext documentation: https://pytorch.org/text/stable/index.html"
      ]
    },
    {
      "cell_type": "code",
      "execution_count": null,
      "id": "8c949153",
      "metadata": {
        "id": "8c949153"
      },
      "outputs": [],
      "source": []
    },
    {
      "cell_type": "markdown",
      "id": "12d93d22",
      "metadata": {
        "id": "12d93d22"
      },
      "source": [
        "### Constants"
      ]
    },
    {
      "cell_type": "code",
      "execution_count": null,
      "id": "329c056d",
      "metadata": {
        "id": "329c056d"
      },
      "outputs": [],
      "source": [
        "DATASET = \"AG_NEWS\"\n",
        "DATA_DIR = \".data\"\n",
        "DEVICE = \"cuda\" if torch.cuda.is_available() else \"cpu\"\n",
        "# Set to 300 since GLOVE embeddings are dimension 300\n",
        "EMBED_DIM = 300\n",
        "LR = 0.1\n",
        "BATCH_SIZE = 64\n",
        "NUM_EPOCHS = 5\n",
        "PADDING_VALUE = 0\n",
        "PADDING_IDX = PADDING_VALUE"
      ]
    },
    {
      "cell_type": "code",
      "execution_count": null,
      "id": "ffada8d0",
      "metadata": {
        "id": "ffada8d0"
      },
      "outputs": [],
      "source": []
    },
    {
      "cell_type": "markdown",
      "id": "1a61aede",
      "metadata": {
        "id": "1a61aede"
      },
      "source": [
        "### Get the tokenizer\n",
        "- Use the WordLevel tokenizer.\n"
      ]
    },
    {
      "cell_type": "code",
      "execution_count": null,
      "id": "93e3b7cb",
      "metadata": {
        "id": "93e3b7cb"
      },
      "outputs": [],
      "source": [
        "# Get the basic english tokenizer\n",
        "basic_english_tokenizer = FILL"
      ]
    },
    {
      "cell_type": "code",
      "execution_count": null,
      "id": "aa4b78e4",
      "metadata": {
        "colab": {
          "base_uri": "https://localhost:8080/"
        },
        "id": "aa4b78e4",
        "outputId": "0fab3420-b81b-43e9-adaa-912779d33c5d"
      },
      "outputs": [
        {
          "data": {
            "text/plain": [
              "['this', 'is', 'some', 'text', '.', '.', '.']"
            ]
          },
          "execution_count": 5,
          "metadata": {},
          "output_type": "execute_result"
        }
      ],
      "source": [
        "basic_english_tokenizer(\"This is some text ...\")"
      ]
    },
    {
      "cell_type": "code",
      "execution_count": null,
      "id": "505cf5ec",
      "metadata": {
        "id": "505cf5ec"
      },
      "outputs": [],
      "source": [
        "# Needed later\n",
        "TOKENIZER = basic_english_tokenizer"
      ]
    },
    {
      "cell_type": "markdown",
      "id": "64096cd8",
      "metadata": {
        "id": "64096cd8"
      },
      "source": [
        "### Get the data and get the vocabulary"
      ]
    },
    {
      "cell_type": "code",
      "execution_count": null,
      "id": "ce4a0578",
      "metadata": {
        "id": "ce4a0578"
      },
      "outputs": [],
      "source": [
        "# This takes a (x, y) pair from data_iter and returns tokenized list of words\n",
        "# For every sentence, it should yield a tokenized set of string\n",
        "# \"a b c d\" -> [\"a\", \"b\", \"c\", \"d\"]\n",
        "# Use TOKENIZER here\n",
        "def yield_tokens(data_iter):\n",
        "    FILL"
      ]
    },
    {
      "cell_type": "code",
      "execution_count": null,
      "id": "f48f23ab",
      "metadata": {
        "id": "f48f23ab"
      },
      "outputs": [],
      "source": [
        "train_iter = DATASETS[DATASET](root=DATA_DIR, split=\"train\")\n",
        "# Build the vocabulary from the above iterator\n",
        "# Use special symbols '<pad>' and '<unk>'\n",
        "VOCAB = FILL\n",
        "\n",
        "# Make the default index the same as that of the '<unk>'\n",
        "FILL"
      ]
    },
    {
      "cell_type": "code",
      "execution_count": null,
      "id": "552e7295",
      "metadata": {
        "id": "552e7295"
      },
      "outputs": [],
      "source": []
    },
    {
      "cell_type": "markdown",
      "id": "31ce9367",
      "metadata": {
        "id": "31ce9367"
      },
      "source": [
        "### Get GLOVE embeddings\n",
        "GLOVE is a pretrained set of word vectors that comes with torchtext; it is roughly 2G of data."
      ]
    },
    {
      "cell_type": "code",
      "execution_count": null,
      "id": "a43f0226",
      "metadata": {
        "colab": {
          "base_uri": "https://localhost:8080/"
        },
        "id": "a43f0226",
        "outputId": "0345e9d6-010e-4ad7-9fc4-5a6ae8118c6e"
      },
      "outputs": [
        {
          "name": "stderr",
          "output_type": "stream",
          "text": [
            ".vector_cache/glove.840B.300d.zip: 2.18GB [06:50, 5.30MB/s]                            \n",
            "100%|█████████▉| 2196016/2196017 [05:53<00:00, 6219.80it/s]\n"
          ]
        }
      ],
      "source": [
        "# This will take a bit of time\n",
        "GLOVE = GloVe()"
      ]
    },
    {
      "cell_type": "code",
      "execution_count": null,
      "id": "060b71de",
      "metadata": {},
      "outputs": [],
      "source": [
        "# This will take a bit of time\n",
        "GLOVE = GloVe()"
      ]
    },
    {
      "cell_type": "code",
      "execution_count": null,
      "id": "6302f433",
      "metadata": {
        "colab": {
          "base_uri": "https://localhost:8080/"
        },
        "id": "6302f433",
        "outputId": "afc86bba-9b7d-4439-e5f7-f3b608a44982"
      },
      "outputs": [
        {
          "data": {
            "text/plain": [
              "(2196017, torch.Size([2196017, 300]))"
            ]
          },
          "execution_count": 10,
          "metadata": {},
          "output_type": "execute_result"
        }
      ],
      "source": [
        "# How many word vectors are there and what is the shape of GLOVE.vectors?\n",
        "# What is the dimension of each vector?\n",
        "len(GLOVE), GLOVE.vectors.shape"
      ]
    },
    {
      "cell_type": "code",
      "execution_count": null,
      "id": "c1ba2b54",
      "metadata": {
        "id": "c1ba2b54"
      },
      "outputs": [],
      "source": []
    },
    {
      "cell_type": "markdown",
      "id": "200b05fc",
      "metadata": {
        "id": "200b05fc"
      },
      "source": [
        "### Helper functions"
      ]
    },
    {
      "cell_type": "code",
      "execution_count": null,
      "id": "16ca1ef5",
      "metadata": {
        "id": "16ca1ef5"
      },
      "outputs": [],
      "source": [
        "# For text, return the tokens for each word\n",
        "# This might work like \"The man walks\" -> [\"the\", \"man\", \"walks\"] -> [17, 123, 5]\n",
        "def text_pipeline(text):\n",
        "    FILL\n",
        "\n",
        "# Return the label as an integer between 0 and num_classes - 1 inclusive\n",
        "def label_pipeline(label):\n",
        "    FILL"
      ]
    },
    {
      "cell_type": "markdown",
      "id": "67ef6734",
      "metadata": {
        "id": "67ef6734"
      },
      "source": [
        "Nice link on collate_fn and DataLoader in PyTorch: https://python.plainenglish.io/understanding-collate-fn-in-pytorch-f9d1742647d3"
      ]
    },
    {
      "cell_type": "code",
      "execution_count": null,
      "id": "ff479986",
      "metadata": {
        "id": "ff479986"
      },
      "outputs": [],
      "source": [
        "# What does this do?\n",
        "# For each batch, return a tensor of labels and a tensor of ints representing the words in associated sentences\n",
        "def collate_batch(batch):\n",
        "    label_list, text_list = [], []\n",
        "    # For each label and text in a batch, transform to a tensor of labels\n",
        "    # And a tensor of tokens for each word\n",
        "    # You need text_pipeline here and\n",
        "    for (_label, _text) in batch:\n",
        "        # Get the label from {1, 2, 3, 4} to {0, 1, 2, 3}\n",
        "        label_list.append(FILL)\n",
        "\n",
        "        # Return a list of ints\n",
        "        # This basically returns a tensor of the token ids and then puts them into text_list\n",
        "        processed_text = FILL\n",
        "        text_list.append(processed_text.clone().detach())\n",
        "\n",
        "    # Make a tensor from the label_list\n",
        "    label_tensor = FILL\n",
        "    # Pad the sequence list and return a tensor\n",
        "    text_tensor = FILL\n",
        "\n",
        "    return label_tensor.to(DEVICE), text_tensor.to(DEVICE)"
      ]
    },
    {
      "cell_type": "code",
      "execution_count": null,
      "id": "aa668c1e",
      "metadata": {
        "id": "aa668c1e"
      },
      "outputs": [],
      "source": []
    },
    {
      "cell_type": "markdown",
      "id": "c7fcf425",
      "metadata": {
        "id": "c7fcf425"
      },
      "source": [
        "### Get the data"
      ]
    },
    {
      "cell_type": "code",
      "execution_count": null,
      "id": "e617ddce",
      "metadata": {
        "colab": {
          "base_uri": "https://localhost:8080/"
        },
        "id": "e617ddce",
        "outputId": "a78e057e-5c86-4a57-b72f-a2cfe9ae90ce"
      },
      "outputs": [
        {
          "name": "stdout",
          "output_type": "stream",
          "text": [
            "The number of classes is 4 ...\n"
          ]
        }
      ],
      "source": [
        "# Pull the train_iter as above\n",
        "train_iter = FILL\n",
        "# Get the number of classes\n",
        "# Loop over the train_iter and get the total integer number\n",
        "num_class = len(set([label for (label, _) in train_iter]))\n",
        "# What are the classes?\n",
        "print(f\"The number of classes is {num_class} ...\")"
      ]
    },
    {
      "cell_type": "code",
      "execution_count": null,
      "id": "7770ac24",
      "metadata": {
        "id": "7770ac24"
      },
      "outputs": [],
      "source": []
    },
    {
      "cell_type": "markdown",
      "id": "5aa8a40d",
      "metadata": {
        "id": "5aa8a40d"
      },
      "source": [
        "### Set up the model"
      ]
    },
    {
      "cell_type": "markdown",
      "id": "8abf2ede",
      "metadata": {
        "id": "8abf2ede"
      },
      "source": [
        "The goal of this problem is to construct a MLP neural classifier for text classification."
      ]
    },
    {
      "cell_type": "code",
      "execution_count": null,
      "id": "dc51c359",
      "metadata": {
        "id": "dc51c359"
      },
      "outputs": [],
      "source": [
        "# Fill in the comments below\n",
        "class MLPTextClassificationModel(nn.Module):\n",
        "    def __init__(\n",
        "        self,\n",
        "        vocab_size,\n",
        "        num_class,\n",
        "        embed_dim = 300,\n",
        "        # If this is true, we will use the pretrained GLOVE embeddings\n",
        "        use_pretrained = True,\n",
        "        # If this is true, we will allow gradient updates for the GLOVE embeddings\n",
        "        # If  this is false, the GLOVE embeddings are static\n",
        "        fine_tune_embeddings = True\n",
        "    ):\n",
        "\n",
        "        super(MLPTextClassificationModel, self).__init__()\n",
        "\n",
        "        # Set to a nn.Embedding layer with vocab_size words and embed_dim dimension per word\n",
        "        # Set the padding index to PADDING_IDX\n",
        "        # This layer is like a linear layer but without the bias\n",
        "        # Essentially, it is a Matrix sich that A * [2, 3] pulls out two vectors\n",
        "        # The vectors we get are for the words with tokens 2 and 3 specifically\n",
        "        self.embedding = FILL\n",
        "\n",
        "        if use_pretrained:\n",
        "          # If this is true, set the requires_grad to False and load the GLOVE embeddings per token\n",
        "          self.embedding.weight.requires_grad = False\n",
        "          for i in range(vocab_size):\n",
        "            # Look up the token id for the token i\n",
        "            token = FILL\n",
        "\n",
        "            # Set the ith row of the embeddings weight matrix to the GLOVE vector for this token\n",
        "            self.embedding.weight[i, :] = FILL\n",
        "\n",
        "          # Set the requires_grad field to True\n",
        "          # Had we not made it False before, we might not be able to change the Embedding layer as above\n",
        "          # See what happens if interested\n",
        "          self.embedding.weight.requires_grad = True\n",
        "\n",
        "        # If this is off, make the embedding weights be constant and without gradients\n",
        "        if not fine_tune_embeddings:\n",
        "          # Set the requires_grad field to False\n",
        "          FILL\n",
        "\n",
        "        # Make a linear layer going from embed_dim to dimension 100\n",
        "        self.linear1 = FILL\n",
        "        # Make a fc layer going from 100 to num_class\n",
        "        self.fc = FILL\n",
        "\n",
        "    # B = batch_size, L = sequence length, D = vector dimension\n",
        "    def forward(self, text):\n",
        "        # B X L X D\n",
        "        embedded = FILL\n",
        "\n",
        "        # B X D - Make embedded be the average of word embedding across a sentence\n",
        "        embedded = FILL\n",
        "\n",
        "        # Pass through ReLU\n",
        "        embedded = FILL\n",
        "\n",
        "        # B X 100 Pass through linear1\n",
        "        embedded = FILL\n",
        "\n",
        "        # Pass through ReLU\n",
        "        embedded = FILL\n",
        "\n",
        "        # B X num_classes Pass through fc to get\n",
        "        embedded = FILL\n",
        "\n",
        "        # B X num_classes Take the LogSoftmax and return this\n",
        "        out = FILL\n",
        "\n",
        "        return out"
      ]
    },
    {
      "cell_type": "code",
      "execution_count": null,
      "id": "25775647",
      "metadata": {
        "id": "25775647"
      },
      "outputs": [],
      "source": []
    },
    {
      "cell_type": "markdown",
      "id": "3b3c6ed5",
      "metadata": {
        "id": "3b3c6ed5"
      },
      "source": [
        "### Set up the model"
      ]
    },
    {
      "cell_type": "code",
      "execution_count": null,
      "id": "cef585f4",
      "metadata": {
        "colab": {
          "base_uri": "https://localhost:8080/",
          "height": 245
        },
        "id": "cef585f4",
        "outputId": "376ade57-6fa1-4dea-cbaf-567d229eab9e"
      },
      "outputs": [
        {
          "ename": "NameError",
          "evalue": "ignored",
          "output_type": "error",
          "traceback": [
            "\u001b[0;31m---------------------------------------------------------------------------\u001b[0m",
            "\u001b[0;31mNameError\u001b[0m                                 Traceback (most recent call last)",
            "\u001b[0;32m<ipython-input-41-e5cef22ec2bd>\u001b[0m in \u001b[0;36m<cell line: 6>\u001b[0;34m()\u001b[0m\n\u001b[1;32m      8\u001b[0m     \u001b[0mnum_class\u001b[0m\u001b[0;34m,\u001b[0m\u001b[0;34m\u001b[0m\u001b[0;34m\u001b[0m\u001b[0m\n\u001b[1;32m      9\u001b[0m     \u001b[0mEMBED_DIM\u001b[0m\u001b[0;34m,\u001b[0m\u001b[0;34m\u001b[0m\u001b[0;34m\u001b[0m\u001b[0m\n\u001b[0;32m---> 10\u001b[0;31m     \u001b[0muse_pretrained\u001b[0m\u001b[0;34m=\u001b[0m\u001b[0mUSE_PRETRAINED\u001b[0m\u001b[0;34m,\u001b[0m\u001b[0;34m\u001b[0m\u001b[0;34m\u001b[0m\u001b[0m\n\u001b[0m\u001b[1;32m     11\u001b[0m     \u001b[0mfine_tune_embeddings\u001b[0m\u001b[0;34m=\u001b[0m\u001b[0mFINE_TUNE_EMBEDDINGS\u001b[0m\u001b[0;34m\u001b[0m\u001b[0;34m\u001b[0m\u001b[0m\n\u001b[1;32m     12\u001b[0m \u001b[0;34m\u001b[0m\u001b[0m\n",
            "\u001b[0;31mNameError\u001b[0m: name 'USE_PRETRAINED' is not defined"
          ]
        }
      ],
      "source": [
        "# Either use the GLOVE embeddings to initialize the model or don't\n",
        "USE_PRETRAINED = True\n",
        "# If this is off, your model should do worse as the GLOVE embeddings will not be modified by gradient updates\n",
        "FINE_TUNE_EMBEDDINGS = True\n",
        "\n",
        "# Define the model such that it takes in the log softmax\n",
        "# Hint: search the PyTorch webpage\n",
        "criterion = FILL\n",
        "\n",
        "# Instantiate the model\n",
        "model = MLPTextClassificationModel(\n",
        "    len(VOCAB),\n",
        "    num_class,\n",
        "    EMBED_DIM,\n",
        "    use_pretrained=USE_PRETRAINED,\n",
        "    fine_tune_embeddings=FINE_TUNE_EMBEDDINGS\n",
        ").to(DEVICE)\n",
        "\n",
        "# Define an SGD optimizer acting on the parameters of the model\n",
        "optimizer = FILL\n",
        "\n",
        "# Define scheduler to be a learning rate scheduler of type StepLR with gamma = 0.1\n",
        "# Learning rate schedulers lower the learning rate for you via some rule\n",
        "# They can help ensure you don't blow up the optimization as you go\n",
        "scheduler = FILL"
      ]
    },
    {
      "cell_type": "code",
      "execution_count": null,
      "id": "f8a642bf",
      "metadata": {
        "id": "f8a642bf"
      },
      "outputs": [],
      "source": []
    },
    {
      "cell_type": "markdown",
      "id": "26266d8a",
      "metadata": {
        "id": "26266d8a"
      },
      "source": [
        "### Set up the data"
      ]
    },
    {
      "cell_type": "code",
      "execution_count": null,
      "id": "9c0aebb5",
      "metadata": {
        "id": "9c0aebb5"
      },
      "outputs": [],
      "source": [
        "# Get the iterators for train and test data\n",
        "train_iter, test_iter = FILL\n",
        "train_dataset = to_map_style_dataset(train_iter)\n",
        "test_dataset = to_map_style_dataset(test_iter)\n",
        "\n",
        "num_train = int(len(train_dataset) * 0.95)\n",
        "split_train_, split_valid_ = random_split(train_dataset, [num_train, len(train_dataset) - num_train])\n",
        "\n",
        "# Define data loaders on the train, validation, and test data\n",
        "# Set collate_fn as the collate_batch above\n",
        "# Each batch of raw data is sent through collate_batch to get the data we need (the tensors)\n",
        "train_dataloader = FILL\n",
        "valid_dataloader = FILL\n",
        "test_dataloader = FILL"
      ]
    },
    {
      "cell_type": "markdown",
      "id": "86476e2a",
      "metadata": {
        "id": "86476e2a"
      },
      "source": [
        "### Train the model"
      ]
    },
    {
      "cell_type": "code",
      "execution_count": null,
      "id": "24950481",
      "metadata": {
        "id": "24950481"
      },
      "outputs": [],
      "source": [
        "def train(dataloader, model, optimizer, criterion, epoch):\n",
        "    # Put model in train mode\n",
        "    FILL\n",
        "    total_acc, total_count = 0, 0\n",
        "    log_interval = 100\n",
        "\n",
        "    for idx, (label, text) in enumerate(dataloader):\n",
        "        # Set the gradients to zero\n",
        "        FILL\n",
        "\n",
        "        # Get the LogSoftmax predictions\n",
        "        FILL\n",
        "\n",
        "        # Get the loss\n",
        "        loss = FILL\n",
        "\n",
        "        # Do back propagation\n",
        "        FILL\n",
        "\n",
        "        # Clip the gradients to 0.1 so they don't get too large\n",
        "        # Look up clip_grad_norm_\n",
        "        FILL\n",
        "\n",
        "        # Do an optimization step\n",
        "        FILL\n",
        "\n",
        "        # Get the total accuracy\n",
        "        total_acc += FILL\n",
        "        total_count += FILL\n",
        "        if idx % log_interval == 0 and idx > 0:\n",
        "            print(\n",
        "                \"| epoch {:3d} | {:5d}/{:5d} batches \"\n",
        "                \"| accuracy {:8.3f}\".format(epoch, idx, len(dataloader), total_acc / total_count)\n",
        "            )\n",
        "            total_acc, total_count = 0, 0"
      ]
    },
    {
      "cell_type": "code",
      "execution_count": null,
      "id": "39a702be",
      "metadata": {
        "id": "39a702be"
      },
      "outputs": [],
      "source": [
        "def evaluate(dataloader, model):\n",
        "    model.eval()\n",
        "    total_acc, total_count = 0, 0\n",
        "\n",
        "    with torch.no_grad():\n",
        "      for idx, (label, text) in enumerate(dataloader):\n",
        "        # Get the predicted labels\n",
        "        predited_label = model(text)\n",
        "        # Get the accuracy\n",
        "        total_acc += FILL\n",
        "        # Update the total count\n",
        "        total_count += FILL\n",
        "    # Return the accuracy\n",
        "    return total_acc / total_count"
      ]
    },
    {
      "cell_type": "code",
      "execution_count": null,
      "id": "a9e02c09",
      "metadata": {
        "colab": {
          "base_uri": "https://localhost:8080/"
        },
        "id": "a9e02c09",
        "outputId": "619383dc-b40f-4cfa-c654-ea23cb2cc7c6"
      },
      "outputs": [
        {
          "name": "stdout",
          "output_type": "stream",
          "text": [
            "| epoch   1 |   100/ 1782 batches | accuracy    0.463\n",
            "| epoch   1 |   200/ 1782 batches | accuracy    0.450\n",
            "| epoch   1 |   300/ 1782 batches | accuracy    0.470\n",
            "| epoch   1 |   400/ 1782 batches | accuracy    0.487\n",
            "| epoch   1 |   500/ 1782 batches | accuracy    0.496\n",
            "| epoch   1 |   600/ 1782 batches | accuracy    0.489\n",
            "| epoch   1 |   700/ 1782 batches | accuracy    0.494\n",
            "| epoch   1 |   800/ 1782 batches | accuracy    0.510\n",
            "| epoch   1 |   900/ 1782 batches | accuracy    0.504\n",
            "| epoch   1 |  1000/ 1782 batches | accuracy    0.522\n",
            "| epoch   1 |  1100/ 1782 batches | accuracy    0.529\n",
            "| epoch   1 |  1200/ 1782 batches | accuracy    0.529\n",
            "| epoch   1 |  1300/ 1782 batches | accuracy    0.534\n",
            "| epoch   1 |  1400/ 1782 batches | accuracy    0.535\n",
            "| epoch   1 |  1500/ 1782 batches | accuracy    0.535\n",
            "| epoch   1 |  1600/ 1782 batches | accuracy    0.544\n",
            "| epoch   1 |  1700/ 1782 batches | accuracy    0.554\n",
            "-----------------------------------------------------------\n",
            "| end of epoch   1 | time: 379.41s | valid accuracy    0.557 \n",
            "-----------------------------------------------------------\n",
            "| epoch   2 |   100/ 1782 batches | accuracy    0.553\n",
            "| epoch   2 |   200/ 1782 batches | accuracy    0.547\n",
            "| epoch   2 |   300/ 1782 batches | accuracy    0.546\n",
            "| epoch   2 |   400/ 1782 batches | accuracy    0.559\n",
            "| epoch   2 |   500/ 1782 batches | accuracy    0.560\n",
            "| epoch   2 |   600/ 1782 batches | accuracy    0.564\n",
            "| epoch   2 |   700/ 1782 batches | accuracy    0.556\n",
            "| epoch   2 |   800/ 1782 batches | accuracy    0.560\n",
            "| epoch   2 |   900/ 1782 batches | accuracy    0.559\n",
            "| epoch   2 |  1000/ 1782 batches | accuracy    0.547\n",
            "| epoch   2 |  1100/ 1782 batches | accuracy    0.570\n",
            "| epoch   2 |  1200/ 1782 batches | accuracy    0.555\n",
            "| epoch   2 |  1300/ 1782 batches | accuracy    0.554\n",
            "| epoch   2 |  1400/ 1782 batches | accuracy    0.572\n",
            "| epoch   2 |  1500/ 1782 batches | accuracy    0.558\n",
            "| epoch   2 |  1600/ 1782 batches | accuracy    0.562\n",
            "| epoch   2 |  1700/ 1782 batches | accuracy    0.555\n",
            "-----------------------------------------------------------\n",
            "| end of epoch   2 | time: 366.89s | valid accuracy    0.561 \n",
            "-----------------------------------------------------------\n",
            "| epoch   3 |   100/ 1782 batches | accuracy    0.562\n",
            "| epoch   3 |   200/ 1782 batches | accuracy    0.564\n",
            "| epoch   3 |   300/ 1782 batches | accuracy    0.560\n",
            "| epoch   3 |   400/ 1782 batches | accuracy    0.560\n",
            "| epoch   3 |   500/ 1782 batches | accuracy    0.561\n",
            "| epoch   3 |   600/ 1782 batches | accuracy    0.550\n",
            "| epoch   3 |   700/ 1782 batches | accuracy    0.567\n",
            "| epoch   3 |   800/ 1782 batches | accuracy    0.560\n",
            "| epoch   3 |   900/ 1782 batches | accuracy    0.556\n",
            "| epoch   3 |  1000/ 1782 batches | accuracy    0.563\n",
            "| epoch   3 |  1100/ 1782 batches | accuracy    0.558\n",
            "| epoch   3 |  1200/ 1782 batches | accuracy    0.566\n",
            "| epoch   3 |  1300/ 1782 batches | accuracy    0.570\n",
            "| epoch   3 |  1400/ 1782 batches | accuracy    0.557\n",
            "| epoch   3 |  1500/ 1782 batches | accuracy    0.554\n",
            "| epoch   3 |  1600/ 1782 batches | accuracy    0.566\n",
            "| epoch   3 |  1700/ 1782 batches | accuracy    0.560\n",
            "-----------------------------------------------------------\n",
            "| end of epoch   3 | time: 365.00s | valid accuracy    0.560 \n",
            "-----------------------------------------------------------\n",
            "| epoch   4 |   100/ 1782 batches | accuracy    0.564\n",
            "| epoch   4 |   200/ 1782 batches | accuracy    0.563\n",
            "| epoch   4 |   300/ 1782 batches | accuracy    0.567\n",
            "| epoch   4 |   400/ 1782 batches | accuracy    0.566\n",
            "| epoch   4 |   500/ 1782 batches | accuracy    0.565\n",
            "| epoch   4 |   600/ 1782 batches | accuracy    0.564\n",
            "| epoch   4 |   700/ 1782 batches | accuracy    0.561\n",
            "| epoch   4 |   800/ 1782 batches | accuracy    0.557\n",
            "| epoch   4 |   900/ 1782 batches | accuracy    0.565\n",
            "| epoch   4 |  1000/ 1782 batches | accuracy    0.570\n",
            "| epoch   4 |  1100/ 1782 batches | accuracy    0.560\n",
            "| epoch   4 |  1200/ 1782 batches | accuracy    0.562\n",
            "| epoch   4 |  1300/ 1782 batches | accuracy    0.547\n",
            "| epoch   4 |  1400/ 1782 batches | accuracy    0.560\n",
            "| epoch   4 |  1500/ 1782 batches | accuracy    0.571\n",
            "| epoch   4 |  1600/ 1782 batches | accuracy    0.554\n",
            "| epoch   4 |  1700/ 1782 batches | accuracy    0.544\n",
            "-----------------------------------------------------------\n",
            "| end of epoch   4 | time: 362.20s | valid accuracy    0.562 \n",
            "-----------------------------------------------------------\n",
            "| epoch   5 |   100/ 1782 batches | accuracy    0.549\n",
            "| epoch   5 |   200/ 1782 batches | accuracy    0.563\n",
            "| epoch   5 |   300/ 1782 batches | accuracy    0.562\n",
            "| epoch   5 |   400/ 1782 batches | accuracy    0.558\n",
            "| epoch   5 |   500/ 1782 batches | accuracy    0.571\n",
            "| epoch   5 |   600/ 1782 batches | accuracy    0.570\n",
            "| epoch   5 |   700/ 1782 batches | accuracy    0.559\n",
            "| epoch   5 |   800/ 1782 batches | accuracy    0.556\n",
            "| epoch   5 |   900/ 1782 batches | accuracy    0.560\n",
            "| epoch   5 |  1000/ 1782 batches | accuracy    0.563\n",
            "| epoch   5 |  1100/ 1782 batches | accuracy    0.555\n",
            "| epoch   5 |  1200/ 1782 batches | accuracy    0.557\n",
            "| epoch   5 |  1300/ 1782 batches | accuracy    0.569\n",
            "| epoch   5 |  1400/ 1782 batches | accuracy    0.560\n",
            "| epoch   5 |  1500/ 1782 batches | accuracy    0.571\n",
            "| epoch   5 |  1600/ 1782 batches | accuracy    0.562\n",
            "| epoch   5 |  1700/ 1782 batches | accuracy    0.553\n"
          ]
        }
      ],
      "source": [
        "for epoch in range(1, NUM_EPOCHS + 1):\n",
        "    epoch_start_time = time.time()\n",
        "    train(train_dataloader, model, optimizer, criterion, epoch)\n",
        "    accu_val = evaluate(valid_dataloader, model)\n",
        "    scheduler.step()\n",
        "    print(\"-\" * 59)\n",
        "    print(\n",
        "        \"| end of epoch {:3d} | time: {:5.2f}s | \"\n",
        "        \"valid accuracy {:8.3f} \".format(epoch, time.time() - epoch_start_time, accu_val)\n",
        "    )\n",
        "    print(\"-\" * 59)\n",
        "\n",
        "print(\"Checking the results of test dataset.\")\n",
        "accu_test = evaluate(test_dataloader, model)\n",
        "print(\"test accuracy {:8.3f}\".format(accu_test))"
      ]
    }
  ],
  "metadata": {
    "colab": {
      "provenance": []
    },
    "kernelspec": {
      "display_name": "Python 3 (ipykernel)",
      "language": "python",
      "name": "python3"
    },
    "language_info": {
      "codemirror_mode": {
        "name": "ipython",
        "version": 3
      },
      "file_extension": ".py",
      "mimetype": "text/x-python",
      "name": "python",
      "nbconvert_exporter": "python",
      "pygments_lexer": "ipython3",
      "version": "3.8.15"
    }
  },
  "nbformat": 4,
  "nbformat_minor": 5
}
