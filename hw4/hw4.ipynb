{
 "cells": [
  {
   "cell_type": "code",
   "execution_count": 1,
   "metadata": {},
   "outputs": [
    {
     "name": "stdout",
     "output_type": "stream",
     "text": [
      "21016.0 17324.0\n"
     ]
    }
   ],
   "source": [
    "# problem 6\n",
    "\n",
    "\n",
    "import torch\n",
    "\n",
    "# Define the tensors and set requires_grad=True to enable gradient computation\n",
    "u1 = torch.tensor(3.0, requires_grad=True)\n",
    "u2 = torch.tensor(4.0, requires_grad=True)\n",
    "\n",
    "# Define the equations\n",
    "u3 = u1 * u2\n",
    "u4 = u1 + u2\n",
    "u5 = 2 * u3 * u4\n",
    "L = (u5 - u1 - u2 - u3 - u4) ** 2\n",
    "\n",
    "# Compute the gradients\n",
    "L.backward()\n",
    "\n",
    "# Extract the gradients for u1 and u2\n",
    "grad_u1 = u1.grad.item()\n",
    "grad_u2 = u2.grad.item()\n",
    "\n",
    "print(grad_u1, grad_u2)\n"
   ]
  },
  {
   "cell_type": "code",
   "execution_count": 2,
   "metadata": {},
   "outputs": [
    {
     "name": "stdout",
     "output_type": "stream",
     "text": [
      "[[0.9999546]\n",
      " [0.9999546]\n",
      " [0.9999546]\n",
      " [0.9999546]]\n"
     ]
    }
   ],
   "source": [
    "# problem 2\n",
    "import numpy as np\n",
    "\n",
    "def sigmoid(z):\n",
    "    return 1 / (1 + np.exp(-z))\n",
    "\n",
    "# XOR input and output\n",
    "X = np.array([[0, 0], [0, 1], [1, 0], [1, 1]])\n",
    "Y = np.array([[0], [1], [1], [0]])\n",
    "\n",
    "# Initialize weights and biases\n",
    "gamma = np.array([[20, 20], [-20, -20]])\n",
    "b1 = np.array([[10, -10]])\n",
    "nu = np.array([[20], [20]])\n",
    "b2 = np.array([[-10]])\n",
    "\n",
    "# Forward propagation\n",
    "z1 = np.dot(X, gamma.T) + b1\n",
    "a1 = sigmoid(z1)\n",
    "z2 = np.dot(a1, nu) + b2\n",
    "a2 = sigmoid(z2)\n",
    "\n",
    "print(a2)\n"
   ]
  },
  {
   "cell_type": "code",
   "execution_count": null,
   "metadata": {},
   "outputs": [],
   "source": []
  }
 ],
 "metadata": {
  "kernelspec": {
   "display_name": "Python 3",
   "language": "python",
   "name": "python3"
  },
  "language_info": {
   "codemirror_mode": {
    "name": "ipython",
    "version": 3
   },
   "file_extension": ".py",
   "mimetype": "text/x-python",
   "name": "python",
   "nbconvert_exporter": "python",
   "pygments_lexer": "ipython3",
   "version": "3.11.5"
  },
  "orig_nbformat": 4
 },
 "nbformat": 4,
 "nbformat_minor": 2
}
